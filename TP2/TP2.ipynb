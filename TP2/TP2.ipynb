{
 "cells": [
  {
   "cell_type": "markdown",
   "metadata": {},
   "source": [
    "# Multi-layered Neural Network MPL "
   ]
  },
  {
   "cell_type": "code",
   "execution_count": 5,
   "metadata": {},
   "outputs": [],
   "source": [
    "# Imports :\n",
    "import matplotlib.pyplot as plt\n",
    "from sklearn.datasets import fetch_openml\n",
    "from sklearn.model_selection import train_test_split \n",
    "from sklearn.neural_network import MLPClassifier\n",
    "from sklearn import metrics\n",
    "import time\n",
    "import numpy as np"
   ]
  },
  {
   "cell_type": "markdown",
   "metadata": {},
   "source": [
    "* Dowloanding the MNIST dataset :"
   ]
  },
  {
   "cell_type": "code",
   "execution_count": 14,
   "metadata": {},
   "outputs": [],
   "source": [
    "mnist = fetch_openml('mnist_784', as_frame=False)"
   ]
  },
  {
   "cell_type": "markdown",
   "metadata": {},
   "source": [
    "* Randomise data & target :\n"
   ]
  },
  {
   "cell_type": "code",
   "execution_count": 15,
   "metadata": {},
   "outputs": [],
   "source": [
    "indices = np.random.randint(70000, size=70000)\n",
    "data = mnist.data[indices]\n",
    "target = mnist.target[indices]"
   ]
  },
  {
   "cell_type": "markdown",
   "metadata": {},
   "source": [
    "* data spliting :"
   ]
  },
  {
   "cell_type": "code",
   "execution_count": 16,
   "metadata": {},
   "outputs": [],
   "source": [
    "xtrain, xtest, ytrain, ytest =train_test_split(data, target, train_size=49000)"
   ]
  },
  {
   "cell_type": "markdown",
   "metadata": {},
   "source": [
    "* MLP with one Hidden Layer of 50 neurals :"
   ]
  },
  {
   "cell_type": "code",
   "execution_count": 5,
   "metadata": {},
   "outputs": [],
   "source": [
    "clf = MLPClassifier(hidden_layer_sizes=(50))\n",
    "\n",
    "clf.fit(xtrain, ytrain)\n",
    "prediction = clf.predict(xtest)\n",
    "score = clf.score(xtest, ytest)\n",
    "recall = metrics.recall_score(ytest, prediction, average = 'macro')\n",
    "precision = metrics.precision_score(ytest, prediction, average ='macro')\n",
    "loss0_1 = metrics.zero_one_loss(ytest, prediction)"
   ]
  },
  {
   "cell_type": "markdown",
   "metadata": {},
   "source": [
    "> N.B :\n",
    "***\n",
    " - for average = macro, we have : <br />\n",
    "        - Score = (TP + TN)/(TP+TN+FP+FN) <br />\n",
    "        - Précision = TP/(TP + FP)<br />\n",
    "        - Recall = TP/(TP+FN)<br />\n",
    "        - Zero one loss : standard loss function in classification (equivalent of squared error for regression)\n",
    " - for average = micro, it is the same thing."
   ]
  },
  {
   "cell_type": "markdown",
   "metadata": {},
   "source": [
    "* Test for the 4 image (prints):"
   ]
  },
  {
   "cell_type": "code",
   "execution_count": 6,
   "metadata": {},
   "outputs": [
    {
     "name": "stdout",
     "output_type": "stream",
     "text": [
      "This MLP model, with one layer of 50, has a score of :  96.85714285714285 %.\n",
      "4th image : Prediction  5 Vs  Reel :  5\n"
     ]
    },
    {
     "data": {
      "image/png": "[encoded data removed]",
      "text/plain": [
       "<Figure size 432x288 with 1 Axes>"
      ]
     },
     "metadata": {
      "needs_background": "light"
     },
     "output_type": "display_data"
    },
    {
     "name": "stdout",
     "output_type": "stream",
     "text": [
      "This MLP model has a precision of : 96.87697113403628 %.\n",
      "This MLP model has a recall of :  96.83113394148636 %.\n",
      "This MLP model has a zero-one_loss of : 96.83113394148636 %.\n"
     ]
    }
   ],
   "source": [
    "print(\"This MLP model, with one layer of 50, has a score of : \", score*100, \"%.\")\n",
    "print(\"4th image : Prediction \",prediction[3], \"Vs  Reel : \", ytest[3])\n",
    "\n",
    "# Showing the 4th predicted image:\n",
    "\n",
    "images = xtest.reshape((-1, 28, 28))\n",
    "plt.imshow(images[3],cmap=plt.cm.gray_r,interpolation=\"nearest\")\n",
    "plt.show()\n",
    "\n",
    "\n",
    "# Metrics :\n",
    "print (\"This MLP model has a precision of :\", precision*100, \"%.\")\n",
    "print (\"This MLP model has a recall of : \",recall*100, \"%.\")\n",
    "print (\"This MLP model has a zero-one_loss of :\",recall*100, \"%.\")"
   ]
  },
  {
   "cell_type": "markdown",
   "metadata": {},
   "source": [
    "* Variation of layers number from 2 to 100 :\n"
   ]
  },
  {
   "cell_type": "code",
   "execution_count": 7,
   "metadata": {},
   "outputs": [
    {
     "name": "stdout",
     "output_type": "stream",
     "text": [
      "For  0 hidden layer (s), The score =  88.77619047619048 % , Precision =  89.77712489039351 % ..\n",
      "For  1 hidden layer (s), The score =  96.58571428571429 % , Precision =  96.58671859281552 % ..\n",
      "For  2 hidden layer (s), The score =  97.32380952380953 % , Precision =  97.2928762932193 % ..\n",
      "For  3 hidden layer (s), The score =  96.79523809523809 % , Precision =  96.77762940931771 % ..\n",
      "For  4 hidden layer (s), The score =  97.82857142857144 % , Precision =  97.81775140090846 % ..\n",
      "For  5 hidden layer (s), The score =  97.75714285714285 % , Precision =  97.75323454626668 % ..\n",
      "For  6 hidden layer (s), The score =  97.6047619047619 % , Precision =  97.61683082786611 % ..\n",
      "For  7 hidden layer (s), The score =  98.02857142857142 % , Precision =  98.00674224190178 % ..\n",
      "For  8 hidden layer (s), The score =  98.24285714285715 % , Precision =  98.22005529842397 % ..\n",
      "For  9 hidden layer (s), The score =  98.07142857142857 % , Precision =  98.05569394685298 % ..\n",
      "For  10 hidden layer (s), The score =  98.2 % , Precision =  98.18060287873345 % ..\n",
      "For  11 hidden layer (s), The score =  98.14761904761905 % , Precision =  98.14933497302464 % ..\n",
      "For  12 hidden layer (s), The score =  98.04761904761905 % , Precision =  98.02143306394132 % ..\n",
      "For  13 hidden layer (s), The score =  98.20476190476191 % , Precision =  98.20451756417242 % ..\n",
      "For  14 hidden layer (s), The score =  97.9952380952381 % , Precision =  97.97615191809254 % ..\n",
      "For  15 hidden layer (s), The score =  97.89523809523808 % , Precision =  97.87801816722721 % ..\n",
      "For  16 hidden layer (s), The score =  97.61904761904762 % , Precision =  97.62993583699566 % ..\n",
      "For  17 hidden layer (s), The score =  98.01904761904761 % , Precision =  98.00986629765782 % ..\n",
      "For  18 hidden layer (s), The score =  97.93333333333332 % , Precision =  97.90392778387671 % ..\n",
      "For  19 hidden layer (s), The score =  97.84761904761905 % , Precision =  97.86601993314848 % ..\n",
      "For  20 hidden layer (s), The score =  97.82380952380953 % , Precision =  97.80112783261099 % ..\n",
      "For  21 hidden layer (s), The score =  97.7904761904762 % , Precision =  97.78887475609181 % ..\n",
      "For  22 hidden layer (s), The score =  96.47619047619047 % , Precision =  96.51229143026745 % ..\n",
      "For  23 hidden layer (s), The score =  97.21904761904761 % , Precision =  97.18129223983118 % ..\n",
      "For  24 hidden layer (s), The score =  98.11428571428571 % , Precision =  98.10196075493477 % ..\n",
      "For  25 hidden layer (s), The score =  94.18571428571428 % , Precision =  94.16382463942405 % ..\n",
      "For  26 hidden layer (s), The score =  95.81904761904761 % , Precision =  95.84951723254653 % ..\n",
      "For  27 hidden layer (s), The score =  96.96190476190476 % , Precision =  96.97668888096345 % ..\n",
      "For  28 hidden layer (s), The score =  96.02857142857142 % , Precision =  96.03660010030094 % ..\n",
      "For  29 hidden layer (s), The score =  95.67619047619048 % , Precision =  95.72736477040189 % ..\n",
      "For  30 hidden layer (s), The score =  92.07619047619048 % , Precision =  92.1735908868277 % ..\n",
      "For  31 hidden layer (s), The score =  83.95714285714286 % , Precision =  84.60572859100883 % ..\n",
      "For  32 hidden layer (s), The score =  85.23809523809524 % , Precision =  85.11143416887617 % ..\n",
      "For  33 hidden layer (s), The score =  90.26666666666667 % , Precision =  90.85871889744259 % ..\n",
      "For  34 hidden layer (s), The score =  86.0142857142857 % , Precision =  85.90270898099679 % ..\n",
      "For  35 hidden layer (s), The score =  94.74761904761905 % , Precision =  94.70596534950886 % ..\n",
      "For  36 hidden layer (s), The score =  77.27619047619048 % , Precision =  75.8641202149554 % ..\n",
      "For  37 hidden layer (s), The score =  86.08095238095238 % , Precision =  86.58827622721935 % ..\n",
      "For  38 hidden layer (s), The score =  82.11904761904762 % , Precision =  82.58691251660399 % ..\n"
     ]
    },
    {
     "name": "stderr",
     "output_type": "stream",
     "text": [
      "C:\\Users\\Said\\AppData\\Local\\Programs\\Python\\Python39\\lib\\site-packages\\sklearn\\metrics\\_classification.py:1248: UndefinedMetricWarning: Precision is ill-defined and being set to 0.0 in labels with no predicted samples. Use `zero_division` parameter to control this behavior.\n",
      "  _warn_prf(average, modifier, msg_start, len(result))\n"
     ]
    },
    {
     "name": "stdout",
     "output_type": "stream",
     "text": [
      "For  39 hidden layer (s), The score =  60.285714285714285 % , Precision =  55.33209250529352 % ..\n",
      "For  40 hidden layer (s), The score =  81.25238095238096 % , Precision =  81.25890312532637 % ..\n",
      "For  41 hidden layer (s), The score =  70.28571428571428 % , Precision =  68.64976087817413 % ..\n"
     ]
    },
    {
     "name": "stderr",
     "output_type": "stream",
     "text": [
      "C:\\Users\\Said\\AppData\\Local\\Programs\\Python\\Python39\\lib\\site-packages\\sklearn\\metrics\\_classification.py:1248: UndefinedMetricWarning: Precision is ill-defined and being set to 0.0 in labels with no predicted samples. Use `zero_division` parameter to control this behavior.\n",
      "  _warn_prf(average, modifier, msg_start, len(result))\n"
     ]
    },
    {
     "name": "stdout",
     "output_type": "stream",
     "text": [
      "For  42 hidden layer (s), The score =  70.07142857142857 % , Precision =  67.93651683671975 % ..\n",
      "For  43 hidden layer (s), The score =  66.54761904761905 % , Precision =  65.68889992312002 % ..\n",
      "For  44 hidden layer (s), The score =  76.22380952380952 % , Precision =  76.1698648710215 % ..\n"
     ]
    },
    {
     "name": "stderr",
     "output_type": "stream",
     "text": [
      "C:\\Users\\Said\\AppData\\Local\\Programs\\Python\\Python39\\lib\\site-packages\\sklearn\\metrics\\_classification.py:1248: UndefinedMetricWarning: Precision is ill-defined and being set to 0.0 in labels with no predicted samples. Use `zero_division` parameter to control this behavior.\n",
      "  _warn_prf(average, modifier, msg_start, len(result))\n"
     ]
    },
    {
     "name": "stdout",
     "output_type": "stream",
     "text": [
      "For  45 hidden layer (s), The score =  76.1952380952381 % , Precision =  69.73568362815445 % ..\n",
      "For  46 hidden layer (s), The score =  70.24285714285713 % , Precision =  70.19616136506833 % ..\n",
      "For  47 hidden layer (s), The score =  85.4952380952381 % , Precision =  85.70244702668303 % ..\n"
     ]
    },
    {
     "name": "stderr",
     "output_type": "stream",
     "text": [
      "C:\\Users\\Said\\AppData\\Local\\Programs\\Python\\Python39\\lib\\site-packages\\sklearn\\metrics\\_classification.py:1248: UndefinedMetricWarning: Precision is ill-defined and being set to 0.0 in labels with no predicted samples. Use `zero_division` parameter to control this behavior.\n",
      "  _warn_prf(average, modifier, msg_start, len(result))\n"
     ]
    },
    {
     "name": "stdout",
     "output_type": "stream",
     "text": [
      "For  48 hidden layer (s), The score =  11.447619047619048 % , Precision =  1.1447619047619049 % ..\n"
     ]
    },
    {
     "name": "stderr",
     "output_type": "stream",
     "text": [
      "C:\\Users\\Said\\AppData\\Local\\Programs\\Python\\Python39\\lib\\site-packages\\sklearn\\metrics\\_classification.py:1248: UndefinedMetricWarning: Precision is ill-defined and being set to 0.0 in labels with no predicted samples. Use `zero_division` parameter to control this behavior.\n",
      "  _warn_prf(average, modifier, msg_start, len(result))\n"
     ]
    },
    {
     "name": "stdout",
     "output_type": "stream",
     "text": [
      "For  49 hidden layer (s), The score =  11.447619047619048 % , Precision =  1.1447619047619049 % ..\n",
      "For  50 hidden layer (s), The score =  79.45238095238095 % , Precision =  80.51099650498328 % ..\n"
     ]
    },
    {
     "name": "stderr",
     "output_type": "stream",
     "text": [
      "C:\\Users\\Said\\AppData\\Local\\Programs\\Python\\Python39\\lib\\site-packages\\sklearn\\metrics\\_classification.py:1248: UndefinedMetricWarning: Precision is ill-defined and being set to 0.0 in labels with no predicted samples. Use `zero_division` parameter to control this behavior.\n",
      "  _warn_prf(average, modifier, msg_start, len(result))\n"
     ]
    },
    {
     "name": "stdout",
     "output_type": "stream",
     "text": [
      "For  51 hidden layer (s), The score =  68.25714285714287 % , Precision =  64.42312199644155 % ..\n"
     ]
    },
    {
     "name": "stderr",
     "output_type": "stream",
     "text": [
      "C:\\Users\\Said\\AppData\\Local\\Programs\\Python\\Python39\\lib\\site-packages\\sklearn\\metrics\\_classification.py:1248: UndefinedMetricWarning: Precision is ill-defined and being set to 0.0 in labels with no predicted samples. Use `zero_division` parameter to control this behavior.\n",
      "  _warn_prf(average, modifier, msg_start, len(result))\n"
     ]
    },
    {
     "name": "stdout",
     "output_type": "stream",
     "text": [
      "For  52 hidden layer (s), The score =  11.447619047619048 % , Precision =  1.1447619047619049 % ..\n"
     ]
    },
    {
     "name": "stderr",
     "output_type": "stream",
     "text": [
      "C:\\Users\\Said\\AppData\\Local\\Programs\\Python\\Python39\\lib\\site-packages\\sklearn\\metrics\\_classification.py:1248: UndefinedMetricWarning: Precision is ill-defined and being set to 0.0 in labels with no predicted samples. Use `zero_division` parameter to control this behavior.\n",
      "  _warn_prf(average, modifier, msg_start, len(result))\n"
     ]
    },
    {
     "name": "stdout",
     "output_type": "stream",
     "text": [
      "For  53 hidden layer (s), The score =  11.447619047619048 % , Precision =  1.1447619047619049 % ..\n"
     ]
    },
    {
     "name": "stderr",
     "output_type": "stream",
     "text": [
      "C:\\Users\\Said\\AppData\\Local\\Programs\\Python\\Python39\\lib\\site-packages\\sklearn\\metrics\\_classification.py:1248: UndefinedMetricWarning: Precision is ill-defined and being set to 0.0 in labels with no predicted samples. Use `zero_division` parameter to control this behavior.\n",
      "  _warn_prf(average, modifier, msg_start, len(result))\n"
     ]
    },
    {
     "name": "stdout",
     "output_type": "stream",
     "text": [
      "For  54 hidden layer (s), The score =  11.447619047619048 % , Precision =  1.1447619047619049 % ..\n"
     ]
    },
    {
     "name": "stderr",
     "output_type": "stream",
     "text": [
      "C:\\Users\\Said\\AppData\\Local\\Programs\\Python\\Python39\\lib\\site-packages\\sklearn\\metrics\\_classification.py:1248: UndefinedMetricWarning: Precision is ill-defined and being set to 0.0 in labels with no predicted samples. Use `zero_division` parameter to control this behavior.\n",
      "  _warn_prf(average, modifier, msg_start, len(result))\n"
     ]
    },
    {
     "name": "stdout",
     "output_type": "stream",
     "text": [
      "For  55 hidden layer (s), The score =  11.447619047619048 % , Precision =  1.1447619047619049 % ..\n"
     ]
    },
    {
     "name": "stderr",
     "output_type": "stream",
     "text": [
      "C:\\Users\\Said\\AppData\\Local\\Programs\\Python\\Python39\\lib\\site-packages\\sklearn\\metrics\\_classification.py:1248: UndefinedMetricWarning: Precision is ill-defined and being set to 0.0 in labels with no predicted samples. Use `zero_division` parameter to control this behavior.\n",
      "  _warn_prf(average, modifier, msg_start, len(result))\n"
     ]
    },
    {
     "name": "stdout",
     "output_type": "stream",
     "text": [
      "For  56 hidden layer (s), The score =  11.447619047619048 % , Precision =  1.1447619047619049 % ..\n"
     ]
    },
    {
     "name": "stderr",
     "output_type": "stream",
     "text": [
      "C:\\Users\\Said\\AppData\\Local\\Programs\\Python\\Python39\\lib\\site-packages\\sklearn\\metrics\\_classification.py:1248: UndefinedMetricWarning: Precision is ill-defined and being set to 0.0 in labels with no predicted samples. Use `zero_division` parameter to control this behavior.\n",
      "  _warn_prf(average, modifier, msg_start, len(result))\n"
     ]
    },
    {
     "name": "stdout",
     "output_type": "stream",
     "text": [
      "For  57 hidden layer (s), The score =  11.447619047619048 % , Precision =  1.1447619047619049 % ..\n"
     ]
    },
    {
     "name": "stderr",
     "output_type": "stream",
     "text": [
      "C:\\Users\\Said\\AppData\\Local\\Programs\\Python\\Python39\\lib\\site-packages\\sklearn\\metrics\\_classification.py:1248: UndefinedMetricWarning: Precision is ill-defined and being set to 0.0 in labels with no predicted samples. Use `zero_division` parameter to control this behavior.\n",
      "  _warn_prf(average, modifier, msg_start, len(result))\n"
     ]
    },
    {
     "name": "stdout",
     "output_type": "stream",
     "text": [
      "For  58 hidden layer (s), The score =  11.447619047619048 % , Precision =  1.1447619047619049 % ..\n"
     ]
    },
    {
     "name": "stderr",
     "output_type": "stream",
     "text": [
      "C:\\Users\\Said\\AppData\\Local\\Programs\\Python\\Python39\\lib\\site-packages\\sklearn\\metrics\\_classification.py:1248: UndefinedMetricWarning: Precision is ill-defined and being set to 0.0 in labels with no predicted samples. Use `zero_division` parameter to control this behavior.\n",
      "  _warn_prf(average, modifier, msg_start, len(result))\n"
     ]
    },
    {
     "name": "stdout",
     "output_type": "stream",
     "text": [
      "For  59 hidden layer (s), The score =  11.447619047619048 % , Precision =  1.1447619047619049 % ..\n"
     ]
    },
    {
     "name": "stderr",
     "output_type": "stream",
     "text": [
      "C:\\Users\\Said\\AppData\\Local\\Programs\\Python\\Python39\\lib\\site-packages\\sklearn\\metrics\\_classification.py:1248: UndefinedMetricWarning: Precision is ill-defined and being set to 0.0 in labels with no predicted samples. Use `zero_division` parameter to control this behavior.\n",
      "  _warn_prf(average, modifier, msg_start, len(result))\n"
     ]
    },
    {
     "name": "stdout",
     "output_type": "stream",
     "text": [
      "For  60 hidden layer (s), The score =  11.447619047619048 % , Precision =  1.1447619047619049 % ..\n"
     ]
    },
    {
     "name": "stderr",
     "output_type": "stream",
     "text": [
      "C:\\Users\\Said\\AppData\\Local\\Programs\\Python\\Python39\\lib\\site-packages\\sklearn\\metrics\\_classification.py:1248: UndefinedMetricWarning: Precision is ill-defined and being set to 0.0 in labels with no predicted samples. Use `zero_division` parameter to control this behavior.\n",
      "  _warn_prf(average, modifier, msg_start, len(result))\n"
     ]
    },
    {
     "name": "stdout",
     "output_type": "stream",
     "text": [
      "For  61 hidden layer (s), The score =  10.371428571428572 % , Precision =  1.0371428571428571 % ..\n"
     ]
    },
    {
     "name": "stderr",
     "output_type": "stream",
     "text": [
      "C:\\Users\\Said\\AppData\\Local\\Programs\\Python\\Python39\\lib\\site-packages\\sklearn\\metrics\\_classification.py:1248: UndefinedMetricWarning: Precision is ill-defined and being set to 0.0 in labels with no predicted samples. Use `zero_division` parameter to control this behavior.\n",
      "  _warn_prf(average, modifier, msg_start, len(result))\n"
     ]
    },
    {
     "name": "stdout",
     "output_type": "stream",
     "text": [
      "For  62 hidden layer (s), The score =  11.447619047619048 % , Precision =  1.1447619047619049 % ..\n"
     ]
    },
    {
     "name": "stderr",
     "output_type": "stream",
     "text": [
      "C:\\Users\\Said\\AppData\\Local\\Programs\\Python\\Python39\\lib\\site-packages\\sklearn\\metrics\\_classification.py:1248: UndefinedMetricWarning: Precision is ill-defined and being set to 0.0 in labels with no predicted samples. Use `zero_division` parameter to control this behavior.\n",
      "  _warn_prf(average, modifier, msg_start, len(result))\n"
     ]
    },
    {
     "name": "stdout",
     "output_type": "stream",
     "text": [
      "For  63 hidden layer (s), The score =  11.447619047619048 % , Precision =  1.1447619047619049 % ..\n"
     ]
    },
    {
     "name": "stderr",
     "output_type": "stream",
     "text": [
      "C:\\Users\\Said\\AppData\\Local\\Programs\\Python\\Python39\\lib\\site-packages\\sklearn\\metrics\\_classification.py:1248: UndefinedMetricWarning: Precision is ill-defined and being set to 0.0 in labels with no predicted samples. Use `zero_division` parameter to control this behavior.\n",
      "  _warn_prf(average, modifier, msg_start, len(result))\n"
     ]
    },
    {
     "name": "stdout",
     "output_type": "stream",
     "text": [
      "For  64 hidden layer (s), The score =  11.447619047619048 % , Precision =  1.1447619047619049 % ..\n"
     ]
    },
    {
     "name": "stderr",
     "output_type": "stream",
     "text": [
      "C:\\Users\\Said\\AppData\\Local\\Programs\\Python\\Python39\\lib\\site-packages\\sklearn\\metrics\\_classification.py:1248: UndefinedMetricWarning: Precision is ill-defined and being set to 0.0 in labels with no predicted samples. Use `zero_division` parameter to control this behavior.\n",
      "  _warn_prf(average, modifier, msg_start, len(result))\n"
     ]
    },
    {
     "name": "stdout",
     "output_type": "stream",
     "text": [
      "For  65 hidden layer (s), The score =  11.447619047619048 % , Precision =  1.1447619047619049 % ..\n"
     ]
    },
    {
     "name": "stderr",
     "output_type": "stream",
     "text": [
      "C:\\Users\\Said\\AppData\\Local\\Programs\\Python\\Python39\\lib\\site-packages\\sklearn\\metrics\\_classification.py:1248: UndefinedMetricWarning: Precision is ill-defined and being set to 0.0 in labels with no predicted samples. Use `zero_division` parameter to control this behavior.\n",
      "  _warn_prf(average, modifier, msg_start, len(result))\n"
     ]
    },
    {
     "name": "stdout",
     "output_type": "stream",
     "text": [
      "For  66 hidden layer (s), The score =  11.447619047619048 % , Precision =  1.1447619047619049 % ..\n"
     ]
    },
    {
     "name": "stderr",
     "output_type": "stream",
     "text": [
      "C:\\Users\\Said\\AppData\\Local\\Programs\\Python\\Python39\\lib\\site-packages\\sklearn\\metrics\\_classification.py:1248: UndefinedMetricWarning: Precision is ill-defined and being set to 0.0 in labels with no predicted samples. Use `zero_division` parameter to control this behavior.\n",
      "  _warn_prf(average, modifier, msg_start, len(result))\n"
     ]
    },
    {
     "name": "stdout",
     "output_type": "stream",
     "text": [
      "For  67 hidden layer (s), The score =  11.447619047619048 % , Precision =  1.1447619047619049 % ..\n"
     ]
    },
    {
     "name": "stderr",
     "output_type": "stream",
     "text": [
      "C:\\Users\\Said\\AppData\\Local\\Programs\\Python\\Python39\\lib\\site-packages\\sklearn\\metrics\\_classification.py:1248: UndefinedMetricWarning: Precision is ill-defined and being set to 0.0 in labels with no predicted samples. Use `zero_division` parameter to control this behavior.\n",
      "  _warn_prf(average, modifier, msg_start, len(result))\n"
     ]
    },
    {
     "name": "stdout",
     "output_type": "stream",
     "text": [
      "For  68 hidden layer (s), The score =  11.447619047619048 % , Precision =  1.1447619047619049 % ..\n"
     ]
    },
    {
     "name": "stderr",
     "output_type": "stream",
     "text": [
      "C:\\Users\\Said\\AppData\\Local\\Programs\\Python\\Python39\\lib\\site-packages\\sklearn\\metrics\\_classification.py:1248: UndefinedMetricWarning: Precision is ill-defined and being set to 0.0 in labels with no predicted samples. Use `zero_division` parameter to control this behavior.\n",
      "  _warn_prf(average, modifier, msg_start, len(result))\n"
     ]
    },
    {
     "name": "stdout",
     "output_type": "stream",
     "text": [
      "For  69 hidden layer (s), The score =  11.447619047619048 % , Precision =  1.1447619047619049 % ..\n"
     ]
    },
    {
     "name": "stderr",
     "output_type": "stream",
     "text": [
      "C:\\Users\\Said\\AppData\\Local\\Programs\\Python\\Python39\\lib\\site-packages\\sklearn\\metrics\\_classification.py:1248: UndefinedMetricWarning: Precision is ill-defined and being set to 0.0 in labels with no predicted samples. Use `zero_division` parameter to control this behavior.\n",
      "  _warn_prf(average, modifier, msg_start, len(result))\n"
     ]
    },
    {
     "name": "stdout",
     "output_type": "stream",
     "text": [
      "For  70 hidden layer (s), The score =  11.447619047619048 % , Precision =  1.1447619047619049 % ..\n"
     ]
    },
    {
     "name": "stderr",
     "output_type": "stream",
     "text": [
      "C:\\Users\\Said\\AppData\\Local\\Programs\\Python\\Python39\\lib\\site-packages\\sklearn\\metrics\\_classification.py:1248: UndefinedMetricWarning: Precision is ill-defined and being set to 0.0 in labels with no predicted samples. Use `zero_division` parameter to control this behavior.\n",
      "  _warn_prf(average, modifier, msg_start, len(result))\n"
     ]
    },
    {
     "name": "stdout",
     "output_type": "stream",
     "text": [
      "For  71 hidden layer (s), The score =  11.447619047619048 % , Precision =  1.1447619047619049 % ..\n"
     ]
    },
    {
     "name": "stderr",
     "output_type": "stream",
     "text": [
      "C:\\Users\\Said\\AppData\\Local\\Programs\\Python\\Python39\\lib\\site-packages\\sklearn\\metrics\\_classification.py:1248: UndefinedMetricWarning: Precision is ill-defined and being set to 0.0 in labels with no predicted samples. Use `zero_division` parameter to control this behavior.\n",
      "  _warn_prf(average, modifier, msg_start, len(result))\n"
     ]
    },
    {
     "name": "stdout",
     "output_type": "stream",
     "text": [
      "For  72 hidden layer (s), The score =  11.447619047619048 % , Precision =  1.1447619047619049 % ..\n"
     ]
    },
    {
     "name": "stderr",
     "output_type": "stream",
     "text": [
      "C:\\Users\\Said\\AppData\\Local\\Programs\\Python\\Python39\\lib\\site-packages\\sklearn\\metrics\\_classification.py:1248: UndefinedMetricWarning: Precision is ill-defined and being set to 0.0 in labels with no predicted samples. Use `zero_division` parameter to control this behavior.\n",
      "  _warn_prf(average, modifier, msg_start, len(result))\n"
     ]
    },
    {
     "name": "stdout",
     "output_type": "stream",
     "text": [
      "For  73 hidden layer (s), The score =  11.447619047619048 % , Precision =  1.1447619047619049 % ..\n"
     ]
    },
    {
     "name": "stderr",
     "output_type": "stream",
     "text": [
      "C:\\Users\\Said\\AppData\\Local\\Programs\\Python\\Python39\\lib\\site-packages\\sklearn\\metrics\\_classification.py:1248: UndefinedMetricWarning: Precision is ill-defined and being set to 0.0 in labels with no predicted samples. Use `zero_division` parameter to control this behavior.\n",
      "  _warn_prf(average, modifier, msg_start, len(result))\n"
     ]
    },
    {
     "name": "stdout",
     "output_type": "stream",
     "text": [
      "For  74 hidden layer (s), The score =  11.447619047619048 % , Precision =  1.1447619047619049 % ..\n"
     ]
    },
    {
     "name": "stderr",
     "output_type": "stream",
     "text": [
      "C:\\Users\\Said\\AppData\\Local\\Programs\\Python\\Python39\\lib\\site-packages\\sklearn\\metrics\\_classification.py:1248: UndefinedMetricWarning: Precision is ill-defined and being set to 0.0 in labels with no predicted samples. Use `zero_division` parameter to control this behavior.\n",
      "  _warn_prf(average, modifier, msg_start, len(result))\n"
     ]
    },
    {
     "name": "stdout",
     "output_type": "stream",
     "text": [
      "For  75 hidden layer (s), The score =  11.447619047619048 % , Precision =  1.1447619047619049 % ..\n"
     ]
    },
    {
     "name": "stderr",
     "output_type": "stream",
     "text": [
      "C:\\Users\\Said\\AppData\\Local\\Programs\\Python\\Python39\\lib\\site-packages\\sklearn\\metrics\\_classification.py:1248: UndefinedMetricWarning: Precision is ill-defined and being set to 0.0 in labels with no predicted samples. Use `zero_division` parameter to control this behavior.\n",
      "  _warn_prf(average, modifier, msg_start, len(result))\n"
     ]
    },
    {
     "name": "stdout",
     "output_type": "stream",
     "text": [
      "For  76 hidden layer (s), The score =  11.447619047619048 % , Precision =  1.1447619047619049 % ..\n"
     ]
    },
    {
     "name": "stderr",
     "output_type": "stream",
     "text": [
      "C:\\Users\\Said\\AppData\\Local\\Programs\\Python\\Python39\\lib\\site-packages\\sklearn\\metrics\\_classification.py:1248: UndefinedMetricWarning: Precision is ill-defined and being set to 0.0 in labels with no predicted samples. Use `zero_division` parameter to control this behavior.\n",
      "  _warn_prf(average, modifier, msg_start, len(result))\n"
     ]
    },
    {
     "name": "stdout",
     "output_type": "stream",
     "text": [
      "For  77 hidden layer (s), The score =  11.447619047619048 % , Precision =  1.1447619047619049 % ..\n"
     ]
    },
    {
     "name": "stderr",
     "output_type": "stream",
     "text": [
      "C:\\Users\\Said\\AppData\\Local\\Programs\\Python\\Python39\\lib\\site-packages\\sklearn\\metrics\\_classification.py:1248: UndefinedMetricWarning: Precision is ill-defined and being set to 0.0 in labels with no predicted samples. Use `zero_division` parameter to control this behavior.\n",
      "  _warn_prf(average, modifier, msg_start, len(result))\n"
     ]
    },
    {
     "name": "stdout",
     "output_type": "stream",
     "text": [
      "For  78 hidden layer (s), The score =  11.447619047619048 % , Precision =  1.1447619047619049 % ..\n"
     ]
    },
    {
     "name": "stderr",
     "output_type": "stream",
     "text": [
      "C:\\Users\\Said\\AppData\\Local\\Programs\\Python\\Python39\\lib\\site-packages\\sklearn\\metrics\\_classification.py:1248: UndefinedMetricWarning: Precision is ill-defined and being set to 0.0 in labels with no predicted samples. Use `zero_division` parameter to control this behavior.\n",
      "  _warn_prf(average, modifier, msg_start, len(result))\n"
     ]
    },
    {
     "name": "stdout",
     "output_type": "stream",
     "text": [
      "For  79 hidden layer (s), The score =  11.447619047619048 % , Precision =  1.1447619047619049 % ..\n"
     ]
    },
    {
     "name": "stderr",
     "output_type": "stream",
     "text": [
      "C:\\Users\\Said\\AppData\\Local\\Programs\\Python\\Python39\\lib\\site-packages\\sklearn\\metrics\\_classification.py:1248: UndefinedMetricWarning: Precision is ill-defined and being set to 0.0 in labels with no predicted samples. Use `zero_division` parameter to control this behavior.\n",
      "  _warn_prf(average, modifier, msg_start, len(result))\n"
     ]
    },
    {
     "name": "stdout",
     "output_type": "stream",
     "text": [
      "For  80 hidden layer (s), The score =  11.447619047619048 % , Precision =  1.1447619047619049 % ..\n"
     ]
    },
    {
     "name": "stderr",
     "output_type": "stream",
     "text": [
      "C:\\Users\\Said\\AppData\\Local\\Programs\\Python\\Python39\\lib\\site-packages\\sklearn\\metrics\\_classification.py:1248: UndefinedMetricWarning: Precision is ill-defined and being set to 0.0 in labels with no predicted samples. Use `zero_division` parameter to control this behavior.\n",
      "  _warn_prf(average, modifier, msg_start, len(result))\n"
     ]
    },
    {
     "name": "stdout",
     "output_type": "stream",
     "text": [
      "For  81 hidden layer (s), The score =  10.371428571428572 % , Precision =  1.0371428571428571 % ..\n"
     ]
    },
    {
     "name": "stderr",
     "output_type": "stream",
     "text": [
      "C:\\Users\\Said\\AppData\\Local\\Programs\\Python\\Python39\\lib\\site-packages\\sklearn\\metrics\\_classification.py:1248: UndefinedMetricWarning: Precision is ill-defined and being set to 0.0 in labels with no predicted samples. Use `zero_division` parameter to control this behavior.\n",
      "  _warn_prf(average, modifier, msg_start, len(result))\n"
     ]
    },
    {
     "name": "stdout",
     "output_type": "stream",
     "text": [
      "For  82 hidden layer (s), The score =  11.447619047619048 % , Precision =  1.1447619047619049 % ..\n"
     ]
    },
    {
     "name": "stderr",
     "output_type": "stream",
     "text": [
      "C:\\Users\\Said\\AppData\\Local\\Programs\\Python\\Python39\\lib\\site-packages\\sklearn\\metrics\\_classification.py:1248: UndefinedMetricWarning: Precision is ill-defined and being set to 0.0 in labels with no predicted samples. Use `zero_division` parameter to control this behavior.\n",
      "  _warn_prf(average, modifier, msg_start, len(result))\n"
     ]
    },
    {
     "name": "stdout",
     "output_type": "stream",
     "text": [
      "For  83 hidden layer (s), The score =  11.447619047619048 % , Precision =  1.1447619047619049 % ..\n"
     ]
    },
    {
     "name": "stderr",
     "output_type": "stream",
     "text": [
      "C:\\Users\\Said\\AppData\\Local\\Programs\\Python\\Python39\\lib\\site-packages\\sklearn\\metrics\\_classification.py:1248: UndefinedMetricWarning: Precision is ill-defined and being set to 0.0 in labels with no predicted samples. Use `zero_division` parameter to control this behavior.\n",
      "  _warn_prf(average, modifier, msg_start, len(result))\n"
     ]
    },
    {
     "name": "stdout",
     "output_type": "stream",
     "text": [
      "For  84 hidden layer (s), The score =  11.447619047619048 % , Precision =  1.1447619047619049 % ..\n"
     ]
    },
    {
     "name": "stderr",
     "output_type": "stream",
     "text": [
      "C:\\Users\\Said\\AppData\\Local\\Programs\\Python\\Python39\\lib\\site-packages\\sklearn\\metrics\\_classification.py:1248: UndefinedMetricWarning: Precision is ill-defined and being set to 0.0 in labels with no predicted samples. Use `zero_division` parameter to control this behavior.\n",
      "  _warn_prf(average, modifier, msg_start, len(result))\n"
     ]
    },
    {
     "name": "stdout",
     "output_type": "stream",
     "text": [
      "For  85 hidden layer (s), The score =  11.447619047619048 % , Precision =  1.1447619047619049 % ..\n"
     ]
    },
    {
     "name": "stderr",
     "output_type": "stream",
     "text": [
      "C:\\Users\\Said\\AppData\\Local\\Programs\\Python\\Python39\\lib\\site-packages\\sklearn\\metrics\\_classification.py:1248: UndefinedMetricWarning: Precision is ill-defined and being set to 0.0 in labels with no predicted samples. Use `zero_division` parameter to control this behavior.\n",
      "  _warn_prf(average, modifier, msg_start, len(result))\n"
     ]
    },
    {
     "name": "stdout",
     "output_type": "stream",
     "text": [
      "For  86 hidden layer (s), The score =  11.447619047619048 % , Precision =  1.1447619047619049 % ..\n"
     ]
    },
    {
     "name": "stderr",
     "output_type": "stream",
     "text": [
      "C:\\Users\\Said\\AppData\\Local\\Programs\\Python\\Python39\\lib\\site-packages\\sklearn\\metrics\\_classification.py:1248: UndefinedMetricWarning: Precision is ill-defined and being set to 0.0 in labels with no predicted samples. Use `zero_division` parameter to control this behavior.\n",
      "  _warn_prf(average, modifier, msg_start, len(result))\n"
     ]
    },
    {
     "name": "stdout",
     "output_type": "stream",
     "text": [
      "For  87 hidden layer (s), The score =  11.447619047619048 % , Precision =  1.1447619047619049 % ..\n"
     ]
    },
    {
     "name": "stderr",
     "output_type": "stream",
     "text": [
      "C:\\Users\\Said\\AppData\\Local\\Programs\\Python\\Python39\\lib\\site-packages\\sklearn\\metrics\\_classification.py:1248: UndefinedMetricWarning: Precision is ill-defined and being set to 0.0 in labels with no predicted samples. Use `zero_division` parameter to control this behavior.\n",
      "  _warn_prf(average, modifier, msg_start, len(result))\n"
     ]
    },
    {
     "name": "stdout",
     "output_type": "stream",
     "text": [
      "For  88 hidden layer (s), The score =  11.447619047619048 % , Precision =  1.1447619047619049 % ..\n"
     ]
    },
    {
     "name": "stderr",
     "output_type": "stream",
     "text": [
      "C:\\Users\\Said\\AppData\\Local\\Programs\\Python\\Python39\\lib\\site-packages\\sklearn\\metrics\\_classification.py:1248: UndefinedMetricWarning: Precision is ill-defined and being set to 0.0 in labels with no predicted samples. Use `zero_division` parameter to control this behavior.\n",
      "  _warn_prf(average, modifier, msg_start, len(result))\n"
     ]
    },
    {
     "name": "stdout",
     "output_type": "stream",
     "text": [
      "For  89 hidden layer (s), The score =  11.447619047619048 % , Precision =  1.1447619047619049 % ..\n"
     ]
    },
    {
     "name": "stderr",
     "output_type": "stream",
     "text": [
      "C:\\Users\\Said\\AppData\\Local\\Programs\\Python\\Python39\\lib\\site-packages\\sklearn\\metrics\\_classification.py:1248: UndefinedMetricWarning: Precision is ill-defined and being set to 0.0 in labels with no predicted samples. Use `zero_division` parameter to control this behavior.\n",
      "  _warn_prf(average, modifier, msg_start, len(result))\n"
     ]
    },
    {
     "name": "stdout",
     "output_type": "stream",
     "text": [
      "For  90 hidden layer (s), The score =  11.447619047619048 % , Precision =  1.1447619047619049 % ..\n"
     ]
    },
    {
     "name": "stderr",
     "output_type": "stream",
     "text": [
      "C:\\Users\\Said\\AppData\\Local\\Programs\\Python\\Python39\\lib\\site-packages\\sklearn\\metrics\\_classification.py:1248: UndefinedMetricWarning: Precision is ill-defined and being set to 0.0 in labels with no predicted samples. Use `zero_division` parameter to control this behavior.\n",
      "  _warn_prf(average, modifier, msg_start, len(result))\n"
     ]
    },
    {
     "name": "stdout",
     "output_type": "stream",
     "text": [
      "For  91 hidden layer (s), The score =  11.447619047619048 % , Precision =  1.1447619047619049 % ..\n"
     ]
    },
    {
     "name": "stderr",
     "output_type": "stream",
     "text": [
      "C:\\Users\\Said\\AppData\\Local\\Programs\\Python\\Python39\\lib\\site-packages\\sklearn\\metrics\\_classification.py:1248: UndefinedMetricWarning: Precision is ill-defined and being set to 0.0 in labels with no predicted samples. Use `zero_division` parameter to control this behavior.\n",
      "  _warn_prf(average, modifier, msg_start, len(result))\n"
     ]
    },
    {
     "name": "stdout",
     "output_type": "stream",
     "text": [
      "For  92 hidden layer (s), The score =  11.447619047619048 % , Precision =  1.1447619047619049 % ..\n"
     ]
    },
    {
     "name": "stderr",
     "output_type": "stream",
     "text": [
      "C:\\Users\\Said\\AppData\\Local\\Programs\\Python\\Python39\\lib\\site-packages\\sklearn\\metrics\\_classification.py:1248: UndefinedMetricWarning: Precision is ill-defined and being set to 0.0 in labels with no predicted samples. Use `zero_division` parameter to control this behavior.\n",
      "  _warn_prf(average, modifier, msg_start, len(result))\n"
     ]
    },
    {
     "name": "stdout",
     "output_type": "stream",
     "text": [
      "For  93 hidden layer (s), The score =  11.447619047619048 % , Precision =  1.1447619047619049 % ..\n"
     ]
    },
    {
     "name": "stderr",
     "output_type": "stream",
     "text": [
      "C:\\Users\\Said\\AppData\\Local\\Programs\\Python\\Python39\\lib\\site-packages\\sklearn\\metrics\\_classification.py:1248: UndefinedMetricWarning: Precision is ill-defined and being set to 0.0 in labels with no predicted samples. Use `zero_division` parameter to control this behavior.\n",
      "  _warn_prf(average, modifier, msg_start, len(result))\n"
     ]
    },
    {
     "name": "stdout",
     "output_type": "stream",
     "text": [
      "For  94 hidden layer (s), The score =  11.447619047619048 % , Precision =  1.1447619047619049 % ..\n"
     ]
    },
    {
     "name": "stderr",
     "output_type": "stream",
     "text": [
      "C:\\Users\\Said\\AppData\\Local\\Programs\\Python\\Python39\\lib\\site-packages\\sklearn\\metrics\\_classification.py:1248: UndefinedMetricWarning: Precision is ill-defined and being set to 0.0 in labels with no predicted samples. Use `zero_division` parameter to control this behavior.\n",
      "  _warn_prf(average, modifier, msg_start, len(result))\n"
     ]
    },
    {
     "name": "stdout",
     "output_type": "stream",
     "text": [
      "For  95 hidden layer (s), The score =  10.371428571428572 % , Precision =  1.0371428571428571 % ..\n"
     ]
    },
    {
     "name": "stderr",
     "output_type": "stream",
     "text": [
      "C:\\Users\\Said\\AppData\\Local\\Programs\\Python\\Python39\\lib\\site-packages\\sklearn\\metrics\\_classification.py:1248: UndefinedMetricWarning: Precision is ill-defined and being set to 0.0 in labels with no predicted samples. Use `zero_division` parameter to control this behavior.\n",
      "  _warn_prf(average, modifier, msg_start, len(result))\n"
     ]
    },
    {
     "name": "stdout",
     "output_type": "stream",
     "text": [
      "For  96 hidden layer (s), The score =  11.447619047619048 % , Precision =  1.1447619047619049 % ..\n"
     ]
    },
    {
     "name": "stderr",
     "output_type": "stream",
     "text": [
      "C:\\Users\\Said\\AppData\\Local\\Programs\\Python\\Python39\\lib\\site-packages\\sklearn\\metrics\\_classification.py:1248: UndefinedMetricWarning: Precision is ill-defined and being set to 0.0 in labels with no predicted samples. Use `zero_division` parameter to control this behavior.\n",
      "  _warn_prf(average, modifier, msg_start, len(result))\n"
     ]
    },
    {
     "name": "stdout",
     "output_type": "stream",
     "text": [
      "For  97 hidden layer (s), The score =  11.447619047619048 % , Precision =  1.1447619047619049 % ..\n"
     ]
    },
    {
     "name": "stderr",
     "output_type": "stream",
     "text": [
      "C:\\Users\\Said\\AppData\\Local\\Programs\\Python\\Python39\\lib\\site-packages\\sklearn\\metrics\\_classification.py:1248: UndefinedMetricWarning: Precision is ill-defined and being set to 0.0 in labels with no predicted samples. Use `zero_division` parameter to control this behavior.\n",
      "  _warn_prf(average, modifier, msg_start, len(result))\n"
     ]
    },
    {
     "name": "stdout",
     "output_type": "stream",
     "text": [
      "For  98 hidden layer (s), The score =  11.447619047619048 % , Precision =  1.1447619047619049 % ..\n"
     ]
    },
    {
     "name": "stderr",
     "output_type": "stream",
     "text": [
      "C:\\Users\\Said\\AppData\\Local\\Programs\\Python\\Python39\\lib\\site-packages\\sklearn\\metrics\\_classification.py:1248: UndefinedMetricWarning: Precision is ill-defined and being set to 0.0 in labels with no predicted samples. Use `zero_division` parameter to control this behavior.\n",
      "  _warn_prf(average, modifier, msg_start, len(result))\n"
     ]
    },
    {
     "name": "stdout",
     "output_type": "stream",
     "text": [
      "For  99 hidden layer (s), The score =  11.447619047619048 % , Precision =  1.1447619047619049 % ..\n"
     ]
    }
   ],
   "source": [
    "hidden_layer =(50,)*100\n",
    "\n",
    "ScoreResult = []\n",
    "PredResult = []\n",
    "RecallResult = []\n",
    "LossResult = []\n",
    "#print(hidden_layer)\n",
    "#print(hidden_layer[0:1])\n",
    "\n",
    "for i in range (100):\n",
    "    clf = MLPClassifier(hidden_layer_sizes = hidden_layer[0:i])\n",
    "    clf.fit(xtrain, ytrain)\n",
    "    prediction = clf.predict(xtest)\n",
    "    score = clf.score(xtest, ytest)\n",
    "    precision = metrics.precision_score(ytest, prediction, average='macro')\n",
    "    recall = metrics.recall_score(ytest, prediction, average='macro')\n",
    "    loss0_1 = metrics.zero_one_loss(ytest, prediction)\n",
    "\n",
    "    ScoreResult.append(score)\n",
    "    PredResult.append(precision)\n",
    "    RecallResult.append(recall)\n",
    "    LossResult.append(loss0_1)\n",
    "\n",
    "    print(\"For \", i, \"hidden layer (s), The score = \", score *100, \"%\", \", Precision = \", precision*100, \"% ..\" )\n",
    "\n",
    "\n",
    "\n"
   ]
  },
  {
   "cell_type": "markdown",
   "metadata": {},
   "source": [
    "> Priting this results :"
   ]
  },
  {
   "cell_type": "code",
   "execution_count": 8,
   "metadata": {},
   "outputs": [
    {
     "name": "stdout",
     "output_type": "stream",
     "text": [
      "[0.8877619047619048, 0.9658571428571429, 0.9732380952380952, 0.9679523809523809, 0.9782857142857143, 0.9775714285714285, 0.976047619047619, 0.9802857142857143, 0.9824285714285714, 0.9807142857142858, 0.982, 0.9814761904761905, 0.9804761904761905, 0.9820476190476191, 0.9799523809523809, 0.9789523809523809, 0.9761904761904762, 0.9801904761904762, 0.9793333333333333, 0.9784761904761905, 0.9782380952380952, 0.9779047619047619, 0.9647619047619047, 0.9721904761904762, 0.9811428571428571, 0.9418571428571428, 0.9581904761904761, 0.9696190476190476, 0.9602857142857143, 0.9567619047619048, 0.9207619047619048, 0.8395714285714285, 0.8523809523809524, 0.9026666666666666, 0.8601428571428571, 0.9474761904761905, 0.7727619047619048, 0.8608095238095238, 0.8211904761904761, 0.6028571428571429, 0.8125238095238095, 0.7028571428571428, 0.7007142857142857, 0.6654761904761904, 0.7622380952380953, 0.7619523809523809, 0.7024285714285714, 0.8549523809523809, 0.11447619047619048, 0.11447619047619048, 0.7945238095238095, 0.6825714285714286, 0.11447619047619048, 0.11447619047619048, 0.11447619047619048, 0.11447619047619048, 0.11447619047619048, 0.11447619047619048, 0.11447619047619048, 0.11447619047619048, 0.11447619047619048, 0.10371428571428572, 0.11447619047619048, 0.11447619047619048, 0.11447619047619048, 0.11447619047619048, 0.11447619047619048, 0.11447619047619048, 0.11447619047619048, 0.11447619047619048, 0.11447619047619048, 0.11447619047619048, 0.11447619047619048, 0.11447619047619048, 0.11447619047619048, 0.11447619047619048, 0.11447619047619048, 0.11447619047619048, 0.11447619047619048, 0.11447619047619048, 0.11447619047619048, 0.10371428571428572, 0.11447619047619048, 0.11447619047619048, 0.11447619047619048, 0.11447619047619048, 0.11447619047619048, 0.11447619047619048, 0.11447619047619048, 0.11447619047619048, 0.11447619047619048, 0.11447619047619048, 0.11447619047619048, 0.11447619047619048, 0.11447619047619048, 0.10371428571428572, 0.11447619047619048, 0.11447619047619048, 0.11447619047619048, 0.11447619047619048]\n",
      "\n",
      "\n",
      "[array(['9', '5', '1', ..., '3', '2', '0'], dtype='<U1'), array(['9', '5', '1', ..., '3', '2', '0'], dtype='<U1'), array(['9', '5', '1', ..., '3', '2', '0'], dtype='<U1'), array(['9', '5', '1', ..., '3', '2', '0'], dtype='<U1'), array(['9', '5', '1', ..., '3', '2', '0'], dtype='<U1'), array(['9', '5', '1', ..., '3', '2', '0'], dtype='<U1'), array(['9', '5', '1', ..., '3', '2', '0'], dtype='<U1'), array(['9', '5', '1', ..., '3', '2', '0'], dtype='<U1'), array(['9', '5', '1', ..., '3', '2', '0'], dtype='<U1'), array(['9', '5', '1', ..., '3', '2', '0'], dtype='<U1'), array(['9', '5', '1', ..., '3', '2', '0'], dtype='<U1'), array(['9', '5', '1', ..., '3', '2', '0'], dtype='<U1'), array(['9', '5', '1', ..., '3', '2', '0'], dtype='<U1'), array(['9', '5', '1', ..., '3', '2', '0'], dtype='<U1'), array(['9', '5', '1', ..., '3', '2', '0'], dtype='<U1'), array(['9', '5', '1', ..., '3', '2', '0'], dtype='<U1'), array(['9', '5', '1', ..., '3', '2', '0'], dtype='<U1'), array(['9', '5', '1', ..., '3', '2', '0'], dtype='<U1'), array(['9', '5', '1', ..., '3', '2', '0'], dtype='<U1'), array(['9', '5', '1', ..., '3', '2', '0'], dtype='<U1'), array(['9', '5', '1', ..., '3', '2', '0'], dtype='<U1'), array(['9', '5', '1', ..., '3', '2', '0'], dtype='<U1'), array(['9', '5', '1', ..., '3', '2', '0'], dtype='<U1'), array(['9', '5', '1', ..., '3', '2', '0'], dtype='<U1'), array(['9', '5', '1', ..., '3', '2', '0'], dtype='<U1'), array(['9', '5', '1', ..., '3', '2', '0'], dtype='<U1'), array(['9', '5', '1', ..., '3', '2', '0'], dtype='<U1'), array(['9', '5', '1', ..., '3', '2', '0'], dtype='<U1'), array(['9', '5', '1', ..., '3', '2', '0'], dtype='<U1'), array(['9', '5', '1', ..., '3', '2', '0'], dtype='<U1'), array(['9', '5', '1', ..., '3', '2', '0'], dtype='<U1'), array(['9', '5', '1', ..., '3', '2', '0'], dtype='<U1'), array(['9', '5', '1', ..., '3', '2', '0'], dtype='<U1'), array(['9', '5', '1', ..., '3', '2', '0'], dtype='<U1'), array(['9', '5', '1', ..., '2', '2', '0'], dtype='<U1'), array(['9', '5', '1', ..., '3', '2', '0'], dtype='<U1'), array(['9', '8', '1', ..., '3', '2', '0'], dtype='<U1'), array(['9', '5', '1', ..., '3', '2', '0'], dtype='<U1'), array(['9', '5', '1', ..., '3', '2', '0'], dtype='<U1'), array(['4', '6', '1', ..., '5', '7', '0'], dtype='<U1'), array(['9', '5', '1', ..., '3', '2', '0'], dtype='<U1'), array(['9', '5', '1', ..., '5', '2', '0'], dtype='<U1'), array(['4', '5', '1', ..., '5', '2', '0'], dtype='<U1'), array(['9', '9', '1', ..., '3', '4', '0'], dtype='<U1'), array(['4', '5', '1', ..., '2', '2', '0'], dtype='<U1'), array(['9', '8', '1', ..., '6', '2', '0'], dtype='<U1'), array(['9', '5', '1', ..., '3', '2', '0'], dtype='<U1'), array(['9', '5', '1', ..., '3', '2', '0'], dtype='<U1'), array(['1', '1', '1', ..., '1', '1', '1'], dtype='<U1'), array(['1', '1', '1', ..., '1', '1', '1'], dtype='<U1'), array(['9', '5', '3', ..., '2', '2', '0'], dtype='<U1'), array(['9', '8', '3', ..., '8', '2', '0'], dtype='<U1'), array(['1', '1', '1', ..., '1', '1', '1'], dtype='<U1'), array(['1', '1', '1', ..., '1', '1', '1'], dtype='<U1'), array(['1', '1', '1', ..., '1', '1', '1'], dtype='<U1'), array(['1', '1', '1', ..., '1', '1', '1'], dtype='<U1'), array(['1', '1', '1', ..., '1', '1', '1'], dtype='<U1'), array(['1', '1', '1', ..., '1', '1', '1'], dtype='<U1'), array(['1', '1', '1', ..., '1', '1', '1'], dtype='<U1'), array(['1', '1', '1', ..., '1', '1', '1'], dtype='<U1'), array(['1', '1', '1', ..., '1', '1', '1'], dtype='<U1'), array(['7', '7', '7', ..., '7', '7', '7'], dtype='<U1'), array(['1', '1', '1', ..., '1', '1', '1'], dtype='<U1'), array(['1', '1', '1', ..., '1', '1', '1'], dtype='<U1'), array(['1', '1', '1', ..., '1', '1', '1'], dtype='<U1'), array(['1', '1', '1', ..., '1', '1', '1'], dtype='<U1'), array(['1', '1', '1', ..., '1', '1', '1'], dtype='<U1'), array(['1', '1', '1', ..., '1', '1', '1'], dtype='<U1'), array(['1', '1', '1', ..., '1', '1', '1'], dtype='<U1'), array(['1', '1', '1', ..., '1', '1', '1'], dtype='<U1'), array(['1', '1', '1', ..., '1', '1', '1'], dtype='<U1'), array(['1', '1', '1', ..., '1', '1', '1'], dtype='<U1'), array(['1', '1', '1', ..., '1', '1', '1'], dtype='<U1'), array(['1', '1', '1', ..., '1', '1', '1'], dtype='<U1'), array(['1', '1', '1', ..., '1', '1', '1'], dtype='<U1'), array(['1', '1', '1', ..., '1', '1', '1'], dtype='<U1'), array(['1', '1', '1', ..., '1', '1', '1'], dtype='<U1'), array(['1', '1', '1', ..., '1', '1', '1'], dtype='<U1'), array(['1', '1', '1', ..., '1', '1', '1'], dtype='<U1'), array(['1', '1', '1', ..., '1', '1', '1'], dtype='<U1'), array(['1', '1', '1', ..., '1', '1', '1'], dtype='<U1'), array(['7', '7', '7', ..., '7', '7', '7'], dtype='<U1'), array(['1', '1', '1', ..., '1', '1', '1'], dtype='<U1'), array(['1', '1', '1', ..., '1', '1', '1'], dtype='<U1'), array(['1', '1', '1', ..., '1', '1', '1'], dtype='<U1'), array(['1', '1', '1', ..., '1', '1', '1'], dtype='<U1'), array(['1', '1', '1', ..., '1', '1', '1'], dtype='<U1'), array(['1', '1', '1', ..., '1', '1', '1'], dtype='<U1'), array(['1', '1', '1', ..., '1', '1', '1'], dtype='<U1'), array(['1', '1', '1', ..., '1', '1', '1'], dtype='<U1'), array(['1', '1', '1', ..., '1', '1', '1'], dtype='<U1'), array(['1', '1', '1', ..., '1', '1', '1'], dtype='<U1'), array(['1', '1', '1', ..., '1', '1', '1'], dtype='<U1'), array(['1', '1', '1', ..., '1', '1', '1'], dtype='<U1'), array(['1', '1', '1', ..., '1', '1', '1'], dtype='<U1'), array(['7', '7', '7', ..., '7', '7', '7'], dtype='<U1'), array(['1', '1', '1', ..., '1', '1', '1'], dtype='<U1'), array(['1', '1', '1', ..., '1', '1', '1'], dtype='<U1'), array(['1', '1', '1', ..., '1', '1', '1'], dtype='<U1'), array(['1', '1', '1', ..., '1', '1', '1'], dtype='<U1')]\n",
      "\n",
      "\n",
      "[0.8860625363626553, 0.9653475437866877, 0.9732137577796728, 0.9677498795008812, 0.9779878721218538, 0.977325433840291, 0.9757285022531403, 0.9802652315684399, 0.9823720538261483, 0.980616711330976, 0.9819596258136534, 0.981369522766426, 0.9804537905711073, 0.9818333464348947, 0.979929065818881, 0.9786802488669677, 0.9755485279246103, 0.9800167344306223, 0.97936154847403, 0.9781086328564867, 0.9781796837151073, 0.9777016222247024, 0.9645375417156583, 0.9717444068215182, 0.9810042518883073, 0.9406833088407781, 0.95761463160282, 0.96918205834089, 0.9596228744233744, 0.9561791480506677, 0.9208181753656091, 0.8407609294260296, 0.8509544259524418, 0.8998148949424201, 0.8580730420391637, 0.9467310220659375, 0.7643440638607496, 0.8597354681115503, 0.8194555408338587, 0.5969459363910169, 0.8066277846302274, 0.7024758231517106, 0.697425587424578, 0.6559501229196881, 0.7568845400772231, 0.7523019787955241, 0.6973582127843821, 0.8523148859438241, 0.1, 0.1, 0.7909781284733705, 0.6755909670085481, 0.1, 0.1, 0.1, 0.1, 0.1, 0.1, 0.1, 0.1, 0.1, 0.1, 0.1, 0.1, 0.1, 0.1, 0.1, 0.1, 0.1, 0.1, 0.1, 0.1, 0.1, 0.1, 0.1, 0.1, 0.1, 0.1, 0.1, 0.1, 0.1, 0.1, 0.1, 0.1, 0.1, 0.1, 0.1, 0.1, 0.1, 0.1, 0.1, 0.1, 0.1, 0.1, 0.1, 0.1, 0.1, 0.1, 0.1, 0.1]\n",
      "\n",
      "\n",
      "[0.11223809523809525, 0.03414285714285714, 0.026761904761904765, 0.0320476190476191, 0.021714285714285686, 0.022428571428571464, 0.023952380952380947, 0.019714285714285684, 0.01757142857142857, 0.01928571428571424, 0.018000000000000016, 0.018523809523809498, 0.0195238095238095, 0.017952380952380942, 0.020047619047619092, 0.021047619047619093, 0.023809523809523836, 0.019809523809523832, 0.020666666666666722, 0.0215238095238095, 0.02176190476190476, 0.022095238095238057, 0.03523809523809529, 0.02780952380952384, 0.018857142857142906, 0.05814285714285716, 0.04180952380952385, 0.030380952380952397, 0.0397142857142857, 0.04323809523809519, 0.07923809523809522, 0.16042857142857148, 0.14761904761904765, 0.09733333333333338, 0.1398571428571429, 0.05252380952380953, 0.22723809523809524, 0.1391904761904762, 0.17880952380952386, 0.39714285714285713, 0.18747619047619046, 0.29714285714285715, 0.29928571428571427, 0.33452380952380956, 0.23776190476190473, 0.23804761904761906, 0.2975714285714286, 0.1450476190476191, 0.8855238095238095, 0.8855238095238095, 0.20547619047619048, 0.3174285714285714, 0.8855238095238095, 0.8855238095238095, 0.8855238095238095, 0.8855238095238095, 0.8855238095238095, 0.8855238095238095, 0.8855238095238095, 0.8855238095238095, 0.8855238095238095, 0.8962857142857142, 0.8855238095238095, 0.8855238095238095, 0.8855238095238095, 0.8855238095238095, 0.8855238095238095, 0.8855238095238095, 0.8855238095238095, 0.8855238095238095, 0.8855238095238095, 0.8855238095238095, 0.8855238095238095, 0.8855238095238095, 0.8855238095238095, 0.8855238095238095, 0.8855238095238095, 0.8855238095238095, 0.8855238095238095, 0.8855238095238095, 0.8855238095238095, 0.8962857142857142, 0.8855238095238095, 0.8855238095238095, 0.8855238095238095, 0.8855238095238095, 0.8855238095238095, 0.8855238095238095, 0.8855238095238095, 0.8855238095238095, 0.8855238095238095, 0.8855238095238095, 0.8855238095238095, 0.8855238095238095, 0.8855238095238095, 0.8962857142857142, 0.8855238095238095, 0.8855238095238095, 0.8855238095238095, 0.8855238095238095]\n"
     ]
    }
   ],
   "source": [
    "print(ScoreResult)\n",
    "print(\"\\n\")\n",
    "print(PredResult)\n",
    "print(\"\\n\")\n",
    "print(RecallResult)\n",
    "print(\"\\n\")\n",
    "print(LossResult)"
   ]
  },
  {
   "cell_type": "code",
   "execution_count": 23,
   "metadata": {},
   "outputs": [
    {
     "name": "stdout",
     "output_type": "stream",
     "text": [
      "<class 'list'>\n"
     ]
    }
   ],
   "source": [
    "print(type(PredResult))\n",
    "newPredResult = (np.array(PredResult))\n"
   ]
  },
  {
   "cell_type": "markdown",
   "metadata": {},
   "source": [
    "> Visualizing this results :"
   ]
  },
  {
   "cell_type": "code",
   "execution_count": 26,
   "metadata": {},
   "outputs": [
    {
     "data": {
      "text/plain": [
       "Text(0, 0.5, 'Zero-to-one Loss')"
      ]
     },
     "execution_count": 26,
     "metadata": {},
     "output_type": "execute_result"
    },
    {
     "data": {
      "image/png": "[encoded data removed]",
      "text/plain": [
       "<Figure size 720x720 with 4 Axes>"
      ]
     },
     "metadata": {
      "needs_background": "light"
     },
     "output_type": "display_data"
    }
   ],
   "source": [
    "import matplotlib.pyplot as plt\n",
    "\n",
    "\n",
    "fig, axarr = plt.subplots(4, sharex=True, figsize=(10,10))\n",
    "axarr[0].plot(range(100), ScoreResult)\n",
    "axarr[0].set_title('Number of hidden layers from 1 to 99')\n",
    "axarr[0].set_ylabel('Score')\n",
    "# axarr[1].plot(range(100), newPredResult)\n",
    "axarr[1].set_ylabel('Precision')\n",
    "axarr[2].plot(range(100), RecallResult)\n",
    "axarr[2].set_ylabel('Recall')\n",
    "axarr[3].plot(range(100), LossResult)\n",
    "axarr[3].set_ylabel('Zero-to-one Loss')\n"
   ]
  },
  {
   "cell_type": "markdown",
   "metadata": {},
   "source": [
    "* 5 MLP MNIST Models : "
   ]
  },
  {
   "cell_type": "markdown",
   "metadata": {},
   "source": [
    "> With 1 to 100 layers and 10 to 300 neurals !!"
   ]
  },
  {
   "cell_type": "markdown",
   "metadata": {},
   "source": [
    "> Here we choice randomly our clf :"
   ]
  },
  {
   "cell_type": "code",
   "execution_count": 6,
   "metadata": {},
   "outputs": [],
   "source": [
    "# 1 layer, max neurals\n",
    "clf1 = MLPClassifier(hidden_layer_sizes=(300))\n",
    "# 3 layers, random neurals\n",
    "clf3 = MLPClassifier(hidden_layer_sizes=(20, 200, 50))\n",
    "# 5 layers, gaussien neurals\n",
    "clf5 = MLPClassifier(hidden_layer_sizes=(50, 100, 200, 100, 50))\n",
    "# 7 layers, desin neurals :\n",
    "clf7 = MLPClassifier(hidden_layer_sizes=(300, 250, 200, 150, 100, 50, 10))\n",
    "# 9 layers, increase neurals :\n",
    "clf9 = MLPClassifier(hidden_layer_sizes=(30, 60, 90, 120, 150, 180, 210, 240, 270))\n"
   ]
  },
  {
   "cell_type": "code",
   "execution_count": 8,
   "metadata": {},
   "outputs": [],
   "source": [
    "ClassifierList = (\"clf1\", \"clf3\",\"clf5\", \"clf7\", \"clf9\")\n",
    "\n",
    "Score =[]\n",
    "Precision = []\n",
    "Recall = []\n",
    "Loss = []\n",
    "TimeTraining = []\n",
    "TimePrediction = []\n",
    "\n",
    "def runClfs(clf, i):\n",
    "\n",
    "    #Training :\n",
    "    startTrain =time.time()\n",
    "    clf.fit(xtrain, ytrain)\n",
    "    endTrain = time.time()\n",
    "\n",
    "    #Prediction :\n",
    "    startpred= time.time()\n",
    "    predict = clf.predict(xtest)\n",
    "    endpred = time.time()\n",
    "\n",
    "    #Metrics :\n",
    "    score = clf.score(xtest,ytest)\n",
    "    precision =  metrics.precision_score(ytest, predict,  average='macro')\n",
    "    recall = metrics.recall_score(ytest, predict, average ='macro')\n",
    "    loss01 = metrics.zero_one_loss(ytest, predict)\n",
    "    timetrain = endTrain - startTrain\n",
    "    timePred = endpred - startpred\n",
    "\n",
    "    #Saving results\n",
    "    Score.append(score*100)\n",
    "    Precision.append(precision*100)\n",
    "    Recall.append(recall)\n",
    "    Loss.append(loss01)\n",
    "    TimePrediction.append(timePred)\n",
    "    TimeTraining.append(timetrain)\n",
    "\n",
    "    #Prints :\n",
    "    print(\"For the\", i,\" model we have, score = \", score*100, \"%, precision =\",precision*100, \"%.\" )\n",
    "    print(\"   Training's time = \", timetrain, \"(s) and prediction's time = \", timePred, \"(s).\" )\n",
    "    \n",
    "\n"
   ]
  },
  {
   "cell_type": "code",
   "execution_count": 29,
   "metadata": {},
   "outputs": [
    {
     "name": "stdout",
     "output_type": "stream",
     "text": [
      "For the 1  model we have, score =  97.9904761904762 %, precision = 97.96202151046141 %.\n",
      "   Training's time =  321.85036849975586 (s) and prediction's time =  0.5119163990020752 (s).\n"
     ]
    }
   ],
   "source": [
    "# Testing :\n",
    "runClfs(clf1, 1)\n"
   ]
  },
  {
   "cell_type": "code",
   "execution_count": 30,
   "metadata": {},
   "outputs": [
    {
     "name": "stdout",
     "output_type": "stream",
     "text": [
      "For the 2  model we have, score =  96.47142857142858 %, precision = 96.42963987626129 %.\n",
      "   Training's time =  397.9223074913025 (s) and prediction's time =  32.40092945098877 (s).\n"
     ]
    }
   ],
   "source": [
    "runClfs(clf3, 2)\n"
   ]
  },
  {
   "cell_type": "code",
   "execution_count": 31,
   "metadata": {},
   "outputs": [
    {
     "name": "stdout",
     "output_type": "stream",
     "text": [
      "For the 3  model we have, score =  97.68571428571428 %, precision = 97.66047692912365 %.\n",
      "   Training's time =  172.29315209388733 (s) and prediction's time =  0.49903249740600586 (s).\n"
     ]
    }
   ],
   "source": [
    "runClfs(clf5, 3)\n"
   ]
  },
  {
   "cell_type": "code",
   "execution_count": 34,
   "metadata": {},
   "outputs": [
    {
     "name": "stderr",
     "output_type": "stream",
     "text": [
      "C:\\Users\\Said\\AppData\\Local\\Programs\\Python\\Python39\\lib\\site-packages\\sklearn\\metrics\\_classification.py:1248: UndefinedMetricWarning: Precision is ill-defined and being set to 0.0 in labels with no predicted samples. Use `zero_division` parameter to control this behavior.\n",
      "  _warn_prf(average, modifier, msg_start, len(result))\n"
     ]
    },
    {
     "name": "stdout",
     "output_type": "stream",
     "text": [
      "For the 4  model we have, score =  11.447619047619048 %, precision = 1.1447619047619049 %.\n",
      "   Training's time =  724.2465023994446 (s) and prediction's time =  29.00931715965271 (s).\n"
     ]
    }
   ],
   "source": [
    "runClfs(clf7, 4)\n"
   ]
  },
  {
   "cell_type": "code",
   "execution_count": 35,
   "metadata": {},
   "outputs": [
    {
     "name": "stdout",
     "output_type": "stream",
     "text": [
      "For the 5  model we have, score =  97.70952380952382 %, precision = 97.70771656050788 %.\n",
      "   Training's time =  744.4960463047028 (s) and prediction's time =  1.2009308338165283 (s).\n"
     ]
    }
   ],
   "source": [
    "runClfs(clf9, 5)"
   ]
  },
  {
   "cell_type": "markdown",
   "metadata": {},
   "source": [
    "> showing thne results :"
   ]
  },
  {
   "cell_type": "code",
   "execution_count": 36,
   "metadata": {},
   "outputs": [
    {
     "name": "stdout",
     "output_type": "stream",
     "text": [
      "[98.43333333333332, 97.9904761904762, 96.47142857142858, 97.68571428571428, 11.447619047619048, 97.70952380952382]\n",
      "[98.43507394997906, 97.96202151046141, 96.42963987626129, 97.66047692912365, 1.1447619047619049, 97.70771656050788]\n",
      "[0.984086347234296, 0.9799160592502973, 0.9644925857184928, 0.9767746518046099, 0.1, 0.9767921185344012]\n",
      "[0.015666666666666718, 0.020095238095238055, 0.035285714285714254, 0.02314285714285713, 0.8855238095238095, 0.022904761904761872]\n",
      "[587.130660533905, 321.85036849975586, 397.9223074913025, 172.29315209388733, 724.2465023994446, 744.4960463047028]\n",
      "[26.04603862762451, 0.5119163990020752, 32.40092945098877, 0.49903249740600586, 29.00931715965271, 1.2009308338165283]\n"
     ]
    }
   ],
   "source": [
    "print(Score)\n",
    "print(Precision)\n",
    "print(Recall)\n",
    "print(Loss)\n",
    "print(TimeTraining)\n",
    "print(TimePrediction)"
   ]
  },
  {
   "cell_type": "markdown",
   "metadata": {},
   "source": [
    "> Visualizing this results :"
   ]
  },
  {
   "cell_type": "code",
   "execution_count": 44,
   "metadata": {},
   "outputs": [
    {
     "data": {
      "image/png": "[encoded data removed]",
      "text/plain": [
       "<Figure size 720x720 with 6 Axes>"
      ]
     },
     "metadata": {
      "needs_background": "light"
     },
     "output_type": "display_data"
    }
   ],
   "source": [
    "import matplotlib.pyplot as plt\n",
    "\n",
    "fig, axarr = plt.subplots(6, sharex=True, figsize=(10,10))\n",
    "axarr[0].scatter(range(6), Score, c='orange')\n",
    "axarr[0].set_title('The five classifiers with respectively 1,3,5,7,9 hidden layers')\n",
    "axarr[0].set_ylabel('Score (%)')\n",
    "axarr[1].scatter(range(6), Precision, c='red')\n",
    "axarr[1].set_ylabel('Precision (%)')\n",
    "axarr[2].scatter(range(6), Recall, c='yellow')\n",
    "axarr[2].set_ylabel('Recall ')\n",
    "axarr[3].scatter(range(6), Loss, c='blue')\n",
    "axarr[3].set_ylabel('Zero-to-one Loss')\n",
    "axarr[4].scatter(range(6), TimeTraining, c='pink')\n",
    "axarr[4].set_ylabel('Training Time (s)')\n",
    "axarr[5].scatter(range(6), TimePrediction, c='purple')\n",
    "axarr[5].set_ylabel('¨Prediction Time (s)')\n",
    "\n",
    "plt.show()"
   ]
  },
  {
   "cell_type": "markdown",
   "metadata": {},
   "source": [
    "* Study the convergence of the available optimization algorithms: `L-BFGS`, `SGD` and `Adam` "
   ]
  },
  {
   "cell_type": "markdown",
   "metadata": {},
   "source": [
    "> LBFGS :  an optimizer in the family of quasi-Newton methods.. <br />\n",
    "> SGD : stochastic gradient descent.. <br />\n",
    "> ADAM : a stochastic gradient-based optimizer proposed by Kingma, Diederik, and Jimmy Ba.."
   ]
  },
  {
   "cell_type": "code",
   "execution_count": 9,
   "metadata": {},
   "outputs": [],
   "source": [
    "# Our tuples (<==> i layer(s) with a random number of neurals) :\n",
    "t1 = (30)\n",
    "t3 = (20, 200, 50)\n",
    "t5 = (50, 100, 200, 100, 50)\n",
    "t7 = (300, 250, 200, 150, 100, 50, 10)\n",
    "t9 = (30, 60, 90, 120, 150, 180, 210, 240, 270)"
   ]
  },
  {
   "cell_type": "code",
   "execution_count": 10,
   "metadata": {},
   "outputs": [],
   "source": [
    "TotalScore = []\n",
    "TotalPrecision = []\n",
    "TotalRecall = []\n",
    "TotalLoss = []\n",
    "TotalTrainingTime =[]\n",
    "TotalPredictionTime = []"
   ]
  },
  {
   "cell_type": "code",
   "execution_count": 17,
   "metadata": {},
   "outputs": [],
   "source": [
    "def trySolver(tuple, solv, i):\n",
    "\n",
    "    #Training :\n",
    "    clf = MLPClassifier(hidden_layer_sizes = tuple, solver = solv)\n",
    "    start1 = time.time()\n",
    "    clf.fit(xtrain, ytrain)\n",
    "    end1 = time.time()\n",
    "\n",
    "    #Prediction :\n",
    "    start2 = time.time()\n",
    "    prediction = clf.predict(xtest)\n",
    "    end2 = time.time()\n",
    "\n",
    "    #Metrics :\n",
    "    score = clf.score(xtest, ytest)\n",
    "    precision = metrics.precision_score(ytest, prediction, average = 'macro')\n",
    "    recall = metrics.zero_one_loss(ytest, prediction)\n",
    "    loss0_1 = metrics.zero_one_loss(ytest, prediction)\n",
    "\n",
    "    trainingTime = end1 - start1\n",
    "    predictionTime = end2 - start2\n",
    "\n",
    "    #Saving reults :\n",
    "    TotalScore.append(score)\n",
    "    TotalPrecision.append(precision)\n",
    "    TotalRecall.append(recall)\n",
    "    TotalLoss.append(loss0_1)\n",
    "    TotalTrainingTime.append(trainingTime)\n",
    "    TotalPredictionTime.append(predictionTime)\n",
    "\n",
    "    # Printing results :\n",
    "    print(\"For the Solver :: \", solv)\n",
    "    print(\"for the \", i, \"model we have, a score = \", score * 100, \"%, precision = \", precision * 100, \"%, training's time = \", trainingTime, \"and a prediction's time = \", predictionTime, \" .\")\n",
    "    \n",
    "\n"
   ]
  },
  {
   "cell_type": "markdown",
   "metadata": {},
   "source": [
    "> Testing :"
   ]
  },
  {
   "cell_type": "code",
   "execution_count": 18,
   "metadata": {},
   "outputs": [
    {
     "name": "stderr",
     "output_type": "stream",
     "text": [
      "C:\\Users\\Said\\AppData\\Local\\Programs\\Python\\Python39\\lib\\site-packages\\sklearn\\neural_network\\_multilayer_perceptron.py:500: ConvergenceWarning: lbfgs failed to converge (status=1):\n",
      "STOP: TOTAL NO. of ITERATIONS REACHED LIMIT.\n",
      "\n",
      "Increase the number of iterations (max_iter) or scale the data as shown in:\n",
      "    https://scikit-learn.org/stable/modules/preprocessing.html\n",
      "  self.n_iter_ = _check_optimize_result(\"lbfgs\", opt_res, self.max_iter)\n"
     ]
    },
    {
     "name": "stdout",
     "output_type": "stream",
     "text": [
      "For the Solver ::  lbfgs\n",
      "for the  1 model we have, a score =  79.0904761904762 %, precision =  79.05176930732128 %, training's time =  196.32854986190796 and a prediction's time =  0.7764620780944824  .\n",
      "For the Solver ::  sgd\n",
      "for the  1 model we have, a score =  87.71904761904761 %, precision =  87.67929165063524 %, training's time =  192.07735395431519 and a prediction's time =  1.7416398525238037  .\n",
      "For the Solver ::  adam\n",
      "for the  1 model we have, a score =  95.70476190476191 %, precision =  95.72408289235105 %, training's time =  358.43832993507385 and a prediction's time =  0.3560059070587158  .\n"
     ]
    }
   ],
   "source": [
    "for j in ('lbfgs', 'sgd', 'adam'):\n",
    "    trySolver(t1, j, 1)\n"
   ]
  },
  {
   "cell_type": "code",
   "execution_count": 19,
   "metadata": {},
   "outputs": [
    {
     "name": "stderr",
     "output_type": "stream",
     "text": [
      "C:\\Users\\Said\\AppData\\Local\\Programs\\Python\\Python39\\lib\\site-packages\\sklearn\\neural_network\\_multilayer_perceptron.py:500: ConvergenceWarning: lbfgs failed to converge (status=1):\n",
      "STOP: TOTAL NO. of ITERATIONS REACHED LIMIT.\n",
      "\n",
      "Increase the number of iterations (max_iter) or scale the data as shown in:\n",
      "    https://scikit-learn.org/stable/modules/preprocessing.html\n",
      "  self.n_iter_ = _check_optimize_result(\"lbfgs\", opt_res, self.max_iter)\n"
     ]
    },
    {
     "name": "stdout",
     "output_type": "stream",
     "text": [
      "For the Solver ::  lbfgs\n",
      "for the  2 model we have, a score =  70.54761904761905 %, precision =  71.51353863066959 %, training's time =  333.0212616920471 and a prediction's time =  0.4140033721923828  .\n"
     ]
    },
    {
     "name": "stderr",
     "output_type": "stream",
     "text": [
      "C:\\Users\\Said\\AppData\\Local\\Programs\\Python\\Python39\\lib\\site-packages\\sklearn\\neural_network\\_multilayer_perceptron.py:614: ConvergenceWarning: Stochastic Optimizer: Maximum iterations (200) reached and the optimization hasn't converged yet.\n",
      "  warnings.warn(\n"
     ]
    },
    {
     "name": "stdout",
     "output_type": "stream",
     "text": [
      "For the Solver ::  sgd\n",
      "for the  2 model we have, a score =  90.9952380952381 %, precision =  90.92315838999433 %, training's time =  591.2617228031158 and a prediction's time =  10.417722702026367  .\n",
      "For the Solver ::  adam\n",
      "for the  2 model we have, a score =  97.18095238095238 %, precision =  97.14989516014272 %, training's time =  448.864266872406 and a prediction's time =  29.996471643447876  .\n"
     ]
    }
   ],
   "source": [
    "for j in ('lbfgs', 'sgd', 'adam'):\n",
    "    trySolver(t3, j, 2)\n"
   ]
  },
  {
   "cell_type": "code",
   "execution_count": 20,
   "metadata": {},
   "outputs": [
    {
     "name": "stderr",
     "output_type": "stream",
     "text": [
      "C:\\Users\\Said\\AppData\\Local\\Programs\\Python\\Python39\\lib\\site-packages\\sklearn\\neural_network\\_multilayer_perceptron.py:500: ConvergenceWarning: lbfgs failed to converge (status=1):\n",
      "STOP: TOTAL NO. of ITERATIONS REACHED LIMIT.\n",
      "\n",
      "Increase the number of iterations (max_iter) or scale the data as shown in:\n",
      "    https://scikit-learn.org/stable/modules/preprocessing.html\n",
      "  self.n_iter_ = _check_optimize_result(\"lbfgs\", opt_res, self.max_iter)\n"
     ]
    },
    {
     "name": "stdout",
     "output_type": "stream",
     "text": [
      "For the Solver ::  lbfgs\n",
      "for the  3 model we have, a score =  97.83333333333334 %, precision =  97.81346958485389 %, training's time =  844.8463888168335 and a prediction's time =  43.120851039886475  .\n",
      "For the Solver ::  sgd\n",
      "for the  3 model we have, a score =  97.43333333333334 %, precision =  97.39703236171144 %, training's time =  715.48588514328 and a prediction's time =  16.42468571662903  .\n",
      "For the Solver ::  adam\n",
      "for the  3 model we have, a score =  97.90952380952382 %, precision =  97.90165701353841 %, training's time =  182.7492082118988 and a prediction's time =  0.4644899368286133  .\n"
     ]
    }
   ],
   "source": [
    "for j in ('lbfgs', 'sgd', 'adam'):\n",
    "    trySolver(t5, j, 3)\n"
   ]
  },
  {
   "cell_type": "code",
   "execution_count": 21,
   "metadata": {},
   "outputs": [
    {
     "name": "stderr",
     "output_type": "stream",
     "text": [
      "C:\\Users\\Said\\AppData\\Local\\Programs\\Python\\Python39\\lib\\site-packages\\sklearn\\neural_network\\_multilayer_perceptron.py:500: ConvergenceWarning: lbfgs failed to converge (status=1):\n",
      "STOP: TOTAL NO. of ITERATIONS REACHED LIMIT.\n",
      "\n",
      "Increase the number of iterations (max_iter) or scale the data as shown in:\n",
      "    https://scikit-learn.org/stable/modules/preprocessing.html\n",
      "  self.n_iter_ = _check_optimize_result(\"lbfgs\", opt_res, self.max_iter)\n"
     ]
    },
    {
     "name": "stdout",
     "output_type": "stream",
     "text": [
      "For the Solver ::  lbfgs\n",
      "for the  4 model we have, a score =  98.02380952380952 %, precision =  97.99412682566141 %, training's time =  1593.3813166618347 and a prediction's time =  53.12957978248596  .\n"
     ]
    },
    {
     "name": "stderr",
     "output_type": "stream",
     "text": [
      "C:\\Users\\Said\\AppData\\Local\\Programs\\Python\\Python39\\lib\\site-packages\\sklearn\\metrics\\_classification.py:1248: UndefinedMetricWarning: Precision is ill-defined and being set to 0.0 in labels with no predicted samples. Use `zero_division` parameter to control this behavior.\n",
      "  _warn_prf(average, modifier, msg_start, len(result))\n"
     ]
    },
    {
     "name": "stdout",
     "output_type": "stream",
     "text": [
      "For the Solver ::  sgd\n",
      "for the  4 model we have, a score =  11.014285714285714 %, precision =  1.1014285714285714 %, training's time =  273.30187225341797 and a prediction's time =  0.9999816417694092  .\n"
     ]
    },
    {
     "name": "stderr",
     "output_type": "stream",
     "text": [
      "C:\\Users\\Said\\AppData\\Local\\Programs\\Python\\Python39\\lib\\site-packages\\sklearn\\metrics\\_classification.py:1248: UndefinedMetricWarning: Precision is ill-defined and being set to 0.0 in labels with no predicted samples. Use `zero_division` parameter to control this behavior.\n",
      "  _warn_prf(average, modifier, msg_start, len(result))\n"
     ]
    },
    {
     "name": "stdout",
     "output_type": "stream",
     "text": [
      "For the Solver ::  adam\n",
      "for the  4 model we have, a score =  11.014285714285714 %, precision =  1.1014285714285714 %, training's time =  243.5453577041626 and a prediction's time =  1.0197246074676514  .\n"
     ]
    }
   ],
   "source": [
    "for j in ('lbfgs', 'sgd', 'adam'):\n",
    "    trySolver(t7, j, 4)\n"
   ]
  },
  {
   "cell_type": "code",
   "execution_count": 22,
   "metadata": {},
   "outputs": [
    {
     "name": "stderr",
     "output_type": "stream",
     "text": [
      "C:\\Users\\Said\\AppData\\Local\\Programs\\Python\\Python39\\lib\\site-packages\\sklearn\\neural_network\\_multilayer_perceptron.py:500: ConvergenceWarning: lbfgs failed to converge (status=1):\n",
      "STOP: TOTAL NO. of ITERATIONS REACHED LIMIT.\n",
      "\n",
      "Increase the number of iterations (max_iter) or scale the data as shown in:\n",
      "    https://scikit-learn.org/stable/modules/preprocessing.html\n",
      "  self.n_iter_ = _check_optimize_result(\"lbfgs\", opt_res, self.max_iter)\n"
     ]
    },
    {
     "name": "stdout",
     "output_type": "stream",
     "text": [
      "For the Solver ::  lbfgs\n",
      "for the  5 model we have, a score =  96.87142857142858 %, precision =  96.83860701567495 %, training's time =  1294.8211524486542 and a prediction's time =  46.234375953674316  .\n",
      "For the Solver ::  sgd\n",
      "for the  5 model we have, a score =  98.03809523809524 %, precision =  98.01561148579691 %, training's time =  458.9907810688019 and a prediction's time =  1.078120231628418  .\n",
      "For the Solver ::  adam\n",
      "for the  5 model we have, a score =  97.4952380952381 %, precision =  97.48111659713649 %, training's time =  701.2395927906036 and a prediction's time =  1.063002109527588  .\n"
     ]
    }
   ],
   "source": [
    "for j in ('lbfgs', 'sgd', 'adam'):\n",
    "    trySolver(t9, j, 5)"
   ]
  },
  {
   "cell_type": "markdown",
   "metadata": {},
   "source": [
    "> Showing this results :"
   ]
  },
  {
   "cell_type": "code",
   "execution_count": 23,
   "metadata": {},
   "outputs": [
    {
     "name": "stdout",
     "output_type": "stream",
     "text": [
      "[0.7909047619047619, 0.8771904761904762, 0.957047619047619, 0.7054761904761905, 0.909952380952381, 0.9718095238095238, 0.9783333333333334, 0.9743333333333334, 0.9790952380952381, 0.9802380952380952, 0.11014285714285714, 0.11014285714285714, 0.9687142857142857, 0.9803809523809524, 0.9749523809523809]\n",
      "[0.7905176930732128, 0.8767929165063524, 0.9572408289235105, 0.7151353863066958, 0.9092315838999433, 0.9714989516014272, 0.978134695848539, 0.9739703236171143, 0.9790165701353841, 0.9799412682566141, 0.011014285714285714, 0.011014285714285714, 0.9683860701567495, 0.9801561148579692, 0.9748111659713649]\n",
      "[0.2090952380952381, 0.12280952380952381, 0.042952380952380964, 0.2945238095238095, 0.09004761904761904, 0.02819047619047621, 0.021666666666666612, 0.025666666666666615, 0.02090476190476187, 0.01976190476190476, 0.8898571428571429, 0.8898571428571429, 0.03128571428571425, 0.019619047619047647, 0.025047619047619096]\n",
      "[0.2090952380952381, 0.12280952380952381, 0.042952380952380964, 0.2945238095238095, 0.09004761904761904, 0.02819047619047621, 0.021666666666666612, 0.025666666666666615, 0.02090476190476187, 0.01976190476190476, 0.8898571428571429, 0.8898571428571429, 0.03128571428571425, 0.019619047619047647, 0.025047619047619096]\n",
      "[196.32854986190796, 192.07735395431519, 358.43832993507385, 333.0212616920471, 591.2617228031158, 448.864266872406, 844.8463888168335, 715.48588514328, 182.7492082118988, 1593.3813166618347, 273.30187225341797, 243.5453577041626, 1294.8211524486542, 458.9907810688019, 701.2395927906036]\n",
      "[0.7764620780944824, 1.7416398525238037, 0.3560059070587158, 0.4140033721923828, 10.417722702026367, 29.996471643447876, 43.120851039886475, 16.42468571662903, 0.4644899368286133, 53.12957978248596, 0.9999816417694092, 1.0197246074676514, 46.234375953674316, 1.078120231628418, 1.063002109527588]\n"
     ]
    }
   ],
   "source": [
    "print(TotalScore)\n",
    "print(TotalPrecision)\n",
    "print(TotalRecall)\n",
    "print(TotalLoss)\n",
    "print(TotalTrainingTime)\n",
    "print(TotalPredictionTime)"
   ]
  },
  {
   "cell_type": "markdown",
   "metadata": {},
   "source": [
    "* Visualiziing this results :"
   ]
  },
  {
   "cell_type": "code",
   "execution_count": 26,
   "metadata": {},
   "outputs": [
    {
     "data": {
      "image/png": "[encoded data removed]",
      "text/plain": [
       "<Figure size 720x720 with 6 Axes>"
      ]
     },
     "metadata": {
      "needs_background": "light"
     },
     "output_type": "display_data"
    }
   ],
   "source": [
    "fig, axarr = plt.subplots(6, sharex=True, figsize=(10,10))\n",
    "\n",
    "axarr[0].scatter(range(15), TotalScore, c='red')\n",
    "axarr[0].set_title('The five classifiers with 3 training methods : <lbfgs>, <sgd>, <adam>')\n",
    "axarr[0].set_ylabel('Score (%)')\n",
    "axarr[1].scatter(range(15), TotalPrecision, c='blue')\n",
    "axarr[1].set_ylabel('Precision (%)')\n",
    "axarr[2].scatter(range(15), TotalRecall, c='orange')\n",
    "axarr[2].set_ylabel('Recall ')\n",
    "axarr[3].scatter(range(15), TotalRecall, c='purple')\n",
    "axarr[3].set_ylabel('Zero-to-one Loss')\n",
    "axarr[4].scatter(range(15), TotalTrainingTime, c='yellow')\n",
    "axarr[4].set_ylabel('Training Time (s)')\n",
    "axarr[5].scatter(range(15), TotalPredictionTime)\n",
    "axarr[5].set_ylabel('¨Prediction Time (s)')\n",
    "\n",
    "plt.show()"
   ]
  },
  {
   "cell_type": "markdown",
   "metadata": {},
   "source": [
    "* Variation of the Activation function :"
   ]
  },
  {
   "cell_type": "code",
   "execution_count": 27,
   "metadata": {},
   "outputs": [],
   "source": [
    "TotalScore2 = []\n",
    "TotalPrecision2 = []\n",
    "TotalRecall2 = []\n",
    "TotalLoss2 = []\n",
    "TotalTrainingTime2 =[]\n",
    "TotalPredictionTime2 = []"
   ]
  },
  {
   "cell_type": "code",
   "execution_count": 28,
   "metadata": {},
   "outputs": [],
   "source": [
    "def trySomeActivationFcts(t, activation ,i) :\n",
    "    #Training :\n",
    "    clf = MLPClassifier(hidden_layer_sizes = t, activation = activation)\n",
    "    start1 = time.time()\n",
    "    clf.fit(xtrain, ytrain)\n",
    "    end1= time.time()\n",
    "\n",
    "    #Prediction :\n",
    "    start2 = time.time()\n",
    "    prediction = clf.predict(xtest)\n",
    "    end2 = time.time()\n",
    "\n",
    "    #Metrics :\n",
    "    score = clf.score(xtest, ytest)\n",
    "    precision = metrics.precision_score(ytest, prediction, average='macro')\n",
    "    recall = metrics.recall_score(ytest, prediction, average='macro')\n",
    "    loss0_1 = metrics.zero_one_loss(ytest, prediction)\n",
    "\n",
    "    trainingT = end1 - start1\n",
    "    predictionT = end2 - start2\n",
    "\n",
    "    # Saving the results :\n",
    "    TotalScore2.append(score)\n",
    "    TotalPrecision2.append(precision)\n",
    "    TotalRecall2.append(recall)\n",
    "    TotalLoss2.append(loss0_1)\n",
    "    TotalTrainingTime2.append(trainingT)\n",
    "    TotalPredictionTime2.append(predictionT)\n",
    "\n",
    "    #Print the results :\n",
    "    print(\"For the activation function : \", activation)\n",
    "    print(\"for the, \", i, \" model, the score = \",score * 100, \"%, precision = \", precision * 100, \"%, training'time = \", trainingT, \"(s) and the prediction's time is = \", predictionT, \" (s).\")\n",
    "     \n"
   ]
  },
  {
   "cell_type": "markdown",
   "metadata": {},
   "source": [
    "> Testing :"
   ]
  },
  {
   "cell_type": "code",
   "execution_count": 29,
   "metadata": {},
   "outputs": [],
   "source": [
    "for j in ('identity', 'logistic', 'tanh', 'relu'):\n",
    "    trySomeActivationFcts(t1, j, 1)"
   ]
  },
  {
   "cell_type": "code",
   "execution_count": null,
   "metadata": {},
   "outputs": [],
   "source": [
    "for j in ('identity', 'logistic', 'tanh', 'relu'):\n",
    "    trySomeActivationFcts(t3, j, 2)"
   ]
  },
  {
   "cell_type": "code",
   "execution_count": null,
   "metadata": {},
   "outputs": [],
   "source": [
    "\n",
    "for j in ('identity', 'logistic', 'tanh', 'relu'):\n",
    "    trySomeActivationFcts(t5, j, 3)"
   ]
  },
  {
   "cell_type": "code",
   "execution_count": null,
   "metadata": {},
   "outputs": [],
   "source": [
    "\n",
    "for j in ('identity', 'logistic', 'tanh', 'relu'):\n",
    "    trySomeActivationFcts(t7, j, 4)"
   ]
  },
  {
   "cell_type": "code",
   "execution_count": null,
   "metadata": {},
   "outputs": [],
   "source": [
    "\n",
    "for j in ('identity', 'logistic', 'tanh', 'relu'):\n",
    "    trySomeActivationFcts(t9, j, 5)"
   ]
  },
  {
   "cell_type": "markdown",
   "metadata": {},
   "source": [
    "> Showing the results :"
   ]
  },
  {
   "cell_type": "code",
   "execution_count": null,
   "metadata": {},
   "outputs": [],
   "source": [
    "print(TotalScore2)\n",
    "print(TotalPrecision2)\n",
    "print(TotalRecall2)\n",
    "print(TotalLoss2)\n",
    "print(TotalTrainingTime2)\n",
    "print(TotalPredictionTime2)"
   ]
  },
  {
   "cell_type": "markdown",
   "metadata": {},
   "source": [
    "> Visualizing this reults :"
   ]
  },
  {
   "cell_type": "code",
   "execution_count": null,
   "metadata": {},
   "outputs": [],
   "source": [
    "fig, axarr = plt.subplots(6, sharex=True, figsize=(10,10))\n",
    "axarr[0].scatter(range(20), TotalScore2)\n",
    "axarr[0].set_title('The five classifiers with different activation functions : identity, logistic, tanh, relu')\n",
    "axarr[0].set_ylabel('Score (%)')\n",
    "axarr[1].scatter(range(20), TotalPrecision2)\n",
    "axarr[1].set_ylabel('Precision (%)')\n",
    "axarr[2].scatter(range(20), TotalRecall2)\n",
    "axarr[2].set_ylabel('Recall ')\n",
    "axarr[3].scatter(range(20), TotalLoss2)\n",
    "axarr[3].set_ylabel('Zero-to-one Loss')\n",
    "axarr[4].scatter(range(20), TotalTrainingTime2)\n",
    "axarr[4].set_ylabel('Training Time(s)')\n",
    "axarr[5].scatter(range(20), TotalPredictionTime2)\n",
    "axarr[5].set_ylabel('¨Prediction Time(s)')\n",
    "\n",
    "plt.show()"
   ]
  },
  {
   "cell_type": "markdown",
   "metadata": {},
   "source": [
    "* Variation of alpha (Regulisation value L2)"
   ]
  },
  {
   "cell_type": "code",
   "execution_count": null,
   "metadata": {},
   "outputs": [],
   "source": [
    "alphas = np.logspace(-5, 3, 5)\n",
    "FinalScore = []\n",
    "FinalPrecision = []\n"
   ]
  }
 ],
 "metadata": {
  "interpreter": {
   "hash": "67daac1ebf3b80a6e8e15acaf6535d9d72e4e060942990dc63fc0ef314051e9e"
  },
  "kernelspec": {
   "display_name": "Python 3.9.0 64-bit",
   "language": "python",
   "name": "python3"
  },
  "language_info": {
   "codemirror_mode": {
    "name": "ipython",
    "version": 3
   },
   "file_extension": ".py",
   "mimetype": "text/x-python",
   "name": "python",
   "nbconvert_exporter": "python",
   "pygments_lexer": "ipython3",
   "version": "3.9.0"
  },
  "orig_nbformat": 4
 },
 "nbformat": 4,
 "nbformat_minor": 2
}
