{
 "cells": [
  {
   "cell_type": "markdown",
   "metadata": {},
   "source": [
    "# Multi-layered Neural Network MPL "
   ]
  },
  {
   "cell_type": "code",
   "execution_count": 1,
   "metadata": {},
   "outputs": [],
   "source": [
    "# Imports :\n",
    "import matplotlib.pyplot as plt\n",
    "from sklearn.datasets import fetch_openml\n",
    "from sklearn.model_selection import train_test_split \n",
    "from sklearn.neural_network import MLPClassifier\n",
    "from sklearn import metrics\n",
    "import time\n",
    "import numpy as np"
   ]
  },
  {
   "cell_type": "markdown",
   "metadata": {},
   "source": [
    "* Dowloanding the MNIST dataset :"
   ]
  },
  {
   "cell_type": "code",
   "execution_count": 2,
   "metadata": {},
   "outputs": [],
   "source": [
    "mnist = fetch_openml('mnist_784', as_frame=False)"
   ]
  },
  {
   "cell_type": "markdown",
   "metadata": {},
   "source": [
    "* Randomise data & target :\n"
   ]
  },
  {
   "cell_type": "code",
   "execution_count": 3,
   "metadata": {},
   "outputs": [],
   "source": [
    "indices = np.random.randint(70000, size=70000)\n",
    "data = mnist.data[indices]\n",
    "target = mnist.target[indices]"
   ]
  },
  {
   "cell_type": "markdown",
   "metadata": {},
   "source": [
    "* data spliting :"
   ]
  },
  {
   "cell_type": "code",
   "execution_count": 4,
   "metadata": {},
   "outputs": [],
   "source": [
    "xtrain, xtest, ytrain, ytest =train_test_split(data, target, train_size=49000)"
   ]
  },
  {
   "cell_type": "markdown",
   "metadata": {},
   "source": [
    "* MLP with one Hidden Layer of 50 neurals :"
   ]
  },
  {
   "cell_type": "code",
   "execution_count": 5,
   "metadata": {},
   "outputs": [],
   "source": [
    "clf = MLPClassifier(hidden_layer_sizes=(50))\n",
    "\n",
    "clf.fit(xtrain, ytrain)\n",
    "prediction = clf.predict(xtest)\n",
    "score = clf.score(xtest, ytest)\n",
    "recall = metrics.recall_score(ytest, prediction, average = 'macro')\n",
    "precision = metrics.precision_score(ytest, prediction, average ='macro')\n",
    "loss0_1 = metrics.zero_one_loss(ytest, prediction)"
   ]
  },
  {
   "cell_type": "markdown",
   "metadata": {},
   "source": [
    "> N.B :\n",
    "***\n",
    " - for average = macro, we have : <br />\n",
    "        - Score = (TP + TN)/(TP+TN+FP+FN) <br />\n",
    "        - Précision = TP/(TP + FP)<br />\n",
    "        - Recall = TP/(TP+FN)<br />\n",
    "        - Zero one loss : standard loss function in classification (equivalent of squared error for regression)\n",
    " - for average = micro, it is the same thing."
   ]
  },
  {
   "cell_type": "markdown",
   "metadata": {},
   "source": [
    "* Test for the 4 image (prints):"
   ]
  },
  {
   "cell_type": "code",
   "execution_count": 6,
   "metadata": {},
   "outputs": [
    {
     "name": "stdout",
     "output_type": "stream",
     "text": [
      "This MLP model, with one layer of 50, has a score of :  96.86190476190475 %.\n",
      "4th image : Prediction  3 Vs  Reel :  3\n"
     ]
    },
    {
     "data": {
      "image/png": "[encoded data removed]",
      "text/plain": [
       "<Figure size 432x288 with 1 Axes>"
      ]
     },
     "metadata": {
      "needs_background": "light"
     },
     "output_type": "display_data"
    },
    {
     "name": "stdout",
     "output_type": "stream",
     "text": [
      "This MLP model has a precision of : 96.89259237993865 %.\n",
      "This MLP model has a recall of :  96.82576373252246 %.\n",
      "This MLP model has a zero-one_loss of : 96.82576373252246 %.\n"
     ]
    }
   ],
   "source": [
    "print(\"This MLP model, with one layer of 50, has a score of : \", score*100, \"%.\")\n",
    "print(\"4th image : Prediction \",prediction[3], \"Vs  Reel : \", ytest[3])\n",
    "\n",
    "# Showing the 4th predicted image:\n",
    "\n",
    "images = xtest.reshape((-1, 28, 28))\n",
    "plt.imshow(images[3],cmap=plt.cm.gray_r,interpolation=\"nearest\")\n",
    "plt.show()\n",
    "\n",
    "\n",
    "# Metrics :\n",
    "print (\"This MLP model has a precision of :\", precision*100, \"%.\")\n",
    "print (\"This MLP model has a recall of : \",recall*100, \"%.\")\n",
    "print (\"This MLP model has a zero-one_loss of :\",recall*100, \"%.\")"
   ]
  },
  {
   "cell_type": "markdown",
   "metadata": {},
   "source": [
    "* Variation of layers number from 2 to 100 :\n"
   ]
  },
  {
   "cell_type": "code",
   "execution_count": 7,
   "metadata": {},
   "outputs": [
    {
     "name": "stdout",
     "output_type": "stream",
     "text": [
      "For  0 hidden layer (s), The score =  90.39047619047619 % , Precision =  90.56956237697442 % ..\n",
      "For  1 hidden layer (s), The score =  96.55238095238096 % , Precision =  96.55607105478579 % ..\n",
      "For  2 hidden layer (s), The score =  97.56190476190476 % , Precision =  97.55711700782454 % ..\n",
      "For  3 hidden layer (s), The score =  97.71904761904761 % , Precision =  97.70299820311159 % ..\n",
      "For  4 hidden layer (s), The score =  97.82380952380953 % , Precision =  97.79773211437677 % ..\n",
      "For  5 hidden layer (s), The score =  97.83809523809524 % , Precision =  97.82022131319493 % ..\n",
      "For  6 hidden layer (s), The score =  97.90476190476191 % , Precision =  97.90791505727236 % ..\n",
      "For  7 hidden layer (s), The score =  97.76666666666667 % , Precision =  97.77281120556115 % ..\n",
      "For  8 hidden layer (s), The score =  98.19047619047619 % , Precision =  98.18351011869521 % ..\n",
      "For  9 hidden layer (s), The score =  97.96666666666667 % , Precision =  97.95790248368213 % ..\n",
      "For  10 hidden layer (s), The score =  98.0 % , Precision =  97.97354206788933 % ..\n",
      "For  11 hidden layer (s), The score =  98.25238095238096 % , Precision =  98.24473827724898 % ..\n",
      "For  12 hidden layer (s), The score =  98.31428571428572 % , Precision =  98.2983587060092 % ..\n",
      "For  13 hidden layer (s), The score =  98.0 % , Precision =  97.99451673237789 % ..\n",
      "For  14 hidden layer (s), The score =  98.14285714285714 % , Precision =  98.13098001272608 % ..\n",
      "For  15 hidden layer (s), The score =  97.88095238095238 % , Precision =  97.87318690695551 % ..\n",
      "For  16 hidden layer (s), The score =  98.21904761904761 % , Precision =  98.20727170147237 % ..\n",
      "For  17 hidden layer (s), The score =  98.17619047619047 % , Precision =  98.16542273714944 % ..\n",
      "For  18 hidden layer (s), The score =  98.38571428571429 % , Precision =  98.3757936464284 % ..\n",
      "For  19 hidden layer (s), The score =  98.33333333333333 % , Precision =  98.32216907876806 % ..\n",
      "For  20 hidden layer (s), The score =  98.31904761904762 % , Precision =  98.29505897245929 % ..\n",
      "For  21 hidden layer (s), The score =  97.9952380952381 % , Precision =  97.9799754827355 % ..\n",
      "For  22 hidden layer (s), The score =  97.90952380952382 % , Precision =  97.94246008386402 % ..\n",
      "For  23 hidden layer (s), The score =  98.03333333333333 % , Precision =  98.03844828036506 % ..\n",
      "For  24 hidden layer (s), The score =  98.19047619047619 % , Precision =  98.18465324996502 % ..\n",
      "For  25 hidden layer (s), The score =  96.61904761904762 % , Precision =  96.64390431717533 % ..\n",
      "For  26 hidden layer (s), The score =  97.38571428571429 % , Precision =  97.38166921325751 % ..\n",
      "For  27 hidden layer (s), The score =  96.03333333333333 % , Precision =  96.02870330441695 % ..\n",
      "For  28 hidden layer (s), The score =  96.89047619047619 % , Precision =  96.91405737731806 % ..\n",
      "For  29 hidden layer (s), The score =  94.19047619047619 % , Precision =  94.15928143136571 % ..\n",
      "For  30 hidden layer (s), The score =  93.75238095238096 % , Precision =  93.86886972803339 % ..\n",
      "For  31 hidden layer (s), The score =  95.24285714285713 % , Precision =  95.24676260833822 % ..\n",
      "For  32 hidden layer (s), The score =  90.01428571428572 % , Precision =  90.08827641432418 % ..\n",
      "For  33 hidden layer (s), The score =  93.88095238095238 % , Precision =  93.96903705802313 % ..\n",
      "For  34 hidden layer (s), The score =  93.28095238095237 % , Precision =  93.30568018149924 % ..\n",
      "For  35 hidden layer (s), The score =  92.6952380952381 % , Precision =  92.64380452056265 % ..\n",
      "For  36 hidden layer (s), The score =  88.0047619047619 % , Precision =  88.25156939588477 % ..\n",
      "For  37 hidden layer (s), The score =  76.12380952380953 % , Precision =  80.89390455351563 % ..\n",
      "For  38 hidden layer (s), The score =  91.14761904761905 % , Precision =  91.3423287766412 % ..\n",
      "For  39 hidden layer (s), The score =  89.35238095238095 % , Precision =  90.22080839729482 % ..\n",
      "For  40 hidden layer (s), The score =  70.04285714285714 % , Precision =  70.80212298896554 % ..\n",
      "For  41 hidden layer (s), The score =  71.63809523809523 % , Precision =  79.09090169336356 % ..\n",
      "For  42 hidden layer (s), The score =  90.32380952380953 % , Precision =  90.35038969456902 % ..\n",
      "For  43 hidden layer (s), The score =  83.35238095238095 % , Precision =  82.75439021580299 % ..\n",
      "For  44 hidden layer (s), The score =  76.0142857142857 % , Precision =  76.79199264770298 % ..\n",
      "For  45 hidden layer (s), The score =  59.819047619047616 % , Precision =  64.86819853141121 % ..\n",
      "For  46 hidden layer (s), The score =  70.06190476190476 % , Precision =  71.04065242137533 % ..\n",
      "For  47 hidden layer (s), The score =  62.1904761904762 % , Precision =  63.69976651422412 % ..\n"
     ]
    },
    {
     "name": "stderr",
     "output_type": "stream",
     "text": [
      "/usr/local/insa/anaconda/envs/IA-GPU/lib/python3.7/site-packages/sklearn/metrics/_classification.py:1248: UndefinedMetricWarning: Precision is ill-defined and being set to 0.0 in labels with no predicted samples. Use `zero_division` parameter to control this behavior.\n",
      "  _warn_prf(average, modifier, msg_start, len(result))\n"
     ]
    },
    {
     "name": "stdout",
     "output_type": "stream",
     "text": [
      "For  48 hidden layer (s), The score =  10.604761904761904 % , Precision =  1.0604761904761906 % ..\n"
     ]
    },
    {
     "name": "stderr",
     "output_type": "stream",
     "text": [
      "/usr/local/insa/anaconda/envs/IA-GPU/lib/python3.7/site-packages/sklearn/metrics/_classification.py:1248: UndefinedMetricWarning: Precision is ill-defined and being set to 0.0 in labels with no predicted samples. Use `zero_division` parameter to control this behavior.\n",
      "  _warn_prf(average, modifier, msg_start, len(result))\n"
     ]
    },
    {
     "name": "stdout",
     "output_type": "stream",
     "text": [
      "For  49 hidden layer (s), The score =  11.219047619047618 % , Precision =  1.1219047619047617 % ..\n"
     ]
    },
    {
     "name": "stderr",
     "output_type": "stream",
     "text": [
      "/usr/local/insa/anaconda/envs/IA-GPU/lib/python3.7/site-packages/sklearn/metrics/_classification.py:1248: UndefinedMetricWarning: Precision is ill-defined and being set to 0.0 in labels with no predicted samples. Use `zero_division` parameter to control this behavior.\n",
      "  _warn_prf(average, modifier, msg_start, len(result))\n"
     ]
    },
    {
     "name": "stdout",
     "output_type": "stream",
     "text": [
      "For  50 hidden layer (s), The score =  11.219047619047618 % , Precision =  1.1219047619047617 % ..\n"
     ]
    },
    {
     "name": "stderr",
     "output_type": "stream",
     "text": [
      "/usr/local/insa/anaconda/envs/IA-GPU/lib/python3.7/site-packages/sklearn/metrics/_classification.py:1248: UndefinedMetricWarning: Precision is ill-defined and being set to 0.0 in labels with no predicted samples. Use `zero_division` parameter to control this behavior.\n",
      "  _warn_prf(average, modifier, msg_start, len(result))\n"
     ]
    },
    {
     "name": "stdout",
     "output_type": "stream",
     "text": [
      "For  51 hidden layer (s), The score =  11.219047619047618 % , Precision =  1.1219047619047617 % ..\n",
      "For  52 hidden layer (s), The score =  87.29047619047618 % , Precision =  87.44863710451831 % ..\n"
     ]
    },
    {
     "name": "stderr",
     "output_type": "stream",
     "text": [
      "/usr/local/insa/anaconda/envs/IA-GPU/lib/python3.7/site-packages/sklearn/metrics/_classification.py:1248: UndefinedMetricWarning: Precision is ill-defined and being set to 0.0 in labels with no predicted samples. Use `zero_division` parameter to control this behavior.\n",
      "  _warn_prf(average, modifier, msg_start, len(result))\n"
     ]
    },
    {
     "name": "stdout",
     "output_type": "stream",
     "text": [
      "For  53 hidden layer (s), The score =  11.219047619047618 % , Precision =  1.1219047619047617 % ..\n"
     ]
    },
    {
     "name": "stderr",
     "output_type": "stream",
     "text": [
      "/usr/local/insa/anaconda/envs/IA-GPU/lib/python3.7/site-packages/sklearn/metrics/_classification.py:1248: UndefinedMetricWarning: Precision is ill-defined and being set to 0.0 in labels with no predicted samples. Use `zero_division` parameter to control this behavior.\n",
      "  _warn_prf(average, modifier, msg_start, len(result))\n"
     ]
    },
    {
     "name": "stdout",
     "output_type": "stream",
     "text": [
      "For  54 hidden layer (s), The score =  11.219047619047618 % , Precision =  1.1219047619047617 % ..\n"
     ]
    },
    {
     "name": "stderr",
     "output_type": "stream",
     "text": [
      "/usr/local/insa/anaconda/envs/IA-GPU/lib/python3.7/site-packages/sklearn/metrics/_classification.py:1248: UndefinedMetricWarning: Precision is ill-defined and being set to 0.0 in labels with no predicted samples. Use `zero_division` parameter to control this behavior.\n",
      "  _warn_prf(average, modifier, msg_start, len(result))\n"
     ]
    },
    {
     "name": "stdout",
     "output_type": "stream",
     "text": [
      "For  55 hidden layer (s), The score =  11.219047619047618 % , Precision =  1.1219047619047617 % ..\n"
     ]
    },
    {
     "name": "stderr",
     "output_type": "stream",
     "text": [
      "/usr/local/insa/anaconda/envs/IA-GPU/lib/python3.7/site-packages/sklearn/metrics/_classification.py:1248: UndefinedMetricWarning: Precision is ill-defined and being set to 0.0 in labels with no predicted samples. Use `zero_division` parameter to control this behavior.\n",
      "  _warn_prf(average, modifier, msg_start, len(result))\n"
     ]
    },
    {
     "name": "stdout",
     "output_type": "stream",
     "text": [
      "For  56 hidden layer (s), The score =  11.219047619047618 % , Precision =  1.1219047619047617 % ..\n"
     ]
    },
    {
     "name": "stderr",
     "output_type": "stream",
     "text": [
      "/usr/local/insa/anaconda/envs/IA-GPU/lib/python3.7/site-packages/sklearn/metrics/_classification.py:1248: UndefinedMetricWarning: Precision is ill-defined and being set to 0.0 in labels with no predicted samples. Use `zero_division` parameter to control this behavior.\n",
      "  _warn_prf(average, modifier, msg_start, len(result))\n"
     ]
    },
    {
     "name": "stdout",
     "output_type": "stream",
     "text": [
      "For  57 hidden layer (s), The score =  11.219047619047618 % , Precision =  1.1219047619047617 % ..\n"
     ]
    },
    {
     "name": "stderr",
     "output_type": "stream",
     "text": [
      "/usr/local/insa/anaconda/envs/IA-GPU/lib/python3.7/site-packages/sklearn/metrics/_classification.py:1248: UndefinedMetricWarning: Precision is ill-defined and being set to 0.0 in labels with no predicted samples. Use `zero_division` parameter to control this behavior.\n",
      "  _warn_prf(average, modifier, msg_start, len(result))\n"
     ]
    },
    {
     "name": "stdout",
     "output_type": "stream",
     "text": [
      "For  58 hidden layer (s), The score =  11.219047619047618 % , Precision =  1.1219047619047617 % ..\n"
     ]
    },
    {
     "name": "stderr",
     "output_type": "stream",
     "text": [
      "/usr/local/insa/anaconda/envs/IA-GPU/lib/python3.7/site-packages/sklearn/metrics/_classification.py:1248: UndefinedMetricWarning: Precision is ill-defined and being set to 0.0 in labels with no predicted samples. Use `zero_division` parameter to control this behavior.\n",
      "  _warn_prf(average, modifier, msg_start, len(result))\n"
     ]
    },
    {
     "name": "stdout",
     "output_type": "stream",
     "text": [
      "For  59 hidden layer (s), The score =  11.219047619047618 % , Precision =  1.1219047619047617 % ..\n"
     ]
    },
    {
     "name": "stderr",
     "output_type": "stream",
     "text": [
      "/usr/local/insa/anaconda/envs/IA-GPU/lib/python3.7/site-packages/sklearn/metrics/_classification.py:1248: UndefinedMetricWarning: Precision is ill-defined and being set to 0.0 in labels with no predicted samples. Use `zero_division` parameter to control this behavior.\n",
      "  _warn_prf(average, modifier, msg_start, len(result))\n"
     ]
    },
    {
     "name": "stdout",
     "output_type": "stream",
     "text": [
      "For  60 hidden layer (s), The score =  11.219047619047618 % , Precision =  1.1219047619047617 % ..\n"
     ]
    },
    {
     "name": "stderr",
     "output_type": "stream",
     "text": [
      "/usr/local/insa/anaconda/envs/IA-GPU/lib/python3.7/site-packages/sklearn/metrics/_classification.py:1248: UndefinedMetricWarning: Precision is ill-defined and being set to 0.0 in labels with no predicted samples. Use `zero_division` parameter to control this behavior.\n",
      "  _warn_prf(average, modifier, msg_start, len(result))\n"
     ]
    },
    {
     "name": "stdout",
     "output_type": "stream",
     "text": [
      "For  61 hidden layer (s), The score =  11.219047619047618 % , Precision =  1.1219047619047617 % ..\n"
     ]
    },
    {
     "name": "stderr",
     "output_type": "stream",
     "text": [
      "/usr/local/insa/anaconda/envs/IA-GPU/lib/python3.7/site-packages/sklearn/metrics/_classification.py:1248: UndefinedMetricWarning: Precision is ill-defined and being set to 0.0 in labels with no predicted samples. Use `zero_division` parameter to control this behavior.\n",
      "  _warn_prf(average, modifier, msg_start, len(result))\n"
     ]
    },
    {
     "name": "stdout",
     "output_type": "stream",
     "text": [
      "For  62 hidden layer (s), The score =  11.219047619047618 % , Precision =  1.1219047619047617 % ..\n"
     ]
    },
    {
     "name": "stderr",
     "output_type": "stream",
     "text": [
      "/usr/local/insa/anaconda/envs/IA-GPU/lib/python3.7/site-packages/sklearn/metrics/_classification.py:1248: UndefinedMetricWarning: Precision is ill-defined and being set to 0.0 in labels with no predicted samples. Use `zero_division` parameter to control this behavior.\n",
      "  _warn_prf(average, modifier, msg_start, len(result))\n"
     ]
    },
    {
     "name": "stdout",
     "output_type": "stream",
     "text": [
      "For  63 hidden layer (s), The score =  11.219047619047618 % , Precision =  1.1219047619047617 % ..\n"
     ]
    },
    {
     "name": "stderr",
     "output_type": "stream",
     "text": [
      "/usr/local/insa/anaconda/envs/IA-GPU/lib/python3.7/site-packages/sklearn/metrics/_classification.py:1248: UndefinedMetricWarning: Precision is ill-defined and being set to 0.0 in labels with no predicted samples. Use `zero_division` parameter to control this behavior.\n",
      "  _warn_prf(average, modifier, msg_start, len(result))\n"
     ]
    },
    {
     "name": "stdout",
     "output_type": "stream",
     "text": [
      "For  64 hidden layer (s), The score =  10.604761904761904 % , Precision =  1.0604761904761906 % ..\n"
     ]
    },
    {
     "name": "stderr",
     "output_type": "stream",
     "text": [
      "/usr/local/insa/anaconda/envs/IA-GPU/lib/python3.7/site-packages/sklearn/metrics/_classification.py:1248: UndefinedMetricWarning: Precision is ill-defined and being set to 0.0 in labels with no predicted samples. Use `zero_division` parameter to control this behavior.\n",
      "  _warn_prf(average, modifier, msg_start, len(result))\n"
     ]
    },
    {
     "name": "stdout",
     "output_type": "stream",
     "text": [
      "For  65 hidden layer (s), The score =  11.219047619047618 % , Precision =  1.1219047619047617 % ..\n"
     ]
    },
    {
     "name": "stderr",
     "output_type": "stream",
     "text": [
      "/usr/local/insa/anaconda/envs/IA-GPU/lib/python3.7/site-packages/sklearn/metrics/_classification.py:1248: UndefinedMetricWarning: Precision is ill-defined and being set to 0.0 in labels with no predicted samples. Use `zero_division` parameter to control this behavior.\n",
      "  _warn_prf(average, modifier, msg_start, len(result))\n"
     ]
    },
    {
     "name": "stdout",
     "output_type": "stream",
     "text": [
      "For  66 hidden layer (s), The score =  11.219047619047618 % , Precision =  1.1219047619047617 % ..\n"
     ]
    },
    {
     "name": "stderr",
     "output_type": "stream",
     "text": [
      "/usr/local/insa/anaconda/envs/IA-GPU/lib/python3.7/site-packages/sklearn/metrics/_classification.py:1248: UndefinedMetricWarning: Precision is ill-defined and being set to 0.0 in labels with no predicted samples. Use `zero_division` parameter to control this behavior.\n",
      "  _warn_prf(average, modifier, msg_start, len(result))\n"
     ]
    },
    {
     "name": "stdout",
     "output_type": "stream",
     "text": [
      "For  67 hidden layer (s), The score =  11.219047619047618 % , Precision =  1.1219047619047617 % ..\n"
     ]
    },
    {
     "name": "stderr",
     "output_type": "stream",
     "text": [
      "/usr/local/insa/anaconda/envs/IA-GPU/lib/python3.7/site-packages/sklearn/metrics/_classification.py:1248: UndefinedMetricWarning: Precision is ill-defined and being set to 0.0 in labels with no predicted samples. Use `zero_division` parameter to control this behavior.\n",
      "  _warn_prf(average, modifier, msg_start, len(result))\n"
     ]
    },
    {
     "name": "stdout",
     "output_type": "stream",
     "text": [
      "For  68 hidden layer (s), The score =  11.219047619047618 % , Precision =  1.1219047619047617 % ..\n"
     ]
    },
    {
     "name": "stderr",
     "output_type": "stream",
     "text": [
      "/usr/local/insa/anaconda/envs/IA-GPU/lib/python3.7/site-packages/sklearn/metrics/_classification.py:1248: UndefinedMetricWarning: Precision is ill-defined and being set to 0.0 in labels with no predicted samples. Use `zero_division` parameter to control this behavior.\n",
      "  _warn_prf(average, modifier, msg_start, len(result))\n"
     ]
    },
    {
     "name": "stdout",
     "output_type": "stream",
     "text": [
      "For  69 hidden layer (s), The score =  11.219047619047618 % , Precision =  1.1219047619047617 % ..\n"
     ]
    },
    {
     "name": "stderr",
     "output_type": "stream",
     "text": [
      "/usr/local/insa/anaconda/envs/IA-GPU/lib/python3.7/site-packages/sklearn/metrics/_classification.py:1248: UndefinedMetricWarning: Precision is ill-defined and being set to 0.0 in labels with no predicted samples. Use `zero_division` parameter to control this behavior.\n",
      "  _warn_prf(average, modifier, msg_start, len(result))\n"
     ]
    },
    {
     "name": "stdout",
     "output_type": "stream",
     "text": [
      "For  70 hidden layer (s), The score =  11.219047619047618 % , Precision =  1.1219047619047617 % ..\n"
     ]
    },
    {
     "name": "stderr",
     "output_type": "stream",
     "text": [
      "/usr/local/insa/anaconda/envs/IA-GPU/lib/python3.7/site-packages/sklearn/metrics/_classification.py:1248: UndefinedMetricWarning: Precision is ill-defined and being set to 0.0 in labels with no predicted samples. Use `zero_division` parameter to control this behavior.\n",
      "  _warn_prf(average, modifier, msg_start, len(result))\n"
     ]
    },
    {
     "name": "stdout",
     "output_type": "stream",
     "text": [
      "For  71 hidden layer (s), The score =  11.219047619047618 % , Precision =  1.1219047619047617 % ..\n"
     ]
    },
    {
     "name": "stderr",
     "output_type": "stream",
     "text": [
      "/usr/local/insa/anaconda/envs/IA-GPU/lib/python3.7/site-packages/sklearn/metrics/_classification.py:1248: UndefinedMetricWarning: Precision is ill-defined and being set to 0.0 in labels with no predicted samples. Use `zero_division` parameter to control this behavior.\n",
      "  _warn_prf(average, modifier, msg_start, len(result))\n"
     ]
    },
    {
     "name": "stdout",
     "output_type": "stream",
     "text": [
      "For  72 hidden layer (s), The score =  11.219047619047618 % , Precision =  1.1219047619047617 % ..\n"
     ]
    },
    {
     "name": "stderr",
     "output_type": "stream",
     "text": [
      "/usr/local/insa/anaconda/envs/IA-GPU/lib/python3.7/site-packages/sklearn/metrics/_classification.py:1248: UndefinedMetricWarning: Precision is ill-defined and being set to 0.0 in labels with no predicted samples. Use `zero_division` parameter to control this behavior.\n",
      "  _warn_prf(average, modifier, msg_start, len(result))\n"
     ]
    },
    {
     "name": "stdout",
     "output_type": "stream",
     "text": [
      "For  73 hidden layer (s), The score =  11.219047619047618 % , Precision =  1.1219047619047617 % ..\n"
     ]
    },
    {
     "name": "stderr",
     "output_type": "stream",
     "text": [
      "/usr/local/insa/anaconda/envs/IA-GPU/lib/python3.7/site-packages/sklearn/metrics/_classification.py:1248: UndefinedMetricWarning: Precision is ill-defined and being set to 0.0 in labels with no predicted samples. Use `zero_division` parameter to control this behavior.\n",
      "  _warn_prf(average, modifier, msg_start, len(result))\n"
     ]
    },
    {
     "name": "stdout",
     "output_type": "stream",
     "text": [
      "For  74 hidden layer (s), The score =  11.219047619047618 % , Precision =  1.1219047619047617 % ..\n"
     ]
    },
    {
     "name": "stderr",
     "output_type": "stream",
     "text": [
      "/usr/local/insa/anaconda/envs/IA-GPU/lib/python3.7/site-packages/sklearn/metrics/_classification.py:1248: UndefinedMetricWarning: Precision is ill-defined and being set to 0.0 in labels with no predicted samples. Use `zero_division` parameter to control this behavior.\n",
      "  _warn_prf(average, modifier, msg_start, len(result))\n"
     ]
    },
    {
     "name": "stdout",
     "output_type": "stream",
     "text": [
      "For  75 hidden layer (s), The score =  11.219047619047618 % , Precision =  1.1219047619047617 % ..\n"
     ]
    },
    {
     "name": "stderr",
     "output_type": "stream",
     "text": [
      "/usr/local/insa/anaconda/envs/IA-GPU/lib/python3.7/site-packages/sklearn/metrics/_classification.py:1248: UndefinedMetricWarning: Precision is ill-defined and being set to 0.0 in labels with no predicted samples. Use `zero_division` parameter to control this behavior.\n",
      "  _warn_prf(average, modifier, msg_start, len(result))\n"
     ]
    },
    {
     "name": "stdout",
     "output_type": "stream",
     "text": [
      "For  76 hidden layer (s), The score =  11.219047619047618 % , Precision =  1.1219047619047617 % ..\n"
     ]
    },
    {
     "name": "stderr",
     "output_type": "stream",
     "text": [
      "/usr/local/insa/anaconda/envs/IA-GPU/lib/python3.7/site-packages/sklearn/metrics/_classification.py:1248: UndefinedMetricWarning: Precision is ill-defined and being set to 0.0 in labels with no predicted samples. Use `zero_division` parameter to control this behavior.\n",
      "  _warn_prf(average, modifier, msg_start, len(result))\n"
     ]
    },
    {
     "name": "stdout",
     "output_type": "stream",
     "text": [
      "For  77 hidden layer (s), The score =  11.219047619047618 % , Precision =  1.1219047619047617 % ..\n"
     ]
    },
    {
     "name": "stderr",
     "output_type": "stream",
     "text": [
      "/usr/local/insa/anaconda/envs/IA-GPU/lib/python3.7/site-packages/sklearn/metrics/_classification.py:1248: UndefinedMetricWarning: Precision is ill-defined and being set to 0.0 in labels with no predicted samples. Use `zero_division` parameter to control this behavior.\n",
      "  _warn_prf(average, modifier, msg_start, len(result))\n"
     ]
    },
    {
     "name": "stdout",
     "output_type": "stream",
     "text": [
      "For  78 hidden layer (s), The score =  11.219047619047618 % , Precision =  1.1219047619047617 % ..\n"
     ]
    },
    {
     "name": "stderr",
     "output_type": "stream",
     "text": [
      "/usr/local/insa/anaconda/envs/IA-GPU/lib/python3.7/site-packages/sklearn/metrics/_classification.py:1248: UndefinedMetricWarning: Precision is ill-defined and being set to 0.0 in labels with no predicted samples. Use `zero_division` parameter to control this behavior.\n",
      "  _warn_prf(average, modifier, msg_start, len(result))\n"
     ]
    },
    {
     "name": "stdout",
     "output_type": "stream",
     "text": [
      "For  79 hidden layer (s), The score =  11.219047619047618 % , Precision =  1.1219047619047617 % ..\n"
     ]
    },
    {
     "name": "stderr",
     "output_type": "stream",
     "text": [
      "/usr/local/insa/anaconda/envs/IA-GPU/lib/python3.7/site-packages/sklearn/metrics/_classification.py:1248: UndefinedMetricWarning: Precision is ill-defined and being set to 0.0 in labels with no predicted samples. Use `zero_division` parameter to control this behavior.\n",
      "  _warn_prf(average, modifier, msg_start, len(result))\n"
     ]
    },
    {
     "name": "stdout",
     "output_type": "stream",
     "text": [
      "For  80 hidden layer (s), The score =  11.219047619047618 % , Precision =  1.1219047619047617 % ..\n"
     ]
    },
    {
     "name": "stderr",
     "output_type": "stream",
     "text": [
      "/usr/local/insa/anaconda/envs/IA-GPU/lib/python3.7/site-packages/sklearn/metrics/_classification.py:1248: UndefinedMetricWarning: Precision is ill-defined and being set to 0.0 in labels with no predicted samples. Use `zero_division` parameter to control this behavior.\n",
      "  _warn_prf(average, modifier, msg_start, len(result))\n"
     ]
    },
    {
     "name": "stdout",
     "output_type": "stream",
     "text": [
      "For  81 hidden layer (s), The score =  11.219047619047618 % , Precision =  1.1219047619047617 % ..\n"
     ]
    },
    {
     "name": "stderr",
     "output_type": "stream",
     "text": [
      "/usr/local/insa/anaconda/envs/IA-GPU/lib/python3.7/site-packages/sklearn/metrics/_classification.py:1248: UndefinedMetricWarning: Precision is ill-defined and being set to 0.0 in labels with no predicted samples. Use `zero_division` parameter to control this behavior.\n",
      "  _warn_prf(average, modifier, msg_start, len(result))\n"
     ]
    },
    {
     "name": "stdout",
     "output_type": "stream",
     "text": [
      "For  82 hidden layer (s), The score =  11.219047619047618 % , Precision =  1.1219047619047617 % ..\n"
     ]
    },
    {
     "name": "stderr",
     "output_type": "stream",
     "text": [
      "/usr/local/insa/anaconda/envs/IA-GPU/lib/python3.7/site-packages/sklearn/metrics/_classification.py:1248: UndefinedMetricWarning: Precision is ill-defined and being set to 0.0 in labels with no predicted samples. Use `zero_division` parameter to control this behavior.\n",
      "  _warn_prf(average, modifier, msg_start, len(result))\n"
     ]
    },
    {
     "name": "stdout",
     "output_type": "stream",
     "text": [
      "For  83 hidden layer (s), The score =  11.219047619047618 % , Precision =  1.1219047619047617 % ..\n"
     ]
    },
    {
     "name": "stderr",
     "output_type": "stream",
     "text": [
      "/usr/local/insa/anaconda/envs/IA-GPU/lib/python3.7/site-packages/sklearn/metrics/_classification.py:1248: UndefinedMetricWarning: Precision is ill-defined and being set to 0.0 in labels with no predicted samples. Use `zero_division` parameter to control this behavior.\n",
      "  _warn_prf(average, modifier, msg_start, len(result))\n"
     ]
    },
    {
     "name": "stdout",
     "output_type": "stream",
     "text": [
      "For  84 hidden layer (s), The score =  11.219047619047618 % , Precision =  1.1219047619047617 % ..\n"
     ]
    },
    {
     "name": "stderr",
     "output_type": "stream",
     "text": [
      "/usr/local/insa/anaconda/envs/IA-GPU/lib/python3.7/site-packages/sklearn/metrics/_classification.py:1248: UndefinedMetricWarning: Precision is ill-defined and being set to 0.0 in labels with no predicted samples. Use `zero_division` parameter to control this behavior.\n",
      "  _warn_prf(average, modifier, msg_start, len(result))\n"
     ]
    },
    {
     "name": "stdout",
     "output_type": "stream",
     "text": [
      "For  85 hidden layer (s), The score =  10.604761904761904 % , Precision =  1.0604761904761906 % ..\n"
     ]
    },
    {
     "name": "stderr",
     "output_type": "stream",
     "text": [
      "/usr/local/insa/anaconda/envs/IA-GPU/lib/python3.7/site-packages/sklearn/metrics/_classification.py:1248: UndefinedMetricWarning: Precision is ill-defined and being set to 0.0 in labels with no predicted samples. Use `zero_division` parameter to control this behavior.\n",
      "  _warn_prf(average, modifier, msg_start, len(result))\n"
     ]
    },
    {
     "name": "stdout",
     "output_type": "stream",
     "text": [
      "For  86 hidden layer (s), The score =  11.219047619047618 % , Precision =  1.1219047619047617 % ..\n"
     ]
    },
    {
     "name": "stderr",
     "output_type": "stream",
     "text": [
      "/usr/local/insa/anaconda/envs/IA-GPU/lib/python3.7/site-packages/sklearn/metrics/_classification.py:1248: UndefinedMetricWarning: Precision is ill-defined and being set to 0.0 in labels with no predicted samples. Use `zero_division` parameter to control this behavior.\n",
      "  _warn_prf(average, modifier, msg_start, len(result))\n"
     ]
    },
    {
     "name": "stdout",
     "output_type": "stream",
     "text": [
      "For  87 hidden layer (s), The score =  10.604761904761904 % , Precision =  1.0604761904761906 % ..\n"
     ]
    },
    {
     "name": "stderr",
     "output_type": "stream",
     "text": [
      "/usr/local/insa/anaconda/envs/IA-GPU/lib/python3.7/site-packages/sklearn/metrics/_classification.py:1248: UndefinedMetricWarning: Precision is ill-defined and being set to 0.0 in labels with no predicted samples. Use `zero_division` parameter to control this behavior.\n",
      "  _warn_prf(average, modifier, msg_start, len(result))\n"
     ]
    },
    {
     "name": "stdout",
     "output_type": "stream",
     "text": [
      "For  88 hidden layer (s), The score =  11.219047619047618 % , Precision =  1.1219047619047617 % ..\n"
     ]
    },
    {
     "name": "stderr",
     "output_type": "stream",
     "text": [
      "/usr/local/insa/anaconda/envs/IA-GPU/lib/python3.7/site-packages/sklearn/metrics/_classification.py:1248: UndefinedMetricWarning: Precision is ill-defined and being set to 0.0 in labels with no predicted samples. Use `zero_division` parameter to control this behavior.\n",
      "  _warn_prf(average, modifier, msg_start, len(result))\n"
     ]
    },
    {
     "name": "stdout",
     "output_type": "stream",
     "text": [
      "For  89 hidden layer (s), The score =  11.219047619047618 % , Precision =  1.1219047619047617 % ..\n"
     ]
    },
    {
     "name": "stderr",
     "output_type": "stream",
     "text": [
      "/usr/local/insa/anaconda/envs/IA-GPU/lib/python3.7/site-packages/sklearn/metrics/_classification.py:1248: UndefinedMetricWarning: Precision is ill-defined and being set to 0.0 in labels with no predicted samples. Use `zero_division` parameter to control this behavior.\n",
      "  _warn_prf(average, modifier, msg_start, len(result))\n"
     ]
    },
    {
     "name": "stdout",
     "output_type": "stream",
     "text": [
      "For  90 hidden layer (s), The score =  10.604761904761904 % , Precision =  1.0604761904761906 % ..\n"
     ]
    },
    {
     "name": "stderr",
     "output_type": "stream",
     "text": [
      "/usr/local/insa/anaconda/envs/IA-GPU/lib/python3.7/site-packages/sklearn/metrics/_classification.py:1248: UndefinedMetricWarning: Precision is ill-defined and being set to 0.0 in labels with no predicted samples. Use `zero_division` parameter to control this behavior.\n",
      "  _warn_prf(average, modifier, msg_start, len(result))\n"
     ]
    },
    {
     "name": "stdout",
     "output_type": "stream",
     "text": [
      "For  91 hidden layer (s), The score =  11.219047619047618 % , Precision =  1.1219047619047617 % ..\n"
     ]
    },
    {
     "name": "stderr",
     "output_type": "stream",
     "text": [
      "/usr/local/insa/anaconda/envs/IA-GPU/lib/python3.7/site-packages/sklearn/metrics/_classification.py:1248: UndefinedMetricWarning: Precision is ill-defined and being set to 0.0 in labels with no predicted samples. Use `zero_division` parameter to control this behavior.\n",
      "  _warn_prf(average, modifier, msg_start, len(result))\n"
     ]
    },
    {
     "name": "stdout",
     "output_type": "stream",
     "text": [
      "For  92 hidden layer (s), The score =  11.219047619047618 % , Precision =  1.1219047619047617 % ..\n"
     ]
    },
    {
     "name": "stderr",
     "output_type": "stream",
     "text": [
      "/usr/local/insa/anaconda/envs/IA-GPU/lib/python3.7/site-packages/sklearn/metrics/_classification.py:1248: UndefinedMetricWarning: Precision is ill-defined and being set to 0.0 in labels with no predicted samples. Use `zero_division` parameter to control this behavior.\n",
      "  _warn_prf(average, modifier, msg_start, len(result))\n"
     ]
    },
    {
     "name": "stdout",
     "output_type": "stream",
     "text": [
      "For  93 hidden layer (s), The score =  11.219047619047618 % , Precision =  1.1219047619047617 % ..\n"
     ]
    },
    {
     "name": "stderr",
     "output_type": "stream",
     "text": [
      "/usr/local/insa/anaconda/envs/IA-GPU/lib/python3.7/site-packages/sklearn/metrics/_classification.py:1248: UndefinedMetricWarning: Precision is ill-defined and being set to 0.0 in labels with no predicted samples. Use `zero_division` parameter to control this behavior.\n",
      "  _warn_prf(average, modifier, msg_start, len(result))\n"
     ]
    },
    {
     "name": "stdout",
     "output_type": "stream",
     "text": [
      "For  94 hidden layer (s), The score =  11.219047619047618 % , Precision =  1.1219047619047617 % ..\n"
     ]
    },
    {
     "name": "stderr",
     "output_type": "stream",
     "text": [
      "/usr/local/insa/anaconda/envs/IA-GPU/lib/python3.7/site-packages/sklearn/metrics/_classification.py:1248: UndefinedMetricWarning: Precision is ill-defined and being set to 0.0 in labels with no predicted samples. Use `zero_division` parameter to control this behavior.\n",
      "  _warn_prf(average, modifier, msg_start, len(result))\n"
     ]
    },
    {
     "name": "stdout",
     "output_type": "stream",
     "text": [
      "For  95 hidden layer (s), The score =  11.219047619047618 % , Precision =  1.1219047619047617 % ..\n"
     ]
    },
    {
     "name": "stderr",
     "output_type": "stream",
     "text": [
      "/usr/local/insa/anaconda/envs/IA-GPU/lib/python3.7/site-packages/sklearn/metrics/_classification.py:1248: UndefinedMetricWarning: Precision is ill-defined and being set to 0.0 in labels with no predicted samples. Use `zero_division` parameter to control this behavior.\n",
      "  _warn_prf(average, modifier, msg_start, len(result))\n"
     ]
    },
    {
     "name": "stdout",
     "output_type": "stream",
     "text": [
      "For  96 hidden layer (s), The score =  11.219047619047618 % , Precision =  1.1219047619047617 % ..\n"
     ]
    },
    {
     "name": "stderr",
     "output_type": "stream",
     "text": [
      "/usr/local/insa/anaconda/envs/IA-GPU/lib/python3.7/site-packages/sklearn/metrics/_classification.py:1248: UndefinedMetricWarning: Precision is ill-defined and being set to 0.0 in labels with no predicted samples. Use `zero_division` parameter to control this behavior.\n",
      "  _warn_prf(average, modifier, msg_start, len(result))\n"
     ]
    },
    {
     "name": "stdout",
     "output_type": "stream",
     "text": [
      "For  97 hidden layer (s), The score =  11.219047619047618 % , Precision =  1.1219047619047617 % ..\n"
     ]
    },
    {
     "name": "stderr",
     "output_type": "stream",
     "text": [
      "/usr/local/insa/anaconda/envs/IA-GPU/lib/python3.7/site-packages/sklearn/metrics/_classification.py:1248: UndefinedMetricWarning: Precision is ill-defined and being set to 0.0 in labels with no predicted samples. Use `zero_division` parameter to control this behavior.\n",
      "  _warn_prf(average, modifier, msg_start, len(result))\n"
     ]
    },
    {
     "name": "stdout",
     "output_type": "stream",
     "text": [
      "For  98 hidden layer (s), The score =  11.219047619047618 % , Precision =  1.1219047619047617 % ..\n",
      "For  99 hidden layer (s), The score =  10.604761904761904 % , Precision =  1.0604761904761906 % ..\n"
     ]
    },
    {
     "name": "stderr",
     "output_type": "stream",
     "text": [
      "/usr/local/insa/anaconda/envs/IA-GPU/lib/python3.7/site-packages/sklearn/metrics/_classification.py:1248: UndefinedMetricWarning: Precision is ill-defined and being set to 0.0 in labels with no predicted samples. Use `zero_division` parameter to control this behavior.\n",
      "  _warn_prf(average, modifier, msg_start, len(result))\n"
     ]
    }
   ],
   "source": [
    "hidden_layer =(50,)*100\n",
    "\n",
    "ScoreResult = []\n",
    "PredResult = []\n",
    "RecallResult = []\n",
    "LossResult = []\n",
    "#print(hidden_layer)\n",
    "#print(hidden_layer[0:1])\n",
    "\n",
    "for i in range (100):\n",
    "    clf = MLPClassifier(hidden_layer_sizes = hidden_layer[0:i])\n",
    "    clf.fit(xtrain, ytrain)\n",
    "    prediction = clf.predict(xtest)\n",
    "    score = clf.score(xtest, ytest)\n",
    "    precision = metrics.precision_score(ytest, prediction, average='macro')\n",
    "    recall = metrics.recall_score(ytest, prediction, average='macro')\n",
    "    loss0_1 = metrics.zero_one_loss(ytest, prediction)\n",
    "\n",
    "    ScoreResult.append(score)\n",
    "    PredResult.append(precision)\n",
    "    RecallResult.append(recall)\n",
    "    LossResult.append(loss0_1)\n",
    "\n",
    "    print(\"For \", i, \"hidden layer (s), The score = \", score *100, \"%\", \", Precision = \", precision*100, \"% ..\" )\n",
    "\n",
    "\n",
    "\n"
   ]
  },
  {
   "cell_type": "markdown",
   "metadata": {},
   "source": [
    "> Priting this results :"
   ]
  },
  {
   "cell_type": "code",
   "execution_count": 8,
   "metadata": {},
   "outputs": [
    {
     "name": "stdout",
     "output_type": "stream",
     "text": [
      "[0.9039047619047619, 0.9655238095238096, 0.9756190476190476, 0.9771904761904762, 0.9782380952380952, 0.9783809523809524, 0.979047619047619, 0.9776666666666667, 0.981904761904762, 0.9796666666666667, 0.98, 0.9825238095238096, 0.9831428571428571, 0.98, 0.9814285714285714, 0.9788095238095238, 0.9821904761904762, 0.9817619047619047, 0.9838571428571429, 0.9833333333333333, 0.9831904761904762, 0.9799523809523809, 0.9790952380952381, 0.9803333333333333, 0.981904761904762, 0.9661904761904762, 0.9738571428571429, 0.9603333333333334, 0.9689047619047619, 0.9419047619047619, 0.9375238095238095, 0.9524285714285714, 0.9001428571428571, 0.9388095238095238, 0.9328095238095238, 0.926952380952381, 0.8800476190476191, 0.7612380952380953, 0.9114761904761904, 0.8935238095238095, 0.7004285714285714, 0.7163809523809523, 0.9032380952380953, 0.8335238095238096, 0.7601428571428571, 0.5981904761904762, 0.7006190476190476, 0.621904761904762, 0.10604761904761904, 0.11219047619047619, 0.11219047619047619, 0.11219047619047619, 0.8729047619047619, 0.11219047619047619, 0.11219047619047619, 0.11219047619047619, 0.11219047619047619, 0.11219047619047619, 0.11219047619047619, 0.11219047619047619, 0.11219047619047619, 0.11219047619047619, 0.11219047619047619, 0.11219047619047619, 0.10604761904761904, 0.11219047619047619, 0.11219047619047619, 0.11219047619047619, 0.11219047619047619, 0.11219047619047619, 0.11219047619047619, 0.11219047619047619, 0.11219047619047619, 0.11219047619047619, 0.11219047619047619, 0.11219047619047619, 0.11219047619047619, 0.11219047619047619, 0.11219047619047619, 0.11219047619047619, 0.11219047619047619, 0.11219047619047619, 0.11219047619047619, 0.11219047619047619, 0.11219047619047619, 0.10604761904761904, 0.11219047619047619, 0.10604761904761904, 0.11219047619047619, 0.11219047619047619, 0.10604761904761904, 0.11219047619047619, 0.11219047619047619, 0.11219047619047619, 0.11219047619047619, 0.11219047619047619, 0.11219047619047619, 0.11219047619047619, 0.11219047619047619, 0.10604761904761904]\n",
      "\n",
      "\n",
      "[0.9056956237697442, 0.9655607105478579, 0.9755711700782455, 0.9770299820311159, 0.9779773211437677, 0.9782022131319493, 0.9790791505727237, 0.9777281120556116, 0.981835101186952, 0.9795790248368214, 0.9797354206788933, 0.9824473827724898, 0.982983587060092, 0.9799451673237789, 0.9813098001272609, 0.9787318690695551, 0.9820727170147237, 0.9816542273714944, 0.983757936464284, 0.9832216907876805, 0.9829505897245928, 0.9797997548273549, 0.9794246008386402, 0.9803844828036505, 0.9818465324996503, 0.9664390431717533, 0.9738166921325752, 0.9602870330441695, 0.9691405737731806, 0.9415928143136572, 0.9386886972803339, 0.9524676260833822, 0.9008827641432419, 0.9396903705802313, 0.9330568018149924, 0.9264380452056266, 0.8825156939588478, 0.8089390455351563, 0.913423287766412, 0.9022080839729482, 0.7080212298896553, 0.7909090169336357, 0.9035038969456902, 0.8275439021580299, 0.7679199264770299, 0.6486819853141121, 0.7104065242137533, 0.6369976651422412, 0.010604761904761905, 0.011219047619047618, 0.011219047619047618, 0.011219047619047618, 0.8744863710451831, 0.011219047619047618, 0.011219047619047618, 0.011219047619047618, 0.011219047619047618, 0.011219047619047618, 0.011219047619047618, 0.011219047619047618, 0.011219047619047618, 0.011219047619047618, 0.011219047619047618, 0.011219047619047618, 0.010604761904761905, 0.011219047619047618, 0.011219047619047618, 0.011219047619047618, 0.011219047619047618, 0.011219047619047618, 0.011219047619047618, 0.011219047619047618, 0.011219047619047618, 0.011219047619047618, 0.011219047619047618, 0.011219047619047618, 0.011219047619047618, 0.011219047619047618, 0.011219047619047618, 0.011219047619047618, 0.011219047619047618, 0.011219047619047618, 0.011219047619047618, 0.011219047619047618, 0.011219047619047618, 0.010604761904761905, 0.011219047619047618, 0.010604761904761905, 0.011219047619047618, 0.011219047619047618, 0.010604761904761905, 0.011219047619047618, 0.011219047619047618, 0.011219047619047618, 0.011219047619047618, 0.011219047619047618, 0.011219047619047618, 0.011219047619047618, 0.011219047619047618, 0.010604761904761905]\n",
      "\n",
      "\n",
      "[0.90260274367123, 0.964971924574086, 0.9753302748123034, 0.976987748468621, 0.9782235937658745, 0.978247686517124, 0.9788760204252099, 0.9773689877028033, 0.9818190354407964, 0.9795519258935002, 0.9799612346500934, 0.9824445752577049, 0.9830480692387351, 0.9799505592045203, 0.9813375073236956, 0.9786313148801146, 0.9820559910663464, 0.9815843900909874, 0.9837907061711425, 0.9832336302481692, 0.9830405056255964, 0.9798911748972536, 0.978766305618399, 0.9800732015803282, 0.9817734617660173, 0.9657342226840173, 0.9735962718549542, 0.959909873943577, 0.9681218626678808, 0.9408287744334686, 0.9369499674222219, 0.9521936422840707, 0.8996653503321902, 0.9385653523953928, 0.9319111033047524, 0.9265509874708565, 0.8783074285989395, 0.7583731607395293, 0.910935878489257, 0.8943342869157045, 0.7021971627495667, 0.708322174548755, 0.9026495381163102, 0.8272609508876204, 0.7571369366809326, 0.5908168089317354, 0.6934042950513333, 0.6150836473030838, 0.1, 0.1, 0.1, 0.1, 0.8723782191522726, 0.1, 0.1, 0.1, 0.1, 0.1, 0.1, 0.1, 0.1, 0.1, 0.1, 0.1, 0.1, 0.1, 0.1, 0.1, 0.1, 0.1, 0.1, 0.1, 0.1, 0.1, 0.1, 0.1, 0.1, 0.1, 0.1, 0.1, 0.1, 0.1, 0.1, 0.1, 0.1, 0.1, 0.1, 0.1, 0.1, 0.1, 0.1, 0.1, 0.1, 0.1, 0.1, 0.1, 0.1, 0.1, 0.1, 0.1]\n",
      "\n",
      "\n",
      "[0.09609523809523812, 0.03447619047619044, 0.024380952380952392, 0.022809523809523835, 0.02176190476190476, 0.02161904761904765, 0.020952380952380945, 0.022333333333333316, 0.018095238095238053, 0.020333333333333314, 0.020000000000000018, 0.017476190476190423, 0.016857142857142904, 0.020000000000000018, 0.018571428571428572, 0.021190476190476204, 0.01780952380952383, 0.018238095238095275, 0.016142857142857125, 0.01666666666666672, 0.01680952380952383, 0.020047619047619092, 0.02090476190476187, 0.01966666666666672, 0.018095238095238053, 0.033809523809523845, 0.026142857142857134, 0.03966666666666663, 0.031095238095238065, 0.05809523809523809, 0.06247619047619046, 0.0475714285714286, 0.09985714285714287, 0.06119047619047624, 0.06719047619047624, 0.07304761904761903, 0.11995238095238092, 0.23876190476190473, 0.08852380952380956, 0.1064761904761905, 0.2995714285714286, 0.28361904761904766, 0.09676190476190472, 0.16647619047619044, 0.23985714285714288, 0.40180952380952384, 0.2993809523809524, 0.37809523809523804, 0.8939523809523809, 0.8878095238095238, 0.8878095238095238, 0.8878095238095238, 0.12709523809523815, 0.8878095238095238, 0.8878095238095238, 0.8878095238095238, 0.8878095238095238, 0.8878095238095238, 0.8878095238095238, 0.8878095238095238, 0.8878095238095238, 0.8878095238095238, 0.8878095238095238, 0.8878095238095238, 0.8939523809523809, 0.8878095238095238, 0.8878095238095238, 0.8878095238095238, 0.8878095238095238, 0.8878095238095238, 0.8878095238095238, 0.8878095238095238, 0.8878095238095238, 0.8878095238095238, 0.8878095238095238, 0.8878095238095238, 0.8878095238095238, 0.8878095238095238, 0.8878095238095238, 0.8878095238095238, 0.8878095238095238, 0.8878095238095238, 0.8878095238095238, 0.8878095238095238, 0.8878095238095238, 0.8939523809523809, 0.8878095238095238, 0.8939523809523809, 0.8878095238095238, 0.8878095238095238, 0.8939523809523809, 0.8878095238095238, 0.8878095238095238, 0.8878095238095238, 0.8878095238095238, 0.8878095238095238, 0.8878095238095238, 0.8878095238095238, 0.8878095238095238, 0.8939523809523809]\n"
     ]
    }
   ],
   "source": [
    "print(ScoreResult)\n",
    "print(\"\\n\")\n",
    "print(PredResult)\n",
    "print(\"\\n\")\n",
    "print(RecallResult)\n",
    "print(\"\\n\")\n",
    "print(LossResult)"
   ]
  },
  {
   "cell_type": "markdown",
   "metadata": {},
   "source": [
    "> Visualizing this results :"
   ]
  },
  {
   "cell_type": "code",
   "execution_count": 20,
   "metadata": {},
   "outputs": [
    {
     "data": {
      "text/plain": [
       "Text(0, 0.5, 'Zero-to-one Loss')"
      ]
     },
     "execution_count": 20,
     "metadata": {},
     "output_type": "execute_result"
    },
    {
     "data": {
      "image/png": "[encoded data removed]",
      "text/plain": [
       "<Figure size 720x720 with 4 Axes>"
      ]
     },
     "metadata": {
      "needs_background": "light"
     },
     "output_type": "display_data"
    }
   ],
   "source": [
    "import matplotlib.pyplot as plt\n",
    "\n",
    "\n",
    "fig, axarr = plt.subplots(4, sharex=True, figsize=(10,10))\n",
    "axarr[0].plot(range(100), ScoreResult)\n",
    "axarr[0].set_title('Number of hidden layers from 1 to 99')\n",
    "axarr[0].set_ylabel('Score')\n",
    "axarr[1].plot(range(100), PredResult)\n",
    "axarr[1].set_ylabel('Precision')\n",
    "axarr[2].plot(range(100), RecallResult)\n",
    "axarr[2].set_ylabel('Recall')\n",
    "axarr[3].plot(range(100), LossResult)\n",
    "axarr[3].set_ylabel('Zero-to-one Loss')\n"
   ]
  },
  {
   "cell_type": "markdown",
   "metadata": {},
   "source": [
    "* 5 MLP MNIST Models : "
   ]
  },
  {
   "cell_type": "markdown",
   "metadata": {},
   "source": [
    "> With 1 to 100 layers and 10 to 300 neurals !!"
   ]
  },
  {
   "cell_type": "markdown",
   "metadata": {},
   "source": [
    "> Here we choice randomly our clf :"
   ]
  },
  {
   "cell_type": "code",
   "execution_count": 6,
   "metadata": {},
   "outputs": [],
   "source": [
    "# 1 layer, max neurals\n",
    "clf1 = MLPClassifier(hidden_layer_sizes=(300))\n",
    "# 3 layers, random neurals\n",
    "clf3 = MLPClassifier(hidden_layer_sizes=(20, 200, 50))\n",
    "# 5 layers, gaussien neurals\n",
    "clf5 = MLPClassifier(hidden_layer_sizes=(50, 100, 200, 100, 50))\n",
    "# 7 layers, desincrease neurals :\n",
    "clf7 = MLPClassifier(hidden_layer_sizes=(300, 250, 200, 150, 100, 50, 10))\n",
    "# 9 layers, increase neurals :\n",
    "clf9 = MLPClassifier(hidden_layer_sizes=(30, 60, 90, 120, 150, 180, 210, 240, 270))\n"
   ]
  },
  {
   "cell_type": "code",
   "execution_count": 7,
   "metadata": {},
   "outputs": [],
   "source": [
    "ClassifierList = (\"clf1\", \"clf3\",\"clf5\", \"clf7\", \"clf9\")\n",
    "\n",
    "Score =[]\n",
    "Precision = []\n",
    "Recall = []\n",
    "Loss = []\n",
    "TimeTraining = []\n",
    "TimePrediction = []\n",
    "\n",
    "def runClfs(clf, i):\n",
    "\n",
    "    #Training :\n",
    "    startTrain =time.time()\n",
    "    clf.fit(xtrain, ytrain)\n",
    "    endTrain = time.time()\n",
    "\n",
    "    #Prediction :\n",
    "    startpred= time.time()\n",
    "    predict = clf.predict(xtest)\n",
    "    endpred = time.time()\n",
    "\n",
    "    #Metrics :\n",
    "    score = clf.score(xtest,ytest)\n",
    "    precision =  metrics.precision_score(ytest, predict,  average='macro')\n",
    "    recall = metrics.recall_score(ytest, predict, average ='macro')\n",
    "    loss01 = metrics.zero_one_loss(ytest, predict)\n",
    "    timetrain = endTrain - startTrain\n",
    "    timePred = endpred - startpred\n",
    "\n",
    "    #Saving results\n",
    "    Score.append(score*100)\n",
    "    Precision.append(precision*100)\n",
    "    Recall.append(recall)\n",
    "    Loss.append(loss01)\n",
    "    TimePrediction.append(timePred)\n",
    "    TimeTraining.append(timetrain)\n",
    "\n",
    "    #Prints :\n",
    "    print(\"For the\", i,\" model we have, score = \", score*100, \"%, precision =\",precision*100, \"%.\" )\n",
    "    print(\"   Training's time = \", timetrain, \"(s) and prediction's time = \", timePred, \"(s).\" )\n",
    "    \n",
    "\n"
   ]
  },
  {
   "cell_type": "code",
   "execution_count": 8,
   "metadata": {},
   "outputs": [
    {
     "name": "stdout",
     "output_type": "stream",
     "text": [
      "For the 1  model we have, score =  98.27142857142857 %, precision = 98.2800387237163 %.\n",
      "   Training's time =  596.970538854599 (s) and prediction's time =  1.4182140827178955 (s).\n"
     ]
    }
   ],
   "source": [
    "# Testing :\n",
    "runClfs(clf1, 1)\n"
   ]
  },
  {
   "cell_type": "code",
   "execution_count": 9,
   "metadata": {},
   "outputs": [
    {
     "name": "stdout",
     "output_type": "stream",
     "text": [
      "For the 2  model we have, score =  96.78571428571429 %, precision = 96.80309677945303 %.\n",
      "   Training's time =  244.33201575279236 (s) and prediction's time =  0.501004695892334 (s).\n"
     ]
    }
   ],
   "source": [
    "runClfs(clf3, 2)\n"
   ]
  },
  {
   "cell_type": "code",
   "execution_count": 10,
   "metadata": {},
   "outputs": [
    {
     "name": "stdout",
     "output_type": "stream",
     "text": [
      "For the 3  model we have, score =  97.87142857142858 %, precision = 97.91080931964906 %.\n",
      "   Training's time =  423.84654569625854 (s) and prediction's time =  4.104665279388428 (s).\n"
     ]
    }
   ],
   "source": [
    "runClfs(clf5, 3)\n"
   ]
  },
  {
   "cell_type": "code",
   "execution_count": 11,
   "metadata": {},
   "outputs": [
    {
     "name": "stderr",
     "output_type": "stream",
     "text": [
      "C:\\Users\\Said\\AppData\\Local\\Programs\\Python\\Python39\\lib\\site-packages\\sklearn\\metrics\\_classification.py:1248: UndefinedMetricWarning: Precision is ill-defined and being set to 0.0 in labels with no predicted samples. Use `zero_division` parameter to control this behavior.\n",
      "  _warn_prf(average, modifier, msg_start, len(result))\n"
     ]
    },
    {
     "name": "stdout",
     "output_type": "stream",
     "text": [
      "For the 4  model we have, score =  11.39047619047619 %, precision = 1.139047619047619 %.\n",
      "   Training's time =  286.1396396160126 (s) and prediction's time =  9.410271644592285 (s).\n"
     ]
    }
   ],
   "source": [
    "runClfs(clf7, 4)\n"
   ]
  },
  {
   "cell_type": "code",
   "execution_count": 12,
   "metadata": {},
   "outputs": [
    {
     "name": "stdout",
     "output_type": "stream",
     "text": [
      "For the 5  model we have, score =  97.59523809523809 %, precision = 97.60245345251924 %.\n",
      "   Training's time =  605.3296127319336 (s) and prediction's time =  6.029844760894775 (s).\n"
     ]
    }
   ],
   "source": [
    "runClfs(clf9, 5)"
   ]
  },
  {
   "cell_type": "markdown",
   "metadata": {},
   "source": [
    "> showing thne results :"
   ]
  },
  {
   "cell_type": "code",
   "execution_count": 13,
   "metadata": {},
   "outputs": [
    {
     "name": "stdout",
     "output_type": "stream",
     "text": [
      "[98.27142857142857, 96.78571428571429, 97.87142857142858, 11.39047619047619, 97.59523809523809]\n",
      "[98.2800387237163, 96.80309677945303, 97.91080931964906, 1.139047619047619, 97.60245345251924]\n",
      "[0.9825327101383717, 0.9675008748193447, 0.9783504241995302, 0.1, 0.97576464277639]\n",
      "[0.017285714285714238, 0.03214285714285714, 0.02128571428571424, 0.886095238095238, 0.024047619047619095]\n",
      "[596.970538854599, 244.33201575279236, 423.84654569625854, 286.1396396160126, 605.3296127319336]\n",
      "[1.4182140827178955, 0.501004695892334, 4.104665279388428, 9.410271644592285, 6.029844760894775]\n"
     ]
    }
   ],
   "source": [
    "print(Score)\n",
    "print(Precision)\n",
    "print(Recall)\n",
    "print(Loss)\n",
    "print(TimeTraining)\n",
    "print(TimePrediction)"
   ]
  },
  {
   "cell_type": "markdown",
   "metadata": {},
   "source": [
    "> Visualizing this results :"
   ]
  },
  {
   "cell_type": "code",
   "execution_count": 16,
   "metadata": {},
   "outputs": [
    {
     "data": {
      "image/png": "[encoded data removed]",
      "text/plain": [
       "<Figure size 720x720 with 6 Axes>"
      ]
     },
     "metadata": {
      "needs_background": "light"
     },
     "output_type": "display_data"
    }
   ],
   "source": [
    "import matplotlib.pyplot as plt\n",
    "\n",
    "fig, axarr = plt.subplots(6, sharex=True, figsize=(10,10))\n",
    "axarr[0].scatter(range(5), Score, c='orange')\n",
    "axarr[0].set_title('The five classifiers with respectively 1,3,5,7,9 hidden layers')\n",
    "axarr[0].set_ylabel('Score (%)')\n",
    "axarr[1].scatter(range(5), Precision, c='red')\n",
    "axarr[1].set_ylabel('Precision (%)')\n",
    "axarr[2].scatter(range(5), Recall, c='green')\n",
    "axarr[2].set_ylabel('Recall ')\n",
    "axarr[3].scatter(range(5), Loss, c='blue')\n",
    "axarr[3].set_ylabel('Zero-to-one Loss')\n",
    "axarr[4].scatter(range(5), TimeTraining, c='pink')\n",
    "axarr[4].set_ylabel('Training Time (s)')\n",
    "axarr[5].scatter(range(5), TimePrediction, c='purple')\n",
    "axarr[5].set_ylabel('¨Prediction Time (s)')\n",
    "\n",
    "plt.show()"
   ]
  },
  {
   "cell_type": "markdown",
   "metadata": {},
   "source": [
    "* Study the convergence of the available optimization algorithms: `L-BFGS`, `SGD` and `Adam` "
   ]
  },
  {
   "cell_type": "markdown",
   "metadata": {},
   "source": [
    "> LBFGS :  an optimizer in the family of quasi-Newton methods.. <br />\n",
    "> SGD : stochastic gradient descent.. <br />\n",
    "> ADAM : a stochastic gradient-based optimizer proposed by Kingma, Diederik, and Jimmy Ba.."
   ]
  },
  {
   "cell_type": "code",
   "execution_count": 5,
   "metadata": {},
   "outputs": [],
   "source": [
    "# Our tuples (<==> i layer(s) with a random number of neurals) :\n",
    "t1 = (30)\n",
    "t3 = (20, 200, 50)\n",
    "t5 = (50, 100, 200, 100, 50)\n",
    "t7 = (300, 250, 200, 150, 100, 50, 10)\n",
    "t9 = (30, 60, 90, 120, 150, 180, 210, 240, 270)"
   ]
  },
  {
   "cell_type": "code",
   "execution_count": 18,
   "metadata": {},
   "outputs": [],
   "source": [
    "TotalScore          = []\n",
    "TotalPrecision      = []\n",
    "TotalRecall         = []\n",
    "TotalLoss           = []\n",
    "TotalTrainingTime   = []\n",
    "TotalPredictionTime = []"
   ]
  },
  {
   "cell_type": "code",
   "execution_count": 19,
   "metadata": {},
   "outputs": [],
   "source": [
    "def trySolver(tuple, solv, i):\n",
    "\n",
    "    #Training :\n",
    "    clf = MLPClassifier(hidden_layer_sizes = tuple, solver = solv)\n",
    "    start1 = time.time()\n",
    "    clf.fit(xtrain, ytrain)\n",
    "    end1 = time.time()\n",
    "\n",
    "    #Prediction :\n",
    "    start2 = time.time()\n",
    "    prediction = clf.predict(xtest)\n",
    "    end2 = time.time()\n",
    "\n",
    "    #Metrics :\n",
    "    score = clf.score(xtest, ytest)\n",
    "    precision = metrics.precision_score(ytest, prediction, average = 'macro')\n",
    "    recall = metrics.zero_one_loss(ytest, prediction)\n",
    "    loss0_1 = metrics.zero_one_loss(ytest, prediction)\n",
    "\n",
    "    trainingTime = end1 - start1\n",
    "    predictionTime = end2 - start2\n",
    "\n",
    "    #Saving reults :\n",
    "    TotalScore.append(score)\n",
    "    TotalPrecision.append(precision)\n",
    "    TotalRecall.append(recall)\n",
    "    TotalLoss.append(loss0_1)\n",
    "    TotalTrainingTime.append(trainingTime)\n",
    "    TotalPredictionTime.append(predictionTime)\n",
    "\n",
    "    # Printing results :\n",
    "    print(\"For the Solver :: \", solv)\n",
    "    print(\"for the \", i, \"model we have, a score = \", score * 100, \"%, precision = \", precision * 100, \"%, training's time = \", trainingTime, \"and a prediction's time = \", predictionTime, \" .\")\n",
    "    \n",
    "\n"
   ]
  },
  {
   "cell_type": "markdown",
   "metadata": {},
   "source": [
    "> Testing :"
   ]
  },
  {
   "cell_type": "code",
   "execution_count": 20,
   "metadata": {},
   "outputs": [
    {
     "name": "stderr",
     "output_type": "stream",
     "text": [
      "C:\\Users\\Said\\AppData\\Local\\Programs\\Python\\Python39\\lib\\site-packages\\sklearn\\neural_network\\_multilayer_perceptron.py:500: ConvergenceWarning: lbfgs failed to converge (status=1):\n",
      "STOP: TOTAL NO. of ITERATIONS REACHED LIMIT.\n",
      "\n",
      "Increase the number of iterations (max_iter) or scale the data as shown in:\n",
      "    https://scikit-learn.org/stable/modules/preprocessing.html\n",
      "  self.n_iter_ = _check_optimize_result(\"lbfgs\", opt_res, self.max_iter)\n"
     ]
    },
    {
     "name": "stdout",
     "output_type": "stream",
     "text": [
      "For the Solver ::  lbfgs\n",
      "for the  1 model we have, a score =  86.95714285714286 %, precision =  88.07311868633234 %, training's time =  218.7680048942566 and a prediction's time =  12.819177389144897  .\n"
     ]
    },
    {
     "name": "stderr",
     "output_type": "stream",
     "text": [
      "C:\\Users\\Said\\AppData\\Local\\Programs\\Python\\Python39\\lib\\site-packages\\sklearn\\metrics\\_classification.py:1248: UndefinedMetricWarning: Precision is ill-defined and being set to 0.0 in labels with no predicted samples. Use `zero_division` parameter to control this behavior.\n",
      "  _warn_prf(average, modifier, msg_start, len(result))\n"
     ]
    },
    {
     "name": "stdout",
     "output_type": "stream",
     "text": [
      "For the Solver ::  sgd\n",
      "for the  1 model we have, a score =  50.62857142857143 %, precision =  45.49922100565653 %, training's time =  99.03525137901306 and a prediction's time =  0.1869971752166748  .\n",
      "For the Solver ::  adam\n",
      "for the  1 model we have, a score =  95.19047619047619 %, precision =  95.1722243992223 %, training's time =  384.30015778541565 and a prediction's time =  1.4356191158294678  .\n"
     ]
    }
   ],
   "source": [
    "for j in ('lbfgs', 'sgd', 'adam'):\n",
    "    trySolver(t1, j, 1)\n"
   ]
  },
  {
   "cell_type": "code",
   "execution_count": 21,
   "metadata": {},
   "outputs": [
    {
     "name": "stderr",
     "output_type": "stream",
     "text": [
      "C:\\Users\\Said\\AppData\\Local\\Programs\\Python\\Python39\\lib\\site-packages\\sklearn\\neural_network\\_multilayer_perceptron.py:500: ConvergenceWarning: lbfgs failed to converge (status=1):\n",
      "STOP: TOTAL NO. of ITERATIONS REACHED LIMIT.\n",
      "\n",
      "Increase the number of iterations (max_iter) or scale the data as shown in:\n",
      "    https://scikit-learn.org/stable/modules/preprocessing.html\n",
      "  self.n_iter_ = _check_optimize_result(\"lbfgs\", opt_res, self.max_iter)\n"
     ]
    },
    {
     "name": "stdout",
     "output_type": "stream",
     "text": [
      "For the Solver ::  lbfgs\n",
      "for the  2 model we have, a score =  75.53809523809524 %, precision =  75.19787268070714 %, training's time =  446.4630093574524 and a prediction's time =  29.79080891609192  .\n"
     ]
    },
    {
     "name": "stderr",
     "output_type": "stream",
     "text": [
      "C:\\Users\\Said\\AppData\\Local\\Programs\\Python\\Python39\\lib\\site-packages\\sklearn\\neural_network\\_multilayer_perceptron.py:614: ConvergenceWarning: Stochastic Optimizer: Maximum iterations (200) reached and the optimization hasn't converged yet.\n",
      "  warnings.warn(\n"
     ]
    },
    {
     "name": "stdout",
     "output_type": "stream",
     "text": [
      "For the Solver ::  sgd\n",
      "for the  2 model we have, a score =  94.57142857142857 %, precision =  94.51118196036758 %, training's time =  554.7537832260132 and a prediction's time =  8.303427696228027  .\n",
      "For the Solver ::  adam\n",
      "for the  2 model we have, a score =  97.01428571428572 %, precision =  97.02755339072355 %, training's time =  296.31069707870483 and a prediction's time =  0.38300061225891113  .\n"
     ]
    }
   ],
   "source": [
    "for j in ('lbfgs', 'sgd', 'adam'):\n",
    "    trySolver(t3, j, 2)\n"
   ]
  },
  {
   "cell_type": "code",
   "execution_count": 22,
   "metadata": {},
   "outputs": [
    {
     "name": "stderr",
     "output_type": "stream",
     "text": [
      "C:\\Users\\Said\\AppData\\Local\\Programs\\Python\\Python39\\lib\\site-packages\\sklearn\\neural_network\\_multilayer_perceptron.py:500: ConvergenceWarning: lbfgs failed to converge (status=1):\n",
      "STOP: TOTAL NO. of ITERATIONS REACHED LIMIT.\n",
      "\n",
      "Increase the number of iterations (max_iter) or scale the data as shown in:\n",
      "    https://scikit-learn.org/stable/modules/preprocessing.html\n",
      "  self.n_iter_ = _check_optimize_result(\"lbfgs\", opt_res, self.max_iter)\n"
     ]
    },
    {
     "name": "stdout",
     "output_type": "stream",
     "text": [
      "For the Solver ::  lbfgs\n",
      "for the  3 model we have, a score =  97.89047619047619 %, precision =  97.87973592143133 %, training's time =  1634.4662458896637 and a prediction's time =  116.10134959220886  .\n",
      "For the Solver ::  sgd\n",
      "for the  3 model we have, a score =  97.26666666666667 %, precision =  97.24696843263503 %, training's time =  616.2729866504669 and a prediction's time =  1.1352427005767822  .\n",
      "For the Solver ::  adam\n",
      "for the  3 model we have, a score =  98.22380952380952 %, precision =  98.22562940885007 %, training's time =  343.4446792602539 and a prediction's time =  0.554997444152832  .\n"
     ]
    }
   ],
   "source": [
    "for j in ('lbfgs', 'sgd', 'adam'):\n",
    "    trySolver(t5, j, 3)\n"
   ]
  },
  {
   "cell_type": "code",
   "execution_count": 23,
   "metadata": {},
   "outputs": [
    {
     "name": "stderr",
     "output_type": "stream",
     "text": [
      "C:\\Users\\Said\\AppData\\Local\\Programs\\Python\\Python39\\lib\\site-packages\\sklearn\\metrics\\_classification.py:1248: UndefinedMetricWarning: Precision is ill-defined and being set to 0.0 in labels with no predicted samples. Use `zero_division` parameter to control this behavior.\n",
      "  _warn_prf(average, modifier, msg_start, len(result))\n"
     ]
    },
    {
     "name": "stdout",
     "output_type": "stream",
     "text": [
      "For the Solver ::  lbfgs\n",
      "for the  4 model we have, a score =  11.39047619047619 %, precision =  1.139047619047619 %, training's time =  172.05368518829346 and a prediction's time =  9.287686824798584  .\n"
     ]
    },
    {
     "name": "stderr",
     "output_type": "stream",
     "text": [
      "C:\\Users\\Said\\AppData\\Local\\Programs\\Python\\Python39\\lib\\site-packages\\sklearn\\metrics\\_classification.py:1248: UndefinedMetricWarning: Precision is ill-defined and being set to 0.0 in labels with no predicted samples. Use `zero_division` parameter to control this behavior.\n",
      "  _warn_prf(average, modifier, msg_start, len(result))\n"
     ]
    },
    {
     "name": "stdout",
     "output_type": "stream",
     "text": [
      "For the Solver ::  sgd\n",
      "for the  4 model we have, a score =  11.39047619047619 %, precision =  1.139047619047619 %, training's time =  292.0816957950592 and a prediction's time =  7.073765277862549  .\n",
      "For the Solver ::  adam\n",
      "for the  4 model we have, a score =  98.54285714285714 %, precision =  98.53580251300315 %, training's time =  1008.9422144889832 and a prediction's time =  2.3116092681884766  .\n"
     ]
    }
   ],
   "source": [
    "for j in ('lbfgs', 'sgd', 'adam'):\n",
    "    trySolver(t7, j, 4)\n"
   ]
  },
  {
   "cell_type": "code",
   "execution_count": 24,
   "metadata": {},
   "outputs": [
    {
     "name": "stderr",
     "output_type": "stream",
     "text": [
      "C:\\Users\\Said\\AppData\\Local\\Programs\\Python\\Python39\\lib\\site-packages\\sklearn\\neural_network\\_multilayer_perceptron.py:500: ConvergenceWarning: lbfgs failed to converge (status=1):\n",
      "STOP: TOTAL NO. of ITERATIONS REACHED LIMIT.\n",
      "\n",
      "Increase the number of iterations (max_iter) or scale the data as shown in:\n",
      "    https://scikit-learn.org/stable/modules/preprocessing.html\n",
      "  self.n_iter_ = _check_optimize_result(\"lbfgs\", opt_res, self.max_iter)\n"
     ]
    },
    {
     "name": "stdout",
     "output_type": "stream",
     "text": [
      "For the Solver ::  lbfgs\n",
      "for the  5 model we have, a score =  95.03809523809524 %, precision =  94.98965011044137 %, training's time =  1504.3333435058594 and a prediction's time =  10.102150201797485  .\n",
      "For the Solver ::  sgd\n",
      "for the  5 model we have, a score =  97.74285714285715 %, precision =  97.72491829499896 %, training's time =  639.6866199970245 and a prediction's time =  5.12909722328186  .\n",
      "For the Solver ::  adam\n",
      "for the  5 model we have, a score =  98.11904761904762 %, precision =  98.11213002626126 %, training's time =  646.9030668735504 and a prediction's time =  1.1405844688415527  .\n"
     ]
    }
   ],
   "source": [
    "for j in ('lbfgs', 'sgd', 'adam'):\n",
    "    trySolver(t9, j, 5)"
   ]
  },
  {
   "cell_type": "markdown",
   "metadata": {},
   "source": [
    "> Showing this results :"
   ]
  },
  {
   "cell_type": "code",
   "execution_count": 25,
   "metadata": {},
   "outputs": [
    {
     "name": "stdout",
     "output_type": "stream",
     "text": [
      "[0.8695714285714286, 0.5062857142857143, 0.9519047619047619, 0.7553809523809524, 0.9457142857142857, 0.9701428571428572, 0.9789047619047619, 0.9726666666666667, 0.9822380952380952, 0.11390476190476191, 0.11390476190476191, 0.9854285714285714, 0.9503809523809523, 0.9774285714285714, 0.9811904761904762]\n",
      "[0.8807311868633233, 0.4549922100565653, 0.951722243992223, 0.7519787268070713, 0.9451118196036757, 0.9702755339072355, 0.9787973592143133, 0.9724696843263503, 0.9822562940885007, 0.01139047619047619, 0.01139047619047619, 0.9853580251300315, 0.9498965011044138, 0.9772491829499896, 0.9811213002626126]\n",
      "[0.13042857142857145, 0.49371428571428566, 0.04809523809523808, 0.24461904761904762, 0.05428571428571427, 0.029857142857142804, 0.021095238095238056, 0.02733333333333332, 0.017761904761904757, 0.886095238095238, 0.886095238095238, 0.014571428571428569, 0.049619047619047674, 0.022571428571428576, 0.01880952380952383]\n",
      "[0.13042857142857145, 0.49371428571428566, 0.04809523809523808, 0.24461904761904762, 0.05428571428571427, 0.029857142857142804, 0.021095238095238056, 0.02733333333333332, 0.017761904761904757, 0.886095238095238, 0.886095238095238, 0.014571428571428569, 0.049619047619047674, 0.022571428571428576, 0.01880952380952383]\n",
      "[218.7680048942566, 99.03525137901306, 384.30015778541565, 446.4630093574524, 554.7537832260132, 296.31069707870483, 1634.4662458896637, 616.2729866504669, 343.4446792602539, 172.05368518829346, 292.0816957950592, 1008.9422144889832, 1504.3333435058594, 639.6866199970245, 646.9030668735504]\n",
      "[12.819177389144897, 0.1869971752166748, 1.4356191158294678, 29.79080891609192, 8.303427696228027, 0.38300061225891113, 116.10134959220886, 1.1352427005767822, 0.554997444152832, 9.287686824798584, 7.073765277862549, 2.3116092681884766, 10.102150201797485, 5.12909722328186, 1.1405844688415527]\n"
     ]
    }
   ],
   "source": [
    "print(TotalScore)\n",
    "print(TotalPrecision)\n",
    "print(TotalRecall)\n",
    "print(TotalLoss)\n",
    "print(TotalTrainingTime)\n",
    "print(TotalPredictionTime)"
   ]
  },
  {
   "cell_type": "markdown",
   "metadata": {},
   "source": [
    "* Visualiziing this results :"
   ]
  },
  {
   "cell_type": "code",
   "execution_count": 26,
   "metadata": {},
   "outputs": [
    {
     "data": {
      "image/png": "[encoded data removed]",
      "text/plain": [
       "<Figure size 720x720 with 6 Axes>"
      ]
     },
     "metadata": {
      "needs_background": "light"
     },
     "output_type": "display_data"
    }
   ],
   "source": [
    "fig, axarr = plt.subplots(6, sharex=True, figsize=(10,10))\n",
    "\n",
    "axarr[0].scatter(range(15), TotalScore, c='red')\n",
    "axarr[0].set_title('The five classifiers with 3 training methods : <lbfgs>, <sgd>, <adam>')\n",
    "axarr[0].set_ylabel('Score (%)')\n",
    "axarr[1].scatter(range(15), TotalPrecision, c='blue')\n",
    "axarr[1].set_ylabel('Precision (%)')\n",
    "axarr[2].scatter(range(15), TotalRecall, c='orange')\n",
    "axarr[2].set_ylabel('Recall ')\n",
    "axarr[3].scatter(range(15), TotalRecall, c='purple')\n",
    "axarr[3].set_ylabel('Zero-to-one Loss')\n",
    "axarr[4].scatter(range(15), TotalTrainingTime, c='yellow')\n",
    "axarr[4].set_ylabel('Training Time (s)')\n",
    "axarr[5].scatter(range(15), TotalPredictionTime)\n",
    "axarr[5].set_ylabel('¨Prediction Time (s)')\n",
    "\n",
    "plt.show()"
   ]
  },
  {
   "cell_type": "markdown",
   "metadata": {},
   "source": [
    "* Variation of the Activation function :"
   ]
  },
  {
   "cell_type": "code",
   "execution_count": 6,
   "metadata": {},
   "outputs": [],
   "source": [
    "TotalScore2 = []\n",
    "TotalPrecision2 = []\n",
    "TotalRecall2 = []\n",
    "TotalLoss2 = []\n",
    "TotalTrainingTime2 =[]\n",
    "TotalPredictionTime2 = []"
   ]
  },
  {
   "cell_type": "code",
   "execution_count": 7,
   "metadata": {},
   "outputs": [],
   "source": [
    "def trySomeActivationFcts(t, activation ,i) :\n",
    "    #Training :\n",
    "    clf = MLPClassifier(hidden_layer_sizes = t, activation = activation)\n",
    "    start1 = time.time()\n",
    "    clf.fit(xtrain, ytrain)\n",
    "    end1= time.time()\n",
    "\n",
    "    #Prediction :\n",
    "    start2 = time.time()\n",
    "    prediction = clf.predict(xtest)\n",
    "    end2 = time.time()\n",
    "\n",
    "    #Metrics :\n",
    "    score = clf.score(xtest, ytest)\n",
    "    precision = metrics.precision_score(ytest, prediction, average='macro')\n",
    "    recall = metrics.recall_score(ytest, prediction, average='macro')\n",
    "    loss0_1 = metrics.zero_one_loss(ytest, prediction)\n",
    "\n",
    "    trainingT = end1 - start1\n",
    "    predictionT = end2 - start2\n",
    "\n",
    "    # Saving the results :\n",
    "    TotalScore2.append(score)\n",
    "    TotalPrecision2.append(precision)\n",
    "    TotalRecall2.append(recall)\n",
    "    TotalLoss2.append(loss0_1)\n",
    "    TotalTrainingTime2.append(trainingT)\n",
    "    TotalPredictionTime2.append(predictionT)\n",
    "\n",
    "    #Print the results :\n",
    "    print(\"For the activation function : \", activation)\n",
    "    print(\"for the, \", i, \" model, the score = \",score * 100, \"%, precision = \", precision * 100, \"%, training'time = \", trainingT, \"(s) and the prediction's time is = \", predictionT, \" (s).\")\n",
    "     \n"
   ]
  },
  {
   "cell_type": "markdown",
   "metadata": {},
   "source": [
    "> Testing :"
   ]
  },
  {
   "cell_type": "code",
   "execution_count": 8,
   "metadata": {},
   "outputs": [
    {
     "name": "stdout",
     "output_type": "stream",
     "text": [
      "For the activation function :  identity\n",
      "for the,  1  model, the score =  90.84285714285714 %, precision =  90.95663317002834 %, training'time =  69.79375720024109 (s) and the prediction's time is =  0.29687070846557617  (s).\n",
      "For the activation function :  logistic\n",
      "for the,  1  model, the score =  93.6047619047619 %, precision =  93.54905947089796 %, training'time =  233.32597064971924 (s) and the prediction's time is =  0.6720788478851318  (s).\n",
      "For the activation function :  tanh\n",
      "for the,  1  model, the score =  92.96190476190476 %, precision =  92.94183418466574 %, training'time =  268.85450887680054 (s) and the prediction's time is =  1.1183788776397705  (s).\n",
      "For the activation function :  relu\n",
      "for the,  1  model, the score =  94.57142857142857 %, precision =  94.54914648029093 %, training'time =  226.16475582122803 (s) and the prediction's time is =  0.23858213424682617  (s).\n"
     ]
    }
   ],
   "source": [
    "for j in ('identity', 'logistic', 'tanh', 'relu'):\n",
    "    trySomeActivationFcts(t1, j, 1)"
   ]
  },
  {
   "cell_type": "code",
   "execution_count": 9,
   "metadata": {},
   "outputs": [
    {
     "name": "stdout",
     "output_type": "stream",
     "text": [
      "For the activation function :  identity\n",
      "for the,  2  model, the score =  92.12857142857143 %, precision =  92.14658639303617 %, training'time =  375.2230751514435 (s) and the prediction's time is =  51.321407079696655  (s).\n",
      "For the activation function :  logistic\n",
      "for the,  2  model, the score =  93.80952380952381 %, precision =  93.72185393164841 %, training'time =  395.58043146133423 (s) and the prediction's time is =  13.179959774017334  (s).\n",
      "For the activation function :  tanh\n",
      "for the,  2  model, the score =  93.26190476190476 %, precision =  93.2025133633571 %, training'time =  351.33014154434204 (s) and the prediction's time is =  16.166006088256836  (s).\n",
      "For the activation function :  relu\n",
      "for the,  2  model, the score =  96.35238095238095 %, precision =  96.31946070610665 %, training'time =  494.31905817985535 (s) and the prediction's time is =  1.7457115650177002  (s).\n"
     ]
    }
   ],
   "source": [
    "for j in ('identity', 'logistic', 'tanh', 'relu'):\n",
    "    trySomeActivationFcts(t3, j, 2)"
   ]
  },
  {
   "cell_type": "code",
   "execution_count": 10,
   "metadata": {},
   "outputs": [
    {
     "name": "stdout",
     "output_type": "stream",
     "text": [
      "For the activation function :  identity\n",
      "for the,  3  model, the score =  92.49047619047619 %, precision =  92.41194959466702 %, training'time =  1068.3581264019012 (s) and the prediction's time is =  46.457226037979126  (s).\n",
      "For the activation function :  logistic\n",
      "for the,  3  model, the score =  95.46666666666667 %, precision =  95.44119100771731 %, training'time =  911.5650060176849 (s) and the prediction's time is =  4.831017255783081  (s).\n",
      "For the activation function :  tanh\n",
      "for the,  3  model, the score =  93.92857142857143 %, precision =  93.87930623490834 %, training'time =  344.3298556804657 (s) and the prediction's time is =  0.7968840599060059  (s).\n",
      "For the activation function :  relu\n",
      "for the,  3  model, the score =  97.80952380952381 %, precision =  97.79235400611897 %, training'time =  289.26820278167725 (s) and the prediction's time is =  0.4374983310699463  (s).\n"
     ]
    }
   ],
   "source": [
    "\n",
    "for j in ('identity', 'logistic', 'tanh', 'relu'):\n",
    "    trySomeActivationFcts(t5, j, 3)"
   ]
  },
  {
   "cell_type": "code",
   "execution_count": 11,
   "metadata": {},
   "outputs": [
    {
     "name": "stdout",
     "output_type": "stream",
     "text": [
      "For the activation function :  identity\n",
      "for the,  4  model, the score =  91.65714285714286 %, precision =  91.74757944983602 %, training'time =  2048.189071416855 (s) and the prediction's time is =  8.229941844940186  (s).\n",
      "For the activation function :  logistic\n",
      "for the,  4  model, the score =  96.88095238095238 %, precision =  96.8639389624092 %, training'time =  2548.36083483696 (s) and the prediction's time is =  6.650424480438232  (s).\n",
      "For the activation function :  tanh\n",
      "for the,  4  model, the score =  95.5 %, precision =  95.51148431270316 %, training'time =  1575.106074333191 (s) and the prediction's time is =  4.56481146812439  (s).\n"
     ]
    },
    {
     "name": "stderr",
     "output_type": "stream",
     "text": [
      "C:\\Users\\Said\\AppData\\Local\\Programs\\Python\\Python39\\lib\\site-packages\\sklearn\\metrics\\_classification.py:1248: UndefinedMetricWarning: Precision is ill-defined and being set to 0.0 in labels with no predicted samples. Use `zero_division` parameter to control this behavior.\n",
      "  _warn_prf(average, modifier, msg_start, len(result))\n"
     ]
    },
    {
     "name": "stdout",
     "output_type": "stream",
     "text": [
      "For the activation function :  relu\n",
      "for the,  4  model, the score =  11.257142857142858 %, precision =  1.125714285714286 %, training'time =  260.8994679450989 (s) and the prediction's time is =  1.4100444316864014  (s).\n"
     ]
    }
   ],
   "source": [
    "\n",
    "for j in ('identity', 'logistic', 'tanh', 'relu'):\n",
    "    trySomeActivationFcts(t7, j, 4)"
   ]
  },
  {
   "cell_type": "code",
   "execution_count": 12,
   "metadata": {},
   "outputs": [
    {
     "name": "stdout",
     "output_type": "stream",
     "text": [
      "For the activation function :  identity\n",
      "for the,  5  model, the score =  90.64285714285715 %, precision =  90.72053989585577 %, training'time =  242.93140745162964 (s) and the prediction's time is =  0.8535447120666504  (s).\n"
     ]
    },
    {
     "name": "stderr",
     "output_type": "stream",
     "text": [
      "C:\\Users\\Said\\AppData\\Local\\Programs\\Python\\Python39\\lib\\site-packages\\sklearn\\metrics\\_classification.py:1248: UndefinedMetricWarning: Precision is ill-defined and being set to 0.0 in labels with no predicted samples. Use `zero_division` parameter to control this behavior.\n",
      "  _warn_prf(average, modifier, msg_start, len(result))\n"
     ]
    },
    {
     "name": "stdout",
     "output_type": "stream",
     "text": [
      "For the activation function :  logistic\n",
      "for the,  5  model, the score =  11.257142857142858 %, precision =  1.125714285714286 %, training'time =  194.2609784603119 (s) and the prediction's time is =  1.5091609954833984  (s).\n",
      "For the activation function :  tanh\n",
      "for the,  5  model, the score =  93.07142857142857 %, precision =  93.08932512865539 %, training'time =  1186.8149931430817 (s) and the prediction's time is =  3.67378306388855  (s).\n",
      "For the activation function :  relu\n",
      "for the,  5  model, the score =  97.93809523809523 %, precision =  97.93652713057469 %, training'time =  747.3771078586578 (s) and the prediction's time is =  0.9957916736602783  (s).\n"
     ]
    }
   ],
   "source": [
    "\n",
    "for j in ('identity', 'logistic', 'tanh', 'relu'):\n",
    "    trySomeActivationFcts(t9, j, 5)"
   ]
  },
  {
   "cell_type": "markdown",
   "metadata": {},
   "source": [
    "> Showing the results :"
   ]
  },
  {
   "cell_type": "code",
   "execution_count": 13,
   "metadata": {},
   "outputs": [
    {
     "name": "stdout",
     "output_type": "stream",
     "text": [
      "[0.9084285714285715, 0.936047619047619, 0.9296190476190476, 0.9457142857142857, 0.9212857142857143, 0.9380952380952381, 0.9326190476190476, 0.9635238095238096, 0.9249047619047619, 0.9546666666666667, 0.9392857142857143, 0.9780952380952381, 0.9165714285714286, 0.9688095238095238, 0.955, 0.11257142857142857, 0.9064285714285715, 0.11257142857142857, 0.9307142857142857, 0.9793809523809524]\n",
      "[0.9095663317002834, 0.9354905947089796, 0.9294183418466574, 0.9454914648029092, 0.9214658639303617, 0.9372185393164841, 0.932025133633571, 0.9631946070610665, 0.9241194959466702, 0.9544119100771731, 0.9387930623490834, 0.9779235400611898, 0.9174757944983603, 0.9686393896240919, 0.9551148431270317, 0.011257142857142858, 0.9072053989585577, 0.011257142857142858, 0.9308932512865539, 0.9793652713057469]\n",
      "[0.9072349871521226, 0.935300613826031, 0.9286541279932935, 0.945174375480757, 0.9206813692422232, 0.9376465214891315, 0.9318549271293589, 0.963361496779625, 0.9240376524068802, 0.9542410808326336, 0.9386185017296501, 0.9780489949671514, 0.9146786098950711, 0.9684345142458657, 0.9542233793414594, 0.1, 0.9052968291726465, 0.1, 0.92971845099439, 0.9791762986115622]\n",
      "[0.09157142857142853, 0.06395238095238098, 0.07038095238095243, 0.05428571428571427, 0.07871428571428574, 0.06190476190476191, 0.06738095238095243, 0.03647619047619044, 0.0750952380952381, 0.04533333333333334, 0.06071428571428572, 0.02190476190476187, 0.08342857142857141, 0.031190476190476213, 0.04500000000000004, 0.8874285714285715, 0.09357142857142853, 0.8874285714285715, 0.06928571428571428, 0.020619047619047648]\n",
      "[69.79375720024109, 233.32597064971924, 268.85450887680054, 226.16475582122803, 375.2230751514435, 395.58043146133423, 351.33014154434204, 494.31905817985535, 1068.3581264019012, 911.5650060176849, 344.3298556804657, 289.26820278167725, 2048.189071416855, 2548.36083483696, 1575.106074333191, 260.8994679450989, 242.93140745162964, 194.2609784603119, 1186.8149931430817, 747.3771078586578]\n",
      "[0.29687070846557617, 0.6720788478851318, 1.1183788776397705, 0.23858213424682617, 51.321407079696655, 13.179959774017334, 16.166006088256836, 1.7457115650177002, 46.457226037979126, 4.831017255783081, 0.7968840599060059, 0.4374983310699463, 8.229941844940186, 6.650424480438232, 4.56481146812439, 1.4100444316864014, 0.8535447120666504, 1.5091609954833984, 3.67378306388855, 0.9957916736602783]\n"
     ]
    }
   ],
   "source": [
    "print(TotalScore2)\n",
    "print(TotalPrecision2)\n",
    "print(TotalRecall2)\n",
    "print(TotalLoss2)\n",
    "print(TotalTrainingTime2)\n",
    "print(TotalPredictionTime2)"
   ]
  },
  {
   "cell_type": "markdown",
   "metadata": {},
   "source": [
    "> Visualizing this reults :"
   ]
  },
  {
   "cell_type": "code",
   "execution_count": 14,
   "metadata": {},
   "outputs": [
    {
     "data": {
      "image/png": "[encoded data removed]",
      "text/plain": [
       "<Figure size 720x720 with 6 Axes>"
      ]
     },
     "metadata": {
      "needs_background": "light"
     },
     "output_type": "display_data"
    }
   ],
   "source": [
    "fig, axarr = plt.subplots(6, sharex=True, figsize=(10,10))\n",
    "axarr[0].scatter(range(20), TotalScore2)\n",
    "axarr[0].set_title('The five classifiers with different activation functions : identity, logistic, tanh, relu')\n",
    "axarr[0].set_ylabel('Score (%)')\n",
    "axarr[1].scatter(range(20), TotalPrecision2)\n",
    "axarr[1].set_ylabel('Precision (%)')\n",
    "axarr[2].scatter(range(20), TotalRecall2)\n",
    "axarr[2].set_ylabel('Recall ')\n",
    "axarr[3].scatter(range(20), TotalLoss2)\n",
    "axarr[3].set_ylabel('Zero-to-one Loss')\n",
    "axarr[4].scatter(range(20), TotalTrainingTime2)\n",
    "axarr[4].set_ylabel('Training Time(s)')\n",
    "axarr[5].scatter(range(20), TotalPredictionTime2)\n",
    "axarr[5].set_ylabel('¨Prediction Time(s)')\n",
    "\n",
    "plt.show()"
   ]
  },
  {
   "cell_type": "markdown",
   "metadata": {},
   "source": [
    "* Variation of alpha (Regulisation value L2)"
   ]
  },
  {
   "cell_type": "code",
   "execution_count": 15,
   "metadata": {},
   "outputs": [],
   "source": [
    "alphas = np.logspace(-5, 3, 5)\n",
    "\n",
    "FinalScore = []\n",
    "FinalPrecision = []\n",
    "FinalRecal = []\n",
    "FinalLoss = []\n",
    "FinalTimeTraining = []\n",
    "FinalTimePrediction = []\n",
    "\n"
   ]
  },
  {
   "cell_type": "code",
   "execution_count": 16,
   "metadata": {},
   "outputs": [],
   "source": [
    "def variateAlpha(numTuple, a, i):\n",
    "    # Train\n",
    "    clf = MLPClassifier(hidden_layer_sizes=numTuple, alpha= a)\n",
    "    startTrain =time.time()\n",
    "    clf.fit(xtrain, ytrain)\n",
    "    endTrain = time.time()\n",
    "    # Predict\n",
    "    startpred= time.time()\n",
    "    predict = clf.predict(xtest)\n",
    "    endpred = time.time()\n",
    "    # Metrics\n",
    "    score = clf.score(xtest,ytest)\n",
    "    precision =  metrics.precision_score(ytest, predict,  average='macro')\n",
    "    recall = metrics.recall_score(ytest, predict, average ='macro')\n",
    "    loss01 = metrics.zero_one_loss(ytest, predict)\n",
    "    timetrain = endTrain - startTrain\n",
    "    timePred = endpred - startpred\n",
    "    #Append\n",
    "    FinalScore.append(score*100)\n",
    "    FinalPrecision.append(precision*100)\n",
    "    FinalRecal.append(recall)\n",
    "    FinalLoss.append(loss01)\n",
    "    FinalTimeTraining.append(timePred)\n",
    "    FinalTimePrediction.append(timetrain)\n",
    "    #Print\n",
    "    print (\"ALPHA : \", a)\n",
    "    print(\"pour le \", i,\"eme modèle, score = \", score*100, \"%, précision =\",precision*100, \"%.\" )\n",
    "    print(\"    temps apprentissage : \", timetrain, \"sec , temps prediction = \", timePred, \"sec.\" )\n",
    "\n",
    "    \n",
    "\n"
   ]
  },
  {
   "cell_type": "code",
   "execution_count": 17,
   "metadata": {},
   "outputs": [
    {
     "name": "stdout",
     "output_type": "stream",
     "text": [
      "ALPHA :  1e-05\n",
      "pour le  1 eme modèle, score =  95.16666666666667 %, précision = 95.2291860265325 %.\n",
      "    temps apprentissage :  128.60655188560486 sec , temps prediction =  0.17199420928955078 sec.\n",
      "ALPHA :  0.001\n",
      "pour le  1 eme modèle, score =  95.17142857142858 %, précision = 95.19754387604479 %.\n",
      "    temps apprentissage :  184.3132643699646 sec , temps prediction =  0.17299890518188477 sec.\n",
      "ALPHA :  0.1\n",
      "pour le  1 eme modèle, score =  93.96190476190476 %, précision = 94.00399981012626 %.\n",
      "    temps apprentissage :  132.14650321006775 sec , temps prediction =  0.17996954917907715 sec.\n",
      "ALPHA :  10.0\n",
      "pour le  1 eme modèle, score =  95.5904761904762 %, précision = 95.67070050934839 %.\n",
      "    temps apprentissage :  57.39375114440918 sec , temps prediction =  0.18099236488342285 sec.\n",
      "ALPHA :  1000.0\n",
      "pour le  1 eme modèle, score =  88.82380952380953 %, précision = 89.31685570398147 %.\n",
      "    temps apprentissage :  21.723164796829224 sec , temps prediction =  0.1759946346282959 sec.\n"
     ]
    }
   ],
   "source": [
    "for j in alphas:\n",
    "    variateAlpha(t1, j, 1)\n"
   ]
  },
  {
   "cell_type": "code",
   "execution_count": 18,
   "metadata": {},
   "outputs": [
    {
     "name": "stdout",
     "output_type": "stream",
     "text": [
      "ALPHA :  1e-05\n",
      "pour le  2 eme modèle, score =  96.78571428571429 %, précision = 96.79792097046086 %.\n",
      "    temps apprentissage :  255.08372974395752 sec , temps prediction =  0.30196690559387207 sec.\n",
      "ALPHA :  0.001\n",
      "pour le  2 eme modèle, score =  97.13809523809523 %, précision = 97.13904154956417 %.\n",
      "    temps apprentissage :  272.381600856781 sec , temps prediction =  0.3339955806732178 sec.\n",
      "ALPHA :  0.1\n",
      "pour le  2 eme modèle, score =  97.06190476190476 %, précision = 97.0363930346773 %.\n",
      "    temps apprentissage :  223.45912623405457 sec , temps prediction =  0.31996846199035645 sec.\n",
      "ALPHA :  10.0\n",
      "pour le  2 eme modèle, score =  96.07142857142857 %, précision = 96.08852301619075 %.\n",
      "    temps apprentissage :  152.77145504951477 sec , temps prediction =  0.3059711456298828 sec.\n",
      "ALPHA :  1000.0\n",
      "pour le  2 eme modèle, score =  11.257142857142858 %, précision = 1.125714285714286 %.\n",
      "    temps apprentissage :  34.20952272415161 sec , temps prediction =  0.3429906368255615 sec.\n"
     ]
    },
    {
     "name": "stderr",
     "output_type": "stream",
     "text": [
      "C:\\Users\\Said\\AppData\\Local\\Programs\\Python\\Python39\\lib\\site-packages\\sklearn\\metrics\\_classification.py:1248: UndefinedMetricWarning: Precision is ill-defined and being set to 0.0 in labels with no predicted samples. Use `zero_division` parameter to control this behavior.\n",
      "  _warn_prf(average, modifier, msg_start, len(result))\n"
     ]
    }
   ],
   "source": [
    "for j in alphas:\n",
    "    variateAlpha(t3, j, 2)\n"
   ]
  },
  {
   "cell_type": "code",
   "execution_count": 19,
   "metadata": {},
   "outputs": [
    {
     "name": "stdout",
     "output_type": "stream",
     "text": [
      "ALPHA :  1e-05\n",
      "pour le  3 eme modèle, score =  97.91428571428571 %, précision = 97.89371651515653 %.\n",
      "    temps apprentissage :  178.1393563747406 sec , temps prediction =  0.514998197555542 sec.\n",
      "ALPHA :  0.001\n",
      "pour le  3 eme modèle, score =  97.72857142857143 %, précision = 97.72398328766234 %.\n",
      "    temps apprentissage :  220.72903442382812 sec , temps prediction =  0.514000415802002 sec.\n",
      "ALPHA :  0.1\n",
      "pour le  3 eme modèle, score =  98.28571428571429 %, précision = 98.2788248255995 %.\n",
      "    temps apprentissage :  411.1449201107025 sec , temps prediction =  0.531005859375 sec.\n",
      "ALPHA :  10.0\n",
      "pour le  3 eme modèle, score =  95.15238095238095 %, précision = 95.28905463457879 %.\n",
      "    temps apprentissage :  247.7932357788086 sec , temps prediction =  0.45399928092956543 sec.\n",
      "ALPHA :  1000.0\n",
      "pour le  3 eme modèle, score =  11.257142857142858 %, précision = 1.125714285714286 %.\n",
      "    temps apprentissage :  62.274001359939575 sec , temps prediction =  0.44399476051330566 sec.\n"
     ]
    },
    {
     "name": "stderr",
     "output_type": "stream",
     "text": [
      "C:\\Users\\Said\\AppData\\Local\\Programs\\Python\\Python39\\lib\\site-packages\\sklearn\\metrics\\_classification.py:1248: UndefinedMetricWarning: Precision is ill-defined and being set to 0.0 in labels with no predicted samples. Use `zero_division` parameter to control this behavior.\n",
      "  _warn_prf(average, modifier, msg_start, len(result))\n"
     ]
    }
   ],
   "source": [
    "for j in alphas:\n",
    "    variateAlpha(t5, j, 3)\n"
   ]
  },
  {
   "cell_type": "code",
   "execution_count": 20,
   "metadata": {},
   "outputs": [
    {
     "name": "stdout",
     "output_type": "stream",
     "text": [
      "ALPHA :  1e-05\n",
      "pour le  4 eme modèle, score =  98.54761904761905 %, précision = 98.53815885647509 %.\n",
      "    temps apprentissage :  884.4213554859161 sec , temps prediction =  1.3401672840118408 sec.\n"
     ]
    },
    {
     "name": "stderr",
     "output_type": "stream",
     "text": [
      "C:\\Users\\Said\\AppData\\Local\\Programs\\Python\\Python39\\lib\\site-packages\\sklearn\\metrics\\_classification.py:1248: UndefinedMetricWarning: Precision is ill-defined and being set to 0.0 in labels with no predicted samples. Use `zero_division` parameter to control this behavior.\n",
      "  _warn_prf(average, modifier, msg_start, len(result))\n"
     ]
    },
    {
     "name": "stdout",
     "output_type": "stream",
     "text": [
      "ALPHA :  0.001\n",
      "pour le  4 eme modèle, score =  11.257142857142858 %, précision = 1.125714285714286 %.\n",
      "    temps apprentissage :  277.9273748397827 sec , temps prediction =  1.259894609451294 sec.\n",
      "ALPHA :  0.1\n",
      "pour le  4 eme modèle, score =  98.33333333333333 %, précision = 98.33372247402176 %.\n",
      "    temps apprentissage :  2131.6994466781616 sec , temps prediction =  22.344945907592773 sec.\n",
      "ALPHA :  10.0\n",
      "pour le  4 eme modèle, score =  95.5952380952381 %, précision = 95.62193664767469 %.\n",
      "    temps apprentissage :  1558.8684539794922 sec , temps prediction =  1.3201725482940674 sec.\n"
     ]
    },
    {
     "name": "stderr",
     "output_type": "stream",
     "text": [
      "C:\\Users\\Said\\AppData\\Local\\Programs\\Python\\Python39\\lib\\site-packages\\sklearn\\metrics\\_classification.py:1248: UndefinedMetricWarning: Precision is ill-defined and being set to 0.0 in labels with no predicted samples. Use `zero_division` parameter to control this behavior.\n",
      "  _warn_prf(average, modifier, msg_start, len(result))\n"
     ]
    },
    {
     "name": "stdout",
     "output_type": "stream",
     "text": [
      "ALPHA :  1000.0\n",
      "pour le  4 eme modèle, score =  11.257142857142858 %, précision = 1.125714285714286 %.\n",
      "    temps apprentissage :  286.6772334575653 sec , temps prediction =  13.880051136016846 sec.\n"
     ]
    }
   ],
   "source": [
    "for j in alphas:\n",
    "    variateAlpha(t7, j, 4)\n"
   ]
  },
  {
   "cell_type": "code",
   "execution_count": 21,
   "metadata": {},
   "outputs": [
    {
     "name": "stdout",
     "output_type": "stream",
     "text": [
      "ALPHA :  1e-05\n",
      "pour le  5 eme modèle, score =  97.91428571428571 %, précision = 97.90329756189206 %.\n",
      "    temps apprentissage :  586.5379459857941 sec , temps prediction =  0.9787664413452148 sec.\n",
      "ALPHA :  0.001\n",
      "pour le  5 eme modèle, score =  97.85238095238095 %, précision = 97.86078213976255 %.\n",
      "    temps apprentissage :  721.1207506656647 sec , temps prediction =  9.122885704040527 sec.\n",
      "ALPHA :  0.1\n",
      "pour le  5 eme modèle, score =  98.17142857142858 %, précision = 98.16242088600153 %.\n",
      "    temps apprentissage :  1010.169055223465 sec , temps prediction =  7.543731212615967 sec.\n",
      "ALPHA :  10.0\n",
      "pour le  5 eme modèle, score =  95.05238095238096 %, précision = 95.09466861755897 %.\n",
      "    temps apprentissage :  1442.611584663391 sec , temps prediction =  17.70817279815674 sec.\n"
     ]
    },
    {
     "name": "stderr",
     "output_type": "stream",
     "text": [
      "C:\\Users\\Said\\AppData\\Local\\Programs\\Python\\Python39\\lib\\site-packages\\sklearn\\metrics\\_classification.py:1248: UndefinedMetricWarning: Precision is ill-defined and being set to 0.0 in labels with no predicted samples. Use `zero_division` parameter to control this behavior.\n",
      "  _warn_prf(average, modifier, msg_start, len(result))\n"
     ]
    },
    {
     "name": "stdout",
     "output_type": "stream",
     "text": [
      "ALPHA :  1000.0\n",
      "pour le  5 eme modèle, score =  11.257142857142858 %, précision = 1.125714285714286 %.\n",
      "    temps apprentissage :  147.5014669895172 sec , temps prediction =  0.874927282333374 sec.\n"
     ]
    }
   ],
   "source": [
    "for j in alphas:\n",
    "    variateAlpha(t9, j, 5)"
   ]
  },
  {
   "cell_type": "code",
   "execution_count": 22,
   "metadata": {},
   "outputs": [
    {
     "name": "stdout",
     "output_type": "stream",
     "text": [
      "[95.16666666666667, 95.17142857142858, 93.96190476190476, 95.5904761904762, 88.82380952380953, 96.78571428571429, 97.13809523809523, 97.06190476190476, 96.07142857142857, 11.257142857142858, 97.91428571428571, 97.72857142857143, 98.28571428571429, 95.15238095238095, 11.257142857142858, 98.54761904761905, 11.257142857142858, 98.33333333333333, 95.5952380952381, 11.257142857142858, 97.91428571428571, 97.85238095238095, 98.17142857142858, 95.05238095238096, 11.257142857142858]\n",
      "[95.2291860265325, 95.19754387604479, 94.00399981012626, 95.67070050934839, 89.31685570398147, 96.79792097046086, 97.13904154956417, 97.0363930346773, 96.08852301619075, 1.125714285714286, 97.89371651515653, 97.72398328766234, 98.2788248255995, 95.28905463457879, 1.125714285714286, 98.53815885647509, 1.125714285714286, 98.33372247402176, 95.62193664767469, 1.125714285714286, 97.90329756189206, 97.86078213976255, 98.16242088600153, 95.09466861755897, 1.125714285714286]\n",
      "[0.950530562859041, 0.9514691796913715, 0.9392864735136449, 0.9551658229094077, 0.8881979939070291, 0.9674103520402759, 0.9710603399496929, 0.9704198941361014, 0.9605902962229704, 0.1, 0.9790042773555218, 0.9772935841848774, 0.9827561677251252, 0.950929658404658, 0.1, 0.9853475053801052, 0.1, 0.9831312246601103, 0.9551897784390502, 0.1, 0.978860093490048, 0.9782266067897473, 0.9815017451214821, 0.9499169873079134, 0.1]\n",
      "[0.04833333333333334, 0.048285714285714265, 0.060380952380952424, 0.044095238095238076, 0.11176190476190473, 0.03214285714285714, 0.028619047619047655, 0.029380952380952396, 0.03928571428571426, 0.8874285714285715, 0.020857142857142907, 0.022714285714285687, 0.017142857142857126, 0.04847619047619045, 0.8874285714285715, 0.014523809523809494, 0.8874285714285715, 0.01666666666666672, 0.044047619047619, 0.8874285714285715, 0.020857142857142907, 0.021476190476190427, 0.01828571428571424, 0.04947619047619045, 0.8874285714285715]\n",
      "[0.17199420928955078, 0.17299890518188477, 0.17996954917907715, 0.18099236488342285, 0.1759946346282959, 0.30196690559387207, 0.3339955806732178, 0.31996846199035645, 0.3059711456298828, 0.3429906368255615, 0.514998197555542, 0.514000415802002, 0.531005859375, 0.45399928092956543, 0.44399476051330566, 1.3401672840118408, 1.259894609451294, 22.344945907592773, 1.3201725482940674, 13.880051136016846, 0.9787664413452148, 9.122885704040527, 7.543731212615967, 17.70817279815674, 0.874927282333374]\n",
      "[128.60655188560486, 184.3132643699646, 132.14650321006775, 57.39375114440918, 21.723164796829224, 255.08372974395752, 272.381600856781, 223.45912623405457, 152.77145504951477, 34.20952272415161, 178.1393563747406, 220.72903442382812, 411.1449201107025, 247.7932357788086, 62.274001359939575, 884.4213554859161, 277.9273748397827, 2131.6994466781616, 1558.8684539794922, 286.6772334575653, 586.5379459857941, 721.1207506656647, 1010.169055223465, 1442.611584663391, 147.5014669895172]\n"
     ]
    }
   ],
   "source": [
    "\n",
    "print(FinalScore)\n",
    "print(FinalPrecision)\n",
    "print(FinalRecal)\n",
    "print(FinalLoss)\n",
    "print(FinalTimeTraining)\n",
    "print(FinalTimePrediction)"
   ]
  },
  {
   "cell_type": "code",
   "execution_count": 25,
   "metadata": {},
   "outputs": [
    {
     "data": {
      "image/png": "[encoded data removed]",
      "text/plain": [
       "<Figure size 720x720 with 6 Axes>"
      ]
     },
     "metadata": {
      "needs_background": "light"
     },
     "output_type": "display_data"
    }
   ],
   "source": [
    "\n",
    "# Clf1 alpha : 10^-5, 0.001, 0.1, 10, 1000 | Clf3 ... | Clf5 ... | Clf7 ... | Clf9 ...\n",
    "\n",
    "fig, axarr = plt.subplots(6, sharex=True, figsize=(10,10))\n",
    "axarr[0].scatter(range(25), FinalScore, c='red')\n",
    "axarr[0].set_title('The five classifiers with different alpha :  10^-5, 0.001, 0.1, 10, 1000 ')\n",
    "axarr[0].set_ylabel('Score (%)')\n",
    "axarr[1].scatter(range(25), FinalPrecision, c='blue')\n",
    "axarr[1].set_ylabel('Precision (%)')\n",
    "axarr[2].scatter(range(25), FinalRecal, c='green')\n",
    "axarr[2].set_ylabel('Recall ')\n",
    "axarr[3].scatter(range(25), FinalLoss, c='orange')\n",
    "axarr[3].set_ylabel('Zero-to-one Loss')\n",
    "axarr[4].scatter(range(25), FinalTimeTraining, c='black')\n",
    "axarr[4].set_ylabel('Training Time in sec')\n",
    "axarr[5].scatter(range(25), FinalTimePrediction)\n",
    "axarr[5].set_ylabel('¨Prediction Time in sec')\n",
    "\n",
    "plt.show()"
   ]
  }
 ],
 "metadata": {
  "interpreter": {
   "hash": "67daac1ebf3b80a6e8e15acaf6535d9d72e4e060942990dc63fc0ef314051e9e"
  },
  "kernelspec": {
   "display_name": "Python (IA-GPU)",
   "language": "python",
   "name": "python3"
  },
  "language_info": {
   "codemirror_mode": {
    "name": "ipython",
    "version": 3
   },
   "file_extension": ".py",
   "mimetype": "text/x-python",
   "name": "python",
   "nbconvert_exporter": "python",
   "pygments_lexer": "ipython3",
   "version": "3.9.0"
  }
 },
 "nbformat": 4,
 "nbformat_minor": 2
}
