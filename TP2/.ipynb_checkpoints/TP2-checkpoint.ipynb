{
 "cells": [
  {
   "cell_type": "markdown",
   "metadata": {},
   "source": [
    "# Multi-layered Neural Network MPL "
   ]
  },
  {
   "cell_type": "code",
   "execution_count": 1,
   "metadata": {},
   "outputs": [],
   "source": [
    "# Imports :\n",
    "import matplotlib.pyplot as plt\n",
    "from sklearn.datasets import fetch_openml\n",
    "from sklearn.model_selection import train_test_split \n",
    "from sklearn.neural_network import MLPClassifier\n",
    "from sklearn import metrics\n",
    "import time\n",
    "import numpy as np"
   ]
  },
  {
   "cell_type": "markdown",
   "metadata": {},
   "source": [
    "* Dowloanding the MNIST dataset :"
   ]
  },
  {
   "cell_type": "code",
   "execution_count": 2,
   "metadata": {},
   "outputs": [],
   "source": [
    "mnist = fetch_openml('mnist_784', as_frame=False)"
   ]
  },
  {
   "cell_type": "markdown",
   "metadata": {},
   "source": [
    "* Randomise data & target :\n"
   ]
  },
  {
   "cell_type": "code",
   "execution_count": 3,
   "metadata": {},
   "outputs": [],
   "source": [
    "indices = np.random.randint(70000, size=70000)\n",
    "data = mnist.data[indices]\n",
    "target = mnist.target[indices]"
   ]
  },
  {
   "cell_type": "markdown",
   "metadata": {},
   "source": [
    "* data spliting :"
   ]
  },
  {
   "cell_type": "code",
   "execution_count": 4,
   "metadata": {},
   "outputs": [],
   "source": [
    "xtrain, xtest, ytrain, ytest =train_test_split(data, target, train_size=49000)"
   ]
  },
  {
   "cell_type": "markdown",
   "metadata": {},
   "source": [
    "* MLP with one Hidden Layer of 50 neurals :"
   ]
  },
  {
   "cell_type": "code",
   "execution_count": 5,
   "metadata": {},
   "outputs": [],
   "source": [
    "clf = MLPClassifier(hidden_layer_sizes=(50))\n",
    "\n",
    "clf.fit(xtrain, ytrain)\n",
    "prediction = clf.predict(xtest)\n",
    "score = clf.score(xtest, ytest)\n",
    "recall = metrics.recall_score(ytest, prediction, average = 'macro')\n",
    "precision = metrics.precision_score(ytest, prediction, average ='macro')\n",
    "loss0_1 = metrics.zero_one_loss(ytest, prediction)"
   ]
  },
  {
   "cell_type": "markdown",
   "metadata": {},
   "source": [
    "> N.B :\n",
    "***\n",
    " - for average = macro, we have : <br />\n",
    "        - Score = (TP + TN)/(TP+TN+FP+FN) <br />\n",
    "        - Précision = TP/(TP + FP)<br />\n",
    "        - Recall = TP/(TP+FN)<br />\n",
    "        - Zero one loss : standard loss function in classification (equivalent of squared error for regression)\n",
    " - for average = micro, it is the same thing."
   ]
  },
  {
   "cell_type": "markdown",
   "metadata": {},
   "source": [
    "* Test for the 4 image (prints):"
   ]
  },
  {
   "cell_type": "code",
   "execution_count": 6,
   "metadata": {},
   "outputs": [
    {
     "name": "stdout",
     "output_type": "stream",
     "text": [
      "This MLP model, with one layer of 50, has a score of :  96.86190476190475 %.\n",
      "4th image : Prediction  3 Vs  Reel :  3\n"
     ]
    },
    {
     "data": {
      "image/png": "[encoded data removed]",
      "text/plain": [
       "<Figure size 432x288 with 1 Axes>"
      ]
     },
     "metadata": {
      "needs_background": "light"
     },
     "output_type": "display_data"
    },
    {
     "name": "stdout",
     "output_type": "stream",
     "text": [
      "This MLP model has a precision of : 96.89259237993865 %.\n",
      "This MLP model has a recall of :  96.82576373252246 %.\n",
      "This MLP model has a zero-one_loss of : 96.82576373252246 %.\n"
     ]
    }
   ],
   "source": [
    "print(\"This MLP model, with one layer of 50, has a score of : \", score*100, \"%.\")\n",
    "print(\"4th image : Prediction \",prediction[3], \"Vs  Reel : \", ytest[3])\n",
    "\n",
    "# Showing the 4th predicted image:\n",
    "\n",
    "images = xtest.reshape((-1, 28, 28))\n",
    "plt.imshow(images[3],cmap=plt.cm.gray_r,interpolation=\"nearest\")\n",
    "plt.show()\n",
    "\n",
    "\n",
    "# Metrics :\n",
    "print (\"This MLP model has a precision of :\", precision*100, \"%.\")\n",
    "print (\"This MLP model has a recall of : \",recall*100, \"%.\")\n",
    "print (\"This MLP model has a zero-one_loss of :\",recall*100, \"%.\")"
   ]
  },
  {
   "cell_type": "markdown",
   "metadata": {},
   "source": [
    "* Variation of layers number from 2 to 100 :\n"
   ]
  },
  {
   "cell_type": "code",
   "execution_count": 7,
   "metadata": {},
   "outputs": [
    {
     "name": "stdout",
     "output_type": "stream",
     "text": [
      "For  0 hidden layer (s), The score =  90.39047619047619 % , Precision =  90.56956237697442 % ..\n",
      "For  1 hidden layer (s), The score =  96.55238095238096 % , Precision =  96.55607105478579 % ..\n",
      "For  2 hidden layer (s), The score =  97.56190476190476 % , Precision =  97.55711700782454 % ..\n",
      "For  3 hidden layer (s), The score =  97.71904761904761 % , Precision =  97.70299820311159 % ..\n",
      "For  4 hidden layer (s), The score =  97.82380952380953 % , Precision =  97.79773211437677 % ..\n",
      "For  5 hidden layer (s), The score =  97.83809523809524 % , Precision =  97.82022131319493 % ..\n",
      "For  6 hidden layer (s), The score =  97.90476190476191 % , Precision =  97.90791505727236 % ..\n",
      "For  7 hidden layer (s), The score =  97.76666666666667 % , Precision =  97.77281120556115 % ..\n",
      "For  8 hidden layer (s), The score =  98.19047619047619 % , Precision =  98.18351011869521 % ..\n",
      "For  9 hidden layer (s), The score =  97.96666666666667 % , Precision =  97.95790248368213 % ..\n",
      "For  10 hidden layer (s), The score =  98.0 % , Precision =  97.97354206788933 % ..\n",
      "For  11 hidden layer (s), The score =  98.25238095238096 % , Precision =  98.24473827724898 % ..\n",
      "For  12 hidden layer (s), The score =  98.31428571428572 % , Precision =  98.2983587060092 % ..\n",
      "For  13 hidden layer (s), The score =  98.0 % , Precision =  97.99451673237789 % ..\n",
      "For  14 hidden layer (s), The score =  98.14285714285714 % , Precision =  98.13098001272608 % ..\n",
      "For  15 hidden layer (s), The score =  97.88095238095238 % , Precision =  97.87318690695551 % ..\n",
      "For  16 hidden layer (s), The score =  98.21904761904761 % , Precision =  98.20727170147237 % ..\n",
      "For  17 hidden layer (s), The score =  98.17619047619047 % , Precision =  98.16542273714944 % ..\n",
      "For  18 hidden layer (s), The score =  98.38571428571429 % , Precision =  98.3757936464284 % ..\n",
      "For  19 hidden layer (s), The score =  98.33333333333333 % , Precision =  98.32216907876806 % ..\n",
      "For  20 hidden layer (s), The score =  98.31904761904762 % , Precision =  98.29505897245929 % ..\n",
      "For  21 hidden layer (s), The score =  97.9952380952381 % , Precision =  97.9799754827355 % ..\n",
      "For  22 hidden layer (s), The score =  97.90952380952382 % , Precision =  97.94246008386402 % ..\n",
      "For  23 hidden layer (s), The score =  98.03333333333333 % , Precision =  98.03844828036506 % ..\n",
      "For  24 hidden layer (s), The score =  98.19047619047619 % , Precision =  98.18465324996502 % ..\n",
      "For  25 hidden layer (s), The score =  96.61904761904762 % , Precision =  96.64390431717533 % ..\n",
      "For  26 hidden layer (s), The score =  97.38571428571429 % , Precision =  97.38166921325751 % ..\n",
      "For  27 hidden layer (s), The score =  96.03333333333333 % , Precision =  96.02870330441695 % ..\n",
      "For  28 hidden layer (s), The score =  96.89047619047619 % , Precision =  96.91405737731806 % ..\n",
      "For  29 hidden layer (s), The score =  94.19047619047619 % , Precision =  94.15928143136571 % ..\n",
      "For  30 hidden layer (s), The score =  93.75238095238096 % , Precision =  93.86886972803339 % ..\n",
      "For  31 hidden layer (s), The score =  95.24285714285713 % , Precision =  95.24676260833822 % ..\n",
      "For  32 hidden layer (s), The score =  90.01428571428572 % , Precision =  90.08827641432418 % ..\n",
      "For  33 hidden layer (s), The score =  93.88095238095238 % , Precision =  93.96903705802313 % ..\n",
      "For  34 hidden layer (s), The score =  93.28095238095237 % , Precision =  93.30568018149924 % ..\n",
      "For  35 hidden layer (s), The score =  92.6952380952381 % , Precision =  92.64380452056265 % ..\n",
      "For  36 hidden layer (s), The score =  88.0047619047619 % , Precision =  88.25156939588477 % ..\n",
      "For  37 hidden layer (s), The score =  76.12380952380953 % , Precision =  80.89390455351563 % ..\n",
      "For  38 hidden layer (s), The score =  91.14761904761905 % , Precision =  91.3423287766412 % ..\n",
      "For  39 hidden layer (s), The score =  89.35238095238095 % , Precision =  90.22080839729482 % ..\n",
      "For  40 hidden layer (s), The score =  70.04285714285714 % , Precision =  70.80212298896554 % ..\n",
      "For  41 hidden layer (s), The score =  71.63809523809523 % , Precision =  79.09090169336356 % ..\n",
      "For  42 hidden layer (s), The score =  90.32380952380953 % , Precision =  90.35038969456902 % ..\n",
      "For  43 hidden layer (s), The score =  83.35238095238095 % , Precision =  82.75439021580299 % ..\n",
      "For  44 hidden layer (s), The score =  76.0142857142857 % , Precision =  76.79199264770298 % ..\n",
      "For  45 hidden layer (s), The score =  59.819047619047616 % , Precision =  64.86819853141121 % ..\n",
      "For  46 hidden layer (s), The score =  70.06190476190476 % , Precision =  71.04065242137533 % ..\n",
      "For  47 hidden layer (s), The score =  62.1904761904762 % , Precision =  63.69976651422412 % ..\n"
     ]
    },
    {
     "name": "stderr",
     "output_type": "stream",
     "text": [
      "/usr/local/insa/anaconda/envs/IA-GPU/lib/python3.7/site-packages/sklearn/metrics/_classification.py:1248: UndefinedMetricWarning: Precision is ill-defined and being set to 0.0 in labels with no predicted samples. Use `zero_division` parameter to control this behavior.\n",
      "  _warn_prf(average, modifier, msg_start, len(result))\n"
     ]
    },
    {
     "name": "stdout",
     "output_type": "stream",
     "text": [
      "For  48 hidden layer (s), The score =  10.604761904761904 % , Precision =  1.0604761904761906 % ..\n"
     ]
    },
    {
     "name": "stderr",
     "output_type": "stream",
     "text": [
      "/usr/local/insa/anaconda/envs/IA-GPU/lib/python3.7/site-packages/sklearn/metrics/_classification.py:1248: UndefinedMetricWarning: Precision is ill-defined and being set to 0.0 in labels with no predicted samples. Use `zero_division` parameter to control this behavior.\n",
      "  _warn_prf(average, modifier, msg_start, len(result))\n"
     ]
    },
    {
     "name": "stdout",
     "output_type": "stream",
     "text": [
      "For  49 hidden layer (s), The score =  11.219047619047618 % , Precision =  1.1219047619047617 % ..\n"
     ]
    },
    {
     "name": "stderr",
     "output_type": "stream",
     "text": [
      "/usr/local/insa/anaconda/envs/IA-GPU/lib/python3.7/site-packages/sklearn/metrics/_classification.py:1248: UndefinedMetricWarning: Precision is ill-defined and being set to 0.0 in labels with no predicted samples. Use `zero_division` parameter to control this behavior.\n",
      "  _warn_prf(average, modifier, msg_start, len(result))\n"
     ]
    },
    {
     "name": "stdout",
     "output_type": "stream",
     "text": [
      "For  50 hidden layer (s), The score =  11.219047619047618 % , Precision =  1.1219047619047617 % ..\n"
     ]
    },
    {
     "name": "stderr",
     "output_type": "stream",
     "text": [
      "/usr/local/insa/anaconda/envs/IA-GPU/lib/python3.7/site-packages/sklearn/metrics/_classification.py:1248: UndefinedMetricWarning: Precision is ill-defined and being set to 0.0 in labels with no predicted samples. Use `zero_division` parameter to control this behavior.\n",
      "  _warn_prf(average, modifier, msg_start, len(result))\n"
     ]
    },
    {
     "name": "stdout",
     "output_type": "stream",
     "text": [
      "For  51 hidden layer (s), The score =  11.219047619047618 % , Precision =  1.1219047619047617 % ..\n",
      "For  52 hidden layer (s), The score =  87.29047619047618 % , Precision =  87.44863710451831 % ..\n"
     ]
    },
    {
     "name": "stderr",
     "output_type": "stream",
     "text": [
      "/usr/local/insa/anaconda/envs/IA-GPU/lib/python3.7/site-packages/sklearn/metrics/_classification.py:1248: UndefinedMetricWarning: Precision is ill-defined and being set to 0.0 in labels with no predicted samples. Use `zero_division` parameter to control this behavior.\n",
      "  _warn_prf(average, modifier, msg_start, len(result))\n"
     ]
    },
    {
     "name": "stdout",
     "output_type": "stream",
     "text": [
      "For  53 hidden layer (s), The score =  11.219047619047618 % , Precision =  1.1219047619047617 % ..\n"
     ]
    },
    {
     "name": "stderr",
     "output_type": "stream",
     "text": [
      "/usr/local/insa/anaconda/envs/IA-GPU/lib/python3.7/site-packages/sklearn/metrics/_classification.py:1248: UndefinedMetricWarning: Precision is ill-defined and being set to 0.0 in labels with no predicted samples. Use `zero_division` parameter to control this behavior.\n",
      "  _warn_prf(average, modifier, msg_start, len(result))\n"
     ]
    },
    {
     "name": "stdout",
     "output_type": "stream",
     "text": [
      "For  54 hidden layer (s), The score =  11.219047619047618 % , Precision =  1.1219047619047617 % ..\n"
     ]
    },
    {
     "name": "stderr",
     "output_type": "stream",
     "text": [
      "/usr/local/insa/anaconda/envs/IA-GPU/lib/python3.7/site-packages/sklearn/metrics/_classification.py:1248: UndefinedMetricWarning: Precision is ill-defined and being set to 0.0 in labels with no predicted samples. Use `zero_division` parameter to control this behavior.\n",
      "  _warn_prf(average, modifier, msg_start, len(result))\n"
     ]
    },
    {
     "name": "stdout",
     "output_type": "stream",
     "text": [
      "For  55 hidden layer (s), The score =  11.219047619047618 % , Precision =  1.1219047619047617 % ..\n"
     ]
    },
    {
     "name": "stderr",
     "output_type": "stream",
     "text": [
      "/usr/local/insa/anaconda/envs/IA-GPU/lib/python3.7/site-packages/sklearn/metrics/_classification.py:1248: UndefinedMetricWarning: Precision is ill-defined and being set to 0.0 in labels with no predicted samples. Use `zero_division` parameter to control this behavior.\n",
      "  _warn_prf(average, modifier, msg_start, len(result))\n"
     ]
    },
    {
     "name": "stdout",
     "output_type": "stream",
     "text": [
      "For  56 hidden layer (s), The score =  11.219047619047618 % , Precision =  1.1219047619047617 % ..\n"
     ]
    },
    {
     "name": "stderr",
     "output_type": "stream",
     "text": [
      "/usr/local/insa/anaconda/envs/IA-GPU/lib/python3.7/site-packages/sklearn/metrics/_classification.py:1248: UndefinedMetricWarning: Precision is ill-defined and being set to 0.0 in labels with no predicted samples. Use `zero_division` parameter to control this behavior.\n",
      "  _warn_prf(average, modifier, msg_start, len(result))\n"
     ]
    },
    {
     "name": "stdout",
     "output_type": "stream",
     "text": [
      "For  57 hidden layer (s), The score =  11.219047619047618 % , Precision =  1.1219047619047617 % ..\n"
     ]
    },
    {
     "name": "stderr",
     "output_type": "stream",
     "text": [
      "/usr/local/insa/anaconda/envs/IA-GPU/lib/python3.7/site-packages/sklearn/metrics/_classification.py:1248: UndefinedMetricWarning: Precision is ill-defined and being set to 0.0 in labels with no predicted samples. Use `zero_division` parameter to control this behavior.\n",
      "  _warn_prf(average, modifier, msg_start, len(result))\n"
     ]
    },
    {
     "name": "stdout",
     "output_type": "stream",
     "text": [
      "For  58 hidden layer (s), The score =  11.219047619047618 % , Precision =  1.1219047619047617 % ..\n"
     ]
    },
    {
     "name": "stderr",
     "output_type": "stream",
     "text": [
      "/usr/local/insa/anaconda/envs/IA-GPU/lib/python3.7/site-packages/sklearn/metrics/_classification.py:1248: UndefinedMetricWarning: Precision is ill-defined and being set to 0.0 in labels with no predicted samples. Use `zero_division` parameter to control this behavior.\n",
      "  _warn_prf(average, modifier, msg_start, len(result))\n"
     ]
    },
    {
     "name": "stdout",
     "output_type": "stream",
     "text": [
      "For  59 hidden layer (s), The score =  11.219047619047618 % , Precision =  1.1219047619047617 % ..\n"
     ]
    },
    {
     "name": "stderr",
     "output_type": "stream",
     "text": [
      "/usr/local/insa/anaconda/envs/IA-GPU/lib/python3.7/site-packages/sklearn/metrics/_classification.py:1248: UndefinedMetricWarning: Precision is ill-defined and being set to 0.0 in labels with no predicted samples. Use `zero_division` parameter to control this behavior.\n",
      "  _warn_prf(average, modifier, msg_start, len(result))\n"
     ]
    },
    {
     "name": "stdout",
     "output_type": "stream",
     "text": [
      "For  60 hidden layer (s), The score =  11.219047619047618 % , Precision =  1.1219047619047617 % ..\n"
     ]
    },
    {
     "name": "stderr",
     "output_type": "stream",
     "text": [
      "/usr/local/insa/anaconda/envs/IA-GPU/lib/python3.7/site-packages/sklearn/metrics/_classification.py:1248: UndefinedMetricWarning: Precision is ill-defined and being set to 0.0 in labels with no predicted samples. Use `zero_division` parameter to control this behavior.\n",
      "  _warn_prf(average, modifier, msg_start, len(result))\n"
     ]
    },
    {
     "name": "stdout",
     "output_type": "stream",
     "text": [
      "For  61 hidden layer (s), The score =  11.219047619047618 % , Precision =  1.1219047619047617 % ..\n"
     ]
    },
    {
     "name": "stderr",
     "output_type": "stream",
     "text": [
      "/usr/local/insa/anaconda/envs/IA-GPU/lib/python3.7/site-packages/sklearn/metrics/_classification.py:1248: UndefinedMetricWarning: Precision is ill-defined and being set to 0.0 in labels with no predicted samples. Use `zero_division` parameter to control this behavior.\n",
      "  _warn_prf(average, modifier, msg_start, len(result))\n"
     ]
    },
    {
     "name": "stdout",
     "output_type": "stream",
     "text": [
      "For  62 hidden layer (s), The score =  11.219047619047618 % , Precision =  1.1219047619047617 % ..\n"
     ]
    },
    {
     "name": "stderr",
     "output_type": "stream",
     "text": [
      "/usr/local/insa/anaconda/envs/IA-GPU/lib/python3.7/site-packages/sklearn/metrics/_classification.py:1248: UndefinedMetricWarning: Precision is ill-defined and being set to 0.0 in labels with no predicted samples. Use `zero_division` parameter to control this behavior.\n",
      "  _warn_prf(average, modifier, msg_start, len(result))\n"
     ]
    },
    {
     "name": "stdout",
     "output_type": "stream",
     "text": [
      "For  63 hidden layer (s), The score =  11.219047619047618 % , Precision =  1.1219047619047617 % ..\n"
     ]
    },
    {
     "name": "stderr",
     "output_type": "stream",
     "text": [
      "/usr/local/insa/anaconda/envs/IA-GPU/lib/python3.7/site-packages/sklearn/metrics/_classification.py:1248: UndefinedMetricWarning: Precision is ill-defined and being set to 0.0 in labels with no predicted samples. Use `zero_division` parameter to control this behavior.\n",
      "  _warn_prf(average, modifier, msg_start, len(result))\n"
     ]
    },
    {
     "name": "stdout",
     "output_type": "stream",
     "text": [
      "For  64 hidden layer (s), The score =  10.604761904761904 % , Precision =  1.0604761904761906 % ..\n"
     ]
    },
    {
     "name": "stderr",
     "output_type": "stream",
     "text": [
      "/usr/local/insa/anaconda/envs/IA-GPU/lib/python3.7/site-packages/sklearn/metrics/_classification.py:1248: UndefinedMetricWarning: Precision is ill-defined and being set to 0.0 in labels with no predicted samples. Use `zero_division` parameter to control this behavior.\n",
      "  _warn_prf(average, modifier, msg_start, len(result))\n"
     ]
    },
    {
     "name": "stdout",
     "output_type": "stream",
     "text": [
      "For  65 hidden layer (s), The score =  11.219047619047618 % , Precision =  1.1219047619047617 % ..\n"
     ]
    },
    {
     "name": "stderr",
     "output_type": "stream",
     "text": [
      "/usr/local/insa/anaconda/envs/IA-GPU/lib/python3.7/site-packages/sklearn/metrics/_classification.py:1248: UndefinedMetricWarning: Precision is ill-defined and being set to 0.0 in labels with no predicted samples. Use `zero_division` parameter to control this behavior.\n",
      "  _warn_prf(average, modifier, msg_start, len(result))\n"
     ]
    },
    {
     "name": "stdout",
     "output_type": "stream",
     "text": [
      "For  66 hidden layer (s), The score =  11.219047619047618 % , Precision =  1.1219047619047617 % ..\n"
     ]
    },
    {
     "name": "stderr",
     "output_type": "stream",
     "text": [
      "/usr/local/insa/anaconda/envs/IA-GPU/lib/python3.7/site-packages/sklearn/metrics/_classification.py:1248: UndefinedMetricWarning: Precision is ill-defined and being set to 0.0 in labels with no predicted samples. Use `zero_division` parameter to control this behavior.\n",
      "  _warn_prf(average, modifier, msg_start, len(result))\n"
     ]
    },
    {
     "name": "stdout",
     "output_type": "stream",
     "text": [
      "For  67 hidden layer (s), The score =  11.219047619047618 % , Precision =  1.1219047619047617 % ..\n"
     ]
    },
    {
     "name": "stderr",
     "output_type": "stream",
     "text": [
      "/usr/local/insa/anaconda/envs/IA-GPU/lib/python3.7/site-packages/sklearn/metrics/_classification.py:1248: UndefinedMetricWarning: Precision is ill-defined and being set to 0.0 in labels with no predicted samples. Use `zero_division` parameter to control this behavior.\n",
      "  _warn_prf(average, modifier, msg_start, len(result))\n"
     ]
    },
    {
     "name": "stdout",
     "output_type": "stream",
     "text": [
      "For  68 hidden layer (s), The score =  11.219047619047618 % , Precision =  1.1219047619047617 % ..\n"
     ]
    },
    {
     "name": "stderr",
     "output_type": "stream",
     "text": [
      "/usr/local/insa/anaconda/envs/IA-GPU/lib/python3.7/site-packages/sklearn/metrics/_classification.py:1248: UndefinedMetricWarning: Precision is ill-defined and being set to 0.0 in labels with no predicted samples. Use `zero_division` parameter to control this behavior.\n",
      "  _warn_prf(average, modifier, msg_start, len(result))\n"
     ]
    },
    {
     "name": "stdout",
     "output_type": "stream",
     "text": [
      "For  69 hidden layer (s), The score =  11.219047619047618 % , Precision =  1.1219047619047617 % ..\n"
     ]
    },
    {
     "name": "stderr",
     "output_type": "stream",
     "text": [
      "/usr/local/insa/anaconda/envs/IA-GPU/lib/python3.7/site-packages/sklearn/metrics/_classification.py:1248: UndefinedMetricWarning: Precision is ill-defined and being set to 0.0 in labels with no predicted samples. Use `zero_division` parameter to control this behavior.\n",
      "  _warn_prf(average, modifier, msg_start, len(result))\n"
     ]
    },
    {
     "name": "stdout",
     "output_type": "stream",
     "text": [
      "For  70 hidden layer (s), The score =  11.219047619047618 % , Precision =  1.1219047619047617 % ..\n"
     ]
    },
    {
     "name": "stderr",
     "output_type": "stream",
     "text": [
      "/usr/local/insa/anaconda/envs/IA-GPU/lib/python3.7/site-packages/sklearn/metrics/_classification.py:1248: UndefinedMetricWarning: Precision is ill-defined and being set to 0.0 in labels with no predicted samples. Use `zero_division` parameter to control this behavior.\n",
      "  _warn_prf(average, modifier, msg_start, len(result))\n"
     ]
    },
    {
     "name": "stdout",
     "output_type": "stream",
     "text": [
      "For  71 hidden layer (s), The score =  11.219047619047618 % , Precision =  1.1219047619047617 % ..\n"
     ]
    },
    {
     "name": "stderr",
     "output_type": "stream",
     "text": [
      "/usr/local/insa/anaconda/envs/IA-GPU/lib/python3.7/site-packages/sklearn/metrics/_classification.py:1248: UndefinedMetricWarning: Precision is ill-defined and being set to 0.0 in labels with no predicted samples. Use `zero_division` parameter to control this behavior.\n",
      "  _warn_prf(average, modifier, msg_start, len(result))\n"
     ]
    },
    {
     "name": "stdout",
     "output_type": "stream",
     "text": [
      "For  72 hidden layer (s), The score =  11.219047619047618 % , Precision =  1.1219047619047617 % ..\n"
     ]
    },
    {
     "name": "stderr",
     "output_type": "stream",
     "text": [
      "/usr/local/insa/anaconda/envs/IA-GPU/lib/python3.7/site-packages/sklearn/metrics/_classification.py:1248: UndefinedMetricWarning: Precision is ill-defined and being set to 0.0 in labels with no predicted samples. Use `zero_division` parameter to control this behavior.\n",
      "  _warn_prf(average, modifier, msg_start, len(result))\n"
     ]
    },
    {
     "name": "stdout",
     "output_type": "stream",
     "text": [
      "For  73 hidden layer (s), The score =  11.219047619047618 % , Precision =  1.1219047619047617 % ..\n"
     ]
    },
    {
     "name": "stderr",
     "output_type": "stream",
     "text": [
      "/usr/local/insa/anaconda/envs/IA-GPU/lib/python3.7/site-packages/sklearn/metrics/_classification.py:1248: UndefinedMetricWarning: Precision is ill-defined and being set to 0.0 in labels with no predicted samples. Use `zero_division` parameter to control this behavior.\n",
      "  _warn_prf(average, modifier, msg_start, len(result))\n"
     ]
    },
    {
     "name": "stdout",
     "output_type": "stream",
     "text": [
      "For  74 hidden layer (s), The score =  11.219047619047618 % , Precision =  1.1219047619047617 % ..\n"
     ]
    },
    {
     "name": "stderr",
     "output_type": "stream",
     "text": [
      "/usr/local/insa/anaconda/envs/IA-GPU/lib/python3.7/site-packages/sklearn/metrics/_classification.py:1248: UndefinedMetricWarning: Precision is ill-defined and being set to 0.0 in labels with no predicted samples. Use `zero_division` parameter to control this behavior.\n",
      "  _warn_prf(average, modifier, msg_start, len(result))\n"
     ]
    },
    {
     "name": "stdout",
     "output_type": "stream",
     "text": [
      "For  75 hidden layer (s), The score =  11.219047619047618 % , Precision =  1.1219047619047617 % ..\n"
     ]
    },
    {
     "name": "stderr",
     "output_type": "stream",
     "text": [
      "/usr/local/insa/anaconda/envs/IA-GPU/lib/python3.7/site-packages/sklearn/metrics/_classification.py:1248: UndefinedMetricWarning: Precision is ill-defined and being set to 0.0 in labels with no predicted samples. Use `zero_division` parameter to control this behavior.\n",
      "  _warn_prf(average, modifier, msg_start, len(result))\n"
     ]
    },
    {
     "name": "stdout",
     "output_type": "stream",
     "text": [
      "For  76 hidden layer (s), The score =  11.219047619047618 % , Precision =  1.1219047619047617 % ..\n"
     ]
    },
    {
     "name": "stderr",
     "output_type": "stream",
     "text": [
      "/usr/local/insa/anaconda/envs/IA-GPU/lib/python3.7/site-packages/sklearn/metrics/_classification.py:1248: UndefinedMetricWarning: Precision is ill-defined and being set to 0.0 in labels with no predicted samples. Use `zero_division` parameter to control this behavior.\n",
      "  _warn_prf(average, modifier, msg_start, len(result))\n"
     ]
    },
    {
     "name": "stdout",
     "output_type": "stream",
     "text": [
      "For  77 hidden layer (s), The score =  11.219047619047618 % , Precision =  1.1219047619047617 % ..\n"
     ]
    },
    {
     "name": "stderr",
     "output_type": "stream",
     "text": [
      "/usr/local/insa/anaconda/envs/IA-GPU/lib/python3.7/site-packages/sklearn/metrics/_classification.py:1248: UndefinedMetricWarning: Precision is ill-defined and being set to 0.0 in labels with no predicted samples. Use `zero_division` parameter to control this behavior.\n",
      "  _warn_prf(average, modifier, msg_start, len(result))\n"
     ]
    },
    {
     "name": "stdout",
     "output_type": "stream",
     "text": [
      "For  78 hidden layer (s), The score =  11.219047619047618 % , Precision =  1.1219047619047617 % ..\n"
     ]
    },
    {
     "name": "stderr",
     "output_type": "stream",
     "text": [
      "/usr/local/insa/anaconda/envs/IA-GPU/lib/python3.7/site-packages/sklearn/metrics/_classification.py:1248: UndefinedMetricWarning: Precision is ill-defined and being set to 0.0 in labels with no predicted samples. Use `zero_division` parameter to control this behavior.\n",
      "  _warn_prf(average, modifier, msg_start, len(result))\n"
     ]
    },
    {
     "name": "stdout",
     "output_type": "stream",
     "text": [
      "For  79 hidden layer (s), The score =  11.219047619047618 % , Precision =  1.1219047619047617 % ..\n"
     ]
    },
    {
     "name": "stderr",
     "output_type": "stream",
     "text": [
      "/usr/local/insa/anaconda/envs/IA-GPU/lib/python3.7/site-packages/sklearn/metrics/_classification.py:1248: UndefinedMetricWarning: Precision is ill-defined and being set to 0.0 in labels with no predicted samples. Use `zero_division` parameter to control this behavior.\n",
      "  _warn_prf(average, modifier, msg_start, len(result))\n"
     ]
    },
    {
     "name": "stdout",
     "output_type": "stream",
     "text": [
      "For  80 hidden layer (s), The score =  11.219047619047618 % , Precision =  1.1219047619047617 % ..\n"
     ]
    },
    {
     "name": "stderr",
     "output_type": "stream",
     "text": [
      "/usr/local/insa/anaconda/envs/IA-GPU/lib/python3.7/site-packages/sklearn/metrics/_classification.py:1248: UndefinedMetricWarning: Precision is ill-defined and being set to 0.0 in labels with no predicted samples. Use `zero_division` parameter to control this behavior.\n",
      "  _warn_prf(average, modifier, msg_start, len(result))\n"
     ]
    },
    {
     "name": "stdout",
     "output_type": "stream",
     "text": [
      "For  81 hidden layer (s), The score =  11.219047619047618 % , Precision =  1.1219047619047617 % ..\n"
     ]
    },
    {
     "name": "stderr",
     "output_type": "stream",
     "text": [
      "/usr/local/insa/anaconda/envs/IA-GPU/lib/python3.7/site-packages/sklearn/metrics/_classification.py:1248: UndefinedMetricWarning: Precision is ill-defined and being set to 0.0 in labels with no predicted samples. Use `zero_division` parameter to control this behavior.\n",
      "  _warn_prf(average, modifier, msg_start, len(result))\n"
     ]
    },
    {
     "name": "stdout",
     "output_type": "stream",
     "text": [
      "For  82 hidden layer (s), The score =  11.219047619047618 % , Precision =  1.1219047619047617 % ..\n"
     ]
    },
    {
     "name": "stderr",
     "output_type": "stream",
     "text": [
      "/usr/local/insa/anaconda/envs/IA-GPU/lib/python3.7/site-packages/sklearn/metrics/_classification.py:1248: UndefinedMetricWarning: Precision is ill-defined and being set to 0.0 in labels with no predicted samples. Use `zero_division` parameter to control this behavior.\n",
      "  _warn_prf(average, modifier, msg_start, len(result))\n"
     ]
    },
    {
     "name": "stdout",
     "output_type": "stream",
     "text": [
      "For  83 hidden layer (s), The score =  11.219047619047618 % , Precision =  1.1219047619047617 % ..\n"
     ]
    },
    {
     "name": "stderr",
     "output_type": "stream",
     "text": [
      "/usr/local/insa/anaconda/envs/IA-GPU/lib/python3.7/site-packages/sklearn/metrics/_classification.py:1248: UndefinedMetricWarning: Precision is ill-defined and being set to 0.0 in labels with no predicted samples. Use `zero_division` parameter to control this behavior.\n",
      "  _warn_prf(average, modifier, msg_start, len(result))\n"
     ]
    },
    {
     "name": "stdout",
     "output_type": "stream",
     "text": [
      "For  84 hidden layer (s), The score =  11.219047619047618 % , Precision =  1.1219047619047617 % ..\n"
     ]
    },
    {
     "name": "stderr",
     "output_type": "stream",
     "text": [
      "/usr/local/insa/anaconda/envs/IA-GPU/lib/python3.7/site-packages/sklearn/metrics/_classification.py:1248: UndefinedMetricWarning: Precision is ill-defined and being set to 0.0 in labels with no predicted samples. Use `zero_division` parameter to control this behavior.\n",
      "  _warn_prf(average, modifier, msg_start, len(result))\n"
     ]
    },
    {
     "name": "stdout",
     "output_type": "stream",
     "text": [
      "For  85 hidden layer (s), The score =  10.604761904761904 % , Precision =  1.0604761904761906 % ..\n"
     ]
    },
    {
     "name": "stderr",
     "output_type": "stream",
     "text": [
      "/usr/local/insa/anaconda/envs/IA-GPU/lib/python3.7/site-packages/sklearn/metrics/_classification.py:1248: UndefinedMetricWarning: Precision is ill-defined and being set to 0.0 in labels with no predicted samples. Use `zero_division` parameter to control this behavior.\n",
      "  _warn_prf(average, modifier, msg_start, len(result))\n"
     ]
    },
    {
     "name": "stdout",
     "output_type": "stream",
     "text": [
      "For  86 hidden layer (s), The score =  11.219047619047618 % , Precision =  1.1219047619047617 % ..\n"
     ]
    },
    {
     "name": "stderr",
     "output_type": "stream",
     "text": [
      "/usr/local/insa/anaconda/envs/IA-GPU/lib/python3.7/site-packages/sklearn/metrics/_classification.py:1248: UndefinedMetricWarning: Precision is ill-defined and being set to 0.0 in labels with no predicted samples. Use `zero_division` parameter to control this behavior.\n",
      "  _warn_prf(average, modifier, msg_start, len(result))\n"
     ]
    },
    {
     "name": "stdout",
     "output_type": "stream",
     "text": [
      "For  87 hidden layer (s), The score =  10.604761904761904 % , Precision =  1.0604761904761906 % ..\n"
     ]
    },
    {
     "name": "stderr",
     "output_type": "stream",
     "text": [
      "/usr/local/insa/anaconda/envs/IA-GPU/lib/python3.7/site-packages/sklearn/metrics/_classification.py:1248: UndefinedMetricWarning: Precision is ill-defined and being set to 0.0 in labels with no predicted samples. Use `zero_division` parameter to control this behavior.\n",
      "  _warn_prf(average, modifier, msg_start, len(result))\n"
     ]
    },
    {
     "name": "stdout",
     "output_type": "stream",
     "text": [
      "For  88 hidden layer (s), The score =  11.219047619047618 % , Precision =  1.1219047619047617 % ..\n"
     ]
    },
    {
     "name": "stderr",
     "output_type": "stream",
     "text": [
      "/usr/local/insa/anaconda/envs/IA-GPU/lib/python3.7/site-packages/sklearn/metrics/_classification.py:1248: UndefinedMetricWarning: Precision is ill-defined and being set to 0.0 in labels with no predicted samples. Use `zero_division` parameter to control this behavior.\n",
      "  _warn_prf(average, modifier, msg_start, len(result))\n"
     ]
    },
    {
     "name": "stdout",
     "output_type": "stream",
     "text": [
      "For  89 hidden layer (s), The score =  11.219047619047618 % , Precision =  1.1219047619047617 % ..\n"
     ]
    },
    {
     "name": "stderr",
     "output_type": "stream",
     "text": [
      "/usr/local/insa/anaconda/envs/IA-GPU/lib/python3.7/site-packages/sklearn/metrics/_classification.py:1248: UndefinedMetricWarning: Precision is ill-defined and being set to 0.0 in labels with no predicted samples. Use `zero_division` parameter to control this behavior.\n",
      "  _warn_prf(average, modifier, msg_start, len(result))\n"
     ]
    },
    {
     "name": "stdout",
     "output_type": "stream",
     "text": [
      "For  90 hidden layer (s), The score =  10.604761904761904 % , Precision =  1.0604761904761906 % ..\n"
     ]
    },
    {
     "name": "stderr",
     "output_type": "stream",
     "text": [
      "/usr/local/insa/anaconda/envs/IA-GPU/lib/python3.7/site-packages/sklearn/metrics/_classification.py:1248: UndefinedMetricWarning: Precision is ill-defined and being set to 0.0 in labels with no predicted samples. Use `zero_division` parameter to control this behavior.\n",
      "  _warn_prf(average, modifier, msg_start, len(result))\n"
     ]
    },
    {
     "name": "stdout",
     "output_type": "stream",
     "text": [
      "For  91 hidden layer (s), The score =  11.219047619047618 % , Precision =  1.1219047619047617 % ..\n"
     ]
    },
    {
     "name": "stderr",
     "output_type": "stream",
     "text": [
      "/usr/local/insa/anaconda/envs/IA-GPU/lib/python3.7/site-packages/sklearn/metrics/_classification.py:1248: UndefinedMetricWarning: Precision is ill-defined and being set to 0.0 in labels with no predicted samples. Use `zero_division` parameter to control this behavior.\n",
      "  _warn_prf(average, modifier, msg_start, len(result))\n"
     ]
    },
    {
     "name": "stdout",
     "output_type": "stream",
     "text": [
      "For  92 hidden layer (s), The score =  11.219047619047618 % , Precision =  1.1219047619047617 % ..\n"
     ]
    },
    {
     "name": "stderr",
     "output_type": "stream",
     "text": [
      "/usr/local/insa/anaconda/envs/IA-GPU/lib/python3.7/site-packages/sklearn/metrics/_classification.py:1248: UndefinedMetricWarning: Precision is ill-defined and being set to 0.0 in labels with no predicted samples. Use `zero_division` parameter to control this behavior.\n",
      "  _warn_prf(average, modifier, msg_start, len(result))\n"
     ]
    },
    {
     "name": "stdout",
     "output_type": "stream",
     "text": [
      "For  93 hidden layer (s), The score =  11.219047619047618 % , Precision =  1.1219047619047617 % ..\n"
     ]
    },
    {
     "name": "stderr",
     "output_type": "stream",
     "text": [
      "/usr/local/insa/anaconda/envs/IA-GPU/lib/python3.7/site-packages/sklearn/metrics/_classification.py:1248: UndefinedMetricWarning: Precision is ill-defined and being set to 0.0 in labels with no predicted samples. Use `zero_division` parameter to control this behavior.\n",
      "  _warn_prf(average, modifier, msg_start, len(result))\n"
     ]
    },
    {
     "name": "stdout",
     "output_type": "stream",
     "text": [
      "For  94 hidden layer (s), The score =  11.219047619047618 % , Precision =  1.1219047619047617 % ..\n"
     ]
    },
    {
     "name": "stderr",
     "output_type": "stream",
     "text": [
      "/usr/local/insa/anaconda/envs/IA-GPU/lib/python3.7/site-packages/sklearn/metrics/_classification.py:1248: UndefinedMetricWarning: Precision is ill-defined and being set to 0.0 in labels with no predicted samples. Use `zero_division` parameter to control this behavior.\n",
      "  _warn_prf(average, modifier, msg_start, len(result))\n"
     ]
    },
    {
     "name": "stdout",
     "output_type": "stream",
     "text": [
      "For  95 hidden layer (s), The score =  11.219047619047618 % , Precision =  1.1219047619047617 % ..\n"
     ]
    },
    {
     "name": "stderr",
     "output_type": "stream",
     "text": [
      "/usr/local/insa/anaconda/envs/IA-GPU/lib/python3.7/site-packages/sklearn/metrics/_classification.py:1248: UndefinedMetricWarning: Precision is ill-defined and being set to 0.0 in labels with no predicted samples. Use `zero_division` parameter to control this behavior.\n",
      "  _warn_prf(average, modifier, msg_start, len(result))\n"
     ]
    },
    {
     "name": "stdout",
     "output_type": "stream",
     "text": [
      "For  96 hidden layer (s), The score =  11.219047619047618 % , Precision =  1.1219047619047617 % ..\n"
     ]
    },
    {
     "name": "stderr",
     "output_type": "stream",
     "text": [
      "/usr/local/insa/anaconda/envs/IA-GPU/lib/python3.7/site-packages/sklearn/metrics/_classification.py:1248: UndefinedMetricWarning: Precision is ill-defined and being set to 0.0 in labels with no predicted samples. Use `zero_division` parameter to control this behavior.\n",
      "  _warn_prf(average, modifier, msg_start, len(result))\n"
     ]
    },
    {
     "name": "stdout",
     "output_type": "stream",
     "text": [
      "For  97 hidden layer (s), The score =  11.219047619047618 % , Precision =  1.1219047619047617 % ..\n"
     ]
    },
    {
     "name": "stderr",
     "output_type": "stream",
     "text": [
      "/usr/local/insa/anaconda/envs/IA-GPU/lib/python3.7/site-packages/sklearn/metrics/_classification.py:1248: UndefinedMetricWarning: Precision is ill-defined and being set to 0.0 in labels with no predicted samples. Use `zero_division` parameter to control this behavior.\n",
      "  _warn_prf(average, modifier, msg_start, len(result))\n"
     ]
    },
    {
     "name": "stdout",
     "output_type": "stream",
     "text": [
      "For  98 hidden layer (s), The score =  11.219047619047618 % , Precision =  1.1219047619047617 % ..\n",
      "For  99 hidden layer (s), The score =  10.604761904761904 % , Precision =  1.0604761904761906 % ..\n"
     ]
    },
    {
     "name": "stderr",
     "output_type": "stream",
     "text": [
      "/usr/local/insa/anaconda/envs/IA-GPU/lib/python3.7/site-packages/sklearn/metrics/_classification.py:1248: UndefinedMetricWarning: Precision is ill-defined and being set to 0.0 in labels with no predicted samples. Use `zero_division` parameter to control this behavior.\n",
      "  _warn_prf(average, modifier, msg_start, len(result))\n"
     ]
    }
   ],
   "source": [
    "hidden_layer =(50,)*100\n",
    "\n",
    "ScoreResult = []\n",
    "PredResult = []\n",
    "RecallResult = []\n",
    "LossResult = []\n",
    "#print(hidden_layer)\n",
    "#print(hidden_layer[0:1])\n",
    "\n",
    "for i in range (100):\n",
    "    clf = MLPClassifier(hidden_layer_sizes = hidden_layer[0:i])\n",
    "    clf.fit(xtrain, ytrain)\n",
    "    prediction = clf.predict(xtest)\n",
    "    score = clf.score(xtest, ytest)\n",
    "    precision = metrics.precision_score(ytest, prediction, average='macro')\n",
    "    recall = metrics.recall_score(ytest, prediction, average='macro')\n",
    "    loss0_1 = metrics.zero_one_loss(ytest, prediction)\n",
    "\n",
    "    ScoreResult.append(score)\n",
    "    PredResult.append(precision)\n",
    "    RecallResult.append(recall)\n",
    "    LossResult.append(loss0_1)\n",
    "\n",
    "    print(\"For \", i, \"hidden layer (s), The score = \", score *100, \"%\", \", Precision = \", precision*100, \"% ..\" )\n",
    "\n",
    "\n",
    "\n"
   ]
  },
  {
   "cell_type": "markdown",
   "metadata": {},
   "source": [
    "> Priting this results :"
   ]
  },
  {
   "cell_type": "code",
   "execution_count": 8,
   "metadata": {},
   "outputs": [
    {
     "name": "stdout",
     "output_type": "stream",
     "text": [
      "[0.9039047619047619, 0.9655238095238096, 0.9756190476190476, 0.9771904761904762, 0.9782380952380952, 0.9783809523809524, 0.979047619047619, 0.9776666666666667, 0.981904761904762, 0.9796666666666667, 0.98, 0.9825238095238096, 0.9831428571428571, 0.98, 0.9814285714285714, 0.9788095238095238, 0.9821904761904762, 0.9817619047619047, 0.9838571428571429, 0.9833333333333333, 0.9831904761904762, 0.9799523809523809, 0.9790952380952381, 0.9803333333333333, 0.981904761904762, 0.9661904761904762, 0.9738571428571429, 0.9603333333333334, 0.9689047619047619, 0.9419047619047619, 0.9375238095238095, 0.9524285714285714, 0.9001428571428571, 0.9388095238095238, 0.9328095238095238, 0.926952380952381, 0.8800476190476191, 0.7612380952380953, 0.9114761904761904, 0.8935238095238095, 0.7004285714285714, 0.7163809523809523, 0.9032380952380953, 0.8335238095238096, 0.7601428571428571, 0.5981904761904762, 0.7006190476190476, 0.621904761904762, 0.10604761904761904, 0.11219047619047619, 0.11219047619047619, 0.11219047619047619, 0.8729047619047619, 0.11219047619047619, 0.11219047619047619, 0.11219047619047619, 0.11219047619047619, 0.11219047619047619, 0.11219047619047619, 0.11219047619047619, 0.11219047619047619, 0.11219047619047619, 0.11219047619047619, 0.11219047619047619, 0.10604761904761904, 0.11219047619047619, 0.11219047619047619, 0.11219047619047619, 0.11219047619047619, 0.11219047619047619, 0.11219047619047619, 0.11219047619047619, 0.11219047619047619, 0.11219047619047619, 0.11219047619047619, 0.11219047619047619, 0.11219047619047619, 0.11219047619047619, 0.11219047619047619, 0.11219047619047619, 0.11219047619047619, 0.11219047619047619, 0.11219047619047619, 0.11219047619047619, 0.11219047619047619, 0.10604761904761904, 0.11219047619047619, 0.10604761904761904, 0.11219047619047619, 0.11219047619047619, 0.10604761904761904, 0.11219047619047619, 0.11219047619047619, 0.11219047619047619, 0.11219047619047619, 0.11219047619047619, 0.11219047619047619, 0.11219047619047619, 0.11219047619047619, 0.10604761904761904]\n",
      "\n",
      "\n",
      "[0.9056956237697442, 0.9655607105478579, 0.9755711700782455, 0.9770299820311159, 0.9779773211437677, 0.9782022131319493, 0.9790791505727237, 0.9777281120556116, 0.981835101186952, 0.9795790248368214, 0.9797354206788933, 0.9824473827724898, 0.982983587060092, 0.9799451673237789, 0.9813098001272609, 0.9787318690695551, 0.9820727170147237, 0.9816542273714944, 0.983757936464284, 0.9832216907876805, 0.9829505897245928, 0.9797997548273549, 0.9794246008386402, 0.9803844828036505, 0.9818465324996503, 0.9664390431717533, 0.9738166921325752, 0.9602870330441695, 0.9691405737731806, 0.9415928143136572, 0.9386886972803339, 0.9524676260833822, 0.9008827641432419, 0.9396903705802313, 0.9330568018149924, 0.9264380452056266, 0.8825156939588478, 0.8089390455351563, 0.913423287766412, 0.9022080839729482, 0.7080212298896553, 0.7909090169336357, 0.9035038969456902, 0.8275439021580299, 0.7679199264770299, 0.6486819853141121, 0.7104065242137533, 0.6369976651422412, 0.010604761904761905, 0.011219047619047618, 0.011219047619047618, 0.011219047619047618, 0.8744863710451831, 0.011219047619047618, 0.011219047619047618, 0.011219047619047618, 0.011219047619047618, 0.011219047619047618, 0.011219047619047618, 0.011219047619047618, 0.011219047619047618, 0.011219047619047618, 0.011219047619047618, 0.011219047619047618, 0.010604761904761905, 0.011219047619047618, 0.011219047619047618, 0.011219047619047618, 0.011219047619047618, 0.011219047619047618, 0.011219047619047618, 0.011219047619047618, 0.011219047619047618, 0.011219047619047618, 0.011219047619047618, 0.011219047619047618, 0.011219047619047618, 0.011219047619047618, 0.011219047619047618, 0.011219047619047618, 0.011219047619047618, 0.011219047619047618, 0.011219047619047618, 0.011219047619047618, 0.011219047619047618, 0.010604761904761905, 0.011219047619047618, 0.010604761904761905, 0.011219047619047618, 0.011219047619047618, 0.010604761904761905, 0.011219047619047618, 0.011219047619047618, 0.011219047619047618, 0.011219047619047618, 0.011219047619047618, 0.011219047619047618, 0.011219047619047618, 0.011219047619047618, 0.010604761904761905]\n",
      "\n",
      "\n",
      "[0.90260274367123, 0.964971924574086, 0.9753302748123034, 0.976987748468621, 0.9782235937658745, 0.978247686517124, 0.9788760204252099, 0.9773689877028033, 0.9818190354407964, 0.9795519258935002, 0.9799612346500934, 0.9824445752577049, 0.9830480692387351, 0.9799505592045203, 0.9813375073236956, 0.9786313148801146, 0.9820559910663464, 0.9815843900909874, 0.9837907061711425, 0.9832336302481692, 0.9830405056255964, 0.9798911748972536, 0.978766305618399, 0.9800732015803282, 0.9817734617660173, 0.9657342226840173, 0.9735962718549542, 0.959909873943577, 0.9681218626678808, 0.9408287744334686, 0.9369499674222219, 0.9521936422840707, 0.8996653503321902, 0.9385653523953928, 0.9319111033047524, 0.9265509874708565, 0.8783074285989395, 0.7583731607395293, 0.910935878489257, 0.8943342869157045, 0.7021971627495667, 0.708322174548755, 0.9026495381163102, 0.8272609508876204, 0.7571369366809326, 0.5908168089317354, 0.6934042950513333, 0.6150836473030838, 0.1, 0.1, 0.1, 0.1, 0.8723782191522726, 0.1, 0.1, 0.1, 0.1, 0.1, 0.1, 0.1, 0.1, 0.1, 0.1, 0.1, 0.1, 0.1, 0.1, 0.1, 0.1, 0.1, 0.1, 0.1, 0.1, 0.1, 0.1, 0.1, 0.1, 0.1, 0.1, 0.1, 0.1, 0.1, 0.1, 0.1, 0.1, 0.1, 0.1, 0.1, 0.1, 0.1, 0.1, 0.1, 0.1, 0.1, 0.1, 0.1, 0.1, 0.1, 0.1, 0.1]\n",
      "\n",
      "\n",
      "[0.09609523809523812, 0.03447619047619044, 0.024380952380952392, 0.022809523809523835, 0.02176190476190476, 0.02161904761904765, 0.020952380952380945, 0.022333333333333316, 0.018095238095238053, 0.020333333333333314, 0.020000000000000018, 0.017476190476190423, 0.016857142857142904, 0.020000000000000018, 0.018571428571428572, 0.021190476190476204, 0.01780952380952383, 0.018238095238095275, 0.016142857142857125, 0.01666666666666672, 0.01680952380952383, 0.020047619047619092, 0.02090476190476187, 0.01966666666666672, 0.018095238095238053, 0.033809523809523845, 0.026142857142857134, 0.03966666666666663, 0.031095238095238065, 0.05809523809523809, 0.06247619047619046, 0.0475714285714286, 0.09985714285714287, 0.06119047619047624, 0.06719047619047624, 0.07304761904761903, 0.11995238095238092, 0.23876190476190473, 0.08852380952380956, 0.1064761904761905, 0.2995714285714286, 0.28361904761904766, 0.09676190476190472, 0.16647619047619044, 0.23985714285714288, 0.40180952380952384, 0.2993809523809524, 0.37809523809523804, 0.8939523809523809, 0.8878095238095238, 0.8878095238095238, 0.8878095238095238, 0.12709523809523815, 0.8878095238095238, 0.8878095238095238, 0.8878095238095238, 0.8878095238095238, 0.8878095238095238, 0.8878095238095238, 0.8878095238095238, 0.8878095238095238, 0.8878095238095238, 0.8878095238095238, 0.8878095238095238, 0.8939523809523809, 0.8878095238095238, 0.8878095238095238, 0.8878095238095238, 0.8878095238095238, 0.8878095238095238, 0.8878095238095238, 0.8878095238095238, 0.8878095238095238, 0.8878095238095238, 0.8878095238095238, 0.8878095238095238, 0.8878095238095238, 0.8878095238095238, 0.8878095238095238, 0.8878095238095238, 0.8878095238095238, 0.8878095238095238, 0.8878095238095238, 0.8878095238095238, 0.8878095238095238, 0.8939523809523809, 0.8878095238095238, 0.8939523809523809, 0.8878095238095238, 0.8878095238095238, 0.8939523809523809, 0.8878095238095238, 0.8878095238095238, 0.8878095238095238, 0.8878095238095238, 0.8878095238095238, 0.8878095238095238, 0.8878095238095238, 0.8878095238095238, 0.8939523809523809]\n"
     ]
    }
   ],
   "source": [
    "print(ScoreResult)\n",
    "print(\"\\n\")\n",
    "print(PredResult)\n",
    "print(\"\\n\")\n",
    "print(RecallResult)\n",
    "print(\"\\n\")\n",
    "print(LossResult)"
   ]
  },
  {
   "cell_type": "markdown",
   "metadata": {},
   "source": [
    "> Visualizing this results :"
   ]
  },
  {
   "cell_type": "code",
   "execution_count": 20,
   "metadata": {},
   "outputs": [
    {
     "data": {
      "text/plain": [
       "Text(0, 0.5, 'Zero-to-one Loss')"
      ]
     },
     "execution_count": 20,
     "metadata": {},
     "output_type": "execute_result"
    },
    {
     "data": {
      "image/png": "[encoded data removed]",
      "text/plain": [
       "<Figure size 720x720 with 4 Axes>"
      ]
     },
     "metadata": {
      "needs_background": "light"
     },
     "output_type": "display_data"
    }
   ],
   "source": [
    "import matplotlib.pyplot as plt\n",
    "\n",
    "\n",
    "fig, axarr = plt.subplots(4, sharex=True, figsize=(10,10))\n",
    "axarr[0].plot(range(100), ScoreResult)\n",
    "axarr[0].set_title('Number of hidden layers from 1 to 99')\n",
    "axarr[0].set_ylabel('Score')\n",
    "axarr[1].plot(range(100), PredResult)\n",
    "axarr[1].set_ylabel('Precision')\n",
    "axarr[2].plot(range(100), RecallResult)\n",
    "axarr[2].set_ylabel('Recall')\n",
    "axarr[3].plot(range(100), LossResult)\n",
    "axarr[3].set_ylabel('Zero-to-one Loss')\n"
   ]
  },
  {
   "cell_type": "markdown",
   "metadata": {},
   "source": [
    "* 5 MLP MNIST Models : "
   ]
  },
  {
   "cell_type": "markdown",
   "metadata": {},
   "source": [
    "> With 1 to 100 layers and 10 to 300 neurals !!"
   ]
  },
  {
   "cell_type": "markdown",
   "metadata": {},
   "source": [
    "> Here we choice randomly our clf :"
   ]
  },
  {
   "cell_type": "code",
   "execution_count": 11,
   "metadata": {},
   "outputs": [],
   "source": [
    "# 1 layer, max neurals\n",
    "clf1 = MLPClassifier(hidden_layer_sizes=(300))\n",
    "# 3 layers, random neurals\n",
    "clf3 = MLPClassifier(hidden_layer_sizes=(20, 200, 50))\n",
    "# 5 layers, gaussien neurals\n",
    "clf5 = MLPClassifier(hidden_layer_sizes=(50, 100, 200, 100, 50))\n",
    "# 7 layers, desin neurals :\n",
    "clf7 = MLPClassifier(hidden_layer_sizes=(300, 250, 200, 150, 100, 50, 10))\n",
    "# 9 layers, increase neurals :\n",
    "clf9 = MLPClassifier(hidden_layer_sizes=(30, 60, 90, 120, 150, 180, 210, 240, 270))\n"
   ]
  },
  {
   "cell_type": "code",
   "execution_count": 12,
   "metadata": {},
   "outputs": [],
   "source": [
    "ClassifierList = (\"clf1\", \"clf3\",\"clf5\", \"clf7\", \"clf9\")\n",
    "\n",
    "Score =[]\n",
    "Precision = []\n",
    "Recall = []\n",
    "Loss = []\n",
    "TimeTraining = []\n",
    "TimePrediction = []\n",
    "\n",
    "def runClfs(clf, i):\n",
    "\n",
    "    #Training :\n",
    "    startTrain =time.time()\n",
    "    clf.fit(xtrain, ytrain)\n",
    "    endTrain = time.time()\n",
    "\n",
    "    #Prediction :\n",
    "    startpred= time.time()\n",
    "    predict = clf.predict(xtest)\n",
    "    endpred = time.time()\n",
    "\n",
    "    #Metrics :\n",
    "    score = clf.score(xtest,ytest)\n",
    "    precision =  metrics.precision_score(ytest, predict,  average='macro')\n",
    "    recall = metrics.recall_score(ytest, predict, average ='macro')\n",
    "    loss01 = metrics.zero_one_loss(ytest, predict)\n",
    "    timetrain = endTrain - startTrain\n",
    "    timePred = endpred - startpred\n",
    "\n",
    "    #Saving results\n",
    "    Score.append(score*100)\n",
    "    Precision.append(precision*100)\n",
    "    Recall.append(recall)\n",
    "    Loss.append(loss01)\n",
    "    TimePrediction.append(timePred)\n",
    "    TimeTraining.append(timetrain)\n",
    "\n",
    "    #Prints :\n",
    "    print(\"For the\", i,\" model we have, score = \", score*100, \"%, precision =\",precision*100, \"%.\" )\n",
    "    print(\"   Training's time = \", timetrain, \"(s) and prediction's time = \", timePred, \"(s).\" )\n",
    "    \n",
    "\n"
   ]
  },
  {
   "cell_type": "code",
   "execution_count": 13,
   "metadata": {},
   "outputs": [
    {
     "name": "stdout",
     "output_type": "stream",
     "text": [
      "For the 1  model we have, score =  98.45714285714286 %, precision = 98.43685903712347 %.\n",
      "   Training's time =  213.78651452064514 (s) and prediction's time =  0.18503022193908691 (s).\n"
     ]
    }
   ],
   "source": [
    "# Testing :\n",
    "runClfs(clf1, 1)\n"
   ]
  },
  {
   "cell_type": "code",
   "execution_count": 14,
   "metadata": {},
   "outputs": [
    {
     "name": "stdout",
     "output_type": "stream",
     "text": [
      "For the 2  model we have, score =  97.1952380952381 %, precision = 97.18308079925959 %.\n",
      "   Training's time =  118.7927713394165 (s) and prediction's time =  0.13120436668395996 (s).\n"
     ]
    }
   ],
   "source": [
    "runClfs(clf3, 2)\n"
   ]
  },
  {
   "cell_type": "code",
   "execution_count": 15,
   "metadata": {},
   "outputs": [
    {
     "name": "stdout",
     "output_type": "stream",
     "text": [
      "For the 3  model we have, score =  98.0904761904762 %, precision = 98.08824792491052 %.\n",
      "   Training's time =  78.13314843177795 (s) and prediction's time =  0.21855378150939941 (s).\n"
     ]
    }
   ],
   "source": [
    "runClfs(clf5, 3)\n"
   ]
  },
  {
   "cell_type": "code",
   "execution_count": 21,
   "metadata": {},
   "outputs": [
    {
     "name": "stdout",
     "output_type": "stream",
     "text": [
      "For the 4  model we have, score =  11.219047619047618 %, precision = 1.1219047619047617 %.\n",
      "   Training's time =  64.2521185874939 (s) and prediction's time =  0.3853933811187744 (s).\n"
     ]
    },
    {
     "name": "stderr",
     "output_type": "stream",
     "text": [
      "/usr/local/insa/anaconda/envs/IA-GPU/lib/python3.7/site-packages/sklearn/metrics/_classification.py:1248: UndefinedMetricWarning: Precision is ill-defined and being set to 0.0 in labels with no predicted samples. Use `zero_division` parameter to control this behavior.\n",
      "  _warn_prf(average, modifier, msg_start, len(result))\n"
     ]
    }
   ],
   "source": [
    "runClfs(clf7, 4)\n"
   ]
  },
  {
   "cell_type": "code",
   "execution_count": 22,
   "metadata": {},
   "outputs": [
    {
     "name": "stderr",
     "output_type": "stream",
     "text": [
      "/usr/local/insa/anaconda/envs/IA-GPU/lib/python3.7/site-packages/sklearn/neural_network/_multilayer_perceptron.py:619: UserWarning: Training interrupted by user.\n",
      "  warnings.warn(\"Training interrupted by user.\")\n"
     ]
    },
    {
     "name": "stdout",
     "output_type": "stream",
     "text": [
      "For the 5  model we have, score =  97.2 %, precision = 97.28104934056581 %.\n",
      "   Training's time =  86.1105797290802 (s) and prediction's time =  0.4805023670196533 (s).\n"
     ]
    }
   ],
   "source": [
    "runClfs(clf9, 5)"
   ]
  },
  {
   "cell_type": "markdown",
   "metadata": {},
   "source": [
    "> showing thne results :"
   ]
  },
  {
   "cell_type": "code",
   "execution_count": 23,
   "metadata": {},
   "outputs": [
    {
     "name": "stdout",
     "output_type": "stream",
     "text": [
      "[98.45714285714286, 97.1952380952381, 98.0904761904762, 98.45238095238096, 87.44761904761906, 11.219047619047618, 97.2]\n",
      "[98.43685903712347, 97.18308079925959, 98.08824792491052, 98.44546235705147, 87.63457802036294, 1.1219047619047617, 97.28104934056581]\n",
      "[0.9845963118381086, 0.9718114587305656, 0.9807774989733907, 0.9843792829812967, 0.8728078230959542, 0.1, 0.9713552902051908]\n",
      "[0.015428571428571458, 0.0280476190476191, 0.019095238095238054, 0.015476190476190421, 0.12552380952380948, 0.8878095238095238, 0.028000000000000025]\n",
      "[213.78651452064514, 118.7927713394165, 78.13314843177795, 92.50614809989929, 2.3563551902770996, 64.2521185874939, 86.1105797290802]\n",
      "[0.18503022193908691, 0.13120436668395996, 0.21855378150939941, 0.4795656204223633, 0.5813310146331787, 0.3853933811187744, 0.4805023670196533]\n"
     ]
    }
   ],
   "source": [
    "print(Score)\n",
    "print(Precision)\n",
    "print(Recall)\n",
    "print(Loss)\n",
    "print(TimeTraining)\n",
    "print(TimePrediction)"
   ]
  },
  {
   "cell_type": "markdown",
   "metadata": {},
   "source": [
    "> Visualizing this results :"
   ]
  },
  {
   "cell_type": "code",
   "execution_count": 19,
   "metadata": {},
   "outputs": [
    {
     "ename": "ValueError",
     "evalue": "x and y must be the same size",
     "output_type": "error",
     "traceback": [
      "\u001b[0;31m---------------------------------------------------------------------------\u001b[0m",
      "\u001b[0;31mValueError\u001b[0m                                Traceback (most recent call last)",
      "\u001b[0;32m<ipython-input-19-24b957469110>\u001b[0m in \u001b[0;36m<module>\u001b[0;34m\u001b[0m\n\u001b[1;32m      2\u001b[0m \u001b[0;34m\u001b[0m\u001b[0m\n\u001b[1;32m      3\u001b[0m \u001b[0mfig\u001b[0m\u001b[0;34m,\u001b[0m \u001b[0maxarr\u001b[0m \u001b[0;34m=\u001b[0m \u001b[0mplt\u001b[0m\u001b[0;34m.\u001b[0m\u001b[0msubplots\u001b[0m\u001b[0;34m(\u001b[0m\u001b[0;36m6\u001b[0m\u001b[0;34m,\u001b[0m \u001b[0msharex\u001b[0m\u001b[0;34m=\u001b[0m\u001b[0;32mTrue\u001b[0m\u001b[0;34m,\u001b[0m \u001b[0mfigsize\u001b[0m\u001b[0;34m=\u001b[0m\u001b[0;34m(\u001b[0m\u001b[0;36m10\u001b[0m\u001b[0;34m,\u001b[0m\u001b[0;36m10\u001b[0m\u001b[0;34m)\u001b[0m\u001b[0;34m)\u001b[0m\u001b[0;34m\u001b[0m\u001b[0;34m\u001b[0m\u001b[0m\n\u001b[0;32m----> 4\u001b[0;31m \u001b[0maxarr\u001b[0m\u001b[0;34m[\u001b[0m\u001b[0;36m0\u001b[0m\u001b[0;34m]\u001b[0m\u001b[0;34m.\u001b[0m\u001b[0mscatter\u001b[0m\u001b[0;34m(\u001b[0m\u001b[0mrange\u001b[0m\u001b[0;34m(\u001b[0m\u001b[0;36m6\u001b[0m\u001b[0;34m)\u001b[0m\u001b[0;34m,\u001b[0m \u001b[0mScore\u001b[0m\u001b[0;34m,\u001b[0m \u001b[0mc\u001b[0m\u001b[0;34m=\u001b[0m\u001b[0;34m'orange'\u001b[0m\u001b[0;34m)\u001b[0m\u001b[0;34m\u001b[0m\u001b[0;34m\u001b[0m\u001b[0m\n\u001b[0m\u001b[1;32m      5\u001b[0m \u001b[0maxarr\u001b[0m\u001b[0;34m[\u001b[0m\u001b[0;36m0\u001b[0m\u001b[0;34m]\u001b[0m\u001b[0;34m.\u001b[0m\u001b[0mset_title\u001b[0m\u001b[0;34m(\u001b[0m\u001b[0;34m'The five classifiers with respectively 1,3,5,7,9 hidden layers'\u001b[0m\u001b[0;34m)\u001b[0m\u001b[0;34m\u001b[0m\u001b[0;34m\u001b[0m\u001b[0m\n\u001b[1;32m      6\u001b[0m \u001b[0maxarr\u001b[0m\u001b[0;34m[\u001b[0m\u001b[0;36m0\u001b[0m\u001b[0;34m]\u001b[0m\u001b[0;34m.\u001b[0m\u001b[0mset_ylabel\u001b[0m\u001b[0;34m(\u001b[0m\u001b[0;34m'Score (%)'\u001b[0m\u001b[0;34m)\u001b[0m\u001b[0;34m\u001b[0m\u001b[0;34m\u001b[0m\u001b[0m\n",
      "\u001b[0;32m/usr/local/insa/anaconda/envs/IA-GPU/lib/python3.7/site-packages/matplotlib/__init__.py\u001b[0m in \u001b[0;36minner\u001b[0;34m(ax, data, *args, **kwargs)\u001b[0m\n\u001b[1;32m   1445\u001b[0m     \u001b[0;32mdef\u001b[0m \u001b[0minner\u001b[0m\u001b[0;34m(\u001b[0m\u001b[0max\u001b[0m\u001b[0;34m,\u001b[0m \u001b[0;34m*\u001b[0m\u001b[0margs\u001b[0m\u001b[0;34m,\u001b[0m \u001b[0mdata\u001b[0m\u001b[0;34m=\u001b[0m\u001b[0;32mNone\u001b[0m\u001b[0;34m,\u001b[0m \u001b[0;34m**\u001b[0m\u001b[0mkwargs\u001b[0m\u001b[0;34m)\u001b[0m\u001b[0;34m:\u001b[0m\u001b[0;34m\u001b[0m\u001b[0;34m\u001b[0m\u001b[0m\n\u001b[1;32m   1446\u001b[0m         \u001b[0;32mif\u001b[0m \u001b[0mdata\u001b[0m \u001b[0;32mis\u001b[0m \u001b[0;32mNone\u001b[0m\u001b[0;34m:\u001b[0m\u001b[0;34m\u001b[0m\u001b[0;34m\u001b[0m\u001b[0m\n\u001b[0;32m-> 1447\u001b[0;31m             \u001b[0;32mreturn\u001b[0m \u001b[0mfunc\u001b[0m\u001b[0;34m(\u001b[0m\u001b[0max\u001b[0m\u001b[0;34m,\u001b[0m \u001b[0;34m*\u001b[0m\u001b[0mmap\u001b[0m\u001b[0;34m(\u001b[0m\u001b[0msanitize_sequence\u001b[0m\u001b[0;34m,\u001b[0m \u001b[0margs\u001b[0m\u001b[0;34m)\u001b[0m\u001b[0;34m,\u001b[0m \u001b[0;34m**\u001b[0m\u001b[0mkwargs\u001b[0m\u001b[0;34m)\u001b[0m\u001b[0;34m\u001b[0m\u001b[0;34m\u001b[0m\u001b[0m\n\u001b[0m\u001b[1;32m   1448\u001b[0m \u001b[0;34m\u001b[0m\u001b[0m\n\u001b[1;32m   1449\u001b[0m         \u001b[0mbound\u001b[0m \u001b[0;34m=\u001b[0m \u001b[0mnew_sig\u001b[0m\u001b[0;34m.\u001b[0m\u001b[0mbind\u001b[0m\u001b[0;34m(\u001b[0m\u001b[0max\u001b[0m\u001b[0;34m,\u001b[0m \u001b[0;34m*\u001b[0m\u001b[0margs\u001b[0m\u001b[0;34m,\u001b[0m \u001b[0;34m**\u001b[0m\u001b[0mkwargs\u001b[0m\u001b[0;34m)\u001b[0m\u001b[0;34m\u001b[0m\u001b[0;34m\u001b[0m\u001b[0m\n",
      "\u001b[0;32m/usr/local/insa/anaconda/envs/IA-GPU/lib/python3.7/site-packages/matplotlib/cbook/deprecation.py\u001b[0m in \u001b[0;36mwrapper\u001b[0;34m(*inner_args, **inner_kwargs)\u001b[0m\n\u001b[1;32m    409\u001b[0m                          \u001b[0;32melse\u001b[0m \u001b[0mdeprecation_addendum\u001b[0m\u001b[0;34m,\u001b[0m\u001b[0;34m\u001b[0m\u001b[0;34m\u001b[0m\u001b[0m\n\u001b[1;32m    410\u001b[0m                 **kwargs)\n\u001b[0;32m--> 411\u001b[0;31m         \u001b[0;32mreturn\u001b[0m \u001b[0mfunc\u001b[0m\u001b[0;34m(\u001b[0m\u001b[0;34m*\u001b[0m\u001b[0minner_args\u001b[0m\u001b[0;34m,\u001b[0m \u001b[0;34m**\u001b[0m\u001b[0minner_kwargs\u001b[0m\u001b[0;34m)\u001b[0m\u001b[0;34m\u001b[0m\u001b[0;34m\u001b[0m\u001b[0m\n\u001b[0m\u001b[1;32m    412\u001b[0m \u001b[0;34m\u001b[0m\u001b[0m\n\u001b[1;32m    413\u001b[0m     \u001b[0;32mreturn\u001b[0m \u001b[0mwrapper\u001b[0m\u001b[0;34m\u001b[0m\u001b[0;34m\u001b[0m\u001b[0m\n",
      "\u001b[0;32m/usr/local/insa/anaconda/envs/IA-GPU/lib/python3.7/site-packages/matplotlib/axes/_axes.py\u001b[0m in \u001b[0;36mscatter\u001b[0;34m(self, x, y, s, c, marker, cmap, norm, vmin, vmax, alpha, linewidths, verts, edgecolors, plotnonfinite, **kwargs)\u001b[0m\n\u001b[1;32m   4439\u001b[0m         \u001b[0my\u001b[0m \u001b[0;34m=\u001b[0m \u001b[0mnp\u001b[0m\u001b[0;34m.\u001b[0m\u001b[0mma\u001b[0m\u001b[0;34m.\u001b[0m\u001b[0mravel\u001b[0m\u001b[0;34m(\u001b[0m\u001b[0my\u001b[0m\u001b[0;34m)\u001b[0m\u001b[0;34m\u001b[0m\u001b[0;34m\u001b[0m\u001b[0m\n\u001b[1;32m   4440\u001b[0m         \u001b[0;32mif\u001b[0m \u001b[0mx\u001b[0m\u001b[0;34m.\u001b[0m\u001b[0msize\u001b[0m \u001b[0;34m!=\u001b[0m \u001b[0my\u001b[0m\u001b[0;34m.\u001b[0m\u001b[0msize\u001b[0m\u001b[0;34m:\u001b[0m\u001b[0;34m\u001b[0m\u001b[0;34m\u001b[0m\u001b[0m\n\u001b[0;32m-> 4441\u001b[0;31m             \u001b[0;32mraise\u001b[0m \u001b[0mValueError\u001b[0m\u001b[0;34m(\u001b[0m\u001b[0;34m\"x and y must be the same size\"\u001b[0m\u001b[0;34m)\u001b[0m\u001b[0;34m\u001b[0m\u001b[0;34m\u001b[0m\u001b[0m\n\u001b[0m\u001b[1;32m   4442\u001b[0m \u001b[0;34m\u001b[0m\u001b[0m\n\u001b[1;32m   4443\u001b[0m         \u001b[0;32mif\u001b[0m \u001b[0ms\u001b[0m \u001b[0;32mis\u001b[0m \u001b[0;32mNone\u001b[0m\u001b[0;34m:\u001b[0m\u001b[0;34m\u001b[0m\u001b[0;34m\u001b[0m\u001b[0m\n",
      "\u001b[0;31mValueError\u001b[0m: x and y must be the same size"
     ]
    },
    {
     "data": {
      "image/png": "[encoded data removed]",
      "text/plain": [
       "<Figure size 720x720 with 6 Axes>"
      ]
     },
     "metadata": {
      "needs_background": "light"
     },
     "output_type": "display_data"
    }
   ],
   "source": [
    "import matplotlib.pyplot as plt\n",
    "\n",
    "fig, axarr = plt.subplots(6, sharex=True, figsize=(10,10))\n",
    "axarr[0].scatter(range(6), Score, c='orange')\n",
    "axarr[0].set_title('The five classifiers with respectively 1,3,5,7,9 hidden layers')\n",
    "axarr[0].set_ylabel('Score (%)')\n",
    "axarr[1].scatter(range(6), Precision, c='red')\n",
    "axarr[1].set_ylabel('Precision (%)')\n",
    "axarr[2].scatter(range(6), Recall, c='yellow')\n",
    "axarr[2].set_ylabel('Recall ')\n",
    "axarr[3].scatter(range(6), Loss, c='blue')\n",
    "axarr[3].set_ylabel('Zero-to-one Loss')\n",
    "axarr[4].scatter(range(6), TimeTraining, c='pink')\n",
    "axarr[4].set_ylabel('Training Time (s)')\n",
    "axarr[5].scatter(range(6), TimePrediction, c='purple')\n",
    "axarr[5].set_ylabel('¨Prediction Time (s)')\n",
    "\n",
    "plt.show()"
   ]
  },
  {
   "cell_type": "markdown",
   "metadata": {},
   "source": [
    "* Study the convergence of the available optimization algorithms: `L-BFGS`, `SGD` and `Adam` "
   ]
  },
  {
   "cell_type": "markdown",
   "metadata": {},
   "source": [
    "> LBFGS :  an optimizer in the family of quasi-Newton methods.. <br />\n",
    "> SGD : stochastic gradient descent.. <br />\n",
    "> ADAM : a stochastic gradient-based optimizer proposed by Kingma, Diederik, and Jimmy Ba.."
   ]
  },
  {
   "cell_type": "code",
   "execution_count": 9,
   "metadata": {},
   "outputs": [],
   "source": [
    "# Our tuples (<==> i layer(s) with a random number of neurals) :\n",
    "t1 = (30)\n",
    "t3 = (20, 200, 50)\n",
    "t5 = (50, 100, 200, 100, 50)\n",
    "t7 = (300, 250, 200, 150, 100, 50, 10)\n",
    "t9 = (30, 60, 90, 120, 150, 180, 210, 240, 270)"
   ]
  },
  {
   "cell_type": "code",
   "execution_count": 10,
   "metadata": {},
   "outputs": [],
   "source": [
    "TotalScore = []\n",
    "TotalPrecision = []\n",
    "TotalRecall = []\n",
    "TotalLoss = []\n",
    "TotalTrainingTime =[]\n",
    "TotalPredictionTime = []"
   ]
  },
  {
   "cell_type": "code",
   "execution_count": 17,
   "metadata": {},
   "outputs": [],
   "source": [
    "def trySolver(tuple, solv, i):\n",
    "\n",
    "    #Training :\n",
    "    clf = MLPClassifier(hidden_layer_sizes = tuple, solver = solv)\n",
    "    start1 = time.time()\n",
    "    clf.fit(xtrain, ytrain)\n",
    "    end1 = time.time()\n",
    "\n",
    "    #Prediction :\n",
    "    start2 = time.time()\n",
    "    prediction = clf.predict(xtest)\n",
    "    end2 = time.time()\n",
    "\n",
    "    #Metrics :\n",
    "    score = clf.score(xtest, ytest)\n",
    "    precision = metrics.precision_score(ytest, prediction, average = 'macro')\n",
    "    recall = metrics.zero_one_loss(ytest, prediction)\n",
    "    loss0_1 = metrics.zero_one_loss(ytest, prediction)\n",
    "\n",
    "    trainingTime = end1 - start1\n",
    "    predictionTime = end2 - start2\n",
    "\n",
    "    #Saving reults :\n",
    "    TotalScore.append(score)\n",
    "    TotalPrecision.append(precision)\n",
    "    TotalRecall.append(recall)\n",
    "    TotalLoss.append(loss0_1)\n",
    "    TotalTrainingTime.append(trainingTime)\n",
    "    TotalPredictionTime.append(predictionTime)\n",
    "\n",
    "    # Printing results :\n",
    "    print(\"For the Solver :: \", solv)\n",
    "    print(\"for the \", i, \"model we have, a score = \", score * 100, \"%, precision = \", precision * 100, \"%, training's time = \", trainingTime, \"and a prediction's time = \", predictionTime, \" .\")\n",
    "    \n",
    "\n"
   ]
  },
  {
   "cell_type": "markdown",
   "metadata": {},
   "source": [
    "> Testing :"
   ]
  },
  {
   "cell_type": "code",
   "execution_count": 18,
   "metadata": {},
   "outputs": [
    {
     "name": "stderr",
     "output_type": "stream",
     "text": [
      "C:\\Users\\Said\\AppData\\Local\\Programs\\Python\\Python39\\lib\\site-packages\\sklearn\\neural_network\\_multilayer_perceptron.py:500: ConvergenceWarning: lbfgs failed to converge (status=1):\n",
      "STOP: TOTAL NO. of ITERATIONS REACHED LIMIT.\n",
      "\n",
      "Increase the number of iterations (max_iter) or scale the data as shown in:\n",
      "    https://scikit-learn.org/stable/modules/preprocessing.html\n",
      "  self.n_iter_ = _check_optimize_result(\"lbfgs\", opt_res, self.max_iter)\n"
     ]
    },
    {
     "name": "stdout",
     "output_type": "stream",
     "text": [
      "For the Solver ::  lbfgs\n",
      "for the  1 model we have, a score =  79.0904761904762 %, precision =  79.05176930732128 %, training's time =  196.32854986190796 and a prediction's time =  0.7764620780944824  .\n",
      "For the Solver ::  sgd\n",
      "for the  1 model we have, a score =  87.71904761904761 %, precision =  87.67929165063524 %, training's time =  192.07735395431519 and a prediction's time =  1.7416398525238037  .\n",
      "For the Solver ::  adam\n",
      "for the  1 model we have, a score =  95.70476190476191 %, precision =  95.72408289235105 %, training's time =  358.43832993507385 and a prediction's time =  0.3560059070587158  .\n"
     ]
    }
   ],
   "source": [
    "for j in ('lbfgs', 'sgd', 'adam'):\n",
    "    trySolver(t1, j, 1)\n"
   ]
  },
  {
   "cell_type": "code",
   "execution_count": 19,
   "metadata": {},
   "outputs": [
    {
     "name": "stderr",
     "output_type": "stream",
     "text": [
      "C:\\Users\\Said\\AppData\\Local\\Programs\\Python\\Python39\\lib\\site-packages\\sklearn\\neural_network\\_multilayer_perceptron.py:500: ConvergenceWarning: lbfgs failed to converge (status=1):\n",
      "STOP: TOTAL NO. of ITERATIONS REACHED LIMIT.\n",
      "\n",
      "Increase the number of iterations (max_iter) or scale the data as shown in:\n",
      "    https://scikit-learn.org/stable/modules/preprocessing.html\n",
      "  self.n_iter_ = _check_optimize_result(\"lbfgs\", opt_res, self.max_iter)\n"
     ]
    },
    {
     "name": "stdout",
     "output_type": "stream",
     "text": [
      "For the Solver ::  lbfgs\n",
      "for the  2 model we have, a score =  70.54761904761905 %, precision =  71.51353863066959 %, training's time =  333.0212616920471 and a prediction's time =  0.4140033721923828  .\n"
     ]
    },
    {
     "name": "stderr",
     "output_type": "stream",
     "text": [
      "C:\\Users\\Said\\AppData\\Local\\Programs\\Python\\Python39\\lib\\site-packages\\sklearn\\neural_network\\_multilayer_perceptron.py:614: ConvergenceWarning: Stochastic Optimizer: Maximum iterations (200) reached and the optimization hasn't converged yet.\n",
      "  warnings.warn(\n"
     ]
    },
    {
     "name": "stdout",
     "output_type": "stream",
     "text": [
      "For the Solver ::  sgd\n",
      "for the  2 model we have, a score =  90.9952380952381 %, precision =  90.92315838999433 %, training's time =  591.2617228031158 and a prediction's time =  10.417722702026367  .\n",
      "For the Solver ::  adam\n",
      "for the  2 model we have, a score =  97.18095238095238 %, precision =  97.14989516014272 %, training's time =  448.864266872406 and a prediction's time =  29.996471643447876  .\n"
     ]
    }
   ],
   "source": [
    "for j in ('lbfgs', 'sgd', 'adam'):\n",
    "    trySolver(t3, j, 2)\n"
   ]
  },
  {
   "cell_type": "code",
   "execution_count": 20,
   "metadata": {},
   "outputs": [
    {
     "name": "stderr",
     "output_type": "stream",
     "text": [
      "C:\\Users\\Said\\AppData\\Local\\Programs\\Python\\Python39\\lib\\site-packages\\sklearn\\neural_network\\_multilayer_perceptron.py:500: ConvergenceWarning: lbfgs failed to converge (status=1):\n",
      "STOP: TOTAL NO. of ITERATIONS REACHED LIMIT.\n",
      "\n",
      "Increase the number of iterations (max_iter) or scale the data as shown in:\n",
      "    https://scikit-learn.org/stable/modules/preprocessing.html\n",
      "  self.n_iter_ = _check_optimize_result(\"lbfgs\", opt_res, self.max_iter)\n"
     ]
    },
    {
     "name": "stdout",
     "output_type": "stream",
     "text": [
      "For the Solver ::  lbfgs\n",
      "for the  3 model we have, a score =  97.83333333333334 %, precision =  97.81346958485389 %, training's time =  844.8463888168335 and a prediction's time =  43.120851039886475  .\n",
      "For the Solver ::  sgd\n",
      "for the  3 model we have, a score =  97.43333333333334 %, precision =  97.39703236171144 %, training's time =  715.48588514328 and a prediction's time =  16.42468571662903  .\n",
      "For the Solver ::  adam\n",
      "for the  3 model we have, a score =  97.90952380952382 %, precision =  97.90165701353841 %, training's time =  182.7492082118988 and a prediction's time =  0.4644899368286133  .\n"
     ]
    }
   ],
   "source": [
    "for j in ('lbfgs', 'sgd', 'adam'):\n",
    "    trySolver(t5, j, 3)\n"
   ]
  },
  {
   "cell_type": "code",
   "execution_count": 21,
   "metadata": {},
   "outputs": [
    {
     "name": "stderr",
     "output_type": "stream",
     "text": [
      "C:\\Users\\Said\\AppData\\Local\\Programs\\Python\\Python39\\lib\\site-packages\\sklearn\\neural_network\\_multilayer_perceptron.py:500: ConvergenceWarning: lbfgs failed to converge (status=1):\n",
      "STOP: TOTAL NO. of ITERATIONS REACHED LIMIT.\n",
      "\n",
      "Increase the number of iterations (max_iter) or scale the data as shown in:\n",
      "    https://scikit-learn.org/stable/modules/preprocessing.html\n",
      "  self.n_iter_ = _check_optimize_result(\"lbfgs\", opt_res, self.max_iter)\n"
     ]
    },
    {
     "name": "stdout",
     "output_type": "stream",
     "text": [
      "For the Solver ::  lbfgs\n",
      "for the  4 model we have, a score =  98.02380952380952 %, precision =  97.99412682566141 %, training's time =  1593.3813166618347 and a prediction's time =  53.12957978248596  .\n"
     ]
    },
    {
     "name": "stderr",
     "output_type": "stream",
     "text": [
      "C:\\Users\\Said\\AppData\\Local\\Programs\\Python\\Python39\\lib\\site-packages\\sklearn\\metrics\\_classification.py:1248: UndefinedMetricWarning: Precision is ill-defined and being set to 0.0 in labels with no predicted samples. Use `zero_division` parameter to control this behavior.\n",
      "  _warn_prf(average, modifier, msg_start, len(result))\n"
     ]
    },
    {
     "name": "stdout",
     "output_type": "stream",
     "text": [
      "For the Solver ::  sgd\n",
      "for the  4 model we have, a score =  11.014285714285714 %, precision =  1.1014285714285714 %, training's time =  273.30187225341797 and a prediction's time =  0.9999816417694092  .\n"
     ]
    },
    {
     "name": "stderr",
     "output_type": "stream",
     "text": [
      "C:\\Users\\Said\\AppData\\Local\\Programs\\Python\\Python39\\lib\\site-packages\\sklearn\\metrics\\_classification.py:1248: UndefinedMetricWarning: Precision is ill-defined and being set to 0.0 in labels with no predicted samples. Use `zero_division` parameter to control this behavior.\n",
      "  _warn_prf(average, modifier, msg_start, len(result))\n"
     ]
    },
    {
     "name": "stdout",
     "output_type": "stream",
     "text": [
      "For the Solver ::  adam\n",
      "for the  4 model we have, a score =  11.014285714285714 %, precision =  1.1014285714285714 %, training's time =  243.5453577041626 and a prediction's time =  1.0197246074676514  .\n"
     ]
    }
   ],
   "source": [
    "for j in ('lbfgs', 'sgd', 'adam'):\n",
    "    trySolver(t7, j, 4)\n"
   ]
  },
  {
   "cell_type": "code",
   "execution_count": 22,
   "metadata": {},
   "outputs": [
    {
     "name": "stderr",
     "output_type": "stream",
     "text": [
      "C:\\Users\\Said\\AppData\\Local\\Programs\\Python\\Python39\\lib\\site-packages\\sklearn\\neural_network\\_multilayer_perceptron.py:500: ConvergenceWarning: lbfgs failed to converge (status=1):\n",
      "STOP: TOTAL NO. of ITERATIONS REACHED LIMIT.\n",
      "\n",
      "Increase the number of iterations (max_iter) or scale the data as shown in:\n",
      "    https://scikit-learn.org/stable/modules/preprocessing.html\n",
      "  self.n_iter_ = _check_optimize_result(\"lbfgs\", opt_res, self.max_iter)\n"
     ]
    },
    {
     "name": "stdout",
     "output_type": "stream",
     "text": [
      "For the Solver ::  lbfgs\n",
      "for the  5 model we have, a score =  96.87142857142858 %, precision =  96.83860701567495 %, training's time =  1294.8211524486542 and a prediction's time =  46.234375953674316  .\n",
      "For the Solver ::  sgd\n",
      "for the  5 model we have, a score =  98.03809523809524 %, precision =  98.01561148579691 %, training's time =  458.9907810688019 and a prediction's time =  1.078120231628418  .\n",
      "For the Solver ::  adam\n",
      "for the  5 model we have, a score =  97.4952380952381 %, precision =  97.48111659713649 %, training's time =  701.2395927906036 and a prediction's time =  1.063002109527588  .\n"
     ]
    }
   ],
   "source": [
    "for j in ('lbfgs', 'sgd', 'adam'):\n",
    "    trySolver(t9, j, 5)"
   ]
  },
  {
   "cell_type": "markdown",
   "metadata": {},
   "source": [
    "> Showing this results :"
   ]
  },
  {
   "cell_type": "code",
   "execution_count": 23,
   "metadata": {},
   "outputs": [
    {
     "name": "stdout",
     "output_type": "stream",
     "text": [
      "[0.7909047619047619, 0.8771904761904762, 0.957047619047619, 0.7054761904761905, 0.909952380952381, 0.9718095238095238, 0.9783333333333334, 0.9743333333333334, 0.9790952380952381, 0.9802380952380952, 0.11014285714285714, 0.11014285714285714, 0.9687142857142857, 0.9803809523809524, 0.9749523809523809]\n",
      "[0.7905176930732128, 0.8767929165063524, 0.9572408289235105, 0.7151353863066958, 0.9092315838999433, 0.9714989516014272, 0.978134695848539, 0.9739703236171143, 0.9790165701353841, 0.9799412682566141, 0.011014285714285714, 0.011014285714285714, 0.9683860701567495, 0.9801561148579692, 0.9748111659713649]\n",
      "[0.2090952380952381, 0.12280952380952381, 0.042952380952380964, 0.2945238095238095, 0.09004761904761904, 0.02819047619047621, 0.021666666666666612, 0.025666666666666615, 0.02090476190476187, 0.01976190476190476, 0.8898571428571429, 0.8898571428571429, 0.03128571428571425, 0.019619047619047647, 0.025047619047619096]\n",
      "[0.2090952380952381, 0.12280952380952381, 0.042952380952380964, 0.2945238095238095, 0.09004761904761904, 0.02819047619047621, 0.021666666666666612, 0.025666666666666615, 0.02090476190476187, 0.01976190476190476, 0.8898571428571429, 0.8898571428571429, 0.03128571428571425, 0.019619047619047647, 0.025047619047619096]\n",
      "[196.32854986190796, 192.07735395431519, 358.43832993507385, 333.0212616920471, 591.2617228031158, 448.864266872406, 844.8463888168335, 715.48588514328, 182.7492082118988, 1593.3813166618347, 273.30187225341797, 243.5453577041626, 1294.8211524486542, 458.9907810688019, 701.2395927906036]\n",
      "[0.7764620780944824, 1.7416398525238037, 0.3560059070587158, 0.4140033721923828, 10.417722702026367, 29.996471643447876, 43.120851039886475, 16.42468571662903, 0.4644899368286133, 53.12957978248596, 0.9999816417694092, 1.0197246074676514, 46.234375953674316, 1.078120231628418, 1.063002109527588]\n"
     ]
    }
   ],
   "source": [
    "print(TotalScore)\n",
    "print(TotalPrecision)\n",
    "print(TotalRecall)\n",
    "print(TotalLoss)\n",
    "print(TotalTrainingTime)\n",
    "print(TotalPredictionTime)"
   ]
  },
  {
   "cell_type": "markdown",
   "metadata": {},
   "source": [
    "* Visualiziing this results :"
   ]
  },
  {
   "cell_type": "code",
   "execution_count": 26,
   "metadata": {},
   "outputs": [
    {
     "data": {
      "image/png": "[encoded data removed]",
      "text/plain": [
       "<Figure size 720x720 with 6 Axes>"
      ]
     },
     "metadata": {
      "needs_background": "light"
     },
     "output_type": "display_data"
    }
   ],
   "source": [
    "fig, axarr = plt.subplots(6, sharex=True, figsize=(10,10))\n",
    "\n",
    "axarr[0].scatter(range(15), TotalScore, c='red')\n",
    "axarr[0].set_title('The five classifiers with 3 training methods : <lbfgs>, <sgd>, <adam>')\n",
    "axarr[0].set_ylabel('Score (%)')\n",
    "axarr[1].scatter(range(15), TotalPrecision, c='blue')\n",
    "axarr[1].set_ylabel('Precision (%)')\n",
    "axarr[2].scatter(range(15), TotalRecall, c='orange')\n",
    "axarr[2].set_ylabel('Recall ')\n",
    "axarr[3].scatter(range(15), TotalRecall, c='purple')\n",
    "axarr[3].set_ylabel('Zero-to-one Loss')\n",
    "axarr[4].scatter(range(15), TotalTrainingTime, c='yellow')\n",
    "axarr[4].set_ylabel('Training Time (s)')\n",
    "axarr[5].scatter(range(15), TotalPredictionTime)\n",
    "axarr[5].set_ylabel('¨Prediction Time (s)')\n",
    "\n",
    "plt.show()"
   ]
  },
  {
   "cell_type": "markdown",
   "metadata": {},
   "source": [
    "* Variation of the Activation function :"
   ]
  },
  {
   "cell_type": "code",
   "execution_count": 27,
   "metadata": {},
   "outputs": [],
   "source": [
    "TotalScore2 = []\n",
    "TotalPrecision2 = []\n",
    "TotalRecall2 = []\n",
    "TotalLoss2 = []\n",
    "TotalTrainingTime2 =[]\n",
    "TotalPredictionTime2 = []"
   ]
  },
  {
   "cell_type": "code",
   "execution_count": 28,
   "metadata": {},
   "outputs": [],
   "source": [
    "def trySomeActivationFcts(t, activation ,i) :\n",
    "    #Training :\n",
    "    clf = MLPClassifier(hidden_layer_sizes = t, activation = activation)\n",
    "    start1 = time.time()\n",
    "    clf.fit(xtrain, ytrain)\n",
    "    end1= time.time()\n",
    "\n",
    "    #Prediction :\n",
    "    start2 = time.time()\n",
    "    prediction = clf.predict(xtest)\n",
    "    end2 = time.time()\n",
    "\n",
    "    #Metrics :\n",
    "    score = clf.score(xtest, ytest)\n",
    "    precision = metrics.precision_score(ytest, prediction, average='macro')\n",
    "    recall = metrics.recall_score(ytest, prediction, average='macro')\n",
    "    loss0_1 = metrics.zero_one_loss(ytest, prediction)\n",
    "\n",
    "    trainingT = end1 - start1\n",
    "    predictionT = end2 - start2\n",
    "\n",
    "    # Saving the results :\n",
    "    TotalScore2.append(score)\n",
    "    TotalPrecision2.append(precision)\n",
    "    TotalRecall2.append(recall)\n",
    "    TotalLoss2.append(loss0_1)\n",
    "    TotalTrainingTime2.append(trainingT)\n",
    "    TotalPredictionTime2.append(predictionT)\n",
    "\n",
    "    #Print the results :\n",
    "    print(\"For the activation function : \", activation)\n",
    "    print(\"for the, \", i, \" model, the score = \",score * 100, \"%, precision = \", precision * 100, \"%, training'time = \", trainingT, \"(s) and the prediction's time is = \", predictionT, \" (s).\")\n",
    "     \n"
   ]
  },
  {
   "cell_type": "markdown",
   "metadata": {},
   "source": [
    "> Testing :"
   ]
  },
  {
   "cell_type": "code",
   "execution_count": 29,
   "metadata": {},
   "outputs": [],
   "source": [
    "for j in ('identity', 'logistic', 'tanh', 'relu'):\n",
    "    trySomeActivationFcts(t1, j, 1)"
   ]
  },
  {
   "cell_type": "code",
   "execution_count": null,
   "metadata": {},
   "outputs": [],
   "source": [
    "for j in ('identity', 'logistic', 'tanh', 'relu'):\n",
    "    trySomeActivationFcts(t3, j, 2)"
   ]
  },
  {
   "cell_type": "code",
   "execution_count": null,
   "metadata": {},
   "outputs": [],
   "source": [
    "\n",
    "for j in ('identity', 'logistic', 'tanh', 'relu'):\n",
    "    trySomeActivationFcts(t5, j, 3)"
   ]
  },
  {
   "cell_type": "code",
   "execution_count": null,
   "metadata": {},
   "outputs": [],
   "source": [
    "\n",
    "for j in ('identity', 'logistic', 'tanh', 'relu'):\n",
    "    trySomeActivationFcts(t7, j, 4)"
   ]
  },
  {
   "cell_type": "code",
   "execution_count": null,
   "metadata": {},
   "outputs": [],
   "source": [
    "\n",
    "for j in ('identity', 'logistic', 'tanh', 'relu'):\n",
    "    trySomeActivationFcts(t9, j, 5)"
   ]
  },
  {
   "cell_type": "markdown",
   "metadata": {},
   "source": [
    "> Showing the results :"
   ]
  },
  {
   "cell_type": "code",
   "execution_count": null,
   "metadata": {},
   "outputs": [],
   "source": [
    "print(TotalScore2)\n",
    "print(TotalPrecision2)\n",
    "print(TotalRecall2)\n",
    "print(TotalLoss2)\n",
    "print(TotalTrainingTime2)\n",
    "print(TotalPredictionTime2)"
   ]
  },
  {
   "cell_type": "markdown",
   "metadata": {},
   "source": [
    "> Visualizing this reults :"
   ]
  },
  {
   "cell_type": "code",
   "execution_count": null,
   "metadata": {},
   "outputs": [],
   "source": [
    "fig, axarr = plt.subplots(6, sharex=True, figsize=(10,10))\n",
    "axarr[0].scatter(range(20), TotalScore2)\n",
    "axarr[0].set_title('The five classifiers with different activation functions : identity, logistic, tanh, relu')\n",
    "axarr[0].set_ylabel('Score (%)')\n",
    "axarr[1].scatter(range(20), TotalPrecision2)\n",
    "axarr[1].set_ylabel('Precision (%)')\n",
    "axarr[2].scatter(range(20), TotalRecall2)\n",
    "axarr[2].set_ylabel('Recall ')\n",
    "axarr[3].scatter(range(20), TotalLoss2)\n",
    "axarr[3].set_ylabel('Zero-to-one Loss')\n",
    "axarr[4].scatter(range(20), TotalTrainingTime2)\n",
    "axarr[4].set_ylabel('Training Time(s)')\n",
    "axarr[5].scatter(range(20), TotalPredictionTime2)\n",
    "axarr[5].set_ylabel('¨Prediction Time(s)')\n",
    "\n",
    "plt.show()"
   ]
  },
  {
   "cell_type": "markdown",
   "metadata": {},
   "source": [
    "* Variation of alpha (Regulisation value L2)"
   ]
  },
  {
   "cell_type": "code",
   "execution_count": null,
   "metadata": {},
   "outputs": [],
   "source": [
    "alphas = np.logspace(-5, 3, 5)\n",
    "FinalScore = []\n",
    "FinalPrecision = []\n"
   ]
  }
 ],
 "metadata": {
  "interpreter": {
   "hash": "67daac1ebf3b80a6e8e15acaf6535d9d72e4e060942990dc63fc0ef314051e9e"
  },
  "kernelspec": {
   "display_name": "Python (IA-GPU)",
   "language": "python",
   "name": "ia-gpu"
  },
  "language_info": {
   "codemirror_mode": {
    "name": "ipython",
    "version": 3
   },
   "file_extension": ".py",
   "mimetype": "text/x-python",
   "name": "python",
   "nbconvert_exporter": "python",
   "pygments_lexer": "ipython3",
   "version": "3.7.10"
  }
 },
 "nbformat": 4,
 "nbformat_minor": 2
}
