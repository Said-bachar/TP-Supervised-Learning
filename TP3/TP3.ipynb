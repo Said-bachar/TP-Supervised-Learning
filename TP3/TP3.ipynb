{
 "cells": [
  {
   "cell_type": "markdown",
   "metadata": {},
   "source": [
    "* Importing the necessary libs :"
   ]
  },
  {
   "cell_type": "code",
   "execution_count": 1,
   "metadata": {},
   "outputs": [],
   "source": [
    "# Imports :\n",
    "\n",
    "import numpy as np\n",
    "from sklearn.datasets import fetch_openml\n",
    "from sklearn.model_selection import train_test_split \n",
    "from sklearn.svm import SVC\n",
    "from sklearn import metrics\n",
    "import matplotlib.pyplot as plt\n",
    "import numpy as np\n",
    "import time"
   ]
  },
  {
   "cell_type": "markdown",
   "metadata": {},
   "source": [
    "* Dowloanding the MNIST dataset :"
   ]
  },
  {
   "cell_type": "code",
   "execution_count": 2,
   "metadata": {},
   "outputs": [],
   "source": [
    "\n",
    "mnist = fetch_openml('mnist_784', as_frame=False)\n",
    "\n",
    "#randomise Data et target\n",
    "indices = np.random.randint(10000, size=10000)\n",
    "data = mnist.data[indices]\n",
    "target = mnist.target[indices]\n",
    "\n",
    "# training set of 49000 (70% training set - 30 % test set)\n",
    "xtrain, xtest, ytrain, ytest =train_test_split(data, target, train_size=int(len(data)*0.7))"
   ]
  },
  {
   "cell_type": "code",
   "execution_count": 33,
   "metadata": {},
   "outputs": [
    {
     "name": "stdout",
     "output_type": "stream",
     "text": [
      "(70000, 784)\n"
     ]
    }
   ],
   "source": [
    "print(mnist.data.shape)"
   ]
  },
  {
   "cell_type": "markdown",
   "metadata": {},
   "source": [
    "* Classification model with a linear `kernel` :"
   ]
  },
  {
   "cell_type": "code",
   "execution_count": 3,
   "metadata": {},
   "outputs": [],
   "source": [
    "# TRAINING\n",
    "clf = SVC(kernel='linear')\n",
    "beginTrain =time.time()\n",
    "clf.fit(xtrain, ytrain)\n",
    "endTrain = time.time()\n",
    "\n",
    "# PREDICTION\n",
    "beginpred= time.time()\n",
    "prediction = clf.predict(xtest)\n",
    "endpred = time.time()\n",
    "\n",
    "# METRICS\n",
    "score = clf.score(xtest,ytest)\n",
    "recall = metrics.recall_score(ytest, prediction, average ='macro')\n",
    "precision = metrics.precision_score(ytest, prediction,  average='macro')\n",
    "loss01 = metrics.zero_one_loss(ytest, prediction)\n",
    "timetrain = endTrain - beginTrain\n",
    "timePred = endpred - beginpred"
   ]
  },
  {
   "cell_type": "markdown",
   "metadata": {},
   "source": [
    "> Results :"
   ]
  },
  {
   "cell_type": "code",
   "execution_count": 4,
   "metadata": {},
   "outputs": [
    {
     "name": "stdout",
     "output_type": "stream",
     "text": [
      "The SVC model with <Linear kernel> has a score of : 95.96666666666667 %, and a precision =  95.97488634872327 %  with a training time =  14.959646463394165  s.\n"
     ]
    }
   ],
   "source": [
    "print(\"The SVC model with <Linear kernel> has a score of :\", score * 100, \"%, and a precision = \",precision * 100,\"% \", \"with a training time = \", timetrain, \" s.\" )"
   ]
  },
  {
   "cell_type": "markdown",
   "metadata": {},
   "source": [
    "* Kernel variation :"
   ]
  },
  {
   "cell_type": "code",
   "execution_count": 5,
   "metadata": {},
   "outputs": [],
   "source": [
    "KernelScore =[]\n",
    "KernelPrecision = []\n",
    "KernelRecall = []\n",
    "KernelLoss = []\n",
    "KernelTimeTraining = []\n",
    "KernelTimePrediction = []\n"
   ]
  },
  {
   "cell_type": "code",
   "execution_count": 6,
   "metadata": {},
   "outputs": [],
   "source": [
    "def changeKernel (mykernel):\n",
    "\n",
    "    # TRAINING :\n",
    "    clf = SVC(kernel=mykernel)\n",
    "    start1 =time.time()\n",
    "    clf.fit(xtrain, ytrain)\n",
    "    end1 = time.time()\n",
    "\n",
    "    # PREDICTION\n",
    "    start2= time.time()\n",
    "    predict = clf.predict(xtest)\n",
    "    end2 = time.time()\n",
    "\n",
    "    # METRICS\n",
    "    score = clf.score(xtest,ytest)\n",
    "    recall = metrics.recall_score(ytest, predict, average ='macro')\n",
    "    precision = metrics.precision_score(ytest, predict,  average='macro')\n",
    "    loss01 = metrics.zero_one_loss(ytest, predict)\n",
    "    timetrain = end1 - start1\n",
    "    timePred = end2 - start2\n",
    "\n",
    "    #SAVING\n",
    "    KernelScore.append(score*100)\n",
    "    KernelPrecision.append(precision*100)\n",
    "    KernelRecall.append(recall)\n",
    "    KernelLoss.append(loss01)\n",
    "    KernelTimePrediction.append(timePred)\n",
    "    KernelTimeTraining.append(timetrain)\n",
    "\n",
    "    #PRINT\n",
    "    print(\"This SVC model with a kernel = \", mykernel, \"has a score of : \", score*100, \"%.\")\n",
    "    print(\"4th image : prediction =\",predict[3], \"reel one = : \", ytest[3])\n",
    "    print (\"precision :\", precision * 100, \"%.\")\n",
    "    print (\"recall  :\",recall * 100, \"%.\")\n",
    "    print (\"zero-one_loss :\",recall * 100, \"%.\")\n",
    "    print( \"training time :\", timetrain, \" s\")\n",
    "    print( \"prediction time :\", timePred, \" s\")\n",
    "    print(\"\\n\")\n",
    "    \n",
    "\n"
   ]
  },
  {
   "cell_type": "code",
   "execution_count": 7,
   "metadata": {},
   "outputs": [
    {
     "name": "stdout",
     "output_type": "stream",
     "text": [
      "This SVC model with a kernel =  linear has a score of :  95.96666666666667 %.\n",
      "4th image : prediction = 4 reel one = :  4\n",
      "precision : 95.97488634872327 %.\n",
      "recall  : 95.85018418310659 %.\n",
      "zero-one_loss : 95.85018418310659 %.\n",
      "training time : 20.221970558166504  s\n",
      "prediction time : 7.704949140548706  s\n",
      "\n",
      "\n",
      "This SVC model with a kernel =  poly has a score of :  96.89999999999999 %.\n",
      "4th image : prediction = 4 reel one = :  4\n",
      "precision : 97.00102789114469 %.\n",
      "recall  : 96.88355690714612 %.\n",
      "zero-one_loss : 96.88355690714612 %.\n",
      "training time : 17.644817113876343  s\n",
      "prediction time : 7.907459497451782  s\n",
      "\n",
      "\n",
      "This SVC model with a kernel =  rbf has a score of :  97.39999999999999 %.\n",
      "4th image : prediction = 4 reel one = :  4\n",
      "precision : 97.36829224922353 %.\n",
      "recall  : 97.41586359852073 %.\n",
      "zero-one_loss : 97.41586359852073 %.\n",
      "training time : 20.9373996257782  s\n",
      "prediction time : 16.500935554504395  s\n",
      "\n",
      "\n",
      "This SVC model with a kernel =  sigmoid has a score of :  84.13333333333334 %.\n",
      "4th image : prediction = 4 reel one = :  4\n",
      "precision : 83.76437616447545 %.\n",
      "recall  : 83.63131657700616 %.\n",
      "zero-one_loss : 83.63131657700616 %.\n",
      "training time : 18.572399139404297  s\n",
      "prediction time : 10.665112972259521  s\n",
      "\n",
      "\n"
     ]
    }
   ],
   "source": [
    "    \n",
    "kernels = ('linear', 'poly', 'rbf', 'sigmoid')\n",
    "for ker in kernels:\n",
    "    changeKernel(ker)"
   ]
  },
  {
   "cell_type": "markdown",
   "metadata": {},
   "source": [
    "> ==> rbf gives better results !"
   ]
  },
  {
   "cell_type": "markdown",
   "metadata": {},
   "source": [
    "> Showing this results :"
   ]
  },
  {
   "cell_type": "code",
   "execution_count": 8,
   "metadata": {},
   "outputs": [
    {
     "name": "stdout",
     "output_type": "stream",
     "text": [
      "[95.96666666666667, 96.89999999999999, 97.39999999999999, 84.13333333333334]\n",
      "[95.97488634872327, 97.00102789114469, 97.36829224922353, 83.76437616447545]\n",
      "[0.9585018418310659, 0.9688355690714612, 0.9741586359852074, 0.8363131657700615]\n",
      "[0.04033333333333333, 0.031000000000000028, 0.026000000000000023, 0.15866666666666662]\n",
      "[20.221970558166504, 17.644817113876343, 20.9373996257782, 18.572399139404297]\n",
      "[7.704949140548706, 7.907459497451782, 16.500935554504395, 10.665112972259521]\n"
     ]
    }
   ],
   "source": [
    "print(KernelScore)\n",
    "print(KernelPrecision)\n",
    "print(KernelRecall)\n",
    "print(KernelLoss)\n",
    "print(KernelTimeTraining)\n",
    "print(KernelTimePrediction)"
   ]
  },
  {
   "cell_type": "markdown",
   "metadata": {},
   "source": [
    "> Visualizing the results :"
   ]
  },
  {
   "cell_type": "code",
   "execution_count": 11,
   "metadata": {},
   "outputs": [
    {
     "data": {
      "image/png": "[encoded data removed]",
      "text/plain": [
       "<Figure size 720x720 with 6 Axes>"
      ]
     },
     "metadata": {
      "needs_background": "light"
     },
     "output_type": "display_data"
    }
   ],
   "source": [
    "fig, axarr = plt.subplots(6, sharex=True, figsize=(10,10))\n",
    "axarr[0].scatter(range(4), KernelScore, c='red')\n",
    "axarr[0].set_title('The SCV Model using diffrent kernels : linear, poly, rbf and sigmoid')\n",
    "axarr[0].set_ylabel('Score (%)')\n",
    "axarr[1].scatter(range(4), KernelPrecision, c='blue')\n",
    "axarr[1].set_ylabel('Precision (%)')\n",
    "axarr[2].scatter(range(4), KernelRecall, c='green')\n",
    "axarr[2].set_ylabel('Recall ')\n",
    "axarr[3].scatter(range(4), KernelLoss, c='purple')\n",
    "axarr[3].set_ylabel('Zero-to-one Loss')\n",
    "axarr[4].scatter(range(4), KernelTimeTraining, c='orange')\n",
    "axarr[4].set_ylabel('Training Time(s)')\n",
    "axarr[5].scatter(range(4), KernelTimePrediction)\n",
    "axarr[5].set_ylabel('¨Prediction Time(s)')\n",
    "\n",
    "plt.show()"
   ]
  },
  {
   "cell_type": "markdown",
   "metadata": {},
   "source": [
    "* Variation of C (Tolérance aux erreurs) :\n"
   ]
  },
  {
   "cell_type": "code",
   "execution_count": 12,
   "metadata": {},
   "outputs": [],
   "source": [
    "CostScore =[]\n",
    "CostPrecision = []\n",
    "CostRecall = []\n",
    "CostLoss = []\n",
    "CostTimeTraining = []\n",
    "CostTimePrediction = []"
   ]
  },
  {
   "cell_type": "code",
   "execution_count": 13,
   "metadata": {},
   "outputs": [],
   "source": [
    "def changeCost (c):\n",
    "\n",
    "    # TRAINING :\n",
    "    clf = SVC(kernel='rbf', C=c)\n",
    "    start1 = time.time()\n",
    "    clf.fit(xtrain, ytrain)\n",
    "    end1 = time.time()\n",
    "\n",
    "    # PREDICTION\n",
    "    start2 = time.time()\n",
    "    predict = clf.predict(xtest)\n",
    "    end2 = time.time()\n",
    "\n",
    "    # METRICS\n",
    "    score = clf.score(xtest,ytest)\n",
    "    recall = metrics.recall_score(ytest, predict, average ='macro')\n",
    "    precision = metrics.precision_score(ytest, predict,  average='macro')\n",
    "    loss01 = metrics.zero_one_loss(ytest, predict)\n",
    "    timetrain = end1 - start1\n",
    "    timePred = end2 - start2\n",
    "\n",
    "    #SAVING\n",
    "    CostScore.append(score*100)\n",
    "    CostPrecision.append(precision*100)\n",
    "    CostRecall.append(recall)\n",
    "    CostLoss.append(loss01)\n",
    "    CostTimePrediction.append(timePred)\n",
    "    CostTimeTraining.append(timetrain)\n",
    "\n",
    "    #PRINT\n",
    "    print(\"This SVC Model, kernel rbf et avec un cost \", c, \"a un score de \", score*100, \"%.\")\n",
    "    print(\"4eme image : prédiction \",predict[3], \"reel : \", ytest[3])\n",
    "    print (\"précision :\", precision*100)\n",
    "    print (\"recall  :\",recall*100)\n",
    "    print (\"zero-one_loss :\",recall*100)\n",
    "    print( \"training time :\", timetrain)\n",
    "    print( \"prediction time :\", timePred)\n",
    "    print()"
   ]
  },
  {
   "cell_type": "code",
   "execution_count": 24,
   "metadata": {},
   "outputs": [],
   "source": [
    "\n",
    "values_of_c = np.linspace(0.1,1, 5, endpoint=True)"
   ]
  },
  {
   "cell_type": "code",
   "execution_count": 21,
   "metadata": {},
   "outputs": [
    {
     "name": "stdout",
     "output_type": "stream",
     "text": [
      "This SVC Model, kernel rbf et avec un cost  0.1 a un score de  92.60000000000001 %.\n",
      "4eme image : prédiction  4 reel :  4\n",
      "précision : 92.49348707411444\n",
      "recall  : 92.51623116108499\n",
      "zero-one_loss : 92.51623116108499\n",
      "training time : 66.6435444355011\n",
      "prediction time : 43.25108981132507\n",
      "\n",
      "This SVC Model, kernel rbf et avec un cost  0.325 a un score de  95.43333333333334 %.\n",
      "4eme image : prédiction  4 reel :  4\n",
      "précision : 95.36769257544184\n",
      "recall  : 95.39214345810745\n",
      "zero-one_loss : 95.39214345810745\n",
      "training time : 36.663654088974\n",
      "prediction time : 29.3434476852417\n",
      "\n",
      "This SVC Model, kernel rbf et avec un cost  0.55 a un score de  96.39999999999999 %.\n",
      "4eme image : prédiction  4 reel :  4\n",
      "précision : 96.34660104357073\n",
      "recall  : 96.39972251628339\n",
      "zero-one_loss : 96.39972251628339\n",
      "training time : 24.373640537261963\n",
      "prediction time : 21.659759044647217\n",
      "\n",
      "This SVC Model, kernel rbf et avec un cost  0.775 a un score de  97.1 %.\n",
      "4eme image : prédiction  4 reel :  4\n",
      "précision : 97.05572266953281\n",
      "recall  : 97.11240495722804\n",
      "zero-one_loss : 97.11240495722804\n",
      "training time : 25.29637050628662\n",
      "prediction time : 22.529597282409668\n",
      "\n",
      "This SVC Model, kernel rbf et avec un cost  1.0 a un score de  97.39999999999999 %.\n",
      "4eme image : prédiction  4 reel :  4\n",
      "précision : 97.36829224922353\n",
      "recall  : 97.41586359852073\n",
      "zero-one_loss : 97.41586359852073\n",
      "training time : 24.963185787200928\n",
      "prediction time : 21.115185260772705\n",
      "\n"
     ]
    }
   ],
   "source": [
    "for c in values_of_c :\n",
    "    changeCost(c)"
   ]
  },
  {
   "cell_type": "markdown",
   "metadata": {},
   "source": [
    "* Visualizing the results :"
   ]
  },
  {
   "cell_type": "code",
   "execution_count": 25,
   "metadata": {},
   "outputs": [
    {
     "name": "stdout",
     "output_type": "stream",
     "text": [
      "[92.60000000000001, 95.43333333333334, 96.39999999999999, 97.1, 97.39999999999999]\n",
      "[92.49348707411444, 95.36769257544184, 96.34660104357073, 97.05572266953281, 97.36829224922353]\n",
      "[0.9251623116108499, 0.9539214345810745, 0.9639972251628339, 0.9711240495722804, 0.9741586359852074]\n",
      "[0.07399999999999995, 0.04566666666666663, 0.03600000000000003, 0.029000000000000026, 0.026000000000000023]\n",
      "[66.6435444355011, 36.663654088974, 24.373640537261963, 25.29637050628662, 24.963185787200928]\n",
      "[43.25108981132507, 29.3434476852417, 21.659759044647217, 22.529597282409668, 21.115185260772705]\n"
     ]
    }
   ],
   "source": [
    "print(CostScore)\n",
    "print(CostPrecision)\n",
    "print(CostRecall)\n",
    "print(CostLoss)\n",
    "print(CostTimeTraining)\n",
    "print(CostTimePrediction)"
   ]
  },
  {
   "cell_type": "code",
   "execution_count": 30,
   "metadata": {},
   "outputs": [
    {
     "data": {
      "image/png": "[encoded data removed]",
      "text/plain": [
       "<Figure size 720x720 with 6 Axes>"
      ]
     },
     "metadata": {
      "needs_background": "light"
     },
     "output_type": "display_data"
    }
   ],
   "source": [
    "fig, axarr = plt.subplots(6, sharex=True, figsize=(10,10))\n",
    "axarr[0].plot(values_of_c, CostScore)\n",
    "axarr[0].set_title('The SVC model with different costs (c) :  0.1, 0.325, 055, 0.775, 1')\n",
    "axarr[0].set_ylabel('Score (%)')\n",
    "axarr[1].plot(values_of_c, CostPrecision)\n",
    "axarr[1].set_ylabel('Precision (%)')\n",
    "axarr[2].plot(values_of_c, CostRecall)\n",
    "axarr[2].set_ylabel('Recall ')\n",
    "axarr[3].plot(values_of_c, CostLoss)\n",
    "axarr[3].set_ylabel('Zero-to-one Loss')\n",
    "axarr[4].plot(values_of_c, CostTimeTraining)\n",
    "axarr[4].set_ylabel('Training Time in sec')\n",
    "axarr[5].plot(values_of_c, CostTimePrediction)\n",
    "axarr[5].set_ylabel('¨Prediction Time in sec')\n",
    "\n",
    "plt.show()"
   ]
  },
  {
   "cell_type": "markdown",
   "metadata": {},
   "source": [
    "*  Confusion Matrix :"
   ]
  },
  {
   "cell_type": "code",
   "execution_count": 28,
   "metadata": {},
   "outputs": [
    {
     "name": "stdout",
     "output_type": "stream",
     "text": [
      "score:  0.9596666666666667\n",
      "time:  15.103962898254395\n",
      "[[304   0   0   0   0   0   1   0   0   0]\n",
      " [  0 345   0   0   0   1   0   0   1   1]\n",
      " [  1   2 300   0   2   2   1   1   4   1]\n",
      " [  2   1   2 295   0   4   0   3   2   0]\n",
      " [  1   0   2   0 282   0   1   1   0   5]\n",
      " [  1   0   0   4   3 243   3   0   0   0]\n",
      " [  3   0   4   0   2   1 280   0   1   0]\n",
      " [  1   1   6   0   2   0   0 326   0   5]\n",
      " [  0   4   3   3   1   2   2   0 255   3]\n",
      " [  0   2   2   0   5   0   0  15   0 249]]\n"
     ]
    }
   ],
   "source": [
    "# matrice de confusion\n",
    "\n",
    "from sklearn.metrics import confusion_matrix\n",
    "\n",
    "clasifier = SVC(kernel='linear')\n",
    "\n",
    "begin = time.time()\n",
    "clasifier.fit(xtrain,ytrain)\n",
    "predicted = clasifier.predict(X=xtest)\n",
    "end = time.time()\n",
    "\n",
    "print(\"score: \", clasifier.score(xtest, ytest))\n",
    "\n",
    "total_time = end - begin\n",
    "print(\"time: \", total_time)\n",
    "\n",
    "print(confusion_matrix(ytest,predicted))"
   ]
  },
  {
   "cell_type": "markdown",
   "metadata": {},
   "source": [
    "* data variation VS confusion matrix"
   ]
  },
  {
   "cell_type": "code",
   "execution_count": 29,
   "metadata": {},
   "outputs": [
    {
     "name": "stdout",
     "output_type": "stream",
     "text": [
      "this SVC Model has a score of  96.03333333333333 %.\n",
      "4th image : prediction >>  3 reel one >> :  3\n",
      "prEcision : 96.0119157591558\n",
      "recall  : 95.89713470338673\n",
      "zero-one_loss : 95.89713470338673\n",
      "training time : 12.147644519805908\n",
      "prediction time : 6.893997430801392\n",
      "[[271   0   1   2   1   0   5   0   0   0]\n",
      " [  0 351   2   0   1   1   0   0   0   0]\n",
      " [  0   1 269   2   1   0   2   4   5   0]\n",
      " [  0   4   3 309   0   5   0   1   1   1]\n",
      " [  0   1   1   1 280   0   0   0   0   3]\n",
      " [  3   2   2   3   3 254   2   0   1   0]\n",
      " [  2   2   0   0   2   0 290   0   3   0]\n",
      " [  1   1   2   0   3   0   0 328   0   3]\n",
      " [  2   3   5   2   1   4   3   1 233   0]\n",
      " [  1   0   2   1   4   0   0   6   0 296]]\n",
      "\n",
      "\n",
      "this SVC Model has a score of  96.33333333333334 %.\n",
      "4th image : prediction >>  9 reel one >> :  4\n",
      "prEcision : 96.3122619552498\n",
      "recall  : 96.32813845439289\n",
      "zero-one_loss : 96.32813845439289\n",
      "training time : 39.758506774902344\n",
      "prediction time : 25.059584617614746\n",
      "[[555   0   0   0   0   1   0   0   1   1]\n",
      " [  0 694   2   4   0   1   0   0   1   2]\n",
      " [  3   4 595   5   1   0   5   5   3   0]\n",
      " [  0   5   6 582   0   9   0   1   2   4]\n",
      " [  1   0   0   0 551   0   6   1   1   9]\n",
      " [  2   1   5   6   2 504   5   0   3   1]\n",
      " [  4   0   3   0   2   1 561   0   0   0]\n",
      " [  1   0   1   2   6   0   0 598   1  10]\n",
      " [  3   1   3  16   4   9   3   1 568   5]\n",
      " [  2   1   6   4   7   0   0  13   2 572]]\n",
      "\n",
      "\n",
      "this SVC Model has a score of  95.34444444444445 %.\n",
      "4th image : prediction >>  0 reel one >> :  0\n",
      "prEcision : 95.31616588522034\n",
      "recall  : 95.2576902275018\n",
      "zero-one_loss : 95.2576902275018\n",
      "training time : 86.47639536857605\n",
      "prediction time : 58.11685299873352\n",
      "[[ 892    0    2    4    0    6    0    0    2    1]\n",
      " [   0 1021    5    0    3    0    0    0    5    0]\n",
      " [   6   14  824   11    7    1    5    3    8    0]\n",
      " [   3    9    6  883    1   19    1    1    7    2]\n",
      " [   5    0    5    0  849    2    0    6    0   14]\n",
      " [   2    6    4   21    3  737    6    0    7    7]\n",
      " [   7    1    3    0    5    7  804    0    5    0]\n",
      " [   1    3    6    0    5    1    0  926    0   18]\n",
      " [   2   12   18   15    0   15    7    2  805    4]\n",
      " [   5    0    1    8   18    7    1   18    4  840]]\n",
      "\n",
      "\n",
      "this SVC Model has a score of  95.675 %.\n",
      "4th image : prediction >>  7 reel one >> :  7\n",
      "prEcision : 95.62972669085195\n",
      "recall  : 95.61058995077444\n",
      "zero-one_loss : 95.61058995077444\n",
      "training time : 153.91684198379517\n",
      "prediction time : 71.96880602836609\n",
      "[[1138    0    3    3    3    7    6    0    7    0]\n",
      " [   0 1352    4    3    2    0    1    0    7    0]\n",
      " [   7    8 1102    5   12    3    7   11    4    0]\n",
      " [   4    6   13 1168    0   21    2    2   19    1]\n",
      " [   0    1    3    0 1094    0    2    6    1   14]\n",
      " [   8    1    6   27    3 1062   11    2   11    3]\n",
      " [   6    1    9    1    2    4 1220    0    2    0]\n",
      " [   1    3   13    4    9    1    0 1195    1   23]\n",
      " [   2   12    7   14    6   19   13    2 1053   10]\n",
      " [   4    4    4   13   33    2    0   21    3 1097]]\n",
      "\n",
      "\n",
      "this SVC Model has a score of  95.47333333333333 %.\n",
      "4th image : prediction >>  8 reel one >> :  8\n",
      "prEcision : 95.43163993967057\n",
      "recall  : 95.39069325939849\n",
      "zero-one_loss : 95.39069325939849\n",
      "training time : 285.0274226665497\n",
      "prediction time : 107.71889066696167\n",
      "[[1433    0    5    2    0   10   10    0    1    0]\n",
      " [   0 1738   12    2    0    0    0    1    7    2]\n",
      " [   3    9 1358   14    8    4    7   12   10    1]\n",
      " [   1    3   21 1379    0   30    0    3   22    1]\n",
      " [   0    0    6    3 1557    5    5    7    1   18]\n",
      " [   6    3    6   44    6 1271    8    1   16    5]\n",
      " [   6    1    8    1    8   10 1423    0    3    0]\n",
      " [   0    6   15    4   10    4    1 1420    0   25]\n",
      " [   4   18   14   24    7   17    6    0 1369   11]\n",
      " [   6    2    3   19   50    2    0   46    7 1373]]\n",
      "\n",
      "\n"
     ]
    }
   ],
   "source": [
    "RScore =[]\n",
    "RPrecision = []\n",
    "RRecall = []\n",
    "RLoss = []\n",
    "RTimeTraining = []\n",
    "RTimePrediction = []\n",
    "\n",
    "for i in (10000,20000,30000,40000,50000):\n",
    "    #DATA\n",
    "    #randomise Data et target\n",
    "    indices = np.random.randint(i, size=i)\n",
    "    data = mnist.data[indices]\n",
    "    target = mnist.target[indices]\n",
    "    \n",
    "    # on veut un training set de 49000 (70% training set - 30 % test set)\n",
    "    xtrain, xtest, ytrain, ytest =train_test_split(data, target, train_size=int(len(data)*0.7))\n",
    "\n",
    "    # TRAINING\n",
    "    clf = SVC(kernel='linear', C=1)\n",
    "    startTrain =time.time()\n",
    "    clf.fit(xtrain, ytrain)\n",
    "    endTrain = time.time()\n",
    "\n",
    "    # PREDIC\n",
    "    startpred= time.time()\n",
    "    predict = clf.predict(xtest)\n",
    "    endpred = time.time()\n",
    "\n",
    "    # METRICS\n",
    "    score = clf.score(xtest,ytest)\n",
    "    recall = metrics.recall_score(ytest, predict, average ='macro')\n",
    "    precision = metrics.precision_score(ytest, predict,  average='macro')\n",
    "    loss01 = metrics.zero_one_loss(ytest, predict)\n",
    "    cm = metrics.confusion_matrix(ytest, predict)\n",
    "    timetrain = endTrain - startTrain\n",
    "    timePred = endpred - startpred\n",
    "\n",
    "    #Append\n",
    "    RScore.append(score*100)\n",
    "    RPrecision.append(precision*100)\n",
    "    RRecall.append(recall)\n",
    "    RLoss.append(loss01)\n",
    "    RTimePrediction.append(timePred)\n",
    "    RTimeTraining.append(timetrain)\n",
    "\n",
    "    #Print\n",
    "    print(\"this SVC Model has a score of \", score*100, \"%.\")\n",
    "    print(\"4th image : prediction >> \",predict[3], \"reel one >> : \", ytest[3])\n",
    "    print (\"prEcision :\", precision*100)\n",
    "    print (\"recall  :\",recall*100)\n",
    "    print (\"zero-one_loss :\",recall*100)\n",
    "    print( \"training time :\", timetrain)\n",
    "    print( \"prediction time :\", timePred)\n",
    "    print(cm)\n",
    "    print(\"\\n\")"
   ]
  }
 ],
 "metadata": {
  "interpreter": {
   "hash": "67daac1ebf3b80a6e8e15acaf6535d9d72e4e060942990dc63fc0ef314051e9e"
  },
  "kernelspec": {
   "display_name": "Python 3",
   "language": "python",
   "name": "python3"
  },
  "language_info": {
   "codemirror_mode": {
    "name": "ipython",
    "version": 3
   },
   "file_extension": ".py",
   "mimetype": "text/x-python",
   "name": "python",
   "nbconvert_exporter": "python",
   "pygments_lexer": "ipython3",
   "version": "3.9.0"
  }
 },
 "nbformat": 4,
 "nbformat_minor": 2
}
