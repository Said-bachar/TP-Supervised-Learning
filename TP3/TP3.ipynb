{
 "cells": [
  {
   "cell_type": "markdown",
   "metadata": {},
   "source": [
    "* Importing the necessary libs :"
   ]
  },
  {
   "cell_type": "code",
   "execution_count": 2,
   "metadata": {},
   "outputs": [],
   "source": [
    "# Imports :\n",
    "\n",
    "import numpy as np\n",
    "from sklearn.datasets import fetch_openml\n",
    "from sklearn.model_selection import train_test_split \n",
    "from sklearn.model_selection import GridSearchCV\n",
    "from sklearn.svm import SVC\n",
    "from sklearn import metrics\n",
    "import matplotlib.pyplot as plt\n",
    "import numpy as np\n",
    "import time"
   ]
  },
  {
   "cell_type": "markdown",
   "metadata": {},
   "source": [
    "* Dowloanding the MNIST dataset :"
   ]
  },
  {
   "cell_type": "code",
   "execution_count": 3,
   "metadata": {},
   "outputs": [],
   "source": [
    "\n",
    "mnist = fetch_openml('mnist_784', as_frame=False)\n",
    "\n",
    "#randomise Data et target\n",
    "indices = np.random.randint(10000, size=10000)\n",
    "data = mnist.data[indices]\n",
    "target = mnist.target[indices]\n",
    "\n",
    "# training set of 49000 (70% training set - 30 % test set)\n",
    "xtrain, xtest, ytrain, ytest =train_test_split(data, target, train_size=int(len(data)*0.7))"
   ]
  },
  {
   "cell_type": "markdown",
   "metadata": {},
   "source": [
    "* Kernel variation :"
   ]
  },
  {
   "cell_type": "code",
   "execution_count": 4,
   "metadata": {},
   "outputs": [],
   "source": [
    "ScoreResult = []\n",
    "PrecisionResult = []\n",
    "RecallResult = []\n",
    "LossResult = []\n",
    "TimeTrainingRes = []\n",
    "TimePredictionRes = []\n",
    "\n",
    "def kernalvar(ker):\n",
    "    #Training :\n",
    "    clf = SVC(kernel = ker)\n",
    "    start1 = time.time()\n",
    "    clf.fit(xtrain, ytrain)\n",
    "    end1 = time.time()\n",
    "\n",
    "    #Prediction :\n",
    "    start2 = time.time()\n",
    "    prediction = clf.predict(xtest)\n",
    "    end2 = time.time()\n",
    "\n",
    "    #Metrics :\n",
    "    score = clf.score(xtest, ytest)\n",
    "    recall = metrics.recall_score(ytest, prediction, average ='macro')\n",
    "    precision = metrics.precision_score(ytest, prediction, average ='macro')\n",
    "    loss0_1 = metrics.zero_one_loss(ytest, prediction)\n",
    "\n",
    "    trainingTime = end1 - start1\n",
    "    predictionTime = end2 - start2\n",
    "\n",
    "    #Storing the results :\n",
    "    ScoreResult.append(score * 100)\n",
    "    PrecisionResult.append(precision * 100)\n",
    "    RecallResult.append(recall * 100)\n",
    "    LossResult.append(loss0_1)\n",
    "    TimeTrainingRes.append(trainingTime)\n",
    "    TimePredictionRes.append(predictionTime)\n",
    "\n",
    "    #Prints :\n",
    "    print(\"This SVC model with a kernel\", ker, \" has a score = \", score*100, \"%.\")\n",
    "    print(\"4 th image ::: prediction = \", prediction[3], \"reel = \", ytest[3])\n",
    "    print(\"Precision = \", precision * 100)\n",
    "    print(\"Recall = \", recall * 100)\n",
    "    print(\"Zero-One-Loss = \", loss0_1 * 100)\n",
    "    print(\"Training time ... = \", TimeTrainingRes)\n",
    "    print(\"Prediction time ... = \", TimePredictionRes)"
   ]
  },
  {
   "cell_type": "code",
   "execution_count": 6,
   "metadata": {},
   "outputs": [
    {
     "name": "stdout",
     "output_type": "stream",
     "text": [
      "This SVC model with a kernel linear  has a score =  95.56666666666666 %.\n",
      "4 th image ::: prediction =  6 reel =  6\n",
      "Precision =  95.61090341814553\n",
      "Recall =  95.49138649720967\n",
      "Zero-One-Loss =  4.433333333333334\n",
      "Training time ... =  [34.9690055847168, 25.320002794265747, 19.807546854019165, 20.76900053024292, 11.461133241653442]\n",
      "Prediction time ... =  [10.555996894836426, 6.994998216629028, 19.45299792289734, 13.005003213882446, 10.247057676315308]\n",
      "----------------------------------------------------------------------------------------------------\n",
      "This SVC model with a kernel poly  has a score =  96.83333333333334 %.\n",
      "4 th image ::: prediction =  6 reel =  6\n",
      "Precision =  96.9343949211909\n",
      "Recall =  96.8325394780864\n",
      "Zero-One-Loss =  3.166666666666662\n",
      "Training time ... =  [34.9690055847168, 25.320002794265747, 19.807546854019165, 20.76900053024292, 11.461133241653442, 22.40113663673401]\n",
      "Prediction time ... =  [10.555996894836426, 6.994998216629028, 19.45299792289734, 13.005003213882446, 10.247057676315308, 7.922998428344727]\n",
      "----------------------------------------------------------------------------------------------------\n",
      "This SVC model with a kernel rbf  has a score =  97.56666666666666 %.\n",
      "4 th image ::: prediction =  6 reel =  6\n",
      "Precision =  97.58228124087927\n",
      "Recall =  97.55102099393457\n",
      "Zero-One-Loss =  2.433333333333332\n",
      "Training time ... =  [34.9690055847168, 25.320002794265747, 19.807546854019165, 20.76900053024292, 11.461133241653442, 22.40113663673401, 17.4810049533844]\n",
      "Prediction time ... =  [10.555996894836426, 6.994998216629028, 19.45299792289734, 13.005003213882446, 10.247057676315308, 7.922998428344727, 16.27899432182312]\n",
      "----------------------------------------------------------------------------------------------------\n",
      "This SVC model with a kernel sigmoid  has a score =  83.7 %.\n",
      "4 th image ::: prediction =  6 reel =  6\n",
      "Precision =  83.3936656318714\n",
      "Recall =  83.23044689397001\n",
      "Zero-One-Loss =  16.300000000000004\n",
      "Training time ... =  [34.9690055847168, 25.320002794265747, 19.807546854019165, 20.76900053024292, 11.461133241653442, 22.40113663673401, 17.4810049533844, 17.89500379562378]\n",
      "Prediction time ... =  [10.555996894836426, 6.994998216629028, 19.45299792289734, 13.005003213882446, 10.247057676315308, 7.922998428344727, 16.27899432182312, 12.068001747131348]\n",
      "----------------------------------------------------------------------------------------------------\n"
     ]
    }
   ],
   "source": [
    "kernel = ('linear', 'poly', 'rbf', 'sigmoid')\n",
    "for ker in kernel:\n",
    "    kernalvar(ker)\n",
    "    print(\"----------------------------------------------------------------------------------------------------\")"
   ]
  },
  {
   "cell_type": "markdown",
   "metadata": {},
   "source": [
    "* Showing this results :"
   ]
  },
  {
   "cell_type": "code",
   "execution_count": 7,
   "metadata": {},
   "outputs": [
    {
     "name": "stdout",
     "output_type": "stream",
     "text": [
      "[95.56666666666666, 96.83333333333334, 97.56666666666666, 83.7, 95.56666666666666, 96.83333333333334, 97.56666666666666, 83.7]\n",
      "\n",
      "\n",
      "[95.61090341814553, 96.9343949211909, 97.58228124087927, 83.3936656318714, 95.61090341814553, 96.9343949211909, 97.58228124087927, 83.3936656318714]\n",
      "\n",
      "\n",
      "[95.49138649720967, 96.8325394780864, 97.55102099393457, 83.23044689397001, 95.49138649720967, 96.8325394780864, 97.55102099393457, 83.23044689397001]\n",
      "\n",
      "\n",
      "[0.044333333333333336, 0.03166666666666662, 0.024333333333333318, 0.16300000000000003, 0.044333333333333336, 0.03166666666666662, 0.024333333333333318, 0.16300000000000003]\n"
     ]
    }
   ],
   "source": [
    "print(ScoreResult)\n",
    "print(\"\\n\")\n",
    "print(PrecisionResult)\n",
    "print(\"\\n\")\n",
    "print(RecallResult) \n",
    "print(\"\\n\")\n",
    "print(LossResult)"
   ]
  },
  {
   "cell_type": "markdown",
   "metadata": {},
   "source": [
    "* Visualizing the results :"
   ]
  },
  {
   "cell_type": "code",
   "execution_count": 13,
   "metadata": {},
   "outputs": [
    {
     "data": {
      "image/png": "[encoded data removed]",
      "text/plain": [
       "<Figure size 720x720 with 6 Axes>"
      ]
     },
     "metadata": {
      "needs_background": "light"
     },
     "output_type": "display_data"
    }
   ],
   "source": [
    "fig, axarr = plt.subplots(6, sharex=True, figsize=(10,10))\n",
    "axarr[0].scatter(range(8), ScoreResult, c='red')\n",
    "axarr[0].set_title('The 5 classifiers with different kernel :linear, poly, rbf, sigmoid')\n",
    "axarr[0].set_ylabel('Score (%)')\n",
    "axarr[1].scatter(range(8), PrecisionResult, c='blue')\n",
    "axarr[1].set_ylabel('Precision (%)')\n",
    "axarr[2].scatter(range(8), RecallResult, c='orange')\n",
    "axarr[2].set_ylabel('Recall ')\n",
    "axarr[3].scatter(range(8), LossResult, c='yellow')\n",
    "axarr[3].set_ylabel('Zero-to-one Loss')\n",
    "axarr[4].scatter(range(8), TimeTrainingRes)\n",
    "axarr[4].set_ylabel('Training Time (s)')\n",
    "axarr[5].scatter(range(8), TimePredictionRes)\n",
    "axarr[5].set_ylabel('¨Prediction Time (s)')\n",
    "\n",
    "plt.show()"
   ]
  },
  {
   "cell_type": "markdown",
   "metadata": {},
   "source": [
    "* Variation of C (Tolérance aux erreurs) :\n"
   ]
  },
  {
   "cell_type": "code",
   "execution_count": 16,
   "metadata": {},
   "outputs": [],
   "source": [
    "ScoreResult1 =[]\n",
    "PrecisionResult1 = []\n",
    "RecallResult1 = []\n",
    "LossResult1 = []\n",
    "TrainingTimeResult1 = []\n",
    "PredictionTimeResult1 = []\n",
    "\n",
    "def costVar(c) :\n",
    "\n",
    "    # Training :\n",
    "    clf = SVC(kernel='poly', C=c)\n",
    "    start1 =time.time()\n",
    "    clf.fit(xtrain, ytrain)\n",
    "    end1 = time.time()\n",
    "\n",
    "    # Prediction :\n",
    "    start2= time.time()\n",
    "    predict = clf.predict(xtest)\n",
    "    end2 = time.time()\n",
    "\n",
    "    # Metrics :\n",
    "    score = clf.score(xtest,ytest)\n",
    "    recall = metrics.recall_score(ytest, predict, average ='macro')\n",
    "    precision = metrics.precision_score(ytest, predict,  average='macro')\n",
    "    loss0_1 = metrics.zero_one_loss(ytest, predict)\n",
    "    trainingTime = end1 - start1\n",
    "    predictionTime = end2 - start2\n",
    "\n",
    "    #Stroing the results :\n",
    "    ScoreResult1.append(score*100)\n",
    "    PrecisionResult1.append(precision*100)\n",
    "    RecallResult1.append(recall)\n",
    "    LossResult1.append(loss0_1)\n",
    "    PredictionTimeResult1.append(predictionTime)\n",
    "    TrainingTimeResult1.append(trainingTime)\n",
    "    print(\"This SVC model, kernel rbf and with a cost of = \", c, \", a score of = \", score*100, \"%.\")\n",
    "    print(\"4th image ::: prediction = \", predict[3], \"reel = \", ytest[3])\n",
    "    print (\"precision ::\", precision*100)\n",
    "    print (\"recall  :: \", recall*100)\n",
    "    print (\"zero-one_loss :: \", loss0_1*100)\n",
    "    print( \"training time :: \", trainingTime)\n",
    "    print( \"prediction time :: \", predictionTime)\n",
    "   \n",
    "    \n",
    "\n"
   ]
  },
  {
   "cell_type": "code",
   "execution_count": 36,
   "metadata": {},
   "outputs": [
    {
     "name": "stdout",
     "output_type": "stream",
     "text": [
      "This SVC model, kernel rbf and with a cost of =  0.1 , a score of =  90.63333333333333 %.\n",
      "4th image ::: prediction =  6 reel =  6\n",
      "precision :: 91.58572614717221\n",
      "recall  ::  90.63980167055472\n",
      "zero-one_loss ::  9.366666666666667\n",
      "training time ::  42.65169858932495\n",
      "prediction time ::  11.884791374206543\n",
      "----------------------------------------------------------------------------------------------\n",
      "This SVC model, kernel rbf and with a cost of =  0.325 , a score of =  95.26666666666667 %.\n",
      "4th image ::: prediction =  6 reel =  6\n",
      "precision :: 95.42264571509247\n",
      "recall  ::  95.23814781658052\n",
      "zero-one_loss ::  4.733333333333334\n",
      "training time ::  37.89634680747986\n",
      "prediction time ::  12.444847583770752\n",
      "----------------------------------------------------------------------------------------------\n",
      "This SVC model, kernel rbf and with a cost of =  0.55 , a score of =  96.3 %.\n",
      "4th image ::: prediction =  6 reel =  6\n",
      "precision :: 96.42674218703837\n",
      "recall  ::  96.30423633143967\n",
      "zero-one_loss ::  3.7000000000000033\n",
      "training time ::  19.719318866729736\n",
      "prediction time ::  7.3278656005859375\n",
      "----------------------------------------------------------------------------------------------\n",
      "This SVC model, kernel rbf and with a cost of =  0.775 , a score of =  96.43333333333334 %.\n",
      "4th image ::: prediction =  6 reel =  6\n",
      "precision :: 96.55594564080033\n",
      "recall  ::  96.43364332101278\n",
      "zero-one_loss ::  3.5666666666666624\n",
      "training time ::  17.341009378433228\n",
      "prediction time ::  6.920283555984497\n",
      "----------------------------------------------------------------------------------------------\n",
      "This SVC model, kernel rbf and with a cost of =  1.0 , a score of =  96.83333333333334 %.\n",
      "4th image ::: prediction =  6 reel =  6\n",
      "precision :: 96.9343949211909\n",
      "recall  ::  96.8325394780864\n",
      "zero-one_loss ::  3.166666666666662\n",
      "training time ::  16.179001569747925\n",
      "prediction time ::  9.402827739715576\n",
      "----------------------------------------------------------------------------------------------\n"
     ]
    }
   ],
   "source": [
    "costs = np.linspace(0.1,1, 5, endpoint=True)\n",
    "for c in costs:\n",
    "    costVar(c)\n",
    "    print(\"----------------------------------------------------------------------------------------------\")"
   ]
  },
  {
   "cell_type": "code",
   "execution_count": 38,
   "metadata": {},
   "outputs": [
    {
     "name": "stdout",
     "output_type": "stream",
     "text": [
      "[10.766666666666666, 10.766666666666666, 11.333333333333332, 44.7, 83.3, 94.63333333333334, 97.5, 97.53333333333333, 97.56666666666666, 97.56666666666666, 10.766666666666666, 14.366666666666667, 90.63333333333333, 97.53333333333333, 97.56666666666666, 10.766666666666666, 10.766666666666666, 11.333333333333332, 44.7, 83.3, 94.63333333333334, 97.5, 97.53333333333333, 97.56666666666666, 97.56666666666666, 90.63333333333333, 95.26666666666667, 96.3, 96.43333333333334, 96.83333333333334]\n",
      "\n",
      "\n",
      "[1.0766666666666667, 1.0766666666666667, 11.0828025477707, 78.83042096667211, 87.7338300643855, 94.80903484306454, 97.5657761831328, 97.56424532849002, 97.6053139766835, 97.6053139766835, 1.0766666666666667, 28.51863715783343, 91.58572614717221, 97.5757607306558, 97.6053139766835, 1.0766666666666667, 1.0766666666666667, 11.0828025477707, 78.83042096667211, 87.7338300643855, 94.80903484306454, 97.5657761831328, 97.56424532849002, 97.6053139766835, 97.6053139766835, 91.58572614717221, 95.42264571509247, 96.42674218703837, 96.55594564080033, 96.9343949211909]\n",
      "\n",
      "\n",
      "[0.1, 0.1, 0.10543130990415335, 0.4334020897793868, 0.832337970088006, 0.9461572374726698, 0.9748491419503115, 0.9752619270635472, 0.9755963752240824, 0.9755963752240824, 0.1, 0.13462783400120892, 0.9063980167055472, 0.9751638840536268, 0.9755963752240824, 0.1, 0.1, 0.10543130990415335, 0.4334020897793868, 0.832337970088006, 0.9461572374726698, 0.9748491419503115, 0.9752619270635472, 0.9755963752240824, 0.9755963752240824, 0.9063980167055472, 0.9523814781658052, 0.9630423633143967, 0.9643364332101279, 0.9683253947808641]\n",
      "\n",
      "\n",
      "[0.8923333333333333, 0.8923333333333333, 0.8866666666666667, 0.5529999999999999, 0.16700000000000004, 0.05366666666666664, 0.025000000000000022, 0.024666666666666615, 0.024333333333333318, 0.024333333333333318, 0.8923333333333333, 0.8563333333333334, 0.09366666666666668, 0.024666666666666615, 0.024333333333333318, 0.8923333333333333, 0.8923333333333333, 0.8866666666666667, 0.5529999999999999, 0.16700000000000004, 0.05366666666666664, 0.025000000000000022, 0.024666666666666615, 0.024333333333333318, 0.024333333333333318, 0.09366666666666668, 0.04733333333333334, 0.03700000000000003, 0.035666666666666624, 0.03166666666666662]\n",
      "\n",
      "\n",
      "[138.21802139282227, 152.74557971954346, 151.61933612823486, 135.51312923431396, 78.41118597984314, 37.829115867614746, 20.720030069351196, 17.100170850753784, 17.14610195159912, 17.51891541481018, 139.09182476997375, 134.22546195983887, 47.183573722839355, 9.990531921386719, 11.28799843788147, 122.23646783828735, 130.55183148384094, 118.24068236351013, 143.50212121009827, 59.150702238082886, 37.78927040100098, 20.917629718780518, 13.239659786224365, 11.392005205154419, 15.988213777542114, 42.65169858932495, 37.89634680747986, 19.719318866729736, 17.341009378433228, 16.179001569747925]\n",
      "\n",
      "\n",
      "[28.765129804611206, 30.81291174888611, 30.636348962783813, 29.830867052078247, 22.188015699386597, 13.295746803283691, 7.996535539627075, 6.981000661849976, 7.146236419677734, 7.168423414230347, 26.166003465652466, 25.88321352005005, 15.481889963150024, 4.095330238342285, 4.53400731086731, 23.088025093078613, 22.735045909881592, 23.946289539337158, 25.934762716293335, 24.552920818328857, 12.76370620727539, 8.576793670654297, 4.642588376998901, 4.417000770568848, 6.052989482879639, 11.884791374206543, 12.444847583770752, 7.3278656005859375, 6.920283555984497, 9.402827739715576]\n",
      "30\n"
     ]
    }
   ],
   "source": [
    "print(ScoreResult1)\n",
    "print(\"\\n\")  \n",
    "print(PrecisionResult1)\n",
    "print(\"\\n\")  \n",
    "print(RecallResult1)\n",
    "print(\"\\n\")  \n",
    "print(LossResult1)\n",
    "print(\"\\n\")  \n",
    "print(TrainingTimeResult1)\n",
    "print(\"\\n\")  \n",
    "print(PredictionTimeResult1)\n",
    "\n",
    "print(len(ScoreResult1))"
   ]
  },
  {
   "cell_type": "markdown",
   "metadata": {},
   "source": [
    "* Visualizing the results :"
   ]
  },
  {
   "cell_type": "code",
   "execution_count": 39,
   "metadata": {},
   "outputs": [
    {
     "data": {
      "image/png": "[encoded data removed]",
      "text/plain": [
       "<Figure size 720x720 with 6 Axes>"
      ]
     },
     "metadata": {
      "needs_background": "light"
     },
     "output_type": "display_data"
    }
   ],
   "source": [
    "fig, axarr = plt.subplots(6, sharex=True, figsize=(10,10))\n",
    "axarr[0].plot(range(30), ScoreResult1)\n",
    "axarr[0].set_title('The five classifiers with differents C (Cost) :)')\n",
    "axarr[0].set_ylabel('Score (%)')\n",
    "axarr[1].plot(range(30), PrecisionResult1)\n",
    "axarr[1].set_ylabel('Precision (%)')\n",
    "axarr[2].plot(range(30), RecallResult1)\n",
    "axarr[2].set_ylabel('Recall ')\n",
    "axarr[3].plot(range(30), LossResult1)\n",
    "axarr[3].set_ylabel('Zero-to-one Loss')\n",
    "axarr[4].plot(range(30), TrainingTimeResult1)\n",
    "axarr[4].set_ylabel('Training Time (s)')\n",
    "axarr[5].plot(range(30), PredictionTimeResult1)\n",
    "axarr[5].set_ylabel('¨Prediction Time (s)')\n",
    "\n",
    "plt.show()"
   ]
  },
  {
   "cell_type": "markdown",
   "metadata": {},
   "source": [
    "*  Confusion Matrix :"
   ]
  },
  {
   "cell_type": "code",
   "execution_count": 40,
   "metadata": {},
   "outputs": [],
   "source": [
    "from sklearn.metrics import confusion_matrix"
   ]
  },
  {
   "cell_type": "code",
   "execution_count": 42,
   "metadata": {},
   "outputs": [
    {
     "name": "stdout",
     "output_type": "stream",
     "text": [
      "score:  0.9556666666666667\n",
      "time:  18.43527603149414\n",
      "[[313   0   0   0   0   0   0   0   0   0]\n",
      " [  0 319   1   1   2   0   0   0   0   0]\n",
      " [  0   2 283   3   2   0   2   2   4   0]\n",
      " [  2   1   7 281   0   2   0   3   1   2]\n",
      " [  0   0   1   0 284   0   0   0   0   4]\n",
      " [  2   0   1   7   0 229   2   0   1   1]\n",
      " [  3   0   1   0   0   1 314   0   0   0]\n",
      " [  0   2   5   1   2   0   0 301   0   6]\n",
      " [  0   9   5  10   0   2   0   1 272   3]\n",
      " [  1   1   4   3   8   0   0   8   1 271]]\n"
     ]
    }
   ],
   "source": [
    "clf = SVC(kernel='linear')\n",
    "\n",
    "begin = time.time()\n",
    "clf.fit(xtrain,ytrain)\n",
    "predicted = clf.predict(X=xtest)\n",
    "end = time.time()\n",
    "\n",
    "print(\"score: \", clf.score(xtest, ytest))\n",
    "\n",
    "total_time = end - begin\n",
    "print(\"time: \", total_time)\n",
    "\n",
    "print(confusion_matrix(ytest,predicted))"
   ]
  },
  {
   "cell_type": "markdown",
   "metadata": {},
   "source": [
    "* data variation vs confusion matrix :"
   ]
  },
  {
   "cell_type": "code",
   "execution_count": 43,
   "metadata": {},
   "outputs": [
    {
     "name": "stdout",
     "output_type": "stream",
     "text": [
      "This SVC model has a score =  95.76666666666667 %.\n",
      "4th image ::: prediction =  4 reel =  4\n",
      "precision => 95.74806992594824\n",
      "recall  => 95.70957132908696\n",
      "zero-one_loss => 95.70957132908696\n",
      "training time => 11.42409873008728\n",
      "prediction time => 5.375808000564575\n",
      "confusion matrix :: \n",
      "\n",
      "[[281   0   3   0   1   2   1   0   0   0]\n",
      " [  0 350   2   1   0   0   0   0   0   0]\n",
      " [  5   1 264   3   0   0   3   2   0   0]\n",
      " [  0   1   4 288   1   2   0   0   0   0]\n",
      " [  1   0   1   0 287   0   0   0   0   5]\n",
      " [  4   0   1   5   0 252   0   0   1   0]\n",
      " [  3   1   3   2   3   2 297   0   2   0]\n",
      " [  0   0   2   0   6   1   0 310   1   0]\n",
      " [  0   3   2   3   0   8   4   0 270   1]\n",
      " [  1   3   0   8  10   0   0   8   0 274]]\n",
      "This SVC model has a score =  95.86666666666666 %.\n",
      "4th image ::: prediction =  8 reel =  8\n",
      "precision => 95.82843444159714\n",
      "recall  => 95.80015947519556\n",
      "zero-one_loss => 95.80015947519556\n",
      "training time => 42.41517424583435\n",
      "prediction time => 21.022829294204712\n",
      "confusion matrix :: \n",
      "\n",
      "[[570   0   1   0   0   3   0   0   0   1]\n",
      " [  0 716   0   1   0   2   0   0   4   2]\n",
      " [  5   2 574   7   1   1   4   2   4   0]\n",
      " [  1   2  11 605   0  11   0   3   6   3]\n",
      " [  2   4   1   0 539   0   0   0   1  16]\n",
      " [  3   1   2  20   6 511   3   0   5   3]\n",
      " [  2   0   2   1   3   1 539   0   0   0]\n",
      " [  0   1   7   0   7   0   0 613   2   7]\n",
      " [  6   5   4  13   1  10   5   1 521   2]\n",
      " [  2   0   2   0  10   0   0   7   3 564]]\n",
      "This SVC model has a score =  95.94444444444444 %.\n",
      "4th image ::: prediction =  4 reel =  4\n",
      "precision => 95.89543868144679\n",
      "recall  => 95.87972019677193\n",
      "zero-one_loss => 95.87972019677193\n",
      "training time => 62.13443565368652\n",
      "prediction time => 37.16014838218689\n",
      "confusion matrix :: \n",
      "\n",
      "[[862   0   2   2   0   2   3   0   0   0]\n",
      " [  0 995   1   2   0   0   0   1   4   0]\n",
      " [  5   3 861   8   4   0   1   5   3   0]\n",
      " [  1   3  21 914   1  25   0   2   7   2]\n",
      " [  2   1   5   0 831   0   3   1   1   9]\n",
      " [  1   3   1  26   5 738   9   0   9   5]\n",
      " [  2   0   6   0   0   7 921   0   1   0]\n",
      " [  3   1   4   2   3   2   1 898   0  18]\n",
      " [  1   3  11  15   1  16   5   0 780   3]\n",
      " [  4   1   0   8  28   3   0  22   5 835]]\n",
      "This SVC model has a score =  95.65833333333333 %.\n",
      "4th image ::: prediction =  2 reel =  2\n",
      "precision => 95.63428839423736\n",
      "recall  => 95.59631270430096\n",
      "zero-one_loss => 95.59631270430096\n",
      "training time => 129.11600995063782\n",
      "prediction time => 63.87364888191223\n",
      "confusion matrix :: \n",
      "\n",
      "[[1143    1    2    0    1    6    1    0    3    0]\n",
      " [   0 1419    4    0    1    0    0    1    7    0]\n",
      " [   5   14 1112   14    8    2    3    4   10    0]\n",
      " [   4    6   19 1186    1   18    1    6   11    5]\n",
      " [   2    3    2    0 1110    0    4    2    1   18]\n",
      " [  10    2    5   16    6 1083    7    2   12    6]\n",
      " [   7    2    5    3    3    7 1121    0    1    0]\n",
      " [   2    1   11   10    8    0    0 1144    1   22]\n",
      " [   6   16   16   16    2   19    9    3 1034    8]\n",
      " [   0    1    4    7   35    5    0   28    7 1127]]\n",
      "This SVC model has a score =  95.50666666666666 %.\n",
      "4th image ::: prediction =  6 reel =  6\n",
      "precision => 95.47097866794584\n",
      "recall  => 95.45209492604411\n",
      "zero-one_loss => 95.45209492604411\n",
      "training time => 197.72473549842834\n",
      "prediction time => 95.48274207115173\n",
      "confusion matrix :: \n",
      "\n",
      "[[1495    0    2    0    1    9   11    0    1    4]\n",
      " [   0 1702    3    2    0    2    2    2    9    0]\n",
      " [  10   11 1346   12    4    1    7    5    7    2]\n",
      " [   4    7   34 1439    1   32    0    4   17    2]\n",
      " [   0    2   10    0 1390    1    3    6    1   20]\n",
      " [  10    6    5   51    3 1288   10    1   11    1]\n",
      " [   2    1   18    0    3   11 1416    0    1    0]\n",
      " [   4    5    8    6   17    3    2 1493    1   24]\n",
      " [  11   18   11   33    3   25    9    2 1393   10]\n",
      " [   5    7    5   11   30    2    2   27    8 1364]]\n"
     ]
    }
   ],
   "source": [
    "Score =[]\n",
    "Precision = []\n",
    "Recall = []\n",
    "Loss = []\n",
    "TimeTraining = []\n",
    "TimePrediction = []\n",
    "\n",
    "for i in (10000,20000,30000,40000,50000):\n",
    "    \n",
    "    #randomise Data & target\n",
    "    indices = np.random.randint(i, size=i)\n",
    "    data = mnist.data[indices]\n",
    "    target = mnist.target[indices]\n",
    "   \n",
    "    # (70% training set - 30 % test set)\n",
    "    xtrain, xtest, ytrain, ytest =train_test_split(data, target, train_size=int(len(data)*0.7))\n",
    "\n",
    "    # TRAINING\n",
    "    clf = SVC(kernel='linear', C=0.0001, gamma=0.0001)\n",
    "    startTrain =time.time()\n",
    "    clf.fit(xtrain, ytrain)\n",
    "    endTrain = time.time()\n",
    "\n",
    "    # PREDICTION\n",
    "    startpred= time.time()\n",
    "    predict = clf.predict(xtest)\n",
    "    endpred = time.time()\n",
    "\n",
    "    # METRICS\n",
    "    score = clf.score(xtest,ytest)\n",
    "    recall = metrics.recall_score(ytest, predict, average ='macro')\n",
    "    precision = metrics.precision_score(ytest, predict,  average='macro')\n",
    "    loss01 = metrics.zero_one_loss(ytest, predict)\n",
    "    cm = metrics.confusion_matrix(ytest, predict)\n",
    "    timetrain = endTrain - startTrain\n",
    "    timePred = endpred - startpred\n",
    "    \n",
    "    #Storing results\n",
    "    Score.append(score*100)\n",
    "    Precision.append(precision*100)\n",
    "    Recall.append(recall)\n",
    "    Loss.append(loss01)\n",
    "    TimePrediction.append(timePred)\n",
    "    TimeTraining.append(timetrain)\n",
    "\n",
    "    #Prints\n",
    "    print(\"This SVC model has a score = \", score*100, \"%.\")\n",
    "    print(\"4th image ::: prediction = \",predict[3], \"reel = \", ytest[3])\n",
    "    print (\"precision =>\", precision*100)\n",
    "    print (\"recall  =>\",recall*100)\n",
    "    print (\"zero-one_loss =>\",recall*100)\n",
    "    print( \"training time =>\", timetrain)\n",
    "    print( \"prediction time =>\", timePred)\n",
    "    print(\"confusion matrix :: \\n\")\n",
    "    print(cm)\n",
    "    print(\"\\n\")\n",
    "  "
   ]
  }
 ],
 "metadata": {
  "interpreter": {
   "hash": "67daac1ebf3b80a6e8e15acaf6535d9d72e4e060942990dc63fc0ef314051e9e"
  },
  "kernelspec": {
   "display_name": "Python 3.9.0 64-bit",
   "language": "python",
   "name": "python3"
  },
  "language_info": {
   "codemirror_mode": {
    "name": "ipython",
    "version": 3
   },
   "file_extension": ".py",
   "mimetype": "text/x-python",
   "name": "python",
   "nbconvert_exporter": "python",
   "pygments_lexer": "ipython3",
   "version": "3.9.0"
  },
  "orig_nbformat": 4
 },
 "nbformat": 4,
 "nbformat_minor": 2
}
