{
 "cells": [
  {
   "cell_type": "code",
   "execution_count": 3,
   "metadata": {},
   "outputs": [],
   "source": [
    "import matplotlib.pyplot as plt\n",
    "from sklearn.datasets import fetch_openml"
   ]
  },
  {
   "cell_type": "markdown",
   "metadata": {},
   "source": [
    "- Dowloanding MNIST Dataset :"
   ]
  },
  {
   "cell_type": "code",
   "execution_count": 5,
   "metadata": {},
   "outputs": [],
   "source": [
    "mnist = fetch_openml('mnist_784', as_frame=False)\n"
   ]
  },
  {
   "cell_type": "markdown",
   "metadata": {},
   "source": [
    "# Exercise 1 :"
   ]
  },
  {
   "cell_type": "markdown",
   "metadata": {},
   "source": [
    "* These commands give properties of the dataset :"
   ]
  },
  {
   "cell_type": "code",
   "execution_count": 9,
   "metadata": {},
   "outputs": [
    {
     "name": "stdout",
     "output_type": "stream",
     "text": [
      "[[0. 0. 0. ... 0. 0. 0.]\n",
      " [0. 0. 0. ... 0. 0. 0.]\n",
      " [0. 0. 0. ... 0. 0. 0.]\n",
      " ...\n",
      " [0. 0. 0. ... 0. 0. 0.]\n",
      " [0. 0. 0. ... 0. 0. 0.]\n",
      " [0. 0. 0. ... 0. 0. 0.]]\n",
      "['5' '0' '4' ... '4' '5' '6']\n",
      "70000\n",
      "Help on built-in function len in module builtins:\n",
      "\n",
      "len(obj, /)\n",
      "    Return the number of items in a container.\n",
      "\n",
      "(70000, 784)\n",
      "(70000,)\n"
     ]
    },
    {
     "data": {
      "text/plain": [
       "array([[0., 0., 0., ..., 0., 0., 0.],\n",
       "       [0., 0., 0., ..., 0., 0., 0.],\n",
       "       [0., 0., 0., ..., 0., 0., 0.],\n",
       "       ...,\n",
       "       [0., 0., 0., ..., 0., 0., 0.],\n",
       "       [0., 0., 0., ..., 0., 0., 0.],\n",
       "       [0., 0., 0., ..., 0., 0., 0.]])"
      ]
     },
     "execution_count": 9,
     "metadata": {},
     "output_type": "execute_result"
    }
   ],
   "source": [
    "print(mnist.data)\n",
    "print(mnist.target)\n",
    "print(len(mnist.data))\n",
    "help(len)\n",
    "print(mnist.data.shape)\n",
    "print(mnist.target.shape)\n",
    "mnist.data[0]\n",
    "mnist.data[0][1]\n",
    "mnist.data[:,1]\n",
    "mnist.data[:100]\n"
   ]
  },
  {
   "cell_type": "markdown",
   "metadata": {},
   "source": [
    "* Data visualisation :"
   ]
  },
  {
   "cell_type": "code",
   "execution_count": 13,
   "metadata": {},
   "outputs": [
    {
     "data": {
      "image/png": "[encoded data removed]",
      "text/plain": [
       "<Figure size 432x288 with 1 Axes>"
      ]
     },
     "metadata": {
      "needs_background": "light"
     },
     "output_type": "display_data"
    }
   ],
   "source": [
    "images = mnist.data.reshape((-1, 28, 28))\n",
    "plt.imshow(images[3],cmap=plt.cm.gray_r,interpolation=\"nearest\") # showing an example of the available images\n",
    "plt.show()"
   ]
  },
  {
   "cell_type": "markdown",
   "metadata": {},
   "source": [
    "# KNN Algorithm"
   ]
  },
  {
   "cell_type": "markdown",
   "metadata": {},
   "source": [
    "- The k-nearest neighbors algorithm (k-nn: for k-neighborrest neighbors in English) is a very intuitive, configurable and often powerful algorithm to deal with a problem of classification.\n",
    "- The k-nn requires:\n",
    "    * An integer k\n",
    "    * A learning base\n",
    "    * A metric for proximity"
   ]
  },
  {
   "cell_type": "code",
   "execution_count": 14,
   "metadata": {},
   "outputs": [],
   "source": [
    "from time import time\n",
    "import numpy as np\n",
    "from sklearn import neighbors\n",
    "from sklearn.model_selection import train_test_split, KFold\n",
    "from sklearn.metrics import confusion_matrix"
   ]
  },
  {
   "cell_type": "code",
   "execution_count": 16,
   "metadata": {},
   "outputs": [],
   "source": [
    "indices = np.random.randint(70000, size=5000)\n",
    "data = mnist.data[indices]\n",
    "target = mnist.target[indices]"
   ]
  },
  {
   "cell_type": "markdown",
   "metadata": {},
   "source": [
    "- Tests for the TP (with a train = 80 %)"
   ]
  },
  {
   "cell_type": "code",
   "execution_count": 17,
   "metadata": {},
   "outputs": [],
   "source": [
    "xtrain, xtest, ytrain, ytest = train_test_split(data, target, train_size=0.8)"
   ]
  },
  {
   "cell_type": "markdown",
   "metadata": {},
   "source": [
    "* Training a K-NN classifier with k = 10 using mnist dataset"
   ]
  },
  {
   "cell_type": "code",
   "execution_count": 18,
   "metadata": {},
   "outputs": [
    {
     "name": "stdout",
     "output_type": "stream",
     "text": [
      "Prediction : 5, Value : 5, Efficacity : 0.925\n"
     ]
    }
   ],
   "source": [
    "xtrain, xtest, ytrain, ytest = train_test_split(data, target, train_size=0.8, test_size=0.2)\n",
    "\n",
    "clf = neighbors.KNeighborsClassifier(10)\n",
    "\n",
    "clf.fit(xtrain,ytrain)\n",
    "prediction = clf.predict(xtest)\n",
    "score = clf.score(xtest, ytest)\n",
    "# The image \"4\"\n",
    "print(\"Prediction : {}, Value : {}, Efficacity : {}\".format(prediction[4], ytest[4], score))"
   ]
  },
  {
   "cell_type": "markdown",
   "metadata": {},
   "source": [
    "> We have a score of 93%\n",
    ">> The error rate is very low but at the same time we have a big data set"
   ]
  },
  {
   "cell_type": "markdown",
   "metadata": {},
   "source": [
    " Showing the forth image"
   ]
  },
  {
   "cell_type": "code",
   "execution_count": 37,
   "metadata": {},
   "outputs": [
    {
     "data": {
      "image/png": "[encoded data removed]",
      "text/plain": [
       "<Figure size 432x288 with 1 Axes>"
      ]
     },
     "metadata": {
      "needs_background": "light"
     },
     "output_type": "display_data"
    }
   ],
   "source": [
    "images = xtest.reshape((-1, 28, 28))\n",
    "plt.imshow(images[4],cmap=plt.cm.gray_r,interpolation=\"nearest\")\n",
    "plt.show()"
   ]
  },
  {
   "cell_type": "markdown",
   "metadata": {},
   "source": [
    "* Variation loop of k :"
   ]
  },
  {
   "cell_type": "code",
   "execution_count": 40,
   "metadata": {},
   "outputs": [
    {
     "name": "stdout",
     "output_type": "stream",
     "text": [
      "K = 2, Efficacity is : 0.915\n",
      "K = 3, Efficacity is : 0.938\n",
      "K = 4, Efficacity is : 0.925\n",
      "K = 5, Efficacity is : 0.936\n",
      "K = 6, Efficacity is : 0.931\n",
      "K = 7, Efficacity is : 0.932\n",
      "K = 8, Efficacity is : 0.929\n",
      "K = 9, Efficacity is : 0.931\n",
      "K = 10, Efficacity is : 0.925\n",
      "K = 11, Efficacity is : 0.924\n",
      "K = 12, Efficacity is : 0.921\n",
      "K = 13, Efficacity is : 0.921\n",
      "K = 14, Efficacity is : 0.913\n",
      "K = 15, Efficacity is : 0.911\n"
     ]
    }
   ],
   "source": [
    "for k in range (2,16):\n",
    "    clf = neighbors.KNeighborsClassifier(k)\n",
    "\n",
    "    clf.fit(xtrain, ytrain)\n",
    "    prediction = clf.predict(xtest)\n",
    "    score = clf.score(xtest, ytest)\n",
    "    print(\"K = {}, Efficacity is : {}\".format(k, score))\n"
   ]
  },
  {
   "cell_type": "markdown",
   "metadata": {},
   "source": [
    "> We observe an efficiency peak between 3 and 9"
   ]
  },
  {
   "cell_type": "markdown",
   "metadata": {},
   "source": [
    "* Variation loop of K with KFOLD :"
   ]
  },
  {
   "cell_type": "code",
   "execution_count": 43,
   "metadata": {},
   "outputs": [
    {
     "name": "stdout",
     "output_type": "stream",
     "text": [
      "K = 2, Efficacity is : 0.8994413407821229\n",
      "K = 3, Efficacity is : 0.9497206703910615\n",
      "K = 4, Efficacity is : 0.9411764705882353\n",
      "K = 5, Efficacity is : 0.938375350140056\n",
      "K = 6, Efficacity is : 0.9215686274509803\n",
      "K = 7, Efficacity is : 0.907563025210084\n",
      "K = 8, Efficacity is : 0.9327731092436975\n",
      "K = 9, Efficacity is : 0.896358543417367\n",
      "K = 10, Efficacity is : 0.9439775910364145\n",
      "K = 11, Efficacity is : 0.9215686274509803\n",
      "K = 12, Efficacity is : 0.9103641456582633\n",
      "K = 13, Efficacity is : 0.9411764705882353\n",
      "K = 14, Efficacity is : 0.927170868347339\n",
      "K = 15, Efficacity is : 0.9019607843137255\n"
     ]
    }
   ],
   "source": [
    "\n",
    "mykf = KFold(14,shuffle = True)\n",
    "mykf.get_n_splits(data)\n",
    "\n",
    "k = 2\n",
    "\n",
    "for train_index, test_index in mykf.split(data):\n",
    "\n",
    "    \n",
    "    xtrain, xtest = data[train_index], data[test_index]\n",
    "    ytrain, ytest = target[train_index], target[test_index]\n",
    "\n",
    "    clf = neighbors.KNeighborsClassifier(k)\n",
    "    clf.fit(xtrain,ytrain)\n",
    "    prediction = clf.predict(xtest)\n",
    "    score = clf.score(xtest, ytest)\n",
    "    print(\"K = {}, Efficacity is : {}\".format(k, score))\n",
    "\n",
    "    k = k + 1"
   ]
  },
  {
   "cell_type": "markdown",
   "metadata": {},
   "source": [
    "> Since the train set changes all the time, it's hard to compare rates efficiency between them for this loop ...> The results oscillate."
   ]
  },
  {
   "cell_type": "markdown",
   "metadata": {},
   "source": [
    "* Variation of training percent :"
   ]
  },
  {
   "cell_type": "code",
   "execution_count": 48,
   "metadata": {},
   "outputs": [
    {
     "name": "stdout",
     "output_type": "stream",
     "text": [
      "Training size = 0.2 %, Score = 0.87025 \n",
      "Training size = 0.3 %, Score = 0.8877142857142857 \n",
      "Training size = 0.4 %, Score = 0.904 \n",
      "Training size = 0.5 %, Score = 0.9168 \n",
      "Training size = 0.6 %, Score = 0.929 \n",
      "Training size = 0.7 %, Score = 0.9253333333333333 \n",
      "Training size = 0.8 %, Score = 0.924 \n",
      "Training size = 0.9 %, Score = 0.956 \n"
     ]
    },
    {
     "data": {
      "image/png": "[encoded data removed]",
      "text/plain": [
       "<Figure size 432x288 with 1 Axes>"
      ]
     },
     "metadata": {
      "needs_background": "light"
     },
     "output_type": "display_data"
    },
    {
     "data": {
      "image/png": "[encoded data removed]",
      "text/plain": [
       "<Figure size 432x288 with 1 Axes>"
      ]
     },
     "metadata": {
      "needs_background": "light"
     },
     "output_type": "display_data"
    }
   ],
   "source": [
    "score=[]\n",
    "execution_time=[]\n",
    "\n",
    "values_of_t = range (2,10)\n",
    "\n",
    "for t in values_of_t:\n",
    "\n",
    "    xtrain, xtest, ytrain, ytest = train_test_split(data, target, train_size=(t/10))\n",
    "\n",
    "    clasifier = neighbors.KNeighborsClassifier(3)\n",
    "\n",
    "    begin = time()\n",
    "    clasifier.fit(xtrain,ytrain)\n",
    "    predicted = clasifier.predict(X=xtest)\n",
    "    end = time()\n",
    "    total_time = end - begin\n",
    "\n",
    "    score.append(clasifier.score(xtest, ytest))\n",
    "    execution_time.append(total_time)\n",
    "    print(\"Training size = {} %, Score = {} \".format((t/10), clasifier.score(xtest, ytest)))\n",
    "    #print(\"time: \", total_time)\n",
    "\n",
    "plt.plot(values_of_t,execution_time)\n",
    "plt.title(\"Training size with execution time evolution\")\n",
    "plt.show()\n",
    "plt.plot(values_of_t,score)\n",
    "plt.title(\"Training size with score evolution\")\n",
    "plt.show()"
   ]
  },
  {
   "cell_type": "markdown",
   "metadata": {},
   "source": [
    "> As long as we increase training as long as we get better scores.."
   ]
  },
  {
   "cell_type": "markdown",
   "metadata": {},
   "source": [
    "* Testing with n_jobs = 1 then -1 :"
   ]
  },
  {
   "cell_type": "code",
   "execution_count": 49,
   "metadata": {},
   "outputs": [
    {
     "name": "stdout",
     "output_type": "stream",
     "text": [
      "n_jobs = -1, Total Time = 3.2619545459747314\n",
      "n_jobs = 1, Total Time = 0.2850005626678467\n"
     ]
    }
   ],
   "source": [
    "for i in [-1,1]:\n",
    "    \n",
    "    clf = neighbors.KNeighborsClassifier(7,n_jobs=i)\n",
    "\n",
    "    clf.fit(xtrain, ytrain)\n",
    "    time_start = time()\n",
    "    prediction = clf.predict(xtest)\n",
    "    time_stop = time()\n",
    "    score = clf.score(xtest, ytest)\n",
    "    print(\"n_jobs = {}, Total Time = {}\".format(i,time_stop-time_start))"
   ]
  },
  {
   "cell_type": "markdown",
   "metadata": {},
   "source": [
    "> Indeed, when we take all the available processes, things go faster!"
   ]
  }
 ],
 "metadata": {
  "interpreter": {
   "hash": "67daac1ebf3b80a6e8e15acaf6535d9d72e4e060942990dc63fc0ef314051e9e"
  },
  "kernelspec": {
   "display_name": "Python 3.9.0 64-bit",
   "language": "python",
   "name": "python3"
  },
  "language_info": {
   "codemirror_mode": {
    "name": "ipython",
    "version": 3
   },
   "file_extension": ".py",
   "mimetype": "text/x-python",
   "name": "python",
   "nbconvert_exporter": "python",
   "pygments_lexer": "ipython3",
   "version": "3.9.0"
  },
  "orig_nbformat": 4
 },
 "nbformat": 4,
 "nbformat_minor": 2
}
