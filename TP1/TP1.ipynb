{
 "cells": [
  {
   "cell_type": "code",
   "execution_count": 1,
   "metadata": {},
   "outputs": [],
   "source": [
    "import matplotlib.pyplot as plt\n",
    "from sklearn.datasets import fetch_openml"
   ]
  },
  {
   "cell_type": "markdown",
   "metadata": {},
   "source": [
    "- Dowloanding MNIST Dataset :"
   ]
  },
  {
   "cell_type": "code",
   "execution_count": 2,
   "metadata": {},
   "outputs": [],
   "source": [
    "mnist = fetch_openml('mnist_784', as_frame=False)\n"
   ]
  },
  {
   "cell_type": "markdown",
   "metadata": {},
   "source": [
    "# Exercise 1 :"
   ]
  },
  {
   "cell_type": "markdown",
   "metadata": {},
   "source": [
    "* These commands give properties of the dataset :"
   ]
  },
  {
   "cell_type": "code",
   "execution_count": 3,
   "metadata": {},
   "outputs": [
    {
     "name": "stdout",
     "output_type": "stream",
     "text": [
      "[[0. 0. 0. ... 0. 0. 0.]\n",
      " [0. 0. 0. ... 0. 0. 0.]\n",
      " [0. 0. 0. ... 0. 0. 0.]\n",
      " ...\n",
      " [0. 0. 0. ... 0. 0. 0.]\n",
      " [0. 0. 0. ... 0. 0. 0.]\n",
      " [0. 0. 0. ... 0. 0. 0.]]\n",
      "['5' '0' '4' ... '4' '5' '6']\n",
      "70000\n",
      "Help on built-in function len in module builtins:\n",
      "\n",
      "len(obj, /)\n",
      "    Return the number of items in a container.\n",
      "\n",
      "(70000, 784)\n",
      "(70000,)\n"
     ]
    },
    {
     "data": {
      "text/plain": [
       "array([[0., 0., 0., ..., 0., 0., 0.],\n",
       "       [0., 0., 0., ..., 0., 0., 0.],\n",
       "       [0., 0., 0., ..., 0., 0., 0.],\n",
       "       ...,\n",
       "       [0., 0., 0., ..., 0., 0., 0.],\n",
       "       [0., 0., 0., ..., 0., 0., 0.],\n",
       "       [0., 0., 0., ..., 0., 0., 0.]])"
      ]
     },
     "execution_count": 3,
     "metadata": {},
     "output_type": "execute_result"
    }
   ],
   "source": [
    "print(mnist.data)\n",
    "print(mnist.target)\n",
    "print(len(mnist.data))\n",
    "help(len)\n",
    "print(mnist.data.shape)\n",
    "print(mnist.target.shape)\n",
    "mnist.data[0]\n",
    "mnist.data[0][1]\n",
    "mnist.data[:,1]\n",
    "mnist.data[:100]\n"
   ]
  },
  {
   "cell_type": "markdown",
   "metadata": {},
   "source": [
    "* Data visualisation :"
   ]
  },
  {
   "cell_type": "code",
   "execution_count": 4,
   "metadata": {},
   "outputs": [
    {
     "data": {
      "image/png": "[encoded data removed]",
      "text/plain": [
       "<Figure size 432x288 with 1 Axes>"
      ]
     },
     "metadata": {
      "needs_background": "light"
     },
     "output_type": "display_data"
    }
   ],
   "source": [
    "images = mnist.data.reshape((-1, 28, 28))\n",
    "plt.imshow(images[3],cmap=plt.cm.gray_r,interpolation=\"nearest\") # showing an example of the available images\n",
    "plt.show()"
   ]
  },
  {
   "cell_type": "markdown",
   "metadata": {},
   "source": [
    "# KNN Algorithm"
   ]
  },
  {
   "cell_type": "markdown",
   "metadata": {},
   "source": [
    "- The k-nearest neighbors algorithm (k-nn: for k-neighborrest neighbors in English) is a very intuitive, configurable and often powerful algorithm to deal with a problem of classification.\n",
    "- The k-nn requires:\n",
    "    * An integer k\n",
    "    * A learning base\n",
    "    * A metric for proximity"
   ]
  },
  {
   "cell_type": "code",
   "execution_count": 5,
   "metadata": {},
   "outputs": [],
   "source": [
    "from time import time\n",
    "import numpy as np\n",
    "from sklearn import neighbors\n",
    "from sklearn.model_selection import train_test_split, KFold\n",
    "from sklearn.metrics import confusion_matrix"
   ]
  },
  {
   "cell_type": "code",
   "execution_count": 6,
   "metadata": {},
   "outputs": [],
   "source": [
    "indices = np.random.randint(70000, size=5000)\n",
    "data = mnist.data[indices]\n",
    "target = mnist.target[indices]"
   ]
  },
  {
   "cell_type": "markdown",
   "metadata": {},
   "source": [
    "- Tests for the TP (with a train = 80 %)"
   ]
  },
  {
   "cell_type": "code",
   "execution_count": 7,
   "metadata": {},
   "outputs": [],
   "source": [
    "xtrain, xtest, ytrain, ytest = train_test_split(data, target, train_size=0.8)"
   ]
  },
  {
   "cell_type": "markdown",
   "metadata": {},
   "source": [
    "* Training a K-NN classifier with k = 10 using mnist dataset"
   ]
  },
  {
   "cell_type": "code",
   "execution_count": 8,
   "metadata": {},
   "outputs": [
    {
     "name": "stdout",
     "output_type": "stream",
     "text": [
      "Prediction : 8, Value : 8, Efficacity : 0.915\n"
     ]
    }
   ],
   "source": [
    "xtrain, xtest, ytrain, ytest = train_test_split(data, target, train_size=0.8, test_size=0.2)\n",
    "\n",
    "clf = neighbors.KNeighborsClassifier(10)\n",
    "\n",
    "clf.fit(xtrain,ytrain)\n",
    "prediction = clf.predict(xtest)\n",
    "score = clf.score(xtest, ytest)\n",
    "# The image \"4\"\n",
    "print(\"Prediction : {}, Value : {}, Efficacity : {}\".format(prediction[4], ytest[4], score))"
   ]
  },
  {
   "cell_type": "markdown",
   "metadata": {},
   "source": [
    "> We have a score of ~92%\n",
    ">> The error rate is very low but at the same time we have a big data set"
   ]
  },
  {
   "cell_type": "markdown",
   "metadata": {},
   "source": [
    " Showing the forth image"
   ]
  },
  {
   "cell_type": "code",
   "execution_count": 9,
   "metadata": {},
   "outputs": [
    {
     "data": {
      "image/png": "[encoded data removed]",
      "text/plain": [
       "<Figure size 432x288 with 1 Axes>"
      ]
     },
     "metadata": {
      "needs_background": "light"
     },
     "output_type": "display_data"
    }
   ],
   "source": [
    "images = xtest.reshape((-1, 28, 28))\n",
    "plt.imshow(images[4],cmap=plt.cm.gray_r,interpolation=\"nearest\")\n",
    "plt.show()"
   ]
  },
  {
   "cell_type": "markdown",
   "metadata": {},
   "source": [
    "* Variation loop of k :"
   ]
  },
  {
   "cell_type": "code",
   "execution_count": 11,
   "metadata": {},
   "outputs": [
    {
     "name": "stdout",
     "output_type": "stream",
     "text": [
      "K = 2, Efficacity is : 0.924\n",
      "K = 3, Efficacity is : 0.94\n",
      "K = 4, Efficacity is : 0.929\n",
      "K = 5, Efficacity is : 0.93\n",
      "K = 6, Efficacity is : 0.924\n",
      "K = 7, Efficacity is : 0.921\n",
      "K = 8, Efficacity is : 0.915\n",
      "K = 9, Efficacity is : 0.918\n",
      "K = 10, Efficacity is : 0.915\n",
      "K = 11, Efficacity is : 0.913\n",
      "K = 12, Efficacity is : 0.912\n",
      "K = 13, Efficacity is : 0.914\n",
      "K = 14, Efficacity is : 0.911\n",
      "K = 15, Efficacity is : 0.913\n"
     ]
    }
   ],
   "source": [
    "for k in range (2,16):\n",
    "    clf = neighbors.KNeighborsClassifier(k)\n",
    "\n",
    "    clf.fit(xtrain, ytrain)\n",
    "    prediction = clf.predict(xtest)\n",
    "    score = clf.score(xtest, ytest)\n",
    "    print(\"K = {}, Efficacity is : {}\".format(k, score))\n"
   ]
  },
  {
   "cell_type": "markdown",
   "metadata": {},
   "source": [
    "> We observe an efficiency peak between 3 and 9"
   ]
  },
  {
   "cell_type": "markdown",
   "metadata": {},
   "source": [
    "* Variation loop of K with KFOLD :"
   ]
  },
  {
   "cell_type": "code",
   "execution_count": 12,
   "metadata": {},
   "outputs": [
    {
     "name": "stdout",
     "output_type": "stream",
     "text": [
      "K = 2, Efficacity is : 0.9301675977653632\n",
      "K = 3, Efficacity is : 0.9329608938547486\n",
      "K = 4, Efficacity is : 0.9047619047619048\n",
      "K = 5, Efficacity is : 0.9187675070028011\n",
      "K = 6, Efficacity is : 0.9327731092436975\n",
      "K = 7, Efficacity is : 0.9243697478991597\n",
      "K = 8, Efficacity is : 0.9523809523809523\n",
      "K = 9, Efficacity is : 0.927170868347339\n",
      "K = 10, Efficacity is : 0.9131652661064426\n",
      "K = 11, Efficacity is : 0.9439775910364145\n",
      "K = 12, Efficacity is : 0.938375350140056\n",
      "K = 13, Efficacity is : 0.907563025210084\n",
      "K = 14, Efficacity is : 0.907563025210084\n",
      "K = 15, Efficacity is : 0.9439775910364145\n"
     ]
    }
   ],
   "source": [
    "\n",
    "mykf = KFold(14,shuffle = True)\n",
    "mykf.get_n_splits(data)\n",
    "\n",
    "k = 2\n",
    "\n",
    "for train_index, test_index in mykf.split(data):\n",
    "\n",
    "    \n",
    "    xtrain, xtest = data[train_index], data[test_index]\n",
    "    ytrain, ytest = target[train_index], target[test_index]\n",
    "\n",
    "    clf = neighbors.KNeighborsClassifier(k)\n",
    "    clf.fit(xtrain,ytrain)\n",
    "    prediction = clf.predict(xtest)\n",
    "    score = clf.score(xtest, ytest)\n",
    "    print(\"K = {}, Efficacity is : {}\".format(k, score))\n",
    "\n",
    "    k = k + 1"
   ]
  },
  {
   "cell_type": "markdown",
   "metadata": {},
   "source": [
    "> Since the train set changes all the time, it's hard to compare rates efficiency between them for this loop ...> The results oscillate."
   ]
  },
  {
   "cell_type": "markdown",
   "metadata": {},
   "source": [
    "* Other way :"
   ]
  },
  {
   "cell_type": "code",
   "execution_count": 18,
   "metadata": {},
   "outputs": [
    {
     "name": "stdout",
     "output_type": "stream",
     "text": [
      "KFold(n_splits=14, random_state=None, shuffle=True)\n",
      "K =  2 Score =  89.94413407821229 %\n",
      "K =  3 Score =  92.73743016759776 %\n",
      "K =  4 Score =  92.71708683473389 %\n",
      "K =  5 Score =  93.8375350140056 %\n",
      "K =  6 Score =  94.11764705882352 %\n",
      "K =  7 Score =  92.43697478991596 %\n",
      "K =  8 Score =  91.03641456582633 %\n",
      "K =  9 Score =  91.87675070028011 %\n",
      "K =  10 Score =  90.19607843137256 %\n",
      "K =  11 Score =  93.27731092436974 %\n",
      "K =  12 Score =  92.15686274509804 %\n",
      "K =  13 Score =  94.39775910364145 %\n",
      "K =  14 Score =  92.43697478991596 %\n",
      "K =  15 Score =  91.03641456582633 %\n"
     ]
    }
   ],
   "source": [
    "from sklearn import metrics\n",
    "import time\n",
    "from sklearn.model_selection import KFold\n",
    "\n",
    "ResultScore =[]\n",
    "ResultPrecision = []\n",
    "ResultRecall = []\n",
    "ResultLoss = []\n",
    "ResultTimeTraining = []\n",
    "ResultTimePrediction = []\n",
    "\n",
    "\n",
    "k_fold = KFold( n_splits=14, shuffle=True)\n",
    "print(k_fold)\n",
    "k=1\n",
    "for train_indices,test_indices in k_fold.split(data,target):\n",
    "    k+=1\n",
    "    clf=neighbors.KNeighborsClassifier(k)\n",
    "    # Algo\n",
    "    startTrain =time.time()\n",
    "    clf.fit(data[train_indices],target[train_indices])\n",
    "    endTrain = time.time()\n",
    "    startpred= time.time()\n",
    "    clf.predict(data[test_indices])\n",
    "    endpred = time.time()\n",
    "    # Metrics\n",
    "    predict = clf.predict(data[test_indices])\n",
    "    score = clf.score(data[test_indices],target[test_indices])\n",
    "    precision =  metrics.precision_score(target[test_indices], predict,  average='macro')\n",
    "    recall = metrics.recall_score(target[test_indices], predict, average ='macro')\n",
    "    loss01 = metrics.zero_one_loss(target[test_indices], predict)\n",
    "    timetrain = endTrain - startTrain\n",
    "    timePred = endpred - startpred\n",
    "    # Append\n",
    "    ResultScore.append(score)\n",
    "    ResultPrecision.append(precision)\n",
    "    ResultRecall.append(recall)\n",
    "    ResultLoss.append(loss01) \n",
    "    ResultTimeTraining.append(timetrain)\n",
    "    ResultTimePrediction.append(timePred)\n",
    "    print(\"K = \", k, \"Score = \", clf.score(data[test_indices],target[test_indices])*100, \"%\")"
   ]
  },
  {
   "cell_type": "markdown",
   "metadata": {},
   "source": [
    "> N.B :\n",
    "The recall is the ratio `tp / (tp + fn)` where `tp` is the number of true positives and fn the number of false negatives. The recall is intuitively the ability of the classifier to find all the positive samples. The best value is 1 and the worst value is 0."
   ]
  },
  {
   "cell_type": "markdown",
   "metadata": {},
   "source": [
    "> showing this results"
   ]
  },
  {
   "cell_type": "code",
   "execution_count": 19,
   "metadata": {},
   "outputs": [
    {
     "name": "stdout",
     "output_type": "stream",
     "text": [
      "[0.8994413407821229, 0.9273743016759777, 0.927170868347339, 0.938375350140056, 0.9411764705882353, 0.9243697478991597, 0.9103641456582633, 0.9187675070028011, 0.9019607843137255, 0.9327731092436975, 0.9215686274509803, 0.9439775910364145, 0.9243697478991597, 0.9103641456582633]\n",
      "\n",
      "\n",
      "[0.9003285088739054, 0.9292126074633813, 0.9276708891794705, 0.9376707666299428, 0.9414208277103014, 0.9243070972482738, 0.9125192612602886, 0.9263704947257579, 0.9097715996156138, 0.9336697622166469, 0.9199113081795229, 0.9496450242493271, 0.92343441520327, 0.9116890603621277]\n",
      "\n",
      "\n",
      "\n",
      "\n",
      "[0.1005586592178771, 0.07262569832402233, 0.07282913165266103, 0.06162464985994398, 0.05882352941176472, 0.07563025210084029, 0.08963585434173671, 0.08123249299719892, 0.0980392156862745, 0.0672268907563025, 0.07843137254901966, 0.05602240896358546, 0.07563025210084029, 0.08963585434173671]\n",
      "\n",
      "\n",
      "[0.03644824028015137, 0.03399944305419922, 0.09299874305725098, 0.08803629875183105, 0.02752852439880371, 0.014374732971191406, 0.03601861000061035, 0.02627730369567871, 0.02232646942138672, 0.032747507095336914, 0.029641151428222656, 0.029623031616210938, 0.04171395301818848, 0.024998903274536133]\n",
      "\n",
      "\n",
      "[0.5149655342102051, 0.23097777366638184, 0.39563870429992676, 0.3570706844329834, 0.19786405563354492, 0.20559144020080566, 0.21449732780456543, 0.21440982818603516, 0.1998765468597412, 0.19992947578430176, 0.18836212158203125, 0.1641693115234375, 0.2843441963195801, 0.18301725387573242]\n"
     ]
    }
   ],
   "source": [
    "print(ResultScore)\n",
    "print(\"\\n\")\n",
    "print(ResultPrecision)\n",
    "print(\"\\n\")\n",
    "print(\"\\n\")\n",
    "print(ResultLoss)\n",
    "print(\"\\n\")\n",
    "print(ResultTimeTraining)\n",
    "print(\"\\n\")\n",
    "print(ResultTimePrediction)"
   ]
  },
  {
   "cell_type": "markdown",
   "metadata": {},
   "source": [
    "> Visualization of results :"
   ]
  },
  {
   "cell_type": "code",
   "execution_count": 21,
   "metadata": {},
   "outputs": [
    {
     "data": {
      "text/plain": [
       "Text(0, 0.5, '¨Prediction Time (s)')"
      ]
     },
     "execution_count": 21,
     "metadata": {},
     "output_type": "execute_result"
    },
    {
     "data": {
      "image/png": "[encoded data removed]",
      "text/plain": [
       "<Figure size 720x720 with 6 Axes>"
      ]
     },
     "metadata": {
      "needs_background": "light"
     },
     "output_type": "display_data"
    }
   ],
   "source": [
    "fig, axarr = plt.subplots(6, sharex=True, figsize=(10,10))\n",
    "\n",
    "axarr[0].plot(range(14), ResultScore)\n",
    "axarr[0].set_title('KNN for 10000 training data, for k 2..15, with KFOLD')\n",
    "axarr[0].set_ylabel('Score')\n",
    "axarr[1].plot(range(14), ResultPrecision)\n",
    "axarr[1].set_ylabel('Precision')\n",
    "axarr[2].plot(range(14), ResultRecall)\n",
    "axarr[2].set_ylabel('Recall')\n",
    "axarr[3].plot(range(14), ResultLoss)\n",
    "axarr[3].set_ylabel('Zero-to-one Loss')\n",
    "axarr[4].plot(range(14), ResultTimeTraining)\n",
    "axarr[4].set_ylabel('Training Time (s)')\n",
    "axarr[5].plot(range(14), ResultTimePrediction)\n",
    "axarr[5].set_ylabel('¨Prediction Time (s)')"
   ]
  },
  {
   "cell_type": "markdown",
   "metadata": {},
   "source": [
    "* Variation of training percent :"
   ]
  },
  {
   "cell_type": "code",
   "execution_count": 23,
   "metadata": {},
   "outputs": [
    {
     "name": "stdout",
     "output_type": "stream",
     "text": [
      "Training size = 0.2 %, Score = 0.8685 \n",
      "Training size = 0.3 %, Score = 0.898 \n",
      "Training size = 0.4 %, Score = 0.9136666666666666 \n",
      "Training size = 0.5 %, Score = 0.918 \n",
      "Training size = 0.6 %, Score = 0.924 \n",
      "Training size = 0.7 %, Score = 0.9213333333333333 \n",
      "Training size = 0.8 %, Score = 0.921 \n",
      "Training size = 0.9 %, Score = 0.934 \n"
     ]
    },
    {
     "data": {
      "image/png": "[encoded data removed]",
      "text/plain": [
       "<Figure size 432x288 with 1 Axes>"
      ]
     },
     "metadata": {
      "needs_background": "light"
     },
     "output_type": "display_data"
    },
    {
     "data": {
      "image/png": "[encoded data removed]",
      "text/plain": [
       "<Figure size 432x288 with 1 Axes>"
      ]
     },
     "metadata": {
      "needs_background": "light"
     },
     "output_type": "display_data"
    }
   ],
   "source": [
    "score=[]\n",
    "execution_time=[]\n",
    "\n",
    "values_of_test = range (2,10)\n",
    "\n",
    "for t in values_of_test:\n",
    "\n",
    "    xtrain, xtest, ytrain, ytest = train_test_split(data, target, train_size=(t/10))\n",
    "\n",
    "    clasifier = neighbors.KNeighborsClassifier(3)\n",
    "\n",
    "    begin = time.time()\n",
    "    clasifier.fit(xtrain,ytrain)\n",
    "    predicted = clasifier.predict(X=xtest)\n",
    "    end = time.time()\n",
    "    total_time = end - begin\n",
    "\n",
    "    score.append(clasifier.score(xtest, ytest))\n",
    "    execution_time.append(total_time)\n",
    "    print(\"Training size = {} %, Score = {} \".format((t/10), clasifier.score(xtest, ytest)))\n",
    "    #print(\"time: \", total_time)\n",
    "\n",
    "plt.plot(values_of_test,execution_time)\n",
    "plt.title(\"Training size with execution time evolution\")\n",
    "plt.show()\n",
    "plt.plot(values_of_test,score)\n",
    "plt.title(\"Training size with score evolution\")\n",
    "plt.show()"
   ]
  },
  {
   "cell_type": "markdown",
   "metadata": {},
   "source": [
    "> As long as we increase training as long as we get better scores.."
   ]
  },
  {
   "cell_type": "markdown",
   "metadata": {},
   "source": [
    "* Testing with n_jobs = 1 then -1 :"
   ]
  },
  {
   "cell_type": "code",
   "execution_count": 25,
   "metadata": {},
   "outputs": [
    {
     "name": "stdout",
     "output_type": "stream",
     "text": [
      "n_jobs = -1, Total Time = 1.233351707458496\n",
      "n_jobs = 1, Total Time = 0.4162125587463379\n"
     ]
    }
   ],
   "source": [
    "for i in [-1,1]:\n",
    "    \n",
    "    clf = neighbors.KNeighborsClassifier(7,n_jobs=i)\n",
    "\n",
    "    clf.fit(xtrain, ytrain)\n",
    "    time_start = time.time()\n",
    "    prediction = clf.predict(xtest)\n",
    "    time_stop = time.time()\n",
    "    score = clf.score(xtest, ytest)\n",
    "    print(\"n_jobs = {}, Total Time = {}\".format(i,time_stop-time_start))"
   ]
  },
  {
   "cell_type": "markdown",
   "metadata": {},
   "source": [
    "> Indeed, when we take all the available processes, things go faster!"
   ]
  }
 ],
 "metadata": {
  "interpreter": {
   "hash": "67daac1ebf3b80a6e8e15acaf6535d9d72e4e060942990dc63fc0ef314051e9e"
  },
  "kernelspec": {
   "display_name": "Python 3.9.0 64-bit",
   "language": "python",
   "name": "python3"
  },
  "language_info": {
   "codemirror_mode": {
    "name": "ipython",
    "version": 3
   },
   "file_extension": ".py",
   "mimetype": "text/x-python",
   "name": "python",
   "nbconvert_exporter": "python",
   "pygments_lexer": "ipython3",
   "version": "3.9.0"
  },
  "orig_nbformat": 4
 },
 "nbformat": 4,
 "nbformat_minor": 2
}
