{
 "cells": [
  {
   "cell_type": "code",
   "execution_count": 1,
   "metadata": {},
   "outputs": [],
   "source": [
    "import matplotlib.pyplot as plt\n",
    "from sklearn.datasets import fetch_openml"
   ]
  },
  {
   "cell_type": "markdown",
   "metadata": {},
   "source": [
    "- Dowloanding MNIST Dataset :"
   ]
  },
  {
   "cell_type": "code",
   "execution_count": 2,
   "metadata": {},
   "outputs": [],
   "source": [
    "mnist = fetch_openml('mnist_784', as_frame=False)\n"
   ]
  },
  {
   "cell_type": "markdown",
   "metadata": {},
   "source": [
    "# Exercise 1 :"
   ]
  },
  {
   "cell_type": "markdown",
   "metadata": {},
   "source": [
    "* These commands give properties of the dataset :"
   ]
  },
  {
   "cell_type": "code",
   "execution_count": 3,
   "metadata": {},
   "outputs": [
    {
     "name": "stdout",
     "output_type": "stream",
     "text": [
      "[[0. 0. 0. ... 0. 0. 0.]\n",
      " [0. 0. 0. ... 0. 0. 0.]\n",
      " [0. 0. 0. ... 0. 0. 0.]\n",
      " ...\n",
      " [0. 0. 0. ... 0. 0. 0.]\n",
      " [0. 0. 0. ... 0. 0. 0.]\n",
      " [0. 0. 0. ... 0. 0. 0.]]\n",
      "['5' '0' '4' ... '4' '5' '6']\n",
      "70000\n",
      "Help on built-in function len in module builtins:\n",
      "\n",
      "len(obj, /)\n",
      "    Return the number of items in a container.\n",
      "\n",
      "(70000, 784)\n",
      "(70000,)\n"
     ]
    },
    {
     "data": {
      "text/plain": [
       "array([[0., 0., 0., ..., 0., 0., 0.],\n",
       "       [0., 0., 0., ..., 0., 0., 0.],\n",
       "       [0., 0., 0., ..., 0., 0., 0.],\n",
       "       ...,\n",
       "       [0., 0., 0., ..., 0., 0., 0.],\n",
       "       [0., 0., 0., ..., 0., 0., 0.],\n",
       "       [0., 0., 0., ..., 0., 0., 0.]])"
      ]
     },
     "execution_count": 3,
     "metadata": {},
     "output_type": "execute_result"
    }
   ],
   "source": [
    "print(mnist.data)\n",
    "print(mnist.target)\n",
    "print(len(mnist.data))\n",
    "help(len)\n",
    "print(mnist.data.shape)\n",
    "print(mnist.target.shape)\n",
    "mnist.data[0]\n",
    "mnist.data[0][1]\n",
    "mnist.data[:,1]\n",
    "mnist.data[:100]\n"
   ]
  },
  {
   "cell_type": "markdown",
   "metadata": {},
   "source": [
    "* Data visualisation :"
   ]
  },
  {
   "cell_type": "code",
   "execution_count": 4,
   "metadata": {},
   "outputs": [
    {
     "data": {
      "image/png": "[encoded data removed]",
      "text/plain": [
       "<Figure size 432x288 with 1 Axes>"
      ]
     },
     "metadata": {
      "needs_background": "light"
     },
     "output_type": "display_data"
    }
   ],
   "source": [
    "images = mnist.data.reshape((-1, 28, 28))\n",
    "plt.imshow(images[3],cmap=plt.cm.gray_r,interpolation=\"nearest\") # showing an example of the available images\n",
    "plt.show()"
   ]
  },
  {
   "cell_type": "markdown",
   "metadata": {},
   "source": [
    "# KNN Algorithm"
   ]
  },
  {
   "cell_type": "markdown",
   "metadata": {},
   "source": [
    "- The k-nearest neighbors algorithm (k-nn: for k-neighborrest neighbors in English) is a very intuitive, configurable and often powerful algorithm to deal with a problem of classification.\n",
    "- The k-nn requires:\n",
    "    * An integer k\n",
    "    * A learning base\n",
    "    * A metric for proximity"
   ]
  },
  {
   "cell_type": "code",
   "execution_count": 5,
   "metadata": {},
   "outputs": [],
   "source": [
    "from time import time\n",
    "import numpy as np\n",
    "from sklearn import neighbors\n",
    "from sklearn.model_selection import train_test_split, KFold\n",
    "from sklearn.metrics import confusion_matrix"
   ]
  },
  {
   "cell_type": "code",
   "execution_count": 6,
   "metadata": {},
   "outputs": [],
   "source": [
    "indices = np.random.randint(70000, size=5000)\n",
    "data = mnist.data[indices]\n",
    "target = mnist.target[indices]"
   ]
  },
  {
   "cell_type": "markdown",
   "metadata": {},
   "source": [
    "- Tests for the TP (with a train = 80 %)"
   ]
  },
  {
   "cell_type": "code",
   "execution_count": 7,
   "metadata": {},
   "outputs": [],
   "source": [
    "xtrain, xtest, ytrain, ytest = train_test_split(data, target, train_size=0.8)"
   ]
  },
  {
   "cell_type": "markdown",
   "metadata": {},
   "source": [
    "* Training a K-NN classifier with k = 10 using mnist dataset"
   ]
  },
  {
   "cell_type": "code",
   "execution_count": 10,
   "metadata": {},
   "outputs": [
    {
     "name": "stdout",
     "output_type": "stream",
     "text": [
      "Prediction : 9, Value : 9, Efficacity : 0.921\n"
     ]
    }
   ],
   "source": [
    "xtrain, xtest, ytrain, ytest = train_test_split(data, target, train_size=0.8, test_size=0.2)\n",
    "\n",
    "clf = neighbors.KNeighborsClassifier(10)\n",
    "\n",
    "clf.fit(xtrain,ytrain)\n",
    "prediction = clf.predict(xtest)\n",
    "score = clf.score(xtest, ytest)\n",
    "# The image \"4\"\n",
    "print(\"Prediction : {}, Value : {}, Efficacity : {}\".format(prediction[3], ytest[3], score))"
   ]
  },
  {
   "cell_type": "markdown",
   "metadata": {},
   "source": [
    "> We have a score of ~92%\n",
    ">> The error rate is very low but at the same time we have a big data set"
   ]
  },
  {
   "cell_type": "markdown",
   "metadata": {},
   "source": [
    " Showing the forth image"
   ]
  },
  {
   "cell_type": "code",
   "execution_count": 11,
   "metadata": {},
   "outputs": [
    {
     "data": {
      "image/png": "[encoded data removed]",
      "text/plain": [
       "<Figure size 432x288 with 1 Axes>"
      ]
     },
     "metadata": {
      "needs_background": "light"
     },
     "output_type": "display_data"
    }
   ],
   "source": [
    "images = xtest.reshape((-1, 28, 28))\n",
    "plt.imshow(images[3],cmap=plt.cm.gray_r,interpolation=\"nearest\")\n",
    "plt.show()"
   ]
  },
  {
   "cell_type": "markdown",
   "metadata": {},
   "source": [
    "* Variation loop of k :"
   ]
  },
  {
   "cell_type": "code",
   "execution_count": 12,
   "metadata": {},
   "outputs": [
    {
     "name": "stdout",
     "output_type": "stream",
     "text": [
      "K = 2, Efficacity is : 0.902\n",
      "K = 3, Efficacity is : 0.925\n",
      "K = 4, Efficacity is : 0.927\n",
      "K = 5, Efficacity is : 0.935\n",
      "K = 6, Efficacity is : 0.928\n",
      "K = 7, Efficacity is : 0.929\n",
      "K = 8, Efficacity is : 0.928\n",
      "K = 9, Efficacity is : 0.929\n",
      "K = 10, Efficacity is : 0.921\n",
      "K = 11, Efficacity is : 0.925\n",
      "K = 12, Efficacity is : 0.922\n",
      "K = 13, Efficacity is : 0.921\n",
      "K = 14, Efficacity is : 0.918\n",
      "K = 15, Efficacity is : 0.922\n"
     ]
    }
   ],
   "source": [
    "for k in range (2,16):\n",
    "    clf = neighbors.KNeighborsClassifier(k)\n",
    "\n",
    "    clf.fit(xtrain, ytrain)\n",
    "    prediction = clf.predict(xtest)\n",
    "    score = clf.score(xtest, ytest)\n",
    "    print(\"K = {}, Efficacity is : {}\".format(k, score))\n"
   ]
  },
  {
   "cell_type": "markdown",
   "metadata": {},
   "source": [
    "> We observe an efficiency peak between 3 and 9"
   ]
  },
  {
   "cell_type": "markdown",
   "metadata": {},
   "source": [
    "* Variation loop of K with KFOLD :"
   ]
  },
  {
   "cell_type": "code",
   "execution_count": 13,
   "metadata": {},
   "outputs": [
    {
     "name": "stdout",
     "output_type": "stream",
     "text": [
      "K = 2, Efficacity is : 0.9301675977653632\n",
      "K = 3, Efficacity is : 0.9301675977653632\n",
      "K = 4, Efficacity is : 0.9019607843137255\n",
      "K = 5, Efficacity is : 0.938375350140056\n",
      "K = 6, Efficacity is : 0.9131652661064426\n",
      "K = 7, Efficacity is : 0.9103641456582633\n",
      "K = 8, Efficacity is : 0.9019607843137255\n",
      "K = 9, Efficacity is : 0.8991596638655462\n",
      "K = 10, Efficacity is : 0.938375350140056\n",
      "K = 11, Efficacity is : 0.9355742296918768\n",
      "K = 12, Efficacity is : 0.907563025210084\n",
      "K = 13, Efficacity is : 0.9299719887955182\n",
      "K = 14, Efficacity is : 0.9019607843137255\n",
      "K = 15, Efficacity is : 0.9159663865546218\n"
     ]
    }
   ],
   "source": [
    "\n",
    "mykf = KFold(14,shuffle = True)\n",
    "mykf.get_n_splits(data)\n",
    "\n",
    "k = 2\n",
    "\n",
    "for train_index, test_index in mykf.split(data):\n",
    "\n",
    "    \n",
    "    xtrain, xtest = data[train_index], data[test_index]\n",
    "    ytrain, ytest = target[train_index], target[test_index]\n",
    "\n",
    "    clf = neighbors.KNeighborsClassifier(k)\n",
    "    clf.fit(xtrain,ytrain)\n",
    "    prediction = clf.predict(xtest)\n",
    "    score = clf.score(xtest, ytest)\n",
    "    print(\"K = {}, Efficacity is : {}\".format(k, score))\n",
    "\n",
    "    k = k + 1"
   ]
  },
  {
   "cell_type": "markdown",
   "metadata": {},
   "source": [
    "> Since the train set changes all the time, it's hard to compare rates efficiency between them for this loop ...> The results oscillate."
   ]
  },
  {
   "cell_type": "markdown",
   "metadata": {},
   "source": [
    "* Other way :"
   ]
  },
  {
   "cell_type": "code",
   "execution_count": 14,
   "metadata": {},
   "outputs": [
    {
     "name": "stdout",
     "output_type": "stream",
     "text": [
      "KFold(n_splits=14, random_state=None, shuffle=True)\n",
      "K =  2 Score =  92.17877094972067 %\n",
      "K =  3 Score =  91.89944134078212 %\n",
      "K =  4 Score =  93.55742296918767 %\n",
      "K =  5 Score =  95.23809523809523 %\n",
      "K =  6 Score =  90.75630252100841 %\n",
      "K =  7 Score =  91.87675070028011 %\n",
      "K =  8 Score =  91.31652661064426 %\n",
      "K =  9 Score =  92.99719887955182 %\n",
      "K =  10 Score =  91.31652661064426 %\n",
      "K =  11 Score =  90.47619047619048 %\n",
      "K =  12 Score =  91.31652661064426 %\n",
      "K =  13 Score =  91.31652661064426 %\n",
      "K =  14 Score =  91.59663865546219 %\n",
      "K =  15 Score =  90.75630252100841 %\n"
     ]
    }
   ],
   "source": [
    "from sklearn import metrics\n",
    "import time\n",
    "from sklearn.model_selection import KFold\n",
    "\n",
    "ResultScore =[]\n",
    "ResultPrecision = []\n",
    "ResultRecall = []\n",
    "ResultLoss = []\n",
    "ResultTimeTraining = []\n",
    "ResultTimePrediction = []\n",
    "\n",
    "\n",
    "k_fold = KFold( n_splits=14, shuffle=True)\n",
    "print(k_fold)\n",
    "k=1\n",
    "for train_indices,test_indices in k_fold.split(data,target):\n",
    "    k+=1\n",
    "    clf=neighbors.KNeighborsClassifier(k)\n",
    "    # Algo\n",
    "    startTrain =time.time()\n",
    "    clf.fit(data[train_indices],target[train_indices])\n",
    "    endTrain = time.time()\n",
    "    startpred= time.time()\n",
    "    clf.predict(data[test_indices])\n",
    "    endpred = time.time()\n",
    "    # Metrics\n",
    "    predict = clf.predict(data[test_indices])\n",
    "    score = clf.score(data[test_indices],target[test_indices])\n",
    "    precision =  metrics.precision_score(target[test_indices], predict,  average='macro')\n",
    "    recall = metrics.recall_score(target[test_indices], predict, average ='macro')\n",
    "    loss01 = metrics.zero_one_loss(target[test_indices], predict)\n",
    "    timetrain = endTrain - startTrain\n",
    "    timePred = endpred - startpred\n",
    "    # Append\n",
    "    ResultScore.append(score)\n",
    "    ResultPrecision.append(precision)\n",
    "    ResultRecall.append(recall)\n",
    "    ResultLoss.append(loss01) \n",
    "    ResultTimeTraining.append(timetrain)\n",
    "    ResultTimePrediction.append(timePred)\n",
    "    print(\"K = \", k, \"Score = \", clf.score(data[test_indices],target[test_indices])*100, \"%\")"
   ]
  },
  {
   "cell_type": "markdown",
   "metadata": {},
   "source": [
    "> N.B :\n",
    "The recall is the ratio `tp / (tp + fn)` where `tp` is the number of true positives and fn the number of false negatives. The recall is intuitively the ability of the classifier to find all the positive samples. The best value is 1 and the worst value is 0."
   ]
  },
  {
   "cell_type": "markdown",
   "metadata": {},
   "source": [
    "> showing this results"
   ]
  },
  {
   "cell_type": "code",
   "execution_count": 15,
   "metadata": {},
   "outputs": [
    {
     "name": "stdout",
     "output_type": "stream",
     "text": [
      "[0.9217877094972067, 0.9189944134078212, 0.9355742296918768, 0.9523809523809523, 0.907563025210084, 0.9187675070028011, 0.9131652661064426, 0.9299719887955182, 0.9131652661064426, 0.9047619047619048, 0.9131652661064426, 0.9131652661064426, 0.9159663865546218, 0.907563025210084]\n",
      "\n",
      "\n",
      "[0.9291016685506, 0.9232992523162684, 0.9339032477742155, 0.9519583523201944, 0.9106742129775638, 0.9167863097929013, 0.9162184454537868, 0.9299862637362637, 0.9254396740210694, 0.9055508116756854, 0.9192307881320334, 0.9214918898181281, 0.9159166384811221, 0.9177345416288645]\n",
      "\n",
      "\n",
      "\n",
      "\n",
      "[0.07821229050279332, 0.08100558659217882, 0.06442577030812324, 0.04761904761904767, 0.09243697478991597, 0.08123249299719892, 0.08683473389355745, 0.07002801120448177, 0.08683473389355745, 0.09523809523809523, 0.08683473389355745, 0.08683473389355745, 0.08403361344537819, 0.09243697478991597]\n",
      "\n",
      "\n",
      "[0.014554738998413086, 0.013010740280151367, 0.012980222702026367, 0.013377904891967773, 0.012413978576660156, 0.013576269149780273, 0.012397527694702148, 0.012599706649780273, 0.012691020965576172, 0.01243734359741211, 0.012903690338134766, 0.01512455940246582, 0.020683765411376953, 0.013602256774902344]\n",
      "\n",
      "\n",
      "[0.5021800994873047, 0.484691858291626, 0.4789907932281494, 0.47702884674072266, 0.4881162643432617, 0.4778413772583008, 0.5802512168884277, 0.3875236511230469, 0.4842259883880615, 0.39670586585998535, 0.48177456855773926, 0.48849940299987793, 0.5617873668670654, 0.483776330947876]\n"
     ]
    }
   ],
   "source": [
    "print(ResultScore)\n",
    "print(\"\\n\")\n",
    "print(ResultPrecision)\n",
    "print(\"\\n\")\n",
    "print(\"\\n\")\n",
    "print(ResultLoss)\n",
    "print(\"\\n\")\n",
    "print(ResultTimeTraining)\n",
    "print(\"\\n\")\n",
    "print(ResultTimePrediction)"
   ]
  },
  {
   "cell_type": "markdown",
   "metadata": {},
   "source": [
    "> Visualization of results :"
   ]
  },
  {
   "cell_type": "code",
   "execution_count": 16,
   "metadata": {},
   "outputs": [
    {
     "data": {
      "text/plain": [
       "Text(0, 0.5, '¨Prediction Time (s)')"
      ]
     },
     "execution_count": 16,
     "metadata": {},
     "output_type": "execute_result"
    },
    {
     "data": {
      "image/png": "[encoded data removed]",
      "text/plain": [
       "<Figure size 720x720 with 6 Axes>"
      ]
     },
     "metadata": {
      "needs_background": "light"
     },
     "output_type": "display_data"
    }
   ],
   "source": [
    "fig, axarr = plt.subplots(6, sharex=True, figsize=(10,10))\n",
    "\n",
    "axarr[0].plot(range(14), ResultScore)\n",
    "axarr[0].set_title('KNN for 10000 training data, for k 2..15, with KFOLD')\n",
    "axarr[0].set_ylabel('Score')\n",
    "axarr[1].plot(range(14), ResultPrecision)\n",
    "axarr[1].set_ylabel('Precision')\n",
    "axarr[2].plot(range(14), ResultRecall)\n",
    "axarr[2].set_ylabel('Recall')\n",
    "axarr[3].plot(range(14), ResultLoss)\n",
    "axarr[3].set_ylabel('Zero-to-one Loss')\n",
    "axarr[4].plot(range(14), ResultTimeTraining)\n",
    "axarr[4].set_ylabel('Training Time (s)')\n",
    "axarr[5].plot(range(14), ResultTimePrediction)\n",
    "axarr[5].set_ylabel('¨Prediction Time (s)')"
   ]
  },
  {
   "cell_type": "markdown",
   "metadata": {},
   "source": [
    "* Variation of training percent :"
   ]
  },
  {
   "cell_type": "code",
   "execution_count": 17,
   "metadata": {},
   "outputs": [
    {
     "name": "stdout",
     "output_type": "stream",
     "text": [
      "Training size = 0.2 %, Score = 0.86475 \n",
      "Training size = 0.3 %, Score = 0.8854285714285715 \n",
      "Training size = 0.4 %, Score = 0.8973333333333333 \n",
      "Training size = 0.5 %, Score = 0.9116 \n",
      "Training size = 0.6 %, Score = 0.915 \n",
      "Training size = 0.7 %, Score = 0.9146666666666666 \n",
      "Training size = 0.8 %, Score = 0.917 \n",
      "Training size = 0.9 %, Score = 0.92 \n"
     ]
    },
    {
     "data": {
      "image/png": "[encoded data removed]",
      "text/plain": [
       "<Figure size 432x288 with 1 Axes>"
      ]
     },
     "metadata": {
      "needs_background": "light"
     },
     "output_type": "display_data"
    },
    {
     "data": {
      "image/png": "[encoded data removed]",
      "text/plain": [
       "<Figure size 432x288 with 1 Axes>"
      ]
     },
     "metadata": {
      "needs_background": "light"
     },
     "output_type": "display_data"
    }
   ],
   "source": [
    "score=[]\n",
    "execution_time=[]\n",
    "\n",
    "values_of_test = range (2,10)\n",
    "\n",
    "for t in values_of_test:\n",
    "\n",
    "    xtrain, xtest, ytrain, ytest = train_test_split(data, target, train_size=(t/10))\n",
    "\n",
    "    clasifier = neighbors.KNeighborsClassifier(3)\n",
    "\n",
    "    begin = time.time()\n",
    "    clasifier.fit(xtrain,ytrain)\n",
    "    predicted = clasifier.predict(X=xtest)\n",
    "    end = time.time()\n",
    "    total_time = end - begin\n",
    "\n",
    "    score.append(clasifier.score(xtest, ytest))\n",
    "    execution_time.append(total_time)\n",
    "    print(\"Training size = {} %, Score = {} \".format((t/10), clasifier.score(xtest, ytest)))\n",
    "    #print(\"time: \", total_time)\n",
    "\n",
    "plt.plot(values_of_test,execution_time)\n",
    "plt.title(\"Training size with execution time evolution\")\n",
    "plt.show()\n",
    "plt.plot(values_of_test,score)\n",
    "plt.title(\"Training size with score evolution\")\n",
    "plt.show()"
   ]
  },
  {
   "cell_type": "markdown",
   "metadata": {},
   "source": [
    "> As long as we increase training as long as we get better scores.."
   ]
  },
  {
   "cell_type": "markdown",
   "metadata": {},
   "source": [
    "* Testing with n_jobs = 1 then -1 :"
   ]
  },
  {
   "cell_type": "code",
   "execution_count": 18,
   "metadata": {},
   "outputs": [
    {
     "name": "stdout",
     "output_type": "stream",
     "text": [
      "n_jobs = -1, Total Time = 9.965224504470825\n",
      "n_jobs = 1, Total Time = 0.47744107246398926\n"
     ]
    }
   ],
   "source": [
    "for i in [-1,1]:\n",
    "    \n",
    "    clf = neighbors.KNeighborsClassifier(7,n_jobs=i)\n",
    "\n",
    "    clf.fit(xtrain, ytrain)\n",
    "    time_start = time.time()\n",
    "    prediction = clf.predict(xtest)\n",
    "    time_stop = time.time()\n",
    "    score = clf.score(xtest, ytest)\n",
    "    print(\"n_jobs = {}, Total Time = {}\".format(i,time_stop-time_start))"
   ]
  },
  {
   "cell_type": "markdown",
   "metadata": {},
   "source": [
    "> Indeed, when we take all the available processes, things go faster!"
   ]
  }
 ],
 "metadata": {
  "interpreter": {
   "hash": "67daac1ebf3b80a6e8e15acaf6535d9d72e4e060942990dc63fc0ef314051e9e"
  },
  "kernelspec": {
   "display_name": "Python 3",
   "language": "python",
   "name": "python3"
  },
  "language_info": {
   "codemirror_mode": {
    "name": "ipython",
    "version": 3
   },
   "file_extension": ".py",
   "mimetype": "text/x-python",
   "name": "python",
   "nbconvert_exporter": "python",
   "pygments_lexer": "ipython3",
   "version": "3.7.10"
  }
 },
 "nbformat": 4,
 "nbformat_minor": 2
}
